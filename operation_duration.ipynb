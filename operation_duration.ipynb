{
 "metadata": {
  "name": ""
 },
 "nbformat": 3,
 "nbformat_minor": 0,
 "worksheets": [
  {
   "cells": [
    {
     "cell_type": "markdown",
     "metadata": {},
     "source": [
      "## Trying out Youtube downloads"
     ]
    },
    {
     "cell_type": "code",
     "collapsed": false,
     "input": [
      "import pafy"
     ],
     "language": "python",
     "metadata": {},
     "outputs": [],
     "prompt_number": 1
    },
    {
     "cell_type": "code",
     "collapsed": false,
     "input": [
      "pafy.Pafy?"
     ],
     "language": "python",
     "metadata": {},
     "outputs": [],
     "prompt_number": 2
    },
    {
     "cell_type": "code",
     "collapsed": false,
     "input": [
      "pafy.Pafy('thumbs = [d['medium']['url'] for d in ops_pure.thumbnails.tolist()]"
     ],
     "language": "python",
     "metadata": {},
     "outputs": [],
     "prompt_number": 3
    },
    {
     "cell_type": "code",
     "collapsed": false,
     "input": [
      "pafy.Pafy('TOgk9WW1Q8c')"
     ],
     "language": "python",
     "metadata": {},
     "outputs": [],
     "prompt_number": 4
    },
    {
     "cell_type": "code",
     "collapsed": false,
     "input": [
      "vid = pafy.Pafy('TOgk9WW1Q8c')"
     ],
     "language": "python",
     "metadata": {},
     "outputs": [],
     "prompt_number": 5
    },
    {
     "cell_type": "code",
     "collapsed": false,
     "input": [
      "vid.length"
     ],
     "language": "python",
     "metadata": {},
     "outputs": [],
     "prompt_number": 6
    },
    {
     "cell_type": "code",
     "collapsed": false,
     "input": [
      "vid.published"
     ],
     "language": "python",
     "metadata": {},
     "outputs": [],
     "prompt_number": 7
    },
    {
     "cell_type": "code",
     "collapsed": false,
     "input": [
      "vid.streams"
     ],
     "language": "python",
     "metadata": {},
     "outputs": [],
     "prompt_number": 8
    },
    {
     "cell_type": "code",
     "collapsed": false,
     "input": [
      "vid.expiry"
     ],
     "language": "python",
     "metadata": {},
     "outputs": [],
     "prompt_number": 9
    },
    {
     "cell_type": "code",
     "collapsed": false,
     "input": [
      "vid.description"
     ],
     "language": "python",
     "metadata": {},
     "outputs": [],
     "prompt_number": 10
    },
    {
     "cell_type": "code",
     "collapsed": false,
     "input": [
      "vid.getbest()"
     ],
     "language": "python",
     "metadata": {},
     "outputs": [],
     "prompt_number": 11
    },
    {
     "cell_type": "code",
     "collapsed": false,
     "input": [
      "ls"
     ],
     "language": "python",
     "metadata": {},
     "outputs": [],
     "prompt_number": 12
    },
    {
     "cell_type": "code",
     "collapsed": false,
     "input": [
      "vid.getbest?"
     ],
     "language": "python",
     "metadata": {},
     "outputs": [],
     "prompt_number": 13
    },
    {
     "cell_type": "code",
     "collapsed": false,
     "input": [
      "best = vid.getbest()"
     ],
     "language": "python",
     "metadata": {},
     "outputs": [],
     "prompt_number": 14
    },
    {
     "cell_type": "code",
     "collapsed": false,
     "input": [
      "best.download?"
     ],
     "language": "python",
     "metadata": {},
     "outputs": [],
     "prompt_number": 15
    },
    {
     "cell_type": "code",
     "collapsed": false,
     "input": [
      "best.download('images/test.mp4')"
     ],
     "language": "python",
     "metadata": {},
     "outputs": [],
     "prompt_number": 16
    },
    {
     "cell_type": "code",
     "collapsed": false,
     "input": [
      "dir"
     ],
     "language": "python",
     "metadata": {},
     "outputs": [],
     "prompt_number": 17
    },
    {
     "cell_type": "code",
     "collapsed": false,
     "input": [
      "dir()"
     ],
     "language": "python",
     "metadata": {},
     "outputs": [],
     "prompt_number": 18
    },
    {
     "cell_type": "code",
     "collapsed": false,
     "input": [
      "ls()"
     ],
     "language": "python",
     "metadata": {},
     "outputs": [],
     "prompt_number": 19
    },
    {
     "cell_type": "code",
     "collapsed": false,
     "input": [
      "ls"
     ],
     "language": "python",
     "metadata": {},
     "outputs": [],
     "prompt_number": 20
    },
    {
     "cell_type": "code",
     "collapsed": false,
     "input": [
      "%load_ext autoreload"
     ],
     "language": "python",
     "metadata": {},
     "outputs": [],
     "prompt_number": 8
    },
    {
     "cell_type": "code",
     "collapsed": false,
     "input": [
      "%autoreload 2"
     ],
     "language": "python",
     "metadata": {},
     "outputs": [],
     "prompt_number": 9
    },
    {
     "cell_type": "code",
     "collapsed": false,
     "input": [
      "import YT_api_generate as yt"
     ],
     "language": "python",
     "metadata": {},
     "outputs": [],
     "prompt_number": 10
    },
    {
     "cell_type": "code",
     "collapsed": false,
     "input": [
      "import pandas as pd"
     ],
     "language": "python",
     "metadata": {},
     "outputs": [],
     "prompt_number": 11
    },
    {
     "cell_type": "code",
     "collapsed": false,
     "input": [
      "import re"
     ],
     "language": "python",
     "metadata": {},
     "outputs": [],
     "prompt_number": 12
    },
    {
     "cell_type": "code",
     "collapsed": false,
     "input": [
      "ops = pd.read_pickle('data/operations_results.pyd')"
     ],
     "language": "python",
     "metadata": {},
     "outputs": [],
     "prompt_number": 13
    },
    {
     "cell_type": "code",
     "collapsed": false,
     "input": [
      "ops = yt.title_clean_operations(ops)\n",
      "ops = yt.format_durations(ops)"
     ],
     "language": "python",
     "metadata": {},
     "outputs": [],
     "prompt_number": 14
    },
    {
     "cell_type": "code",
     "collapsed": false,
     "input": [
      "ops.shape"
     ],
     "language": "python",
     "metadata": {},
     "outputs": [
      {
       "metadata": {},
       "output_type": "pyout",
       "prompt_number": 15,
       "text": [
        "(2655, 26)"
       ]
      }
     ],
     "prompt_number": 15
    },
    {
     "cell_type": "code",
     "collapsed": false,
     "input": [
      "end = ops.groupby(['title_short', 'duration_time']).publishedAt.max()"
     ],
     "language": "python",
     "metadata": {},
     "outputs": [],
     "prompt_number": 16
    },
    {
     "cell_type": "code",
     "collapsed": false,
     "input": [
      "start = ops.groupby(['title_short', 'duration_time']).publishedAt.min()"
     ],
     "language": "python",
     "metadata": {},
     "outputs": [],
     "prompt_number": 17
    },
    {
     "cell_type": "code",
     "collapsed": false,
     "input": [
      "operation_duration = end - start"
     ],
     "language": "python",
     "metadata": {},
     "outputs": [],
     "prompt_number": 18
    },
    {
     "cell_type": "code",
     "collapsed": false,
     "input": [
      "operation_duration.describe()"
     ],
     "language": "python",
     "metadata": {},
     "outputs": [
      {
       "metadata": {},
       "output_type": "pyout",
       "prompt_number": 19,
       "text": [
        "count                                                  994\n",
        "mean     0   70 days, 03:54:13.783702\n",
        "dtype: timedelta6...\n",
        "std                                           1.483126e+16\n",
        "min                      0   0 days\n",
        "dtype: timedelta64[ns]\n",
        "25%                                          0 nanoseconds\n",
        "50%                      0   0 days\n",
        "dtype: timedelta64[ns]\n",
        "75%                            939941750000000 nanoseconds\n",
        "max         0   1102 days, 12:29:34\n",
        "dtype: timedelta64[ns]\n",
        "Name: publishedAt, dtype: object"
       ]
      }
     ],
     "prompt_number": 19
    },
    {
     "cell_type": "code",
     "collapsed": false,
     "input": [
      "operation_duration[operation_duration>0]"
     ],
     "language": "python",
     "metadata": {},
     "outputs": [
      {
       "metadata": {},
       "output_type": "pyout",
       "prompt_number": 20,
       "text": [
        "title_short                        duration_time\n",
        "anonymous operation                236000000000     72 days, 00:00:51\n",
        "                                   273000000000      2 days, 10:37:57\n",
        "anonymous operation algeria        203000000000      1 days, 08:58:24\n",
        "anonymous operation alice          99000000000       4 days, 02:52:13\n",
        "anonymous operation america        335000000000    215 days, 05:33:16\n",
        "anonymous operation american       499000000000    175 days, 11:03:01\n",
        "                                   500000000000    272 days, 10:55:03\n",
        "anonymous operation anaheim        95000000000     400 days, 17:39:32\n",
        "                                   138000000000      5 days, 02:49:05\n",
        "anonymous operation anontrademark  101000000000    451 days, 11:13:33\n",
        "                                   130000000000      0 days, 00:18:33\n",
        "anonymous operation anti           72000000000       1 days, 01:05:02\n",
        "                                   138000000000    639 days, 09:02:04\n",
        "                                   148000000000     93 days, 04:10:29\n",
        "                                   152000000000    641 days, 23:40:07\n",
        "...\n",
        "anonymous operation vendetta      220000000000      3 days, 21:43:30\n",
        "                                  325000000000      1 days, 20:24:39\n",
        "anonymous operation vocalize      179000000000    721 days, 00:05:06\n",
        "anonymous operation volkskrieg    500000000000     17 days, 05:12:32\n",
        "anonymous operation vote          165000000000    411 days, 22:18:40\n",
        "anonymous operation wake          379000000000    301 days, 12:19:44\n",
        "anonymous operation war           238000000000      0 days, 06:36:51\n",
        "anonymous operation wcit          182000000000     29 days, 20:27:41\n",
        "anonymous operation westboro      116000000000     42 days, 03:58:14\n",
        "                                  117000000000      7 days, 08:02:18\n",
        "anonymous operation whiteout      153000000000      0 days, 00:48:57\n",
        "anonymous operation world         182000000000    194 days, 11:32:38\n",
        "anonymous operation youtubes      29000000000      96 days, 05:17:17\n",
        "anonymous operation zetas         85000000000     712 days, 08:02:57\n",
        "anonymous operationfacebook real  167000000000      7 days, 00:26:11\n",
        "Name: publishedAt, Length: 350, dtype: timedelta64[ns]"
       ]
      }
     ],
     "prompt_number": 20
    },
    {
     "cell_type": "code",
     "collapsed": false,
     "input": [
      "mirror_count = ops.groupby(['title_short', 'duration_time']).publishedAt.count()"
     ],
     "language": "python",
     "metadata": {},
     "outputs": [],
     "prompt_number": 22
    },
    {
     "cell_type": "code",
     "collapsed": false,
     "input": [
      "d = {'duration': operation_duration, 'mirror_count':mirror_count}"
     ],
     "language": "python",
     "metadata": {},
     "outputs": [],
     "prompt_number": 23
    },
    {
     "cell_type": "code",
     "collapsed": false,
     "input": [
      "op_dur_count_df = pd.DataFrame(d)"
     ],
     "language": "python",
     "metadata": {},
     "outputs": [],
     "prompt_number": 27
    },
    {
     "cell_type": "code",
     "collapsed": false,
     "input": [
      "op_dur_count_df['start'] = start"
     ],
     "language": "python",
     "metadata": {},
     "outputs": [],
     "prompt_number": 28
    },
    {
     "cell_type": "code",
     "collapsed": false,
     "input": [
      "op_dur_count_df.to_excel('data/operations_durations_count.xlsx')"
     ],
     "language": "python",
     "metadata": {},
     "outputs": [],
     "prompt_number": 29
    },
    {
     "cell_type": "code",
     "collapsed": false,
     "input": [
      "op_dur_count_df.index.get_level_values"
     ],
     "language": "python",
     "metadata": {},
     "outputs": [
      {
       "metadata": {},
       "output_type": "pyout",
       "prompt_number": 30,
       "text": [
        "<bound method MultiIndex.get_level_values of MultiIndex(levels=[[u'anonymous operation', u'anonymous operation ', u'anonymous operation a', u'anonymous operation acta', u'anonymous operation against', u'anonymous operation aipac', u'anonymous operation akt', u'anonymous operation algeria', u'anonymous operation alice', u'anonymous operation aliceday', u'anonymous operation alsatia', u'anonymous operation amazona', u'anonymous operation america', u'anonymous operation american', u'anonymous operation anaheim', u'anonymous operation anontrademark', u'anonymous operation anti', u'anonymous operation antigun', u'anonymous operation antinazi', u'anonymous operation antisec', u'anonymous operation antiwar', u'anonymous operation apocalypse', u'anonymous operation armenian', u'anonymous operation assange', u'anonymous operation awake', u'anonymous operation awaken', u'anonymous operation awakening', u'anonymous operation ayyildiz', u'anonymous operation b', u'anonymous operation bahrain', u'anonymous operation bahre', u'anonymous operation ball', u'anonymous operation bart', u'anonymous operation belarus', u'anonymous operation bersih', u'anonymous operation bestanddatenauskunft', u'anonymous operation bestandsdatenauskunft', u'anonymous operation bieber', u'anonymous operation big', u'anonymous operation bigbrother', u'anonymous operation bilderberg', u'anonymous operation black', u'anonymous operation blackmarch', u'anonymous operation blackout', u'anonymous operation blast', u'anonymous operation bling', u'anonymous operation blitzkrieg', u'anonymous operation blown', u'anonymous operation bohemian', u'anonymous operation bonaire', u'anonymous operation botnet', u'anonymous operation boycott', u'anonymous operation bradley', u'anonymous operation britain', u'anonymous operation brotherhood', u'anonymous operation bully', u'anonymous operation c', u'anonymous operation cambodia', u'anonymous operation camoff', u'anonymous operation cannabis', u'anonymous operation cash', u'anonymous operation cashback', u'anonymous operation ccs', u'anonymous operation cctv', u'anonymous operation century', u'anonymous operation cgw', u'anonymous operation chain', u'anonymous operation chemtrails', u'anonymous operation chile', u'anonymous operation christmas', u'anonymous operation close', u'anonymous operation clueless', u'anonymous operation codered', u'anonymous operation coltan', u'anonymous operation coltancongo', u'anonymous operation compass', u'anonymous operation compassion', u'anonymous operation conceal', u'anonymous operation connxshun', u'anonymous operation consciousness', u'anonymous operation copwatch', u'anonymous operation countdown', u'anonymous operation creative', u'anonymous operation cyber', u'anonymous operation cyprus', u'anonymous operation darknet', u'anonymous operation declaration', u'anonymous operation deepwater', u'anonymous operation defence', u'anonymous operation defense', u'anonymous operation delete', u'anonymous operation demonoid', u'anonymous operation desert', u'anonymous operation destroy', u'anonymous operation destruction', u'anonymous operation deutsche', u'anonymous operation deutscher', u'anonymous operation dfb', u'anonymous operation digiturk', u'anonymous operation diva', ...], [1000000000, 2000000000, 3000000000, 7000000000, 10000000000, 11000000000, 12000000000, 13000000000, 15000000000, 16000000000, 17000000000, 18000000000, 19000000000, 21000000000, 22000000000, 23000000000, 27000000000, 28000000000, 29000000000, 30000000000, 31000000000, 32000000000, 33000000000, 35000000000, 36000000000, 37000000000, 41000000000, 44000000000, 45000000000, 46000000000, 47000000000, 48000000000, 49000000000, 50000000000, 53000000000, 54000000000, 55000000000, 56000000000, 57000000000, 58000000000, 59000000000, 61000000000, 62000000000, 64000000000, 65000000000, 66000000000, 67000000000, 68000000000, 69000000000, 70000000000, 71000000000, 72000000000, 73000000000, 74000000000, 75000000000, 76000000000, 77000000000, 78000000000, 79000000000, 80000000000, 81000000000, 82000000000, 83000000000, 84000000000, 85000000000, 86000000000, 87000000000, 88000000000, 89000000000, 90000000000, 91000000000, 92000000000, 93000000000, 94000000000, 95000000000, 96000000000, 97000000000, 98000000000, 99000000000, 100000000000, 101000000000, 102000000000, 103000000000, 104000000000, 105000000000, 106000000000, 107000000000, 108000000000, 110000000000, 111000000000, 112000000000, 113000000000, 114000000000, 115000000000, 116000000000, 117000000000, 118000000000, 119000000000, 121000000000, 122000000000, ...]],\n",
        "           labels=[[0, 0, 0, 0, 0, 0, 1, 1, 1, 2, 2, 2, 2, 3, 3, 4, 5, 6, 7, 8, 9, 10, 11, 12, 13, 13, 13, 13, 13, 13, 13, 14, 14, 14, 14, 14, 15, 15, 15, 16, 16, 16, 16, 16, 16, 16, 16, 16, 16, 16, 16, 16, 16, 17, 18, 19, 19, 19, 20, 21, 22, 23, 23, 23, 24, 24, 24, 24, 24, 24, 24, 25, 26, 26, 27, 27, 28, 29, 29, 29, 29, 29, 29, 29, 29, 29, 29, 29, 29, 29, 29, 29, 30, 31, 32, 32, 32, 32, 32, 32, ...], [48, 50, 82, 104, 225, 329, 207, 238, 308, 22, 122, 149, 337, 50, 137, 228, 69, 1, 178, 78, 78, 273, 101, 275, 9, 180, 280, 322, 323, 324, 330, 2, 65, 74, 115, 169, 80, 93, 107, 35, 37, 43, 51, 65, 78, 87, 88, 115, 125, 129, 146, 147, 173, 173, 71, 51, 67, 86, 74, 145, 103, 65, 66, 74, 208, 303, 305, 307, 317, 354, 359, 1, 100, 174, 0, 25, 134, 61, 75, 78, 92, 100, 103, 107, 108, 119, 121, 161, 186, 222, 223, 233, 108, 175, 1, 33, 145, 180, 228, 229, ...]],\n",
        "           names=[u'title_short', u'duration_time'])>"
       ]
      }
     ],
     "prompt_number": 30
    },
    {
     "cell_type": "code",
     "collapsed": false,
     "input": [
      "# only plot values where mirror > 1 \n",
      "op_dur_count_df_plot = op_dur_count_df.ix[op_dur_count_df['mirror_count']>1]\n",
      "op_dur_count_df_plot.sort(columns='start', inplace=True)\n",
      "op_dur_count_df_plot.shape"
     ],
     "language": "python",
     "metadata": {},
     "outputs": [
      {
       "output_type": "stream",
       "stream": "stderr",
       "text": [
        "/usr/local/lib/python2.7/dist-packages/pandas/core/frame.py:2536: SettingWithCopyWarning: A value is trying to be set on a copy of a slice from a DataFrame\n",
        "  inplace=inplace)\n"
       ]
      },
      {
       "metadata": {},
       "output_type": "pyout",
       "prompt_number": 31,
       "text": [
        "(350, 3)"
       ]
      }
     ],
     "prompt_number": 31
    },
    {
     "cell_type": "markdown",
     "metadata": {},
     "source": [
      "# Plot the bar graph\n",
      "\n",
      "I've cut the data down to rows that have more than 1 mirror. This reduces from around 1000 to 350."
     ]
    },
    {
     "cell_type": "code",
     "collapsed": false,
     "input": [
      "opnames = op_dur_count_df_plot.index.get_level_values(0).tolist()"
     ],
     "language": "python",
     "metadata": {},
     "outputs": [],
     "prompt_number": 32
    },
    {
     "cell_type": "code",
     "collapsed": false,
     "input": [
      "import numpy as np"
     ],
     "language": "python",
     "metadata": {},
     "outputs": [],
     "prompt_number": 33
    },
    {
     "cell_type": "code",
     "collapsed": false,
     "input": [
      "widt = op_dur_count_df_plot['duration'].map(lambda x: x/np.timedelta64(1, 'D')).tolist()"
     ],
     "language": "python",
     "metadata": {},
     "outputs": [],
     "prompt_number": 34
    },
    {
     "cell_type": "code",
     "collapsed": false,
     "input": [
      "bot = range(0, len(opnames))\n",
      "lef = op_dur_count_df_plot.start.tolist()"
     ],
     "language": "python",
     "metadata": {},
     "outputs": [],
     "prompt_number": 35
    },
    {
     "cell_type": "code",
     "collapsed": false,
     "input": [
      "%matplotlib\n",
      "import matplotlib.pyplot as plt\n",
      "import seaborn"
     ],
     "language": "python",
     "metadata": {},
     "outputs": [
      {
       "output_type": "stream",
       "stream": "stdout",
       "text": [
        "Using matplotlib backend: WX\n"
       ]
      }
     ],
     "prompt_number": 40
    },
    {
     "cell_type": "code",
     "collapsed": false,
     "input": [
      "f = plt.figure(figsize = (14,10))"
     ],
     "language": "python",
     "metadata": {},
     "outputs": [],
     "prompt_number": 41
    },
    {
     "cell_type": "code",
     "collapsed": false,
     "input": [
      "plt.barh(bot, widt, 0.2, lef)"
     ],
     "language": "python",
     "metadata": {},
     "outputs": [
      {
       "metadata": {},
       "output_type": "pyout",
       "prompt_number": 42,
       "text": [
        "<Container object of 350 artists>"
       ]
      }
     ],
     "prompt_number": 42
    },
    {
     "cell_type": "code",
     "collapsed": false,
     "input": [
      "op_dur_count_df_plot[['duration', 'mirror_count', 'start']]"
     ],
     "language": "python",
     "metadata": {},
     "outputs": [
      {
       "html": [
        "<div style=\"max-height:1000px;max-width:1500px;overflow:auto;\">\n",
        "<table border=\"1\" class=\"dataframe\">\n",
        "  <thead>\n",
        "    <tr style=\"text-align: right;\">\n",
        "      <th></th>\n",
        "      <th></th>\n",
        "      <th>duration</th>\n",
        "      <th>mirror_count</th>\n",
        "      <th>start</th>\n",
        "    </tr>\n",
        "    <tr>\n",
        "      <th>title_short</th>\n",
        "      <th>duration_time</th>\n",
        "      <th></th>\n",
        "      <th></th>\n",
        "      <th></th>\n",
        "    </tr>\n",
        "  </thead>\n",
        "  <tbody>\n",
        "    <tr>\n",
        "      <th>anonymous operation payback</th>\n",
        "      <th>111000000000</th>\n",
        "      <td>   0 days, 10:14:30</td>\n",
        "      <td>  2</td>\n",
        "      <td>2010-12-08 18:04:29</td>\n",
        "    </tr>\n",
        "    <tr>\n",
        "      <th>anonymous operation leakspin</th>\n",
        "      <th>153000000000</th>\n",
        "      <td> 380 days, 06:57:26</td>\n",
        "      <td>  9</td>\n",
        "      <td>2010-12-11 11:20:30</td>\n",
        "    </tr>\n",
        "    <tr>\n",
        "      <th>anonymous operation paperstorm</th>\n",
        "      <th>32000000000 </th>\n",
        "      <td>   4 days, 19:19:36</td>\n",
        "      <td>  2</td>\n",
        "      <td>2010-12-14 19:15:42</td>\n",
        "    </tr>\n",
        "    <tr>\n",
        "      <th rowspan=\"2\" valign=\"top\">anonymous operation bling</th>\n",
        "      <th>277000000000</th>\n",
        "      <td> 342 days, 08:28:19</td>\n",
        "      <td>  4</td>\n",
        "      <td>2010-12-24 13:36:08</td>\n",
        "    </tr>\n",
        "    <tr>\n",
        "      <th>92000000000 </th>\n",
        "      <td>  43 days, 00:43:32</td>\n",
        "      <td>  3</td>\n",
        "      <td>2011-01-03 16:25:28</td>\n",
        "    </tr>\n",
        "    <tr>\n",
        "      <th>anonymous operation tunisia</th>\n",
        "      <th>247000000000</th>\n",
        "      <td> 532 days, 08:02:30</td>\n",
        "      <td>  3</td>\n",
        "      <td>2011-01-05 15:12:13</td>\n",
        "    </tr>\n",
        "    <tr>\n",
        "      <th>anonymous operation ley</th>\n",
        "      <th>113000000000</th>\n",
        "      <td> 268 days, 05:44:28</td>\n",
        "      <td>  4</td>\n",
        "      <td>2011-01-11 23:19:59</td>\n",
        "    </tr>\n",
        "    <tr>\n",
        "      <th>anonymous operation algeria</th>\n",
        "      <th>203000000000</th>\n",
        "      <td>   1 days, 08:58:24</td>\n",
        "      <td>  3</td>\n",
        "      <td>2011-01-22 00:17:38</td>\n",
        "    </tr>\n",
        "    <tr>\n",
        "      <th>anonymous operation egypt</th>\n",
        "      <th>200000000000</th>\n",
        "      <td> 199 days, 14:46:09</td>\n",
        "      <td>  3</td>\n",
        "      <td>2011-01-26 22:20:57</td>\n",
        "    </tr>\n",
        "    <tr>\n",
        "      <th>anonymous operation mesh</th>\n",
        "      <th>61000000000 </th>\n",
        "      <td> 240 days, 22:02:43</td>\n",
        "      <td>  4</td>\n",
        "      <td>2011-02-07 08:52:40</td>\n",
        "    </tr>\n",
        "    <tr>\n",
        "      <th>anonymous operation iran</th>\n",
        "      <th>1000000000  </th>\n",
        "      <td> 116 days, 02:19:17</td>\n",
        "      <td>  8</td>\n",
        "      <td>2011-02-09 13:38:11</td>\n",
        "    </tr>\n",
        "    <tr>\n",
        "      <th>anonymous operation bahrain</th>\n",
        "      <th>96000000000 </th>\n",
        "      <td>1102 days, 12:29:34</td>\n",
        "      <td>  5</td>\n",
        "      <td>2011-02-20 11:44:49</td>\n",
        "    </tr>\n",
        "    <tr>\n",
        "      <th>anonymous operation palestine</th>\n",
        "      <th>92000000000 </th>\n",
        "      <td> 632 days, 22:57:34</td>\n",
        "      <td>  2</td>\n",
        "      <td>2011-03-01 15:47:12</td>\n",
        "    </tr>\n",
        "    <tr>\n",
        "      <th rowspan=\"3\" valign=\"top\">anonymous operation payback</th>\n",
        "      <th>101000000000</th>\n",
        "      <td>  17 days, 10:27:12</td>\n",
        "      <td>  2</td>\n",
        "      <td>2011-03-09 09:17:36</td>\n",
        "    </tr>\n",
        "    <tr>\n",
        "      <th>149000000000</th>\n",
        "      <td> 155 days, 14:37:59</td>\n",
        "      <td> 11</td>\n",
        "      <td>2011-03-11 22:24:14</td>\n",
        "    </tr>\n",
        "    <tr>\n",
        "      <th>215000000000</th>\n",
        "      <td>  87 days, 10:17:14</td>\n",
        "      <td>  2</td>\n",
        "      <td>2011-04-08 16:08:55</td>\n",
        "    </tr>\n",
        "    <tr>\n",
        "      <th>anonymous operation iran</th>\n",
        "      <th>76000000000 </th>\n",
        "      <td> 916 days, 04:15:11</td>\n",
        "      <td>  8</td>\n",
        "      <td>2011-04-23 16:12:59</td>\n",
        "    </tr>\n",
        "    <tr>\n",
        "      <th rowspan=\"2\" valign=\"top\">anonymous operation blitzkrieg</th>\n",
        "      <th>175000000000</th>\n",
        "      <td> 222 days, 15:47:52</td>\n",
        "      <td>  2</td>\n",
        "      <td>2011-05-02 06:38:39</td>\n",
        "    </tr>\n",
        "    <tr>\n",
        "      <th>216000000000</th>\n",
        "      <td> 325 days, 04:18:06</td>\n",
        "      <td>  6</td>\n",
        "      <td>2011-05-02 12:30:18</td>\n",
        "    </tr>\n",
        "    <tr>\n",
        "      <th rowspan=\"2\" valign=\"top\">anonymous operation portugal</th>\n",
        "      <th>131000000000</th>\n",
        "      <td>  96 days, 03:49:02</td>\n",
        "      <td>  2</td>\n",
        "      <td>2011-05-08 07:47:08</td>\n",
        "    </tr>\n",
        "    <tr>\n",
        "      <th>111000000000</th>\n",
        "      <td>  95 days, 19:52:02</td>\n",
        "      <td>  2</td>\n",
        "      <td>2011-05-08 14:55:47</td>\n",
        "    </tr>\n",
        "    <tr>\n",
        "      <th>anonymous operation greenrights</th>\n",
        "      <th>136000000000</th>\n",
        "      <td> 247 days, 09:32:00</td>\n",
        "      <td>  7</td>\n",
        "      <td>2011-05-15 09:50:21</td>\n",
        "    </tr>\n",
        "    <tr>\n",
        "      <th>anonymous operation newblood</th>\n",
        "      <th>359000000000</th>\n",
        "      <td> 481 days, 08:43:36</td>\n",
        "      <td>  4</td>\n",
        "      <td>2011-06-04 08:42:21</td>\n",
        "    </tr>\n",
        "    <tr>\n",
        "      <th>anonymous operation turkey</th>\n",
        "      <th>194000000000</th>\n",
        "      <td> 725 days, 03:04:23</td>\n",
        "      <td>  2</td>\n",
        "      <td>2011-06-10 19:10:47</td>\n",
        "    </tr>\n",
        "    <tr>\n",
        "      <th>anonymous operation malaysia</th>\n",
        "      <th>78000000000 </th>\n",
        "      <td> 313 days, 13:12:03</td>\n",
        "      <td>  3</td>\n",
        "      <td>2011-06-15 16:36:31</td>\n",
        "    </tr>\n",
        "    <tr>\n",
        "      <th>anonymous operation antisec</th>\n",
        "      <th>72000000000 </th>\n",
        "      <td> 854 days, 00:26:04</td>\n",
        "      <td> 10</td>\n",
        "      <td>2011-06-24 18:40:13</td>\n",
        "    </tr>\n",
        "    <tr>\n",
        "      <th>anonymous operation greenrights</th>\n",
        "      <th>251000000000</th>\n",
        "      <td> 913 days, 15:26:23</td>\n",
        "      <td>  4</td>\n",
        "      <td>2011-06-28 07:08:12</td>\n",
        "    </tr>\n",
        "    <tr>\n",
        "      <th>anonymous operation maleducados</th>\n",
        "      <th>175000000000</th>\n",
        "      <td>  11 days, 13:52:10</td>\n",
        "      <td>  3</td>\n",
        "      <td>2011-07-04 22:08:57</td>\n",
        "    </tr>\n",
        "    <tr>\n",
        "      <th>anonymous operation onslaught</th>\n",
        "      <th>213000000000</th>\n",
        "      <td>   8 days, 01:36:58</td>\n",
        "      <td>  2</td>\n",
        "      <td>2011-07-12 03:55:38</td>\n",
        "    </tr>\n",
        "    <tr>\n",
        "      <th rowspan=\"2\" valign=\"top\">anonymous operation bohemian</th>\n",
        "      <th>281000000000</th>\n",
        "      <td>   2 days, 11:32:22</td>\n",
        "      <td>  2</td>\n",
        "      <td>2011-07-12 19:26:30</td>\n",
        "    </tr>\n",
        "    <tr>\n",
        "      <th>282000000000</th>\n",
        "      <td> 194 days, 05:41:08</td>\n",
        "      <td>  2</td>\n",
        "      <td>2011-07-13 18:34:20</td>\n",
        "    </tr>\n",
        "    <tr>\n",
        "      <th>anonymous operation orlando</th>\n",
        "      <th>116000000000</th>\n",
        "      <td> 832 days, 15:38:42</td>\n",
        "      <td>  3</td>\n",
        "      <td>2011-07-16 06:57:27</td>\n",
        "    </tr>\n",
        "    <tr>\n",
        "      <th>anonymous operation s</th>\n",
        "      <th>144000000000</th>\n",
        "      <td> 827 days, 12:33:18</td>\n",
        "      <td>  9</td>\n",
        "      <td>2011-07-16 07:12:08</td>\n",
        "    </tr>\n",
        "    <tr>\n",
        "      <th>anonymous operation tennessee</th>\n",
        "      <th>73000000000 </th>\n",
        "      <td>  83 days, 10:35:16</td>\n",
        "      <td>  4</td>\n",
        "      <td>2011-07-16 11:43:30</td>\n",
        "    </tr>\n",
        "    <tr>\n",
        "      <th rowspan=\"2\" valign=\"top\">anonymous operation onslaught</th>\n",
        "      <th>166000000000</th>\n",
        "      <td>  38 days, 20:03:06</td>\n",
        "      <td>  7</td>\n",
        "      <td>2011-07-16 12:22:11</td>\n",
        "    </tr>\n",
        "    <tr>\n",
        "      <th>193000000000</th>\n",
        "      <td>  65 days, 02:27:38</td>\n",
        "      <td>  2</td>\n",
        "      <td>2011-07-18 17:52:04</td>\n",
        "    </tr>\n",
        "    <tr>\n",
        "      <th>anonymous operation antisec</th>\n",
        "      <th>107000000000</th>\n",
        "      <td> 183 days, 04:45:34</td>\n",
        "      <td>  3</td>\n",
        "      <td>2011-07-19 21:07:30</td>\n",
        "    </tr>\n",
        "    <tr>\n",
        "      <th>anonymous operation onslaught</th>\n",
        "      <th>267000000000</th>\n",
        "      <td>   0 days, 21:10:57</td>\n",
        "      <td>  2</td>\n",
        "      <td>2011-07-26 11:58:17</td>\n",
        "    </tr>\n",
        "    <tr>\n",
        "      <th>anonymous operation war</th>\n",
        "      <th>238000000000</th>\n",
        "      <td>   0 days, 06:36:51</td>\n",
        "      <td>  3</td>\n",
        "      <td>2011-07-27 08:41:13</td>\n",
        "    </tr>\n",
        "    <tr>\n",
        "      <th>anonymous operation onslaught</th>\n",
        "      <th>822000000000</th>\n",
        "      <td>   0 days, 20:43:43</td>\n",
        "      <td>  2</td>\n",
        "      <td>2011-08-01 03:15:34</td>\n",
        "    </tr>\n",
        "    <tr>\n",
        "      <th>anonymous operation facebook</th>\n",
        "      <th>129000000000</th>\n",
        "      <td>  75 days, 04:12:57</td>\n",
        "      <td>  3</td>\n",
        "      <td>2011-08-02 08:15:42</td>\n",
        "    </tr>\n",
        "    <tr>\n",
        "      <th>anonymous operation onslaught</th>\n",
        "      <th>148000000000</th>\n",
        "      <td>  59 days, 01:19:14</td>\n",
        "      <td>  2</td>\n",
        "      <td>2011-08-02 12:35:07</td>\n",
        "    </tr>\n",
        "    <tr>\n",
        "      <th rowspan=\"2\" valign=\"top\">anonymous operation paperstorm</th>\n",
        "      <th>31000000000 </th>\n",
        "      <td> 467 days, 22:12:12</td>\n",
        "      <td>  8</td>\n",
        "      <td>2011-08-03 19:44:07</td>\n",
        "    </tr>\n",
        "    <tr>\n",
        "      <th>36000000000 </th>\n",
        "      <td>  51 days, 22:51:20</td>\n",
        "      <td>  6</td>\n",
        "      <td>2011-08-03 21:48:36</td>\n",
        "    </tr>\n",
        "    <tr>\n",
        "      <th>anonymous operation homeless</th>\n",
        "      <th>61000000000 </th>\n",
        "      <td> 553 days, 21:12:59</td>\n",
        "      <td>  3</td>\n",
        "      <td>2011-08-05 02:43:20</td>\n",
        "    </tr>\n",
        "    <tr>\n",
        "      <th>anonymous operation destroy</th>\n",
        "      <th>19000000000 </th>\n",
        "      <td> 205 days, 19:31:07</td>\n",
        "      <td>  2</td>\n",
        "      <td>2011-08-06 15:18:50</td>\n",
        "    </tr>\n",
        "    <tr>\n",
        "      <th rowspan=\"2\" valign=\"top\">anonymous operation facebook</th>\n",
        "      <th>126000000000</th>\n",
        "      <td>   8 days, 13:54:55</td>\n",
        "      <td>  4</td>\n",
        "      <td>2011-08-08 21:36:26</td>\n",
        "    </tr>\n",
        "    <tr>\n",
        "      <th>177000000000</th>\n",
        "      <td> 852 days, 18:50:30</td>\n",
        "      <td> 10</td>\n",
        "      <td>2011-08-09 11:00:04</td>\n",
        "    </tr>\n",
        "    <tr>\n",
        "      <th>anonymous operation cannabis</th>\n",
        "      <th>144000000000</th>\n",
        "      <td>   4 days, 01:42:10</td>\n",
        "      <td>  2</td>\n",
        "      <td>2011-08-09 11:40:14</td>\n",
        "    </tr>\n",
        "    <tr>\n",
        "      <th rowspan=\"2\" valign=\"top\">anonymous operation boycott</th>\n",
        "      <th>255000000000</th>\n",
        "      <td>  44 days, 20:03:21</td>\n",
        "      <td>  5</td>\n",
        "      <td>2011-08-11 00:32:12</td>\n",
        "    </tr>\n",
        "    <tr>\n",
        "      <th>239000000000</th>\n",
        "      <td>  13 days, 03:38:38</td>\n",
        "      <td>  5</td>\n",
        "      <td>2011-08-12 07:04:59</td>\n",
        "    </tr>\n",
        "    <tr>\n",
        "      <th>anonymous operationfacebook real</th>\n",
        "      <th>167000000000</th>\n",
        "      <td>   7 days, 00:26:11</td>\n",
        "      <td>  2</td>\n",
        "      <td>2011-08-12 15:37:49</td>\n",
        "    </tr>\n",
        "    <tr>\n",
        "      <th>anonymous operation facebook</th>\n",
        "      <th>136000000000</th>\n",
        "      <td> 932 days, 00:13:23</td>\n",
        "      <td>  6</td>\n",
        "      <td>2011-08-12 15:48:17</td>\n",
        "    </tr>\n",
        "    <tr>\n",
        "      <th>anonymous operation bart</th>\n",
        "      <th>2000000000  </th>\n",
        "      <td> 803 days, 14:19:20</td>\n",
        "      <td>  8</td>\n",
        "      <td>2011-08-14 06:28:24</td>\n",
        "    </tr>\n",
        "    <tr>\n",
        "      <th>anonymous operation fullerton</th>\n",
        "      <th>301000000000</th>\n",
        "      <td>  12 days, 02:21:53</td>\n",
        "      <td>  7</td>\n",
        "      <td>2011-08-14 15:10:57</td>\n",
        "    </tr>\n",
        "    <tr>\n",
        "      <th>anonymous operation bart</th>\n",
        "      <th>260000000000</th>\n",
        "      <td>  12 days, 06:45:59</td>\n",
        "      <td>  3</td>\n",
        "      <td>2011-08-14 21:18:32</td>\n",
        "    </tr>\n",
        "    <tr>\n",
        "      <th>anonymous operation information</th>\n",
        "      <th>234000000000</th>\n",
        "      <td>  27 days, 05:21:57</td>\n",
        "      <td>  2</td>\n",
        "      <td>2011-08-15 08:15:42</td>\n",
        "    </tr>\n",
        "    <tr>\n",
        "      <th>anonymous operation britain</th>\n",
        "      <th>614000000000</th>\n",
        "      <td>  44 days, 18:27:52</td>\n",
        "      <td>  2</td>\n",
        "      <td>2011-08-15 21:25:21</td>\n",
        "    </tr>\n",
        "    <tr>\n",
        "      <th>anonymous operation facebook</th>\n",
        "      <th>75000000000 </th>\n",
        "      <td>  80 days, 21:26:32</td>\n",
        "      <td>  2</td>\n",
        "      <td>2011-08-17 18:16:47</td>\n",
        "    </tr>\n",
        "    <tr>\n",
        "      <th>anonymous operation britain</th>\n",
        "      <th>195000000000</th>\n",
        "      <td> 799 days, 15:28:57</td>\n",
        "      <td>  6</td>\n",
        "      <td>2011-08-17 23:00:50</td>\n",
        "    </tr>\n",
        "    <tr>\n",
        "      <td></td>\n",
        "      <td></td>\n",
        "      <td>...</td>\n",
        "      <td>...</td>\n",
        "      <td>...</td>\n",
        "    </tr>\n",
        "  </tbody>\n",
        "</table>\n",
        "<p>350 rows \u00d7 3 columns</p>\n",
        "</div>"
       ],
       "metadata": {},
       "output_type": "pyout",
       "prompt_number": 117,
       "text": [
        "                                                          duration  \\\n",
        "title_short                      duration_time                       \n",
        "anonymous operation payback      111000000000     0 days, 10:14:30   \n",
        "anonymous operation leakspin     153000000000   380 days, 06:57:26   \n",
        "anonymous operation paperstorm   32000000000      4 days, 19:19:36   \n",
        "anonymous operation bling        277000000000   342 days, 08:28:19   \n",
        "                                 92000000000     43 days, 00:43:32   \n",
        "anonymous operation tunisia      247000000000   532 days, 08:02:30   \n",
        "anonymous operation ley          113000000000   268 days, 05:44:28   \n",
        "anonymous operation algeria      203000000000     1 days, 08:58:24   \n",
        "anonymous operation egypt        200000000000   199 days, 14:46:09   \n",
        "anonymous operation mesh         61000000000    240 days, 22:02:43   \n",
        "anonymous operation iran         1000000000     116 days, 02:19:17   \n",
        "anonymous operation bahrain      96000000000   1102 days, 12:29:34   \n",
        "anonymous operation palestine    92000000000    632 days, 22:57:34   \n",
        "anonymous operation payback      101000000000    17 days, 10:27:12   \n",
        "                                 149000000000   155 days, 14:37:59   \n",
        "                                 215000000000    87 days, 10:17:14   \n",
        "anonymous operation iran         76000000000    916 days, 04:15:11   \n",
        "anonymous operation blitzkrieg   175000000000   222 days, 15:47:52   \n",
        "                                 216000000000   325 days, 04:18:06   \n",
        "anonymous operation portugal     131000000000    96 days, 03:49:02   \n",
        "                                 111000000000    95 days, 19:52:02   \n",
        "anonymous operation greenrights  136000000000   247 days, 09:32:00   \n",
        "anonymous operation newblood     359000000000   481 days, 08:43:36   \n",
        "anonymous operation turkey       194000000000   725 days, 03:04:23   \n",
        "anonymous operation malaysia     78000000000    313 days, 13:12:03   \n",
        "anonymous operation antisec      72000000000    854 days, 00:26:04   \n",
        "anonymous operation greenrights  251000000000   913 days, 15:26:23   \n",
        "anonymous operation maleducados  175000000000    11 days, 13:52:10   \n",
        "anonymous operation onslaught    213000000000     8 days, 01:36:58   \n",
        "anonymous operation bohemian     281000000000     2 days, 11:32:22   \n",
        "                                 282000000000   194 days, 05:41:08   \n",
        "anonymous operation orlando      116000000000   832 days, 15:38:42   \n",
        "anonymous operation s            144000000000   827 days, 12:33:18   \n",
        "anonymous operation tennessee    73000000000     83 days, 10:35:16   \n",
        "anonymous operation onslaught    166000000000    38 days, 20:03:06   \n",
        "                                 193000000000    65 days, 02:27:38   \n",
        "anonymous operation antisec      107000000000   183 days, 04:45:34   \n",
        "anonymous operation onslaught    267000000000     0 days, 21:10:57   \n",
        "anonymous operation war          238000000000     0 days, 06:36:51   \n",
        "anonymous operation onslaught    822000000000     0 days, 20:43:43   \n",
        "anonymous operation facebook     129000000000    75 days, 04:12:57   \n",
        "anonymous operation onslaught    148000000000    59 days, 01:19:14   \n",
        "anonymous operation paperstorm   31000000000    467 days, 22:12:12   \n",
        "                                 36000000000     51 days, 22:51:20   \n",
        "anonymous operation homeless     61000000000    553 days, 21:12:59   \n",
        "anonymous operation destroy      19000000000    205 days, 19:31:07   \n",
        "anonymous operation facebook     126000000000     8 days, 13:54:55   \n",
        "                                 177000000000   852 days, 18:50:30   \n",
        "anonymous operation cannabis     144000000000     4 days, 01:42:10   \n",
        "anonymous operation boycott      255000000000    44 days, 20:03:21   \n",
        "                                 239000000000    13 days, 03:38:38   \n",
        "anonymous operationfacebook real 167000000000     7 days, 00:26:11   \n",
        "anonymous operation facebook     136000000000   932 days, 00:13:23   \n",
        "anonymous operation bart         2000000000     803 days, 14:19:20   \n",
        "anonymous operation fullerton    301000000000    12 days, 02:21:53   \n",
        "anonymous operation bart         260000000000    12 days, 06:45:59   \n",
        "anonymous operation information  234000000000    27 days, 05:21:57   \n",
        "anonymous operation britain      614000000000    44 days, 18:27:52   \n",
        "anonymous operation facebook     75000000000     80 days, 21:26:32   \n",
        "anonymous operation britain      195000000000   799 days, 15:28:57   \n",
        "                                                               ...   \n",
        "\n",
        "                                                mirror_count  \\\n",
        "title_short                      duration_time                 \n",
        "anonymous operation payback      111000000000              2   \n",
        "anonymous operation leakspin     153000000000              9   \n",
        "anonymous operation paperstorm   32000000000               2   \n",
        "anonymous operation bling        277000000000              4   \n",
        "                                 92000000000               3   \n",
        "anonymous operation tunisia      247000000000              3   \n",
        "anonymous operation ley          113000000000              4   \n",
        "anonymous operation algeria      203000000000              3   \n",
        "anonymous operation egypt        200000000000              3   \n",
        "anonymous operation mesh         61000000000               4   \n",
        "anonymous operation iran         1000000000                8   \n",
        "anonymous operation bahrain      96000000000               5   \n",
        "anonymous operation palestine    92000000000               2   \n",
        "anonymous operation payback      101000000000              2   \n",
        "                                 149000000000             11   \n",
        "                                 215000000000              2   \n",
        "anonymous operation iran         76000000000               8   \n",
        "anonymous operation blitzkrieg   175000000000              2   \n",
        "                                 216000000000              6   \n",
        "anonymous operation portugal     131000000000              2   \n",
        "                                 111000000000              2   \n",
        "anonymous operation greenrights  136000000000              7   \n",
        "anonymous operation newblood     359000000000              4   \n",
        "anonymous operation turkey       194000000000              2   \n",
        "anonymous operation malaysia     78000000000               3   \n",
        "anonymous operation antisec      72000000000              10   \n",
        "anonymous operation greenrights  251000000000              4   \n",
        "anonymous operation maleducados  175000000000              3   \n",
        "anonymous operation onslaught    213000000000              2   \n",
        "anonymous operation bohemian     281000000000              2   \n",
        "                                 282000000000              2   \n",
        "anonymous operation orlando      116000000000              3   \n",
        "anonymous operation s            144000000000              9   \n",
        "anonymous operation tennessee    73000000000               4   \n",
        "anonymous operation onslaught    166000000000              7   \n",
        "                                 193000000000              2   \n",
        "anonymous operation antisec      107000000000              3   \n",
        "anonymous operation onslaught    267000000000              2   \n",
        "anonymous operation war          238000000000              3   \n",
        "anonymous operation onslaught    822000000000              2   \n",
        "anonymous operation facebook     129000000000              3   \n",
        "anonymous operation onslaught    148000000000              2   \n",
        "anonymous operation paperstorm   31000000000               8   \n",
        "                                 36000000000               6   \n",
        "anonymous operation homeless     61000000000               3   \n",
        "anonymous operation destroy      19000000000               2   \n",
        "anonymous operation facebook     126000000000              4   \n",
        "                                 177000000000             10   \n",
        "anonymous operation cannabis     144000000000              2   \n",
        "anonymous operation boycott      255000000000              5   \n",
        "                                 239000000000              5   \n",
        "anonymous operationfacebook real 167000000000              2   \n",
        "anonymous operation facebook     136000000000              6   \n",
        "anonymous operation bart         2000000000                8   \n",
        "anonymous operation fullerton    301000000000              7   \n",
        "anonymous operation bart         260000000000              3   \n",
        "anonymous operation information  234000000000              2   \n",
        "anonymous operation britain      614000000000              2   \n",
        "anonymous operation facebook     75000000000               2   \n",
        "anonymous operation britain      195000000000              6   \n",
        "                                                         ...   \n",
        "\n",
        "                                                             start  \n",
        "title_short                      duration_time                      \n",
        "anonymous operation payback      111000000000  2010-12-08 18:04:29  \n",
        "anonymous operation leakspin     153000000000  2010-12-11 11:20:30  \n",
        "anonymous operation paperstorm   32000000000   2010-12-14 19:15:42  \n",
        "anonymous operation bling        277000000000  2010-12-24 13:36:08  \n",
        "                                 92000000000   2011-01-03 16:25:28  \n",
        "anonymous operation tunisia      247000000000  2011-01-05 15:12:13  \n",
        "anonymous operation ley          113000000000  2011-01-11 23:19:59  \n",
        "anonymous operation algeria      203000000000  2011-01-22 00:17:38  \n",
        "anonymous operation egypt        200000000000  2011-01-26 22:20:57  \n",
        "anonymous operation mesh         61000000000   2011-02-07 08:52:40  \n",
        "anonymous operation iran         1000000000    2011-02-09 13:38:11  \n",
        "anonymous operation bahrain      96000000000   2011-02-20 11:44:49  \n",
        "anonymous operation palestine    92000000000   2011-03-01 15:47:12  \n",
        "anonymous operation payback      101000000000  2011-03-09 09:17:36  \n",
        "                                 149000000000  2011-03-11 22:24:14  \n",
        "                                 215000000000  2011-04-08 16:08:55  \n",
        "anonymous operation iran         76000000000   2011-04-23 16:12:59  \n",
        "anonymous operation blitzkrieg   175000000000  2011-05-02 06:38:39  \n",
        "                                 216000000000  2011-05-02 12:30:18  \n",
        "anonymous operation portugal     131000000000  2011-05-08 07:47:08  \n",
        "                                 111000000000  2011-05-08 14:55:47  \n",
        "anonymous operation greenrights  136000000000  2011-05-15 09:50:21  \n",
        "anonymous operation newblood     359000000000  2011-06-04 08:42:21  \n",
        "anonymous operation turkey       194000000000  2011-06-10 19:10:47  \n",
        "anonymous operation malaysia     78000000000   2011-06-15 16:36:31  \n",
        "anonymous operation antisec      72000000000   2011-06-24 18:40:13  \n",
        "anonymous operation greenrights  251000000000  2011-06-28 07:08:12  \n",
        "anonymous operation maleducados  175000000000  2011-07-04 22:08:57  \n",
        "anonymous operation onslaught    213000000000  2011-07-12 03:55:38  \n",
        "anonymous operation bohemian     281000000000  2011-07-12 19:26:30  \n",
        "                                 282000000000  2011-07-13 18:34:20  \n",
        "anonymous operation orlando      116000000000  2011-07-16 06:57:27  \n",
        "anonymous operation s            144000000000  2011-07-16 07:12:08  \n",
        "anonymous operation tennessee    73000000000   2011-07-16 11:43:30  \n",
        "anonymous operation onslaught    166000000000  2011-07-16 12:22:11  \n",
        "                                 193000000000  2011-07-18 17:52:04  \n",
        "anonymous operation antisec      107000000000  2011-07-19 21:07:30  \n",
        "anonymous operation onslaught    267000000000  2011-07-26 11:58:17  \n",
        "anonymous operation war          238000000000  2011-07-27 08:41:13  \n",
        "anonymous operation onslaught    822000000000  2011-08-01 03:15:34  \n",
        "anonymous operation facebook     129000000000  2011-08-02 08:15:42  \n",
        "anonymous operation onslaught    148000000000  2011-08-02 12:35:07  \n",
        "anonymous operation paperstorm   31000000000   2011-08-03 19:44:07  \n",
        "                                 36000000000   2011-08-03 21:48:36  \n",
        "anonymous operation homeless     61000000000   2011-08-05 02:43:20  \n",
        "anonymous operation destroy      19000000000   2011-08-06 15:18:50  \n",
        "anonymous operation facebook     126000000000  2011-08-08 21:36:26  \n",
        "                                 177000000000  2011-08-09 11:00:04  \n",
        "anonymous operation cannabis     144000000000  2011-08-09 11:40:14  \n",
        "anonymous operation boycott      255000000000  2011-08-11 00:32:12  \n",
        "                                 239000000000  2011-08-12 07:04:59  \n",
        "anonymous operationfacebook real 167000000000  2011-08-12 15:37:49  \n",
        "anonymous operation facebook     136000000000  2011-08-12 15:48:17  \n",
        "anonymous operation bart         2000000000    2011-08-14 06:28:24  \n",
        "anonymous operation fullerton    301000000000  2011-08-14 15:10:57  \n",
        "anonymous operation bart         260000000000  2011-08-14 21:18:32  \n",
        "anonymous operation information  234000000000  2011-08-15 08:15:42  \n",
        "anonymous operation britain      614000000000  2011-08-15 21:25:21  \n",
        "anonymous operation facebook     75000000000   2011-08-17 18:16:47  \n",
        "anonymous operation britain      195000000000  2011-08-17 23:00:50  \n",
        "                                                               ...  \n",
        "\n",
        "[350 rows x 3 columns]"
       ]
      }
     ],
     "prompt_number": 117
    },
    {
     "cell_type": "code",
     "collapsed": false,
     "input": [],
     "language": "python",
     "metadata": {},
     "outputs": []
    }
   ],
   "metadata": {}
  }
 ]
}