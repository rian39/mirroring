{
 "metadata": {
  "name": ""
 },
 "nbformat": 3,
 "nbformat_minor": 0,
 "worksheets": [
  {
   "cells": [
    {
     "cell_type": "code",
     "collapsed": false,
     "input": [
      "%load_ext autoreload\n",
      "%autoreload 2\n",
      "%matplotlib inline"
     ],
     "language": "python",
     "metadata": {},
     "outputs": [
      {
       "output_type": "stream",
       "stream": "stdout",
       "text": [
        "The autoreload extension is already loaded. To reload it, use:\n",
        "  %reload_ext autoreload\n"
       ]
      }
     ],
     "prompt_number": 15
    },
    {
     "cell_type": "code",
     "collapsed": false,
     "input": [
      "import pandas as pd\n",
      "import YT_api_generate as yt\n",
      "import seaborn\n",
      "import re\n",
      "from optparse import OptionParser\n",
      "from IPython.display import HTML\n",
      "from IPython.display import YouTubeVideo\n",
      "import matplotlib.pyplot as plt\n",
      "pd.set_option(\"display.max_columns\", 6)\n",
      "pd.set_option(\"display.max_rows\", 15)\n",
      "pd.set_option(\"display.notebook_repr_html\", True)\n"
     ],
     "language": "python",
     "metadata": {},
     "outputs": [],
     "prompt_number": 38
    },
    {
     "cell_type": "markdown",
     "metadata": {},
     "source": [
      "# Mirroring and Anonymous\n",
      "\n",
      "We are trying to gain an empirical sense of the extent and shape of mirroring practices in the Anonymous movement. We are focusing on Youtube video mirroring (why? Adam). \n",
      "There are various problems in trying to get a sense of mirroring practice on Youtube. [TBA -- a description of this]\n",
      "\n",
      "## What we'd like to produce:\n",
      "\n",
      "1. A quantitative description of how many mirrored videos exist, when they were published and on what topics\n",
      "2. A timeline of mirroring events associated with Anonymous. The timeline should describe their relative importance\n",
      "\n",
      "\n",
      "## The list of Anonymous operations\n",
      "\n",
      "Youtube searches using the API only return 500 results. (I guess most people don't want to look at more than a couple of pages of results). But a given operation might have 700 or 2400 mirrors. It is hard to get around this.\n",
      "Our main strategy has been to use _operations_ to multiply our search queries. We have found around 80 Anonymous operations. We run Youtube queries on all of these. We also run another set of 80 queries with the word 'mirror' added to the operation. The idea here is that we are creating a large query out of many smaller queries tiled together. \n"
     ]
    },
    {
     "cell_type": "code",
     "collapsed": false,
     "input": [
      "# felipe produced a list of operations\n",
      "operations = [op.replace('\\n', '') for op in open('data/operations_list.txt').readlines()]\n",
      "operations_mirror = [op + ' mirror' for op in operations]"
     ],
     "language": "python",
     "metadata": {},
     "outputs": [],
     "prompt_number": 83
    },
    {
     "cell_type": "code",
     "collapsed": false,
     "input": [
      "operations.sort()\n",
      "operations"
     ],
     "language": "python",
     "metadata": {},
     "outputs": [
      {
       "metadata": {},
       "output_type": "pyout",
       "prompt_number": 84,
       "text": [
        "['anonymous operation NSA',\n",
        " 'anonymous operation V',\n",
        " 'anonymous operation aaron swartz',\n",
        " 'anonymous operation acta',\n",
        " 'anonymous operation american freedom',\n",
        " 'anonymous operation american spring',\n",
        " 'anonymous operation anaheim',\n",
        " 'anonymous operation antisec',\n",
        " 'anonymous operation assange',\n",
        " 'anonymous operation awake the masses',\n",
        " 'anonymous operation bahrain',\n",
        " 'anonymous operation bart',\n",
        " 'anonymous operation big brother',\n",
        " 'anonymous operation black march',\n",
        " 'anonymous operation blackout',\n",
        " 'anonymous operation blitzkrieg',\n",
        " 'anonymous operation brotherhood takedown',\n",
        " 'anonymous operation cannabis',\n",
        " 'anonymous operation chanology',\n",
        " 'anonymous operation chris forcand',\n",
        " 'anonymous operation cispa',\n",
        " 'anonymous operation darknet',\n",
        " 'anonymous operation didgeridie',\n",
        " 'anonymous operation egypt',\n",
        " 'anonymous operation ele',\n",
        " 'anonymous operation empire state',\n",
        " 'anonymous operation facebook',\n",
        " 'anonymous operation federal reserve',\n",
        " 'anonymous operation fullerton',\n",
        " 'anonymous operation game',\n",
        " 'anonymous operation greece',\n",
        " 'anonymous operation green rights',\n",
        " 'anonymous operation guantanamo bay',\n",
        " 'anonymous operation habbo',\n",
        " 'anonymous operation hal turner',\n",
        " 'anonymous operation hbgary',\n",
        " 'anonymous operation hunthunter',\n",
        " 'anonymous operation india',\n",
        " 'anonymous operation indignant',\n",
        " 'anonymous operation iran',\n",
        " 'anonymous operation israel',\n",
        " 'anonymous operation japan',\n",
        " 'anonymous operation kingfish',\n",
        " 'anonymous operation kiwi freedom',\n",
        " 'anonymous operation kony',\n",
        " 'anonymous operation last resort',\n",
        " 'anonymous operation leakspin',\n",
        " 'anonymous operation libya',\n",
        " 'anonymous operation los zetas',\n",
        " 'anonymous operation malaysia',\n",
        " 'anonymous operation maryville',\n",
        " 'anonymous operation mastercard',\n",
        " 'anonymous operation mayhem',\n",
        " 'anonymous operation megaupload',\n",
        " 'anonymous operation north korea',\n",
        " 'anonymous operation occupythemedia',\n",
        " 'anonymous operation orlando',\n",
        " 'anonymous operation palin',\n",
        " 'anonymous operation payback',\n",
        " 'anonymous operation paypal',\n",
        " 'anonymous operation petrol',\n",
        " 'anonymous operation pipa',\n",
        " 'anonymous operation pirate bay',\n",
        " 'anonymous operation powerbot',\n",
        " 'anonymous operation quebec',\n",
        " 'anonymous operation rebuild the hive',\n",
        " 'anonymous operation reconnect',\n",
        " 'anonymous operation rohingya',\n",
        " 'anonymous operation rose awareness',\n",
        " 'anonymous operation safe winter',\n",
        " 'anonymous operation shooting sheriffs',\n",
        " 'anonymous operation sony',\n",
        " 'anonymous operation sopa',\n",
        " 'anonymous operation steubenville',\n",
        " 'anonymous operation support snowden',\n",
        " 'anonymous operation syria',\n",
        " 'anonymous operation tea party',\n",
        " 'anonymous operation titstorm',\n",
        " 'anonymous operation tunisia',\n",
        " 'anonymous operation ukraine',\n",
        " 'anonymous operation vendetta',\n",
        " 'anonymous operation visa',\n",
        " 'anonymous operation wall street',\n",
        " 'anonymous operation westboro baptist church',\n",
        " 'anonymous operation wikileaks',\n",
        " 'anonymous operation world bank',\n",
        " 'anonymous project mayhem']"
       ]
      }
     ],
     "prompt_number": 84
    },
    {
     "cell_type": "code",
     "collapsed": true,
     "input": [
      "df_ops = pd.DataFrame()"
     ],
     "language": "python",
     "metadata": {},
     "outputs": [],
     "prompt_number": 4
    },
    {
     "cell_type": "code",
     "collapsed": true,
     "input": [
      "## the basic operations\n",
      "\n",
      "for op in operations:\n",
      "    df  = yt.youtube_search(op,1000, True)\n",
      "    df['operation'] = op\n",
      "    df_ops = df_ops.append(df)"
     ],
     "language": "python",
     "metadata": {},
     "outputs": [
      {
       "output_type": "stream",
       "stream": "stdout",
       "text": [
        "retrieved 492 results for anonymous operation habbo\n",
        "('anonymous operation habbo', (492, 15))"
       ]
      },
      {
       "output_type": "stream",
       "stream": "stdout",
       "text": [
        "\n",
        "(492, 8)\n",
        "retrieved 45 results for anonymous operation hal turner"
       ]
      },
      {
       "output_type": "stream",
       "stream": "stdout",
       "text": [
        "\n",
        "('anonymous operation hal turner', (45, 13))"
       ]
      },
      {
       "output_type": "stream",
       "stream": "stdout",
       "text": [
        "\n",
        "(45, 8)\n",
        "retrieved 22 results for anonymous operation chris forcand"
       ]
      },
      {
       "output_type": "stream",
       "stream": "stdout",
       "text": [
        "\n",
        "('anonymous operation chris forcand', (22, 13))"
       ]
      },
      {
       "output_type": "stream",
       "stream": "stdout",
       "text": [
        "\n",
        "(22, 8)\n",
        "retrieved 494 results for anonymous operation chanology"
       ]
      },
      {
       "output_type": "stream",
       "stream": "stdout",
       "text": [
        "\n",
        "('anonymous operation chanology', (494, 14))"
       ]
      },
      {
       "output_type": "stream",
       "stream": "stdout",
       "text": [
        "\n",
        "(494, 8)\n",
        "retrieved 491 results for anonymous operation palin"
       ]
      },
      {
       "output_type": "stream",
       "stream": "stdout",
       "text": [
        "\n",
        "('anonymous operation palin', (491, 15))"
       ]
      },
      {
       "output_type": "stream",
       "stream": "stdout",
       "text": [
        "\n",
        "(491, 8)\n",
        "retrieved 500 results for anonymous operation iran"
       ]
      },
      {
       "output_type": "stream",
       "stream": "stdout",
       "text": [
        "\n",
        "('anonymous operation iran', (500, 15))"
       ]
      },
      {
       "output_type": "stream",
       "stream": "stdout",
       "text": [
        "\n",
        "(500, 8)\n",
        "retrieved 1 results for anonymous operation didgeridie"
       ]
      },
      {
       "output_type": "stream",
       "stream": "stdout",
       "text": [
        "\n",
        "('anonymous operation didgeridie', (1, 12))"
       ]
      },
      {
       "output_type": "stream",
       "stream": "stdout",
       "text": [
        "\n",
        "(1, 8)\n",
        "retrieved 136 results for anonymous operation titstorm"
       ]
      },
      {
       "output_type": "stream",
       "stream": "stdout",
       "text": [
        "\n",
        "('anonymous operation titstorm', (136, 15))"
       ]
      },
      {
       "output_type": "stream",
       "stream": "stdout",
       "text": [
        "\n",
        "(136, 8)\n",
        "retrieved 500 results for anonymous operation tea party"
       ]
      },
      {
       "output_type": "stream",
       "stream": "stdout",
       "text": [
        "\n",
        "('anonymous operation tea party', (500, 15))"
       ]
      },
      {
       "output_type": "stream",
       "stream": "stdout",
       "text": [
        "\n",
        "(500, 8)\n",
        "retrieved 460 results for anonymous operation payback"
       ]
      },
      {
       "output_type": "stream",
       "stream": "stdout",
       "text": [
        "\n",
        "('anonymous operation payback', (460, 15))"
       ]
      },
      {
       "output_type": "stream",
       "stream": "stdout",
       "text": [
        "\n",
        "(460, 8)\n",
        "retrieved 500 results for anonymous operation wikileaks"
       ]
      },
      {
       "output_type": "stream",
       "stream": "stdout",
       "text": [
        "\n",
        "('anonymous operation wikileaks', (500, 14))"
       ]
      },
      {
       "output_type": "stream",
       "stream": "stdout",
       "text": [
        "\n",
        "(500, 8)\n",
        "retrieved 500 results for anonymous operation assange"
       ]
      },
      {
       "output_type": "stream",
       "stream": "stdout",
       "text": [
        "\n",
        "('anonymous operation assange', (500, 15))"
       ]
      },
      {
       "output_type": "stream",
       "stream": "stdout",
       "text": [
        "\n",
        "(500, 8)\n",
        "retrieved 500 results for anonymous operation leakspin"
       ]
      },
      {
       "output_type": "stream",
       "stream": "stdout",
       "text": [
        "\n",
        "('anonymous operation leakspin', (500, 14))"
       ]
      },
      {
       "output_type": "stream",
       "stream": "stdout",
       "text": [
        "\n",
        "(500, 8)\n",
        "retrieved 473 results for anonymous operation visa"
       ]
      },
      {
       "output_type": "stream",
       "stream": "stdout",
       "text": [
        "\n",
        "('anonymous operation visa', (473, 15))"
       ]
      },
      {
       "output_type": "stream",
       "stream": "stdout",
       "text": [
        "\n",
        "(473, 8)\n",
        "retrieved 479 results for anonymous operation mastercard"
       ]
      },
      {
       "output_type": "stream",
       "stream": "stdout",
       "text": [
        "\n",
        "('anonymous operation mastercard', (479, 14))"
       ]
      },
      {
       "output_type": "stream",
       "stream": "stdout",
       "text": [
        "\n",
        "(479, 8)\n",
        "retrieved 478 results for anonymous operation paypal"
       ]
      },
      {
       "output_type": "stream",
       "stream": "stdout",
       "text": [
        "\n",
        "('anonymous operation paypal', (478, 14))"
       ]
      },
      {
       "output_type": "stream",
       "stream": "stdout",
       "text": [
        "\n",
        "(478, 8)\n",
        "retrieved 500 results for anonymous operation tunisia"
       ]
      },
      {
       "output_type": "stream",
       "stream": "stdout",
       "text": [
        "\n",
        "('anonymous operation tunisia', (500, 15))"
       ]
      },
      {
       "output_type": "stream",
       "stream": "stdout",
       "text": [
        "\n",
        "(500, 8)\n",
        "retrieved 499 results for anonymous operation egypt"
       ]
      },
      {
       "output_type": "stream",
       "stream": "stdout",
       "text": [
        "\n",
        "('anonymous operation egypt', (499, 14))"
       ]
      },
      {
       "output_type": "stream",
       "stream": "stdout",
       "text": [
        "\n",
        "(499, 8)\n",
        "retrieved 500 results for anonymous operation libya"
       ]
      },
      {
       "output_type": "stream",
       "stream": "stdout",
       "text": [
        "\n",
        "('anonymous operation libya', (500, 15))"
       ]
      },
      {
       "output_type": "stream",
       "stream": "stdout",
       "text": [
        "\n",
        "(500, 8)\n",
        "retrieved 322 results for anonymous operation hbgary"
       ]
      },
      {
       "output_type": "stream",
       "stream": "stdout",
       "text": [
        "\n",
        "('anonymous operation hbgary', (322, 14))"
       ]
      },
      {
       "output_type": "stream",
       "stream": "stdout",
       "text": [
        "\n",
        "(322, 8)\n",
        "retrieved 479 results for anonymous operation empire state"
       ]
      },
      {
       "output_type": "stream",
       "stream": "stdout",
       "text": [
        "\n",
        "('anonymous operation empire state', (479, 14))"
       ]
      },
      {
       "output_type": "stream",
       "stream": "stdout",
       "text": [
        "\n",
        "(479, 8)\n",
        "retrieved 483 results for anonymous operation sony"
       ]
      },
      {
       "output_type": "stream",
       "stream": "stdout",
       "text": [
        "\n",
        "('anonymous operation sony', (483, 15))"
       ]
      },
      {
       "output_type": "stream",
       "stream": "stdout",
       "text": [
        "\n",
        "(483, 8)\n",
        "retrieved 500 results for anonymous operation india"
       ]
      },
      {
       "output_type": "stream",
       "stream": "stdout",
       "text": [
        "\n",
        "('anonymous operation india', (500, 15))"
       ]
      },
      {
       "output_type": "stream",
       "stream": "stdout",
       "text": [
        "\n",
        "(500, 8)\n",
        "retrieved 500 results for anonymous operation malaysia"
       ]
      },
      {
       "output_type": "stream",
       "stream": "stdout",
       "text": [
        "\n",
        "('anonymous operation malaysia', (500, 15))"
       ]
      },
      {
       "output_type": "stream",
       "stream": "stdout",
       "text": [
        "\n",
        "(500, 8)\n",
        "retrieved 500 results for anonymous operation orlando"
       ]
      },
      {
       "output_type": "stream",
       "stream": "stdout",
       "text": [
        "\n",
        "('anonymous operation orlando', (500, 14))"
       ]
      },
      {
       "output_type": "stream",
       "stream": "stdout",
       "text": [
        "\n",
        "(500, 8)\n",
        "retrieved 500 results for anonymous operation antisec"
       ]
      },
      {
       "output_type": "stream",
       "stream": "stdout",
       "text": [
        "\n",
        "('anonymous operation antisec', (500, 15))"
       ]
      },
      {
       "output_type": "stream",
       "stream": "stdout",
       "text": [
        "\n",
        "(500, 8)\n",
        "retrieved 477 results for anonymous operation facebook"
       ]
      },
      {
       "output_type": "stream",
       "stream": "stdout",
       "text": [
        "\n",
        "('anonymous operation facebook', (477, 15))"
       ]
      },
      {
       "output_type": "stream",
       "stream": "stdout",
       "text": [
        "\n",
        "(477, 8)\n",
        "retrieved 500 results for anonymous operation bart"
       ]
      },
      {
       "output_type": "stream",
       "stream": "stdout",
       "text": [
        "\n",
        "('anonymous operation bart', (500, 14))"
       ]
      },
      {
       "output_type": "stream",
       "stream": "stdout",
       "text": [
        "\n",
        "(500, 8)\n",
        "retrieved 454 results for anonymous operation shooting sheriffs"
       ]
      },
      {
       "output_type": "stream",
       "stream": "stdout",
       "text": [
        "\n",
        "('anonymous operation shooting sheriffs', (454, 15))"
       ]
      },
      {
       "output_type": "stream",
       "stream": "stdout",
       "text": [
        "\n",
        "(454, 8)\n",
        "retrieved 500 results for anonymous operation wall street"
       ]
      },
      {
       "output_type": "stream",
       "stream": "stdout",
       "text": [
        "\n",
        "('anonymous operation wall street', (500, 15))"
       ]
      },
      {
       "output_type": "stream",
       "stream": "stdout",
       "text": [
        "\n",
        "(500, 8)\n",
        "retrieved 483 results for anonymous operation syria"
       ]
      },
      {
       "output_type": "stream",
       "stream": "stdout",
       "text": [
        "\n",
        "('anonymous operation syria', (483, 15))"
       ]
      },
      {
       "output_type": "stream",
       "stream": "stdout",
       "text": [
        "\n",
        "(483, 8)\n",
        "retrieved 500 results for anonymous operation darknet"
       ]
      },
      {
       "output_type": "stream",
       "stream": "stdout",
       "text": [
        "\n",
        "('anonymous operation darknet', (500, 14))"
       ]
      },
      {
       "output_type": "stream",
       "stream": "stdout",
       "text": [
        "\n",
        "(500, 8)\n",
        "retrieved 224 results for anonymous operation los zetas"
       ]
      },
      {
       "output_type": "stream",
       "stream": "stdout",
       "text": [
        "\n",
        "('anonymous operation los zetas', (224, 14))"
       ]
      },
      {
       "output_type": "stream",
       "stream": "stdout",
       "text": [
        "\n",
        "(224, 8)\n",
        "retrieved 462 results for anonymous operation brotherhood takedown"
       ]
      },
      {
       "output_type": "stream",
       "stream": "stdout",
       "text": [
        "\n",
        "('anonymous operation brotherhood takedown', (462, 14))"
       ]
      },
      {
       "output_type": "stream",
       "stream": "stdout",
       "text": [
        "\n",
        "(462, 8)\n",
        "retrieved 459 results for anonymous operation megaupload"
       ]
      },
      {
       "output_type": "stream",
       "stream": "stdout",
       "text": [
        "\n",
        "('anonymous operation megaupload', (459, 15))"
       ]
      },
      {
       "output_type": "stream",
       "stream": "stdout",
       "text": [
        "\n",
        "(459, 8)\n",
        "retrieved 497 results for anonymous operation black march"
       ]
      },
      {
       "output_type": "stream",
       "stream": "stdout",
       "text": [
        "\n",
        "('anonymous operation black march', (497, 14))"
       ]
      },
      {
       "output_type": "stream",
       "stream": "stdout",
       "text": [
        "\n",
        "(497, 8)\n",
        "retrieved 469 results for anonymous operation acta"
       ]
      },
      {
       "output_type": "stream",
       "stream": "stdout",
       "text": [
        "\n",
        "('anonymous operation acta', (469, 13))"
       ]
      },
      {
       "output_type": "stream",
       "stream": "stdout",
       "text": [
        "\n",
        "(469, 8)\n",
        "retrieved 457 results for anonymous operation pipa"
       ]
      },
      {
       "output_type": "stream",
       "stream": "stdout",
       "text": [
        "\n",
        "('anonymous operation pipa', (457, 14))"
       ]
      },
      {
       "output_type": "stream",
       "stream": "stdout",
       "text": [
        "\n",
        "(457, 8)\n",
        "retrieved 500 results for anonymous operation sopa"
       ]
      },
      {
       "output_type": "stream",
       "stream": "stdout",
       "text": [
        "\n",
        "('anonymous operation sopa', (500, 14))"
       ]
      },
      {
       "output_type": "stream",
       "stream": "stdout",
       "text": [
        "\n",
        "(500, 8)\n",
        "retrieved 477 results for anonymous operation blackout"
       ]
      },
      {
       "output_type": "stream",
       "stream": "stdout",
       "text": [
        "\n",
        "('anonymous operation blackout', (477, 15))"
       ]
      },
      {
       "output_type": "stream",
       "stream": "stdout",
       "text": [
        "\n",
        "(477, 8)\n",
        "retrieved 500 results for anonymous operation kony"
       ]
      },
      {
       "output_type": "stream",
       "stream": "stdout",
       "text": [
        "\n",
        "('anonymous operation kony', (500, 15))"
       ]
      },
      {
       "output_type": "stream",
       "stream": "stdout",
       "text": [
        "\n",
        "(500, 8)\n",
        "retrieved 500 results for anonymous operation greece"
       ]
      },
      {
       "output_type": "stream",
       "stream": "stdout",
       "text": [
        "\n",
        "('anonymous operation greece', (500, 14))"
       ]
      },
      {
       "output_type": "stream",
       "stream": "stdout",
       "text": [
        "\n",
        "(500, 8)\n",
        "retrieved 500 results for anonymous operation quebec"
       ]
      },
      {
       "output_type": "stream",
       "stream": "stdout",
       "text": [
        "\n",
        "('anonymous operation quebec', (500, 14))"
       ]
      },
      {
       "output_type": "stream",
       "stream": "stdout",
       "text": [
        "\n",
        "(500, 8)\n",
        "retrieved 500 results for anonymous operation japan"
       ]
      },
      {
       "output_type": "stream",
       "stream": "stdout",
       "text": [
        "\n",
        "('anonymous operation japan', (500, 14))"
       ]
      },
      {
       "output_type": "stream",
       "stream": "stdout",
       "text": [
        "\n",
        "(500, 8)\n",
        "retrieved 230 results for anonymous operation blitzkrieg"
       ]
      },
      {
       "output_type": "stream",
       "stream": "stdout",
       "text": [
        "\n",
        "('anonymous operation blitzkrieg', (230, 14))"
       ]
      },
      {
       "output_type": "stream",
       "stream": "stdout",
       "text": [
        "\n",
        "(230, 8)\n",
        "retrieved 419 results for anonymous operation anaheim"
       ]
      },
      {
       "output_type": "stream",
       "stream": "stdout",
       "text": [
        "\n",
        "('anonymous operation anaheim', (419, 14))"
       ]
      },
      {
       "output_type": "stream",
       "stream": "stdout",
       "text": [
        "\n",
        "(419, 8)\n",
        "retrieved 498 results for anonymous operation steubenville"
       ]
      },
      {
       "output_type": "stream",
       "stream": "stdout",
       "text": [
        "\n",
        "('anonymous operation steubenville', (498, 14))"
       ]
      },
      {
       "output_type": "stream",
       "stream": "stdout",
       "text": [
        "\n",
        "(498, 8)\n",
        "retrieved 500 results for anonymous operation darknet"
       ]
      },
      {
       "output_type": "stream",
       "stream": "stdout",
       "text": [
        "\n",
        "('anonymous operation darknet', (500, 14))"
       ]
      },
      {
       "output_type": "stream",
       "stream": "stdout",
       "text": [
        "\n",
        "(500, 8)\n",
        "retrieved 458 results for anonymous operation paperstorm"
       ]
      },
      {
       "output_type": "stream",
       "stream": "stdout",
       "text": [
        "\n",
        "('anonymous operation paperstorm', (458, 14))"
       ]
      },
      {
       "output_type": "stream",
       "stream": "stdout",
       "text": [
        "\n",
        "(458, 8)\n",
        "retrieved 500 results for anonymous operation aaron swartz"
       ]
      },
      {
       "output_type": "stream",
       "stream": "stdout",
       "text": [
        "\n",
        "('anonymous operation aaron swartz', (500, 14))"
       ]
      },
      {
       "output_type": "stream",
       "stream": "stdout",
       "text": [
        "\n",
        "(500, 8)\n",
        "retrieved 500 results for anonymous operation federal reserve"
       ]
      },
      {
       "output_type": "stream",
       "stream": "stdout",
       "text": [
        "\n",
        "('anonymous operation federal reserve', (500, 14))"
       ]
      },
      {
       "output_type": "stream",
       "stream": "stdout",
       "text": [
        "\n",
        "(500, 8)\n",
        "retrieved 458 results for anonymous operation north korea"
       ]
      },
      {
       "output_type": "stream",
       "stream": "stdout",
       "text": [
        "\n",
        "('anonymous operation north korea', (458, 13))"
       ]
      },
      {
       "output_type": "stream",
       "stream": "stdout",
       "text": [
        "\n",
        "(458, 8)\n",
        "retrieved 491 results for anonymous operation israel"
       ]
      },
      {
       "output_type": "stream",
       "stream": "stdout",
       "text": [
        "\n",
        "('anonymous operation israel', (491, 14))"
       ]
      },
      {
       "output_type": "stream",
       "stream": "stdout",
       "text": [
        "\n",
        "(491, 8)\n",
        "retrieved 470 results for anonymous operation last resort"
       ]
      },
      {
       "output_type": "stream",
       "stream": "stdout",
       "text": [
        "\n",
        "('anonymous operation last resort', (470, 14))"
       ]
      },
      {
       "output_type": "stream",
       "stream": "stdout",
       "text": [
        "\n",
        "(470, 8)\n",
        "retrieved 500 results for anonymous operation vendetta"
       ]
      },
      {
       "output_type": "stream",
       "stream": "stdout",
       "text": [
        "\n",
        "('anonymous operation vendetta', (500, 14))"
       ]
      },
      {
       "output_type": "stream",
       "stream": "stdout",
       "text": [
        "\n",
        "(500, 8)\n",
        "retrieved 471 results for anonymous operation cispa"
       ]
      },
      {
       "output_type": "stream",
       "stream": "stdout",
       "text": [
        "\n",
        "('anonymous operation cispa', (471, 14))"
       ]
      },
      {
       "output_type": "stream",
       "stream": "stdout",
       "text": [
        "\n",
        "(471, 8)\n",
        "retrieved 488 results for anonymous operation NSA"
       ]
      },
      {
       "output_type": "stream",
       "stream": "stdout",
       "text": [
        "\n",
        "('anonymous operation NSA', (488, 15))"
       ]
      },
      {
       "output_type": "stream",
       "stream": "stdout",
       "text": [
        "\n",
        "(488, 8)\n",
        "retrieved 500 results for anonymous operation american freedom"
       ]
      },
      {
       "output_type": "stream",
       "stream": "stdout",
       "text": [
        "\n",
        "('anonymous operation american freedom', (500, 15))"
       ]
      },
      {
       "output_type": "stream",
       "stream": "stdout",
       "text": [
        "\n",
        "(500, 8)\n",
        "retrieved 488 results for anonymous operation big brother"
       ]
      },
      {
       "output_type": "stream",
       "stream": "stdout",
       "text": [
        "\n",
        "('anonymous operation big brother', (488, 14))"
       ]
      },
      {
       "output_type": "stream",
       "stream": "stdout",
       "text": [
        "\n",
        "(488, 8)\n",
        "retrieved 500 results for anonymous operation V"
       ]
      },
      {
       "output_type": "stream",
       "stream": "stdout",
       "text": [
        "\n",
        "('anonymous operation V', (500, 14))"
       ]
      },
      {
       "output_type": "stream",
       "stream": "stdout",
       "text": [
        "\n",
        "(500, 8)\n",
        "retrieved 500 results for anonymous operation westboro baptist church"
       ]
      },
      {
       "output_type": "stream",
       "stream": "stdout",
       "text": [
        "\n",
        "('anonymous operation westboro baptist church', (500, 14))"
       ]
      },
      {
       "output_type": "stream",
       "stream": "stdout",
       "text": [
        "\n",
        "(500, 8)\n",
        "retrieved 500 results for anonymous operation support snowden"
       ]
      },
      {
       "output_type": "stream",
       "stream": "stdout",
       "text": [
        "\n",
        "('anonymous operation support snowden', (500, 14))"
       ]
      },
      {
       "output_type": "stream",
       "stream": "stdout",
       "text": [
        "\n",
        "(500, 8)\n",
        "retrieved 128 results for anonymous operation kiwi freedom"
       ]
      },
      {
       "output_type": "stream",
       "stream": "stdout",
       "text": [
        "\n",
        "('anonymous operation kiwi freedom', (128, 14))"
       ]
      },
      {
       "output_type": "stream",
       "stream": "stdout",
       "text": [
        "\n",
        "(128, 8)\n",
        "retrieved 493 results for anonymous operation world bank"
       ]
      },
      {
       "output_type": "stream",
       "stream": "stdout",
       "text": [
        "\n",
        "('anonymous operation world bank', (493, 14))"
       ]
      },
      {
       "output_type": "stream",
       "stream": "stdout",
       "text": [
        "\n",
        "(493, 8)\n",
        "retrieved 493 results for anonymous operation awake the masses"
       ]
      },
      {
       "output_type": "stream",
       "stream": "stdout",
       "text": [
        "\n",
        "('anonymous operation awake the masses', (493, 14))"
       ]
      },
      {
       "output_type": "stream",
       "stream": "stdout",
       "text": [
        "\n",
        "(493, 8)\n",
        "retrieved 500 results for anonymous operation cannabis"
       ]
      },
      {
       "output_type": "stream",
       "stream": "stdout",
       "text": [
        "\n",
        "('anonymous operation cannabis', (500, 15))"
       ]
      },
      {
       "output_type": "stream",
       "stream": "stdout",
       "text": [
        "\n",
        "(500, 8)\n",
        "retrieved 278 results for anonymous operation rohingya"
       ]
      },
      {
       "output_type": "stream",
       "stream": "stdout",
       "text": [
        "\n",
        "('anonymous operation rohingya', (278, 14))"
       ]
      },
      {
       "output_type": "stream",
       "stream": "stdout",
       "text": [
        "\n",
        "(278, 8)\n",
        "retrieved 123 results for anonymous operation rose awareness"
       ]
      },
      {
       "output_type": "stream",
       "stream": "stdout",
       "text": [
        "\n",
        "('anonymous operation rose awareness', (123, 14))"
       ]
      },
      {
       "output_type": "stream",
       "stream": "stdout",
       "text": [
        "\n",
        "(123, 8)\n",
        "retrieved 393 results for anonymous operation rebuild the hive"
       ]
      },
      {
       "output_type": "stream",
       "stream": "stdout",
       "text": [
        "\n",
        "('anonymous operation rebuild the hive', (393, 14))"
       ]
      },
      {
       "output_type": "stream",
       "stream": "stdout",
       "text": [
        "\n",
        "(393, 8)\n",
        "retrieved 500 results for anonymous operation bahrain"
       ]
      },
      {
       "output_type": "stream",
       "stream": "stdout",
       "text": [
        "\n",
        "('anonymous operation bahrain', (500, 15))"
       ]
      },
      {
       "output_type": "stream",
       "stream": "stdout",
       "text": [
        "\n",
        "(500, 8)\n",
        "retrieved 500 results for anonymous operation ukraine"
       ]
      },
      {
       "output_type": "stream",
       "stream": "stdout",
       "text": [
        "\n",
        "('anonymous operation ukraine', (500, 14))"
       ]
      },
      {
       "output_type": "stream",
       "stream": "stdout",
       "text": [
        "\n",
        "(500, 8)\n",
        "retrieved 500 results for anonymous operation pirate bay"
       ]
      },
      {
       "output_type": "stream",
       "stream": "stdout",
       "text": [
        "\n",
        "('anonymous operation pirate bay', (500, 14))"
       ]
      },
      {
       "output_type": "stream",
       "stream": "stdout",
       "text": [
        "\n",
        "(500, 8)\n",
        "retrieved 458 results for anonymous operation petrol"
       ]
      },
      {
       "output_type": "stream",
       "stream": "stdout",
       "text": [
        "\n",
        "('anonymous operation petrol', (458, 14))"
       ]
      },
      {
       "output_type": "stream",
       "stream": "stdout",
       "text": [
        "\n",
        "(458, 8)\n",
        "retrieved 268 results for anonymous operation ele"
       ]
      },
      {
       "output_type": "stream",
       "stream": "stdout",
       "text": [
        "\n",
        "('anonymous operation ele', (268, 14))"
       ]
      },
      {
       "output_type": "stream",
       "stream": "stdout",
       "text": [
        "\n",
        "(268, 8)\n",
        "retrieved 282 results for anonymous operation guantanamo bay"
       ]
      },
      {
       "output_type": "stream",
       "stream": "stdout",
       "text": [
        "\n",
        "('anonymous operation guantanamo bay', (282, 14))"
       ]
      },
      {
       "output_type": "stream",
       "stream": "stdout",
       "text": [
        "\n",
        "(282, 8)\n",
        "retrieved 500 results for anonymous operation safe winter"
       ]
      },
      {
       "output_type": "stream",
       "stream": "stdout",
       "text": [
        "\n",
        "('anonymous operation safe winter', (500, 15))"
       ]
      },
      {
       "output_type": "stream",
       "stream": "stdout",
       "text": [
        "\n",
        "(500, 8)\n",
        "retrieved 480 results for anonymous operation maryville"
       ]
      },
      {
       "output_type": "stream",
       "stream": "stdout",
       "text": [
        "\n",
        "('anonymous operation maryville', (480, 14))"
       ]
      },
      {
       "output_type": "stream",
       "stream": "stdout",
       "text": [
        "\n",
        "(480, 8)\n",
        "retrieved 386 results for anonymous operation green rights"
       ]
      },
      {
       "output_type": "stream",
       "stream": "stdout",
       "text": [
        "\n",
        "('anonymous operation green rights', (386, 15))"
       ]
      },
      {
       "output_type": "stream",
       "stream": "stdout",
       "text": [
        "\n",
        "(386, 8)\n",
        "retrieved 500 results for anonymous operation fullerton"
       ]
      },
      {
       "output_type": "stream",
       "stream": "stdout",
       "text": [
        "\n",
        "('anonymous operation fullerton', (500, 15))"
       ]
      },
      {
       "output_type": "stream",
       "stream": "stdout",
       "text": [
        "\n",
        "(500, 8)\n",
        "retrieved 477 results for anonymous operation american spring"
       ]
      },
      {
       "output_type": "stream",
       "stream": "stdout",
       "text": [
        "\n",
        "('anonymous operation american spring', (477, 14))"
       ]
      },
      {
       "output_type": "stream",
       "stream": "stdout",
       "text": [
        "\n",
        "(477, 8)\n"
       ]
      }
     ],
     "prompt_number": 71
    },
    {
     "cell_type": "markdown",
     "metadata": {},
     "source": [
      "Run all the same queries with 'mirror' as well. This might help address the unpredictability of the Youtube search results and its 'denial of search results'. So, we undertake a 'supply of service' approach here. "
     ]
    },
    {
     "cell_type": "code",
     "collapsed": true,
     "input": [
      "## run the same operations with 'mirror'\n",
      "\n",
      "\n",
      "\n",
      "for op in operations_mirror:\n",
      "    df  = yt.youtube_search(op,1000, True)\n",
      "    df['operation'] = op\n",
      "    df_ops = df_ops.append(df)\n"
     ],
     "language": "python",
     "metadata": {},
     "outputs": [
      {
       "output_type": "stream",
       "stream": "stdout",
       "text": [
        "retrieved 8 results for anonymous operation habbo mirror\n",
        "('anonymous operation habbo mirror', (8, 13))"
       ]
      },
      {
       "output_type": "stream",
       "stream": "stdout",
       "text": [
        "\n",
        "(8, 8)\n",
        "retrieved 6 results for anonymous operation hal turner mirror"
       ]
      },
      {
       "output_type": "stream",
       "stream": "stdout",
       "text": [
        "\n",
        "('anonymous operation hal turner mirror', (6, 13))"
       ]
      },
      {
       "output_type": "stream",
       "stream": "stdout",
       "text": [
        "\n",
        "(6, 8)\n",
        "retrieved 4 results for anonymous operation chris forcand mirror"
       ]
      },
      {
       "output_type": "stream",
       "stream": "stdout",
       "text": [
        "\n",
        "('anonymous operation chris forcand mirror', (4, 13))"
       ]
      },
      {
       "output_type": "stream",
       "stream": "stdout",
       "text": [
        "\n",
        "(4, 8)\n",
        "retrieved 229 results for anonymous operation chanology mirror"
       ]
      },
      {
       "output_type": "stream",
       "stream": "stdout",
       "text": [
        "\n",
        "('anonymous operation chanology mirror', (229, 14))"
       ]
      },
      {
       "output_type": "stream",
       "stream": "stdout",
       "text": [
        "\n",
        "(229, 8)\n",
        "retrieved 13 results for anonymous operation palin mirror"
       ]
      },
      {
       "output_type": "stream",
       "stream": "stdout",
       "text": [
        "\n",
        "('anonymous operation palin mirror', (13, 13))"
       ]
      },
      {
       "output_type": "stream",
       "stream": "stdout",
       "text": [
        "\n",
        "(13, 8)\n",
        "retrieved 245 results for anonymous operation iran mirror"
       ]
      },
      {
       "output_type": "stream",
       "stream": "stdout",
       "text": [
        "\n",
        "('anonymous operation iran mirror', (245, 13))"
       ]
      },
      {
       "output_type": "stream",
       "stream": "stdout",
       "text": [
        "\n",
        "(245, 8)\n",
        "retrieved 0 results for anonymous operation didgeridie mirror"
       ]
      },
      {
       "output_type": "stream",
       "stream": "stdout",
       "text": [
        "\n",
        "retrieved 10 results for anonymous operation titstorm mirror"
       ]
      },
      {
       "output_type": "stream",
       "stream": "stdout",
       "text": [
        "\n",
        "('anonymous operation titstorm mirror', (10, 14))"
       ]
      },
      {
       "output_type": "stream",
       "stream": "stdout",
       "text": [
        "\n",
        "(10, 8)\n",
        "retrieved 45 results for anonymous operation tea party mirror"
       ]
      },
      {
       "output_type": "stream",
       "stream": "stdout",
       "text": [
        "\n",
        "('anonymous operation tea party mirror', (45, 13))"
       ]
      },
      {
       "output_type": "stream",
       "stream": "stdout",
       "text": [
        "\n",
        "(45, 8)\n",
        "retrieved 248 results for anonymous operation payback mirror"
       ]
      },
      {
       "output_type": "stream",
       "stream": "stdout",
       "text": [
        "\n",
        "('anonymous operation payback mirror', (248, 14))"
       ]
      },
      {
       "output_type": "stream",
       "stream": "stdout",
       "text": [
        "\n",
        "(248, 8)\n",
        "retrieved 473 results for anonymous operation wikileaks mirror"
       ]
      },
      {
       "output_type": "stream",
       "stream": "stdout",
       "text": [
        "\n",
        "('anonymous operation wikileaks mirror', (473, 14))"
       ]
      },
      {
       "output_type": "stream",
       "stream": "stdout",
       "text": [
        "\n",
        "(473, 8)\n",
        "retrieved 202 results for anonymous operation assange mirror"
       ]
      },
      {
       "output_type": "stream",
       "stream": "stdout",
       "text": [
        "\n",
        "('anonymous operation assange mirror', (202, 14))"
       ]
      },
      {
       "output_type": "stream",
       "stream": "stdout",
       "text": [
        "\n",
        "(202, 8)\n",
        "retrieved 117 results for anonymous operation leakspin mirror"
       ]
      },
      {
       "output_type": "stream",
       "stream": "stdout",
       "text": [
        "\n",
        "('anonymous operation leakspin mirror', (117, 14))"
       ]
      },
      {
       "output_type": "stream",
       "stream": "stdout",
       "text": [
        "\n",
        "(117, 8)\n",
        "retrieved 39 results for anonymous operation visa mirror"
       ]
      },
      {
       "output_type": "stream",
       "stream": "stdout",
       "text": [
        "\n",
        "('anonymous operation visa mirror', (39, 14))"
       ]
      },
      {
       "output_type": "stream",
       "stream": "stdout",
       "text": [
        "\n",
        "(39, 8)\n",
        "retrieved 45 results for anonymous operation mastercard mirror"
       ]
      },
      {
       "output_type": "stream",
       "stream": "stdout",
       "text": [
        "\n",
        "('anonymous operation mastercard mirror', (45, 14))"
       ]
      },
      {
       "output_type": "stream",
       "stream": "stdout",
       "text": [
        "\n",
        "(45, 8)\n",
        "retrieved 73 results for anonymous operation paypal mirror"
       ]
      },
      {
       "output_type": "stream",
       "stream": "stdout",
       "text": [
        "\n",
        "('anonymous operation paypal mirror', (73, 14))"
       ]
      },
      {
       "output_type": "stream",
       "stream": "stdout",
       "text": [
        "\n",
        "(73, 8)\n",
        "retrieved 78 results for anonymous operation tunisia mirror"
       ]
      },
      {
       "output_type": "stream",
       "stream": "stdout",
       "text": [
        "\n",
        "('anonymous operation tunisia mirror', (78, 15))"
       ]
      },
      {
       "output_type": "stream",
       "stream": "stdout",
       "text": [
        "\n",
        "(78, 8)\n",
        "retrieved 133 results for anonymous operation egypt mirror"
       ]
      },
      {
       "output_type": "stream",
       "stream": "stdout",
       "text": [
        "\n",
        "('anonymous operation egypt mirror', (133, 15))"
       ]
      },
      {
       "output_type": "stream",
       "stream": "stdout",
       "text": [
        "\n",
        "(133, 8)\n",
        "retrieved 97 results for anonymous operation libya mirror"
       ]
      },
      {
       "output_type": "stream",
       "stream": "stdout",
       "text": [
        "\n",
        "('anonymous operation libya mirror', (97, 13))"
       ]
      },
      {
       "output_type": "stream",
       "stream": "stdout",
       "text": [
        "\n",
        "(97, 8)\n",
        "retrieved 40 results for anonymous operation hbgary mirror"
       ]
      },
      {
       "output_type": "stream",
       "stream": "stdout",
       "text": [
        "\n",
        "('anonymous operation hbgary mirror', (40, 13))"
       ]
      },
      {
       "output_type": "stream",
       "stream": "stdout",
       "text": [
        "\n",
        "(40, 8)\n",
        "retrieved 62 results for anonymous operation empire state mirror"
       ]
      },
      {
       "output_type": "stream",
       "stream": "stdout",
       "text": [
        "\n",
        "('anonymous operation empire state mirror', (62, 14))"
       ]
      },
      {
       "output_type": "stream",
       "stream": "stdout",
       "text": [
        "\n",
        "(62, 8)\n",
        "retrieved 182 results for anonymous operation sony mirror"
       ]
      },
      {
       "output_type": "stream",
       "stream": "stdout",
       "text": [
        "\n",
        "('anonymous operation sony mirror', (182, 14))"
       ]
      },
      {
       "output_type": "stream",
       "stream": "stdout",
       "text": [
        "\n",
        "(182, 8)\n",
        "retrieved 73 results for anonymous operation india mirror"
       ]
      },
      {
       "output_type": "stream",
       "stream": "stdout",
       "text": [
        "\n",
        "('anonymous operation india mirror', (73, 14))"
       ]
      },
      {
       "output_type": "stream",
       "stream": "stdout",
       "text": [
        "\n",
        "(73, 8)\n",
        "retrieved 27 results for anonymous operation malaysia mirror"
       ]
      },
      {
       "output_type": "stream",
       "stream": "stdout",
       "text": [
        "\n",
        "('anonymous operation malaysia mirror', (27, 14))"
       ]
      },
      {
       "output_type": "stream",
       "stream": "stdout",
       "text": [
        "\n",
        "(27, 8)\n",
        "retrieved 43 results for anonymous operation orlando mirror"
       ]
      },
      {
       "output_type": "stream",
       "stream": "stdout",
       "text": [
        "\n",
        "('anonymous operation orlando mirror', (43, 14))"
       ]
      },
      {
       "output_type": "stream",
       "stream": "stdout",
       "text": [
        "\n",
        "(43, 8)\n",
        "retrieved 171 results for anonymous operation antisec mirror"
       ]
      },
      {
       "output_type": "stream",
       "stream": "stdout",
       "text": [
        "\n",
        "('anonymous operation antisec mirror', (171, 14))"
       ]
      },
      {
       "output_type": "stream",
       "stream": "stdout",
       "text": [
        "\n",
        "(171, 8)\n",
        "retrieved 494 results for anonymous operation facebook mirror"
       ]
      },
      {
       "output_type": "stream",
       "stream": "stdout",
       "text": [
        "\n",
        "('anonymous operation facebook mirror', (494, 15))"
       ]
      },
      {
       "output_type": "stream",
       "stream": "stdout",
       "text": [
        "\n",
        "(494, 8)\n",
        "retrieved 100 results for anonymous operation bart mirror"
       ]
      },
      {
       "output_type": "stream",
       "stream": "stdout",
       "text": [
        "\n",
        "('anonymous operation bart mirror', (100, 14))"
       ]
      },
      {
       "output_type": "stream",
       "stream": "stdout",
       "text": [
        "\n",
        "(100, 8)\n",
        "retrieved 25 results for anonymous operation shooting sheriffs mirror"
       ]
      },
      {
       "output_type": "stream",
       "stream": "stdout",
       "text": [
        "\n",
        "('anonymous operation shooting sheriffs mirror', (25, 13))"
       ]
      },
      {
       "output_type": "stream",
       "stream": "stdout",
       "text": [
        "\n",
        "(25, 8)\n",
        "retrieved 493 results for anonymous operation wall street mirror"
       ]
      },
      {
       "output_type": "stream",
       "stream": "stdout",
       "text": [
        "\n",
        "('anonymous operation wall street mirror', (493, 14))"
       ]
      },
      {
       "output_type": "stream",
       "stream": "stdout",
       "text": [
        "\n",
        "(493, 8)\n",
        "retrieved 370 results for anonymous operation syria mirror"
       ]
      },
      {
       "output_type": "stream",
       "stream": "stdout",
       "text": [
        "\n",
        "('anonymous operation syria mirror', (370, 14))"
       ]
      },
      {
       "output_type": "stream",
       "stream": "stdout",
       "text": [
        "\n",
        "(370, 8)\n",
        "retrieved 49 results for anonymous operation darknet mirror"
       ]
      },
      {
       "output_type": "stream",
       "stream": "stdout",
       "text": [
        "\n",
        "('anonymous operation darknet mirror', (49, 13))"
       ]
      },
      {
       "output_type": "stream",
       "stream": "stdout",
       "text": [
        "\n",
        "(49, 8)\n",
        "retrieved 14 results for anonymous operation los zetas mirror"
       ]
      },
      {
       "output_type": "stream",
       "stream": "stdout",
       "text": [
        "\n",
        "('anonymous operation los zetas mirror', (14, 13))"
       ]
      },
      {
       "output_type": "stream",
       "stream": "stdout",
       "text": [
        "\n",
        "(14, 8)\n",
        "retrieved 46 results for anonymous operation brotherhood takedown mirror"
       ]
      },
      {
       "output_type": "stream",
       "stream": "stdout",
       "text": [
        "\n",
        "('anonymous operation brotherhood takedown mirror', (46, 13))"
       ]
      },
      {
       "output_type": "stream",
       "stream": "stdout",
       "text": [
        "\n",
        "(46, 8)\n",
        "retrieved 228 results for anonymous operation megaupload mirror"
       ]
      },
      {
       "output_type": "stream",
       "stream": "stdout",
       "text": [
        "\n",
        "('anonymous operation megaupload mirror', (228, 14))"
       ]
      },
      {
       "output_type": "stream",
       "stream": "stdout",
       "text": [
        "\n",
        "(228, 8)\n",
        "retrieved 123 results for anonymous operation black march mirror"
       ]
      },
      {
       "output_type": "stream",
       "stream": "stdout",
       "text": [
        "\n",
        "('anonymous operation black march mirror', (123, 14))"
       ]
      },
      {
       "output_type": "stream",
       "stream": "stdout",
       "text": [
        "\n",
        "(123, 8)\n",
        "retrieved 494 results for anonymous operation acta mirror"
       ]
      },
      {
       "output_type": "stream",
       "stream": "stdout",
       "text": [
        "\n",
        "('anonymous operation acta mirror', (494, 14))"
       ]
      },
      {
       "output_type": "stream",
       "stream": "stdout",
       "text": [
        "\n",
        "(494, 8)\n",
        "retrieved 239 results for anonymous operation pipa mirror"
       ]
      },
      {
       "output_type": "stream",
       "stream": "stdout",
       "text": [
        "\n",
        "('anonymous operation pipa mirror', (239, 14))"
       ]
      },
      {
       "output_type": "stream",
       "stream": "stdout",
       "text": [
        "\n",
        "(239, 8)\n",
        "retrieved 485 results for anonymous operation sopa mirror"
       ]
      },
      {
       "output_type": "stream",
       "stream": "stdout",
       "text": [
        "\n",
        "('anonymous operation sopa mirror', (485, 15))"
       ]
      },
      {
       "output_type": "stream",
       "stream": "stdout",
       "text": [
        "\n",
        "(485, 8)\n",
        "retrieved 469 results for anonymous operation blackout mirror"
       ]
      },
      {
       "output_type": "stream",
       "stream": "stdout",
       "text": [
        "\n",
        "('anonymous operation blackout mirror', (469, 15))"
       ]
      },
      {
       "output_type": "stream",
       "stream": "stdout",
       "text": [
        "\n",
        "(469, 8)\n",
        "retrieved 66 results for anonymous operation kony mirror"
       ]
      },
      {
       "output_type": "stream",
       "stream": "stdout",
       "text": [
        "\n",
        "('anonymous operation kony mirror', (66, 14))"
       ]
      },
      {
       "output_type": "stream",
       "stream": "stdout",
       "text": [
        "\n",
        "(66, 8)\n",
        "retrieved 98 results for anonymous operation greece mirror"
       ]
      },
      {
       "output_type": "stream",
       "stream": "stdout",
       "text": [
        "\n",
        "('anonymous operation greece mirror', (98, 14))"
       ]
      },
      {
       "output_type": "stream",
       "stream": "stdout",
       "text": [
        "\n",
        "(98, 8)\n",
        "retrieved 24 results for anonymous operation quebec mirror"
       ]
      },
      {
       "output_type": "stream",
       "stream": "stdout",
       "text": [
        "\n",
        "('anonymous operation quebec mirror', (24, 13))"
       ]
      },
      {
       "output_type": "stream",
       "stream": "stdout",
       "text": [
        "\n",
        "(24, 8)\n",
        "retrieved 106 results for anonymous operation japan mirror"
       ]
      },
      {
       "output_type": "stream",
       "stream": "stdout",
       "text": [
        "\n",
        "('anonymous operation japan mirror', (106, 13))"
       ]
      },
      {
       "output_type": "stream",
       "stream": "stdout",
       "text": [
        "\n",
        "(106, 8)\n",
        "retrieved 28 results for anonymous operation blitzkrieg mirror"
       ]
      },
      {
       "output_type": "stream",
       "stream": "stdout",
       "text": [
        "\n",
        "('anonymous operation blitzkrieg mirror', (28, 14))"
       ]
      },
      {
       "output_type": "stream",
       "stream": "stdout",
       "text": [
        "\n",
        "(28, 8)\n",
        "retrieved 18 results for anonymous operation anaheim mirror"
       ]
      },
      {
       "output_type": "stream",
       "stream": "stdout",
       "text": [
        "\n",
        "('anonymous operation anaheim mirror', (18, 13))"
       ]
      },
      {
       "output_type": "stream",
       "stream": "stdout",
       "text": [
        "\n",
        "(18, 8)\n",
        "retrieved 29 results for anonymous operation steubenville mirror"
       ]
      },
      {
       "output_type": "stream",
       "stream": "stdout",
       "text": [
        "\n",
        "('anonymous operation steubenville mirror', (29, 13))"
       ]
      },
      {
       "output_type": "stream",
       "stream": "stdout",
       "text": [
        "\n",
        "(29, 8)\n",
        "retrieved 49 results for anonymous operation darknet mirror"
       ]
      },
      {
       "output_type": "stream",
       "stream": "stdout",
       "text": [
        "\n",
        "('anonymous operation darknet mirror', (49, 13))"
       ]
      },
      {
       "output_type": "stream",
       "stream": "stdout",
       "text": [
        "\n",
        "(49, 8)\n",
        "retrieved 110 results for anonymous operation paperstorm mirror"
       ]
      },
      {
       "output_type": "stream",
       "stream": "stdout",
       "text": [
        "\n",
        "('anonymous operation paperstorm mirror', (110, 14))"
       ]
      },
      {
       "output_type": "stream",
       "stream": "stdout",
       "text": [
        "\n",
        "(110, 8)\n",
        "retrieved 62 results for anonymous operation aaron swartz mirror"
       ]
      },
      {
       "output_type": "stream",
       "stream": "stdout",
       "text": [
        "\n",
        "('anonymous operation aaron swartz mirror', (62, 13))"
       ]
      },
      {
       "output_type": "stream",
       "stream": "stdout",
       "text": [
        "\n",
        "(62, 8)\n",
        "retrieved 162 results for anonymous operation federal reserve mirror"
       ]
      },
      {
       "output_type": "stream",
       "stream": "stdout",
       "text": [
        "\n",
        "('anonymous operation federal reserve mirror', (162, 14))"
       ]
      },
      {
       "output_type": "stream",
       "stream": "stdout",
       "text": [
        "\n",
        "(162, 8)\n",
        "retrieved 63 results for anonymous operation north korea mirror"
       ]
      },
      {
       "output_type": "stream",
       "stream": "stdout",
       "text": [
        "\n",
        "('anonymous operation north korea mirror', (63, 14))"
       ]
      },
      {
       "output_type": "stream",
       "stream": "stdout",
       "text": [
        "\n",
        "(63, 8)\n",
        "retrieved 215 results for anonymous operation israel mirror"
       ]
      },
      {
       "output_type": "stream",
       "stream": "stdout",
       "text": [
        "\n",
        "('anonymous operation israel mirror', (215, 14))"
       ]
      },
      {
       "output_type": "stream",
       "stream": "stdout",
       "text": [
        "\n",
        "(215, 8)\n",
        "retrieved 107 results for anonymous operation last resort mirror"
       ]
      },
      {
       "output_type": "stream",
       "stream": "stdout",
       "text": [
        "\n",
        "('anonymous operation last resort mirror', (107, 14))"
       ]
      },
      {
       "output_type": "stream",
       "stream": "stdout",
       "text": [
        "\n",
        "(107, 8)\n",
        "retrieved 499 results for anonymous operation vendetta mirror"
       ]
      },
      {
       "output_type": "stream",
       "stream": "stdout",
       "text": [
        "\n",
        "('anonymous operation vendetta mirror', (499, 14))"
       ]
      },
      {
       "output_type": "stream",
       "stream": "stdout",
       "text": [
        "\n",
        "(499, 8)\n",
        "retrieved 151 results for anonymous operation cispa mirror"
       ]
      },
      {
       "output_type": "stream",
       "stream": "stdout",
       "text": [
        "\n",
        "('anonymous operation cispa mirror', (151, 14))"
       ]
      },
      {
       "output_type": "stream",
       "stream": "stdout",
       "text": [
        "\n",
        "(151, 8)\n",
        "retrieved 320 results for anonymous operation NSA mirror"
       ]
      },
      {
       "output_type": "stream",
       "stream": "stdout",
       "text": [
        "\n",
        "('anonymous operation NSA mirror', (320, 14))"
       ]
      },
      {
       "output_type": "stream",
       "stream": "stdout",
       "text": [
        "\n",
        "(320, 8)\n",
        "retrieved 466 results for anonymous operation american freedom mirror"
       ]
      },
      {
       "output_type": "stream",
       "stream": "stdout",
       "text": [
        "\n",
        "('anonymous operation american freedom mirror', (466, 14))"
       ]
      },
      {
       "output_type": "stream",
       "stream": "stdout",
       "text": [
        "\n",
        "(466, 8)\n",
        "retrieved 91 results for anonymous operation big brother mirror"
       ]
      },
      {
       "output_type": "stream",
       "stream": "stdout",
       "text": [
        "\n",
        "('anonymous operation big brother mirror', (91, 13))"
       ]
      },
      {
       "output_type": "stream",
       "stream": "stdout",
       "text": [
        "\n",
        "(91, 8)\n",
        "retrieved 500 results for anonymous operation V mirror"
       ]
      },
      {
       "output_type": "stream",
       "stream": "stdout",
       "text": [
        "\n",
        "('anonymous operation V mirror', (500, 15))"
       ]
      },
      {
       "output_type": "stream",
       "stream": "stdout",
       "text": [
        "\n",
        "(500, 8)\n",
        "retrieved 454 results for anonymous operation westboro baptist church mirror"
       ]
      },
      {
       "output_type": "stream",
       "stream": "stdout",
       "text": [
        "\n",
        "('anonymous operation westboro baptist church mirror', (454, 15))"
       ]
      },
      {
       "output_type": "stream",
       "stream": "stdout",
       "text": [
        "\n",
        "(454, 8)\n",
        "retrieved 38 results for anonymous operation support snowden mirror"
       ]
      },
      {
       "output_type": "stream",
       "stream": "stdout",
       "text": [
        "\n",
        "('anonymous operation support snowden mirror', (38, 14))"
       ]
      },
      {
       "output_type": "stream",
       "stream": "stdout",
       "text": [
        "\n",
        "(38, 8)\n",
        "retrieved 3 results for anonymous operation kiwi freedom mirror"
       ]
      },
      {
       "output_type": "stream",
       "stream": "stdout",
       "text": [
        "\n",
        "('anonymous operation kiwi freedom mirror', (3, 13))"
       ]
      },
      {
       "output_type": "stream",
       "stream": "stdout",
       "text": [
        "\n",
        "(3, 8)\n",
        "retrieved 282 results for anonymous operation world bank mirror"
       ]
      },
      {
       "output_type": "stream",
       "stream": "stdout",
       "text": [
        "\n",
        "('anonymous operation world bank mirror', (282, 14))"
       ]
      },
      {
       "output_type": "stream",
       "stream": "stdout",
       "text": [
        "\n",
        "(282, 8)\n",
        "retrieved 368 results for anonymous operation awake the masses mirror"
       ]
      },
      {
       "output_type": "stream",
       "stream": "stdout",
       "text": [
        "\n",
        "('anonymous operation awake the masses mirror', (368, 14))"
       ]
      },
      {
       "output_type": "stream",
       "stream": "stdout",
       "text": [
        "\n",
        "(368, 8)\n",
        "retrieved 134 results for anonymous operation cannabis mirror"
       ]
      },
      {
       "output_type": "stream",
       "stream": "stdout",
       "text": [
        "\n",
        "('anonymous operation cannabis mirror', (134, 14))"
       ]
      },
      {
       "output_type": "stream",
       "stream": "stdout",
       "text": [
        "\n",
        "(134, 8)\n",
        "retrieved 5 results for anonymous operation rohingya mirror"
       ]
      },
      {
       "output_type": "stream",
       "stream": "stdout",
       "text": [
        "\n",
        "('anonymous operation rohingya mirror', (5, 13))"
       ]
      },
      {
       "output_type": "stream",
       "stream": "stdout",
       "text": [
        "\n",
        "(5, 8)\n",
        "retrieved 5 results for anonymous operation rose awareness mirror"
       ]
      },
      {
       "output_type": "stream",
       "stream": "stdout",
       "text": [
        "\n",
        "('anonymous operation rose awareness mirror', (5, 13))"
       ]
      },
      {
       "output_type": "stream",
       "stream": "stdout",
       "text": [
        "\n",
        "(5, 8)\n",
        "retrieved 25 results for anonymous operation rebuild the hive mirror"
       ]
      },
      {
       "output_type": "stream",
       "stream": "stdout",
       "text": [
        "\n",
        "('anonymous operation rebuild the hive mirror', (25, 14))"
       ]
      },
      {
       "output_type": "stream",
       "stream": "stdout",
       "text": [
        "\n",
        "(25, 8)\n",
        "retrieved 27 results for anonymous operation bahrain mirror"
       ]
      },
      {
       "output_type": "stream",
       "stream": "stdout",
       "text": [
        "\n",
        "('anonymous operation bahrain mirror', (27, 13))"
       ]
      },
      {
       "output_type": "stream",
       "stream": "stdout",
       "text": [
        "\n",
        "(27, 8)\n",
        "retrieved 87 results for anonymous operation ukraine mirror"
       ]
      },
      {
       "output_type": "stream",
       "stream": "stdout",
       "text": [
        "\n",
        "('anonymous operation ukraine mirror', (87, 13))"
       ]
      },
      {
       "output_type": "stream",
       "stream": "stdout",
       "text": [
        "\n",
        "(87, 8)\n",
        "retrieved 47 results for anonymous operation pirate bay mirror"
       ]
      },
      {
       "output_type": "stream",
       "stream": "stdout",
       "text": [
        "\n",
        "('anonymous operation pirate bay mirror', (47, 14))"
       ]
      },
      {
       "output_type": "stream",
       "stream": "stdout",
       "text": [
        "\n",
        "(47, 8)\n",
        "retrieved 10 results for anonymous operation petrol mirror"
       ]
      },
      {
       "output_type": "stream",
       "stream": "stdout",
       "text": [
        "\n",
        "('anonymous operation petrol mirror', (10, 13))"
       ]
      },
      {
       "output_type": "stream",
       "stream": "stdout",
       "text": [
        "\n",
        "(10, 8)\n",
        "retrieved 26 results for anonymous operation ele mirror"
       ]
      },
      {
       "output_type": "stream",
       "stream": "stdout",
       "text": [
        "\n",
        "('anonymous operation ele mirror', (26, 14))"
       ]
      },
      {
       "output_type": "stream",
       "stream": "stdout",
       "text": [
        "\n",
        "(26, 8)\n",
        "retrieved 20 results for anonymous operation guantanamo bay mirror"
       ]
      },
      {
       "output_type": "stream",
       "stream": "stdout",
       "text": [
        "\n",
        "('anonymous operation guantanamo bay mirror', (20, 13))"
       ]
      },
      {
       "output_type": "stream",
       "stream": "stdout",
       "text": [
        "\n",
        "(20, 8)\n",
        "retrieved 32 results for anonymous operation safe winter mirror"
       ]
      },
      {
       "output_type": "stream",
       "stream": "stdout",
       "text": [
        "\n",
        "('anonymous operation safe winter mirror', (32, 13))"
       ]
      },
      {
       "output_type": "stream",
       "stream": "stdout",
       "text": [
        "\n",
        "(32, 8)\n",
        "retrieved 6 results for anonymous operation maryville mirror"
       ]
      },
      {
       "output_type": "stream",
       "stream": "stdout",
       "text": [
        "\n",
        "('anonymous operation maryville mirror', (6, 13))"
       ]
      },
      {
       "output_type": "stream",
       "stream": "stdout",
       "text": [
        "\n",
        "(6, 8)\n",
        "retrieved 22 results for anonymous operation green rights mirror"
       ]
      },
      {
       "output_type": "stream",
       "stream": "stdout",
       "text": [
        "\n",
        "('anonymous operation green rights mirror', (22, 13))"
       ]
      },
      {
       "output_type": "stream",
       "stream": "stdout",
       "text": [
        "\n",
        "(22, 8)\n",
        "retrieved 47 results for anonymous operation fullerton mirror"
       ]
      },
      {
       "output_type": "stream",
       "stream": "stdout",
       "text": [
        "\n",
        "('anonymous operation fullerton mirror', (47, 14))"
       ]
      },
      {
       "output_type": "stream",
       "stream": "stdout",
       "text": [
        "\n",
        "(47, 8)\n",
        "retrieved 301 results for anonymous operation american spring mirror"
       ]
      },
      {
       "output_type": "stream",
       "stream": "stdout",
       "text": [
        "\n",
        "('anonymous operation american spring mirror', (301, 14))"
       ]
      },
      {
       "output_type": "stream",
       "stream": "stdout",
       "text": [
        "\n",
        "(301, 8)\n",
        "retrieved 4 results for anonymous operation hunthunter mirror"
       ]
      },
      {
       "output_type": "stream",
       "stream": "stdout",
       "text": [
        "\n",
        "('anonymous operation hunthunter mirror', (4, 12))"
       ]
      },
      {
       "output_type": "stream",
       "stream": "stdout",
       "text": [
        "\n",
        "(4, 8)\n"
       ]
      }
     ],
     "prompt_number": 9
    },
    {
     "cell_type": "code",
     "collapsed": false,
     "input": [
      "df  = yt.youtube_search(operations[-1],1000, True)\n",
      "df['operation'] = operations[-1]\n",
      "df_ops = df_ops.append(df)"
     ],
     "language": "python",
     "metadata": {},
     "outputs": [
      {
       "output_type": "stream",
       "stream": "stdout",
       "text": [
        "retrieved 460 results for anonymous project mayhem\n",
        "('anonymous project mayhem', (460, 14))"
       ]
      },
      {
       "output_type": "stream",
       "stream": "stdout",
       "text": [
        "\n",
        "(460, 8)\n"
       ]
      }
     ],
     "prompt_number": 25
    },
    {
     "cell_type": "code",
     "collapsed": false,
     "input": [
      "df  = yt.youtube_search(operations_mirror[-1],1000, True)\n",
      "df['operation'] = operations_mirror[-1]\n",
      "df_ops = df_ops.append(df)"
     ],
     "language": "python",
     "metadata": {},
     "outputs": [
      {
       "output_type": "stream",
       "stream": "stdout",
       "text": [
        "retrieved 490 results for anonymous project mayhem mirror\n",
        "('anonymous project mayhem mirror', (490, 15))"
       ]
      },
      {
       "output_type": "stream",
       "stream": "stdout",
       "text": [
        "\n",
        "(490, 8)\n"
       ]
      }
     ],
     "prompt_number": 27
    },
    {
     "cell_type": "code",
     "collapsed": false,
     "input": [
      "print ('overall video details:' + str(df_ops.shape))"
     ],
     "language": "python",
     "metadata": {},
     "outputs": [
      {
       "output_type": "stream",
       "stream": "stdout",
       "text": [
        "overall video details:(18444, 23)\n"
       ]
      }
     ],
     "prompt_number": 28
    },
    {
     "cell_type": "markdown",
     "metadata": {},
     "source": [
      "## Save and read data for offline use\n",
      "\n",
      "Don't want to run the queries every time, so saving them locally. "
     ]
    },
    {
     "cell_type": "code",
     "collapsed": false,
     "input": [
      "# local save  -- around 25Mb\n",
      "df_ops.to_pickle('data/operations_results.pyd')"
     ],
     "language": "python",
     "metadata": {},
     "outputs": [],
     "prompt_number": 32
    },
    {
     "cell_type": "code",
     "collapsed": false,
     "input": [
      "ops_df = pd.read_pickle('data/operations_results.pyd')"
     ],
     "language": "python",
     "metadata": {},
     "outputs": [],
     "prompt_number": 3
    },
    {
     "cell_type": "code",
     "collapsed": false,
     "input": [
      "print('Dataset has %d rows'% ops_df.shape[0])"
     ],
     "language": "python",
     "metadata": {},
     "outputs": [
      {
       "output_type": "stream",
       "stream": "stdout",
       "text": [
        "Dataset has 57936 rows\n"
       ]
      }
     ],
     "prompt_number": 4
    },
    {
     "cell_type": "markdown",
     "metadata": {},
     "source": [
      "## Dealing with the duplicates and finding mirrors in Youtube search results\n",
      "\n",
      "We have run searches on Youtube that yield many results. But given that we are trying to look at 'mirroring,' how do we know whether a given result is a _duplicate_ produced by our overlapping search queries or an actual _mirror_? We need to get ride of duplicate search query results and then identify mirror results"
     ]
    },
    {
     "cell_type": "code",
     "collapsed": false,
     "input": [
      "ops_df.columns"
     ],
     "language": "python",
     "metadata": {},
     "outputs": [
      {
       "metadata": {},
       "output_type": "pyout",
       "prompt_number": 5,
       "text": [
        "Index([u'caption', u'channelId', u'channelTitle', u'commentCount', u'contentRating', u'definition', u'description', u'dimension', u'dislikeCount', u'duration', u'favoriteCount', u'licensedContent', u'likeCount', u'liveBroadcastContent', u'operation', u'publishedAt', u'regionRestriction', u'relevantTopicIds', u'thumbnails', u'title', u'topicIds', u'videoId', u'viewCount'], dtype='object')"
       ]
      }
     ],
     "prompt_number": 5
    },
    {
     "cell_type": "markdown",
     "metadata": {},
     "source": [
      "The columns that separate duplicates are\n",
      "\n",
      "1. publishedAt\n",
      "2. videoId\n",
      "\n",
      "If two results are published at the same time, and have the same videoID, we assume they are duplicates. We can drop these from the dataset. \n",
      "n.b. If Youtube itself aggregates mirrored copies to a single videoID as part of its content management, we have a slight problem. But presumably the publication dates of mirrors would still be different. "
     ]
    },
    {
     "cell_type": "code",
     "collapsed": false,
     "input": [
      "ops_no_dups = ops_df.drop_duplicates(cols = ['publishedAt', 'videoId'])\n",
      "print('None duplicated results: %d' % ops_no_dups.shape[0])"
     ],
     "language": "python",
     "metadata": {},
     "outputs": [
      {
       "output_type": "stream",
       "stream": "stdout",
       "text": [
        "None duplicated results: 26477\n"
       ]
      }
     ],
     "prompt_number": 6
    },
    {
     "cell_type": "code",
     "collapsed": false,
     "input": [
      "ops_no_dups.head()"
     ],
     "language": "python",
     "metadata": {},
     "outputs": [
      {
       "html": [
        "<div style=\"max-height:1000px;max-width:1500px;overflow:auto;\">\n",
        "<table border=\"1\" class=\"dataframe\">\n",
        "  <thead>\n",
        "    <tr style=\"text-align: right;\">\n",
        "      <th></th>\n",
        "      <th>caption</th>\n",
        "      <th>channelId</th>\n",
        "      <th>channelTitle</th>\n",
        "      <th>commentCount</th>\n",
        "      <th>contentRating</th>\n",
        "      <th>definition</th>\n",
        "      <th></th>\n",
        "    </tr>\n",
        "  </thead>\n",
        "  <tbody>\n",
        "    <tr>\n",
        "      <th>0 </th>\n",
        "      <td> false</td>\n",
        "      <td> UCIWTswhrKzualx_lctljxIQ</td>\n",
        "      <td>               </td>\n",
        "      <td> 18</td>\n",
        "      <td> NaN</td>\n",
        "      <td> hd</td>\n",
        "      <td>...</td>\n",
        "    </tr>\n",
        "    <tr>\n",
        "      <th>4 </th>\n",
        "      <td> false</td>\n",
        "      <td> UCqzEDEKJ93zP44nM-c2p6lA</td>\n",
        "      <td> HabboNewsFlash</td>\n",
        "      <td>  0</td>\n",
        "      <td> NaN</td>\n",
        "      <td> hd</td>\n",
        "      <td>...</td>\n",
        "    </tr>\n",
        "    <tr>\n",
        "      <th>8 </th>\n",
        "      <td> false</td>\n",
        "      <td> UC6Z4I5naM4lJiAGnO1FKjhA</td>\n",
        "      <td>    Sp00ndotcom</td>\n",
        "      <td>  2</td>\n",
        "      <td> NaN</td>\n",
        "      <td> sd</td>\n",
        "      <td>...</td>\n",
        "    </tr>\n",
        "    <tr>\n",
        "      <th>12</th>\n",
        "      <td> false</td>\n",
        "      <td> UCDuWnJRkEJ4w61_5vnLa1qg</td>\n",
        "      <td>   AnonymousOHP</td>\n",
        "      <td>  0</td>\n",
        "      <td> NaN</td>\n",
        "      <td> sd</td>\n",
        "      <td>...</td>\n",
        "    </tr>\n",
        "    <tr>\n",
        "      <th>16</th>\n",
        "      <td> false</td>\n",
        "      <td> UCn9pu-dwF0y0QfCd3dxvTsw</td>\n",
        "      <td>       XCIXNews</td>\n",
        "      <td>  2</td>\n",
        "      <td> NaN</td>\n",
        "      <td> sd</td>\n",
        "      <td>...</td>\n",
        "    </tr>\n",
        "  </tbody>\n",
        "</table>\n",
        "<p>5 rows \u00d7 23 columns</p>\n",
        "</div>"
       ],
       "metadata": {},
       "output_type": "pyout",
       "prompt_number": 7,
       "text": [
        "   caption                 channelId    channelTitle commentCount  \\\n",
        "0    false  UCIWTswhrKzualx_lctljxIQ                           18   \n",
        "4    false  UCqzEDEKJ93zP44nM-c2p6lA  HabboNewsFlash            0   \n",
        "8    false  UC6Z4I5naM4lJiAGnO1FKjhA     Sp00ndotcom            2   \n",
        "12   false  UCDuWnJRkEJ4w61_5vnLa1qg    AnonymousOHP            0   \n",
        "16   false  UCn9pu-dwF0y0QfCd3dxvTsw        XCIXNews            2   \n",
        "\n",
        "   contentRating definition      \n",
        "0            NaN         hd ...  \n",
        "4            NaN         hd ...  \n",
        "8            NaN         sd ...  \n",
        "12           NaN         sd ...  \n",
        "16           NaN         sd ...  \n",
        "\n",
        "[5 rows x 23 columns]"
       ]
      }
     ],
     "prompt_number": 7
    },
    {
     "cell_type": "markdown",
     "metadata": {},
     "source": [
      "## Identifying mirrors\n",
      "\n",
      "This leaves a dataset that has no duplicateresults (i.e rows). Finding mirrored videos is potentially harder. Trying to think this through:\n",
      "\n",
      "1. If durations are the same and the titles overlap, we probably have a mirror. The practical problem here is finding the overlapping titles. Slightly different wordings for titles will be hard to track. And what about people who completely drop the titles when they mirror? This requires some slightly clever matching. \n",
      "2. Conversely, distinguish videos that have the same title but are different videos. They will have different durations. Obviously descriptions, number of comments, etc, are likely to be different.\n",
      "3. decide which of the remain videos are Anonymous operations as opposed to media coverage, commentaries, reports, attacks, etc on Anonymous operations"
     ]
    },
    {
     "cell_type": "markdown",
     "metadata": {},
     "source": [
      "### Using titles to find duplicates"
     ]
    },
    {
     "cell_type": "code",
     "collapsed": false,
     "input": [
      "# this shows some of the problems\n",
      "ops = ops_no_dups\n",
      "\n",
      "# strip all the double spaces, and non-word characters \n",
      "print(ops.title.str.lower().str.strip().str.replace('\\\\W+', ' ').value_counts()[:20])\n",
      "print('\\n Videos with short titles\\n')\n",
      "print(ops[(ops.title.apply(len) < 4)]['title'])\n",
      "\n",
      "ops['title_clean'] = ops.title.str.lower().str.replace('\\\\W+', ' ').str.strip()"
     ],
     "language": "python",
     "metadata": {},
     "outputs": [
      {
       "output_type": "stream",
       "stream": "stdout",
       "text": [
        "anonymous                          175\n",
        "                                   102\n",
        "we are anonymous                    37\n",
        "anonymous operation last resort     36\n",
        "anonymous operation anti acta       35\n",
        "...\n",
        "anonymous operation revenge             19\n",
        "anonymous operation fullerton           19\n",
        "anonymous operation black march         18\n",
        "anonymous operation american freedom    18\n",
        "anonymous operation blackout            17\n",
        "anonymous operation defense cispa       17\n",
        "Length: 20, dtype: int64\n",
        "\n",
        " Videos with short titles\n",
        "\n",
        "353    4th\n",
        "464      8\n",
        "478    Srt\n",
        "245    Lab\n",
        "477      i\n",
        "...\n",
        "341      16\n",
        "309      10\n",
        "318       8\n",
        "70      CAR\n",
        "1044    PSA\n",
        "1059    She\n",
        "Name: title, Length: 20, dtype: object\n"
       ]
      },
      {
       "output_type": "stream",
       "stream": "stderr",
       "text": [
        "-c:9: SettingWithCopyWarning: A value is trying to be set on a copy of a slice from a DataFrame.\n",
        "Try using .loc[row_index,col_indexer] = value instead\n"
       ]
      }
     ],
     "prompt_number": 29
    },
    {
     "cell_type": "markdown",
     "metadata": {},
     "source": [
      "Some of the difficulties of finding mirrors start to appear here. We have around 100 videos with no title! 175 videos just called 'anonymous' -- what operation do they belong to, if any?\n",
      "\n",
      "The good news is that there are many cases where the standard 'Anonymous Operation X' pattern holds. We can work with those as long as we keep in mind that we are losing several hundred potential mirrors in the process."
     ]
    },
    {
     "cell_type": "code",
     "collapsed": false,
     "input": [
      "# the pure operations videos\n",
      "# videos that have the 'anonymous operation x' pattern\n",
      "ops_pure = ops.ix[ops.title_clean.str.contains('anonymous operation')]\n",
      "ops_pure.shape"
     ],
     "language": "python",
     "metadata": {},
     "outputs": [
      {
       "metadata": {},
       "output_type": "pyout",
       "prompt_number": 30,
       "text": [
        "(2863, 24)"
       ]
      }
     ],
     "prompt_number": 30
    },
    {
     "cell_type": "markdown",
     "metadata": {},
     "source": [
      "### Using durations to detect mirrors"
     ]
    },
    {
     "cell_type": "code",
     "collapsed": false,
     "input": [
      "# might be better to cross check with other fields such as duration, publishedAt, etc\n",
      "ops_pure = yt.format_durations(ops_pure)\n",
      "ops_pure.duration_second.value_counts().plot(kind='bar')"
     ],
     "language": "python",
     "metadata": {},
     "outputs": [
      {
       "metadata": {},
       "output_type": "pyout",
       "prompt_number": 88,
       "text": [
        "<matplotlib.axes.AxesSubplot at 0x24b53ad0>"
       ]
      },
      {
       "metadata": {},
       "output_type": "display_data",
       "png": "[encoded data removed]",
       "text": [
        "<matplotlib.figure.Figure at 0x2238f810>"
       ]
      }
     ],
     "prompt_number": 88
    },
    {
     "cell_type": "code",
     "collapsed": false,
     "input": [
      "ops_pure.duration_second.value_counts()"
     ],
     "language": "python",
     "metadata": {},
     "outputs": [
      {
       "metadata": {},
       "output_type": "pyout",
       "prompt_number": 89,
       "text": [
        "565    60\n",
        "152    58\n",
        "210    48\n",
        "211    46\n",
        "241    42\n",
        "...\n",
        "354     1\n",
        "358     1\n",
        "374     1\n",
        "410     1\n",
        "416     1\n",
        "1489    1\n",
        "Length: 375, dtype: int64"
       ]
      }
     ],
     "prompt_number": 89
    },
    {
     "cell_type": "markdown",
     "metadata": {},
     "source": [
      "This suggests that durations could be some help. There are 60 videos that are 565 secs, 58 that are 152 secs, etc. If titles have some match, and durations are close, then is that a mirror?"
     ]
    },
    {
     "cell_type": "code",
     "collapsed": false,
     "input": [
      "def mirror_match"
     ],
     "language": "python",
     "metadata": {},
     "outputs": []
    },
    {
     "cell_type": "markdown",
     "metadata": {},
     "source": [
      "## Quantifying mirroring on Anonymous\n",
      "\n",
      "This leaves us with a dataset of 2800 videos to look at. Bear in mind this does not include the videos that do not use the term 'operation'. But it does answer the initial question we had. For around 80 Anonymous operations, there are at least 2800 mirrors. \n"
     ]
    },
    {
     "cell_type": "code",
     "collapsed": false,
     "input": [
      "print('Most mirrored operations:\\n')\n",
      "print(ops_pure.title_clean.value_counts()[:10])"
     ],
     "language": "python",
     "metadata": {},
     "outputs": [
      {
       "output_type": "stream",
       "stream": "stdout",
       "text": [
        "Most mirrored operations:\n",
        "\n",
        "anonymous operation last resort                   38\n",
        "anonymous operation anti acta                     37\n",
        "anonymous operation black march                   34\n",
        "anonymous operation takedown november 5th 2012    33\n",
        "anonymous operation israel                        29\n",
        "anonymous operation facebook                      23\n",
        "anonymous operation unite                         22\n",
        "anonymous operation revenge                       21\n",
        "anonymous operation defense cispa                 20\n",
        "anonymous operation american freedom              19\n",
        "dtype: int64\n"
       ]
      }
     ],
     "prompt_number": 31
    },
    {
     "cell_type": "code",
     "collapsed": false,
     "input": [
      "print('Least mirrored operations:\\n')\n",
      "print(ops_pure.title_clean.value_counts()[-10:])"
     ],
     "language": "python",
     "metadata": {},
     "outputs": [
      {
       "output_type": "stream",
       "stream": "stdout",
       "text": [
        "Least mirrored operations:\n",
        "\n",
        "anonymous operation occupy wall street downplayed by cnn        1\n",
        "anonymous operation alsatia the next american revolution        1\n",
        "anonymous operation cash back november 5th 2011 press release 2    1\n",
        "anonymous operation mp4                                         1\n",
        "anonymous operation payback wikileaks acta laws message         1\n",
        "anonymous operation do not forgive bullies education of criminal bullies    1\n",
        "anonymous operation israel help gaza read description           1\n",
        "habboanonymous operation regahotel se                           1\n",
        "anonymous operation last defense 720p                           1\n",
        "anonymous operation mayhem 2012 vostfr avi                      1\n",
        "dtype: int64\n"
       ]
      }
     ],
     "prompt_number": 32
    },
    {
     "cell_type": "markdown",
     "metadata": {},
     "source": [
      "The good thing about this list now is that it does seem to have much 'media noise' in it. This list looks like pure anonymous.  Only in operations that seem to have no mirrors does noise appear. "
     ]
    },
    {
     "cell_type": "code",
     "collapsed": false,
     "input": [
      "pl = plt.figure(figsize = (10,4))\n",
      "title_counts = ops_pure.title_clean.value_counts().values\n",
      "title_counts = title_counts[title_counts>1]\n",
      "xval = range(0,len(title_counts))\n",
      "yval = title_counts\n",
      "plt.bar(xval, yval)\n",
      "plt.title('Overview of mirrors/operation')\n",
      "plt.xlabel('Operation number')\n",
      "plt.ylabel('Mirror count')"
     ],
     "language": "python",
     "metadata": {},
     "outputs": [
      {
       "metadata": {},
       "output_type": "pyout",
       "prompt_number": 41,
       "text": [
        "<matplotlib.text.Text at 0x177b2790>"
       ]
      },
      {
       "metadata": {},
       "output_type": "display_data",
       "png": "[encoded data removed]",
       "text": [
        "<matplotlib.figure.Figure at 0x1e3e5150>"
       ]
      }
     ],
     "prompt_number": 41
    },
    {
     "cell_type": "code",
     "collapsed": true,
     "input": [
      "len(title_counts)"
     ],
     "language": "python",
     "metadata": {},
     "outputs": [
      {
       "metadata": {},
       "output_type": "pyout",
       "prompt_number": 44,
       "text": [
        "373"
       ]
      }
     ],
     "prompt_number": 44
    },
    {
     "cell_type": "markdown",
     "metadata": {},
     "source": [
      "This suggests that operations have anywhere between 36 and 1 mirrored videos. But there are still too many  titles for operations.  There are around 370 unique titles of videos that fit the 'operation anonymous X' pattern, but we know of only around 80 Anonymous operations. What is overflowing here?"
     ]
    },
    {
     "cell_type": "code",
     "collapsed": false,
     "input": [
      "# begin to see the problem here -- titles are mangled in various ways\n",
      "print(ops_pure.title_clean.unique())"
     ],
     "language": "python",
     "metadata": {},
     "outputs": [
      {
       "output_type": "stream",
       "stream": "stdout",
       "text": [
        "['anonymous operation summerstorm english'\n",
        " 'anonymous operation mayhem poster speed art'\n",
        " 'habboanonymous operation habcity' ...,\n",
        " 'anonymous operation last resort re uploaded'\n",
        " 'anonymous operation nsa english' 'anonymous operationfullerton']\n"
       ]
      }
     ],
     "prompt_number": 42
    },
    {
     "cell_type": "code",
     "collapsed": false,
     "input": [
      "# if we only look at the first three words?\n",
      "ops_pure['title_short'] = ops_pure.title_clean.map(lambda x: ' '.join(x.split(' ')[:3]))\n",
      "\n",
      "print(ops_pure.title_short.value_counts())\n",
      "print(sum(ops_pure.title_short.value_counts()>1))"
     ],
     "language": "python",
     "metadata": {},
     "outputs": [
      {
       "output_type": "stream",
       "stream": "stdout",
       "text": [
        "anonymous operation israel      77\n",
        "anonymous operation black       74\n",
        "anonymous operation last        72\n",
        "anonymous operation defense     70\n",
        "anonymous operation blackout    66\n",
        "...\n",
        "anonymous operation powerbot           1\n",
        "anonymous operation kingfish           1\n",
        "anonymous operation occupythemedia     1\n",
        "anonymous operation game               1\n",
        "operationexpose anonymous operation    1\n",
        "anonymous operation indignant          1\n",
        "Length: 541, dtype: int64\n",
        "240\n"
       ]
      }
     ],
     "prompt_number": 68
    },
    {
     "cell_type": "markdown",
     "metadata": {},
     "source": [
      "OK, that's a bit better. 240 operations appearing now. We might need to consider the possibility that our operations list is nowhere near complete"
     ]
    },
    {
     "cell_type": "code",
     "collapsed": false,
     "input": [
      "ops_pure.title_short.to_csv('ops_list_to_check.csv')"
     ],
     "language": "python",
     "metadata": {},
     "outputs": [],
     "prompt_number": 70
    },
    {
     "cell_type": "markdown",
     "metadata": {},
     "source": [
      "This is obviously still not clean enough because many of the titles do not begin with 'anonymous operation'. Need to apply a stricter filder"
     ]
    },
    {
     "cell_type": "code",
     "collapsed": false,
     "input": [
      "ops_pure2 = ops_pure.ix[ops_pure.title_clean.str.startswith('anonymous operation')]\n",
      "ops_pure2['title_short'] = ops_pure2.title_clean.map(lambda x: ' '.join(x.split(' ')[:3]))\n",
      "\n",
      "print(ops_pure2.title_short.value_counts())\n",
      "print(sum(ops_pure2.title_short.value_counts()>1))"
     ],
     "language": "python",
     "metadata": {},
     "outputs": [
      {
       "output_type": "stream",
       "stream": "stdout",
       "text": [
        "anonymous operation israel      77\n",
        "anonymous operation black       74\n",
        "anonymous operation last        72\n",
        "anonymous operation defense     70\n",
        "anonymous operation blackout    66\n",
        "...\n",
        "anonymous operation antiwar      1\n",
        "anonymous operation xbox         1\n",
        "anonymous operation indonesia    1\n",
        "anonymous operation reborn       1\n",
        "anonymous operation kurobasu     1\n",
        "anonymous operation flash        1\n",
        "Length: 435, dtype: int64\n",
        "220\n"
       ]
      }
     ],
     "prompt_number": 74
    },
    {
     "cell_type": "markdown",
     "metadata": {},
     "source": [
      "So now we are down to 220 operations."
     ]
    },
    {
     "cell_type": "code",
     "collapsed": false,
     "input": [
      "print(ops_pure2.title_short.value_counts())\n",
      "f = open('data/found_operations.csv', 'wb')\n",
      "f.writelines('\\n'.join(ops_pure2.title_short.unique()))"
     ],
     "language": "python",
     "metadata": {},
     "outputs": [
      {
       "output_type": "stream",
       "stream": "stdout",
       "text": [
        "anonymous operation israel      77\n",
        "anonymous operation black       74\n",
        "anonymous operation last        72\n",
        "anonymous operation defense     70\n",
        "anonymous operation blackout    66\n",
        "...\n",
        "anonymous operation antiwar      1\n",
        "anonymous operation xbox         1\n",
        "anonymous operation indonesia    1\n",
        "anonymous operation reborn       1\n",
        "anonymous operation kurobasu     1\n",
        "anonymous operation flash        1\n",
        "Length: 435, dtype: int64\n"
       ]
      }
     ],
     "prompt_number": 82
    },
    {
     "cell_type": "code",
     "collapsed": false,
     "input": [],
     "language": "python",
     "metadata": {},
     "outputs": [
      {
       "metadata": {},
       "output_type": "pyout",
       "prompt_number": 27,
       "text": [
        "<matplotlib.axes.AxesSubplot at 0x1ae3c2d0>"
       ]
      },
      {
       "metadata": {},
       "output_type": "display_data",
       "png": "[encoded data removed]",
       "text": [
        "<matplotlib.figure.Figure at 0x1bfdb7d0>"
       ]
      }
     ],
     "prompt_number": 27
    },
    {
     "cell_type": "markdown",
     "metadata": {},
     "source": [
      "Ook, "
     ]
    }
   ],
   "metadata": {}
  }
 ]
}