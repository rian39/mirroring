{
 "metadata": {
  "name": ""
 },
 "nbformat": 3,
 "nbformat_minor": 0,
 "worksheets": [
  {
   "cells": [
    {
     "cell_type": "code",
     "collapsed": false,
     "input": [
      "%load_ext autoreload\n",
      "%autoreload 2"
     ],
     "language": "python",
     "metadata": {},
     "outputs": [],
     "prompt_number": 7
    },
    {
     "cell_type": "code",
     "collapsed": false,
     "input": [
      "import pandas as pd\n",
      "import YT_api_generate as yt\n",
      "from pylab import *\n",
      "import seaborn\n",
      "import re\n",
      "from IPython.display import HTML\n",
      "from IPython.display import YouTubeVideo\n",
      "pd.set_option(\"display.max_columns\", 6)\n",
      "pd.set_option(\"display.max_rows\", 15)\n",
      "pd.set_option(\"display.notebook_repr_html\", True)\n",
      "from optparse import OptionParser"
     ],
     "language": "python",
     "metadata": {},
     "outputs": [],
     "prompt_number": 8
    },
    {
     "cell_type": "markdown",
     "metadata": {},
     "source": [
      "## The list of operations\n",
      "\n",
      "Felipe put this together. I've added one or two. There are probably more."
     ]
    },
    {
     "cell_type": "code",
     "collapsed": false,
     "input": [
      "operations = [op.replace('\\n', '') for op in open('data/query list').readlines()]\n",
      "operations_mirror = [op + ' mirror' for op in operations]"
     ],
     "language": "python",
     "metadata": {},
     "outputs": [],
     "prompt_number": 23
    },
    {
     "cell_type": "code",
     "collapsed": false,
     "input": [
      "operations.sort()\n",
      "operations"
     ],
     "language": "python",
     "metadata": {},
     "outputs": [
      {
       "metadata": {},
       "output_type": "pyout",
       "prompt_number": 24,
       "text": [
        "['anonymous operation NSA',\n",
        " 'anonymous operation V',\n",
        " 'anonymous operation aaron swartz',\n",
        " 'anonymous operation acta',\n",
        " 'anonymous operation american freedom',\n",
        " 'anonymous operation american spring',\n",
        " 'anonymous operation anaheim',\n",
        " 'anonymous operation antisec',\n",
        " 'anonymous operation assange',\n",
        " 'anonymous operation awake the masses',\n",
        " 'anonymous operation bahrain',\n",
        " 'anonymous operation bart',\n",
        " 'anonymous operation big brother',\n",
        " 'anonymous operation black march',\n",
        " 'anonymous operation blackout',\n",
        " 'anonymous operation blitzkrieg',\n",
        " 'anonymous operation brotherhood takedown',\n",
        " 'anonymous operation cannabis',\n",
        " 'anonymous operation chanology',\n",
        " 'anonymous operation chris forcand',\n",
        " 'anonymous operation cispa',\n",
        " 'anonymous operation darknet',\n",
        " 'anonymous operation darknet',\n",
        " 'anonymous operation didgeridie',\n",
        " 'anonymous operation egypt',\n",
        " 'anonymous operation ele',\n",
        " 'anonymous operation empire state',\n",
        " 'anonymous operation facebook',\n",
        " 'anonymous operation federal reserve',\n",
        " 'anonymous operation fullerton',\n",
        " 'anonymous operation greece',\n",
        " 'anonymous operation green rights',\n",
        " 'anonymous operation guantanamo bay',\n",
        " 'anonymous operation habbo',\n",
        " 'anonymous operation hal turner',\n",
        " 'anonymous operation hbgary',\n",
        " 'anonymous operation hunthunter',\n",
        " 'anonymous operation india',\n",
        " 'anonymous operation iran',\n",
        " 'anonymous operation israel',\n",
        " 'anonymous operation japan',\n",
        " 'anonymous operation kiwi freedom',\n",
        " 'anonymous operation kony',\n",
        " 'anonymous operation last resort',\n",
        " 'anonymous operation leakspin',\n",
        " 'anonymous operation libya',\n",
        " 'anonymous operation los zetas',\n",
        " 'anonymous operation malaysia',\n",
        " 'anonymous operation maryville',\n",
        " 'anonymous operation mastercard',\n",
        " 'anonymous operation mayhem',\n",
        " 'anonymous operation megaupload',\n",
        " 'anonymous operation north korea',\n",
        " 'anonymous operation orlando',\n",
        " 'anonymous operation palin',\n",
        " 'anonymous operation paperstorm',\n",
        " 'anonymous operation payback',\n",
        " 'anonymous operation paypal',\n",
        " 'anonymous operation petrol',\n",
        " 'anonymous operation pipa',\n",
        " 'anonymous operation pirate bay',\n",
        " 'anonymous operation quebec',\n",
        " 'anonymous operation rebuild the hive',\n",
        " 'anonymous operation rohingya',\n",
        " 'anonymous operation rose awareness',\n",
        " 'anonymous operation safe winter',\n",
        " 'anonymous operation shooting sheriffs',\n",
        " 'anonymous operation sony',\n",
        " 'anonymous operation sopa',\n",
        " 'anonymous operation steubenville',\n",
        " 'anonymous operation support snowden',\n",
        " 'anonymous operation syria',\n",
        " 'anonymous operation tea party',\n",
        " 'anonymous operation titstorm',\n",
        " 'anonymous operation tunisia',\n",
        " 'anonymous operation ukraine',\n",
        " 'anonymous operation vendetta',\n",
        " 'anonymous operation visa',\n",
        " 'anonymous operation wall street',\n",
        " 'anonymous operation westboro baptist church',\n",
        " 'anonymous operation wikileaks',\n",
        " 'anonymous operation world bank',\n",
        " 'anonymous project mayhem']"
       ]
      }
     ],
     "prompt_number": 24
    },
    {
     "cell_type": "code",
     "collapsed": true,
     "input": [
      "df_ops = pd.DataFrame()"
     ],
     "language": "python",
     "metadata": {},
     "outputs": [],
     "prompt_number": 4
    },
    {
     "cell_type": "code",
     "collapsed": true,
     "input": [
      "## the basic operations\n",
      "\n",
      "for op in operations:\n",
      "    df  = yt.youtube_search(op,1000, True)\n",
      "    df['operation'] = op\n",
      "    df_ops = df_ops.append(df)"
     ],
     "language": "python",
     "metadata": {},
     "outputs": [
      {
       "output_type": "stream",
       "stream": "stdout",
       "text": [
        "retrieved 492 results for anonymous operation habbo\n",
        "('anonymous operation habbo', (492, 15))"
       ]
      },
      {
       "output_type": "stream",
       "stream": "stdout",
       "text": [
        "\n",
        "(492, 8)\n",
        "retrieved 45 results for anonymous operation hal turner"
       ]
      },
      {
       "output_type": "stream",
       "stream": "stdout",
       "text": [
        "\n",
        "('anonymous operation hal turner', (45, 13))"
       ]
      },
      {
       "output_type": "stream",
       "stream": "stdout",
       "text": [
        "\n",
        "(45, 8)\n",
        "retrieved 22 results for anonymous operation chris forcand"
       ]
      },
      {
       "output_type": "stream",
       "stream": "stdout",
       "text": [
        "\n",
        "('anonymous operation chris forcand', (22, 13))"
       ]
      },
      {
       "output_type": "stream",
       "stream": "stdout",
       "text": [
        "\n",
        "(22, 8)\n",
        "retrieved 494 results for anonymous operation chanology"
       ]
      },
      {
       "output_type": "stream",
       "stream": "stdout",
       "text": [
        "\n",
        "('anonymous operation chanology', (494, 14))"
       ]
      },
      {
       "output_type": "stream",
       "stream": "stdout",
       "text": [
        "\n",
        "(494, 8)\n",
        "retrieved 491 results for anonymous operation palin"
       ]
      },
      {
       "output_type": "stream",
       "stream": "stdout",
       "text": [
        "\n",
        "('anonymous operation palin', (491, 15))"
       ]
      },
      {
       "output_type": "stream",
       "stream": "stdout",
       "text": [
        "\n",
        "(491, 8)\n",
        "retrieved 500 results for anonymous operation iran"
       ]
      },
      {
       "output_type": "stream",
       "stream": "stdout",
       "text": [
        "\n",
        "('anonymous operation iran', (500, 15))"
       ]
      },
      {
       "output_type": "stream",
       "stream": "stdout",
       "text": [
        "\n",
        "(500, 8)\n",
        "retrieved 1 results for anonymous operation didgeridie"
       ]
      },
      {
       "output_type": "stream",
       "stream": "stdout",
       "text": [
        "\n",
        "('anonymous operation didgeridie', (1, 12))"
       ]
      },
      {
       "output_type": "stream",
       "stream": "stdout",
       "text": [
        "\n",
        "(1, 8)\n",
        "retrieved 136 results for anonymous operation titstorm"
       ]
      },
      {
       "output_type": "stream",
       "stream": "stdout",
       "text": [
        "\n",
        "('anonymous operation titstorm', (136, 15))"
       ]
      },
      {
       "output_type": "stream",
       "stream": "stdout",
       "text": [
        "\n",
        "(136, 8)\n",
        "retrieved 500 results for anonymous operation tea party"
       ]
      },
      {
       "output_type": "stream",
       "stream": "stdout",
       "text": [
        "\n",
        "('anonymous operation tea party', (500, 15))"
       ]
      },
      {
       "output_type": "stream",
       "stream": "stdout",
       "text": [
        "\n",
        "(500, 8)\n",
        "retrieved 460 results for anonymous operation payback"
       ]
      },
      {
       "output_type": "stream",
       "stream": "stdout",
       "text": [
        "\n",
        "('anonymous operation payback', (460, 15))"
       ]
      },
      {
       "output_type": "stream",
       "stream": "stdout",
       "text": [
        "\n",
        "(460, 8)\n",
        "retrieved 500 results for anonymous operation wikileaks"
       ]
      },
      {
       "output_type": "stream",
       "stream": "stdout",
       "text": [
        "\n",
        "('anonymous operation wikileaks', (500, 14))"
       ]
      },
      {
       "output_type": "stream",
       "stream": "stdout",
       "text": [
        "\n",
        "(500, 8)\n",
        "retrieved 500 results for anonymous operation assange"
       ]
      },
      {
       "output_type": "stream",
       "stream": "stdout",
       "text": [
        "\n",
        "('anonymous operation assange', (500, 15))"
       ]
      },
      {
       "output_type": "stream",
       "stream": "stdout",
       "text": [
        "\n",
        "(500, 8)\n",
        "retrieved 500 results for anonymous operation leakspin"
       ]
      },
      {
       "output_type": "stream",
       "stream": "stdout",
       "text": [
        "\n",
        "('anonymous operation leakspin', (500, 14))"
       ]
      },
      {
       "output_type": "stream",
       "stream": "stdout",
       "text": [
        "\n",
        "(500, 8)\n",
        "retrieved 473 results for anonymous operation visa"
       ]
      },
      {
       "output_type": "stream",
       "stream": "stdout",
       "text": [
        "\n",
        "('anonymous operation visa', (473, 15))"
       ]
      },
      {
       "output_type": "stream",
       "stream": "stdout",
       "text": [
        "\n",
        "(473, 8)\n",
        "retrieved 479 results for anonymous operation mastercard"
       ]
      },
      {
       "output_type": "stream",
       "stream": "stdout",
       "text": [
        "\n",
        "('anonymous operation mastercard', (479, 14))"
       ]
      },
      {
       "output_type": "stream",
       "stream": "stdout",
       "text": [
        "\n",
        "(479, 8)\n",
        "retrieved 478 results for anonymous operation paypal"
       ]
      },
      {
       "output_type": "stream",
       "stream": "stdout",
       "text": [
        "\n",
        "('anonymous operation paypal', (478, 14))"
       ]
      },
      {
       "output_type": "stream",
       "stream": "stdout",
       "text": [
        "\n",
        "(478, 8)\n",
        "retrieved 500 results for anonymous operation tunisia"
       ]
      },
      {
       "output_type": "stream",
       "stream": "stdout",
       "text": [
        "\n",
        "('anonymous operation tunisia', (500, 15))"
       ]
      },
      {
       "output_type": "stream",
       "stream": "stdout",
       "text": [
        "\n",
        "(500, 8)\n",
        "retrieved 499 results for anonymous operation egypt"
       ]
      },
      {
       "output_type": "stream",
       "stream": "stdout",
       "text": [
        "\n",
        "('anonymous operation egypt', (499, 14))"
       ]
      },
      {
       "output_type": "stream",
       "stream": "stdout",
       "text": [
        "\n",
        "(499, 8)\n",
        "retrieved 500 results for anonymous operation libya"
       ]
      },
      {
       "output_type": "stream",
       "stream": "stdout",
       "text": [
        "\n",
        "('anonymous operation libya', (500, 15))"
       ]
      },
      {
       "output_type": "stream",
       "stream": "stdout",
       "text": [
        "\n",
        "(500, 8)\n",
        "retrieved 322 results for anonymous operation hbgary"
       ]
      },
      {
       "output_type": "stream",
       "stream": "stdout",
       "text": [
        "\n",
        "('anonymous operation hbgary', (322, 14))"
       ]
      },
      {
       "output_type": "stream",
       "stream": "stdout",
       "text": [
        "\n",
        "(322, 8)\n",
        "retrieved 479 results for anonymous operation empire state"
       ]
      },
      {
       "output_type": "stream",
       "stream": "stdout",
       "text": [
        "\n",
        "('anonymous operation empire state', (479, 14))"
       ]
      },
      {
       "output_type": "stream",
       "stream": "stdout",
       "text": [
        "\n",
        "(479, 8)\n",
        "retrieved 483 results for anonymous operation sony"
       ]
      },
      {
       "output_type": "stream",
       "stream": "stdout",
       "text": [
        "\n",
        "('anonymous operation sony', (483, 15))"
       ]
      },
      {
       "output_type": "stream",
       "stream": "stdout",
       "text": [
        "\n",
        "(483, 8)\n",
        "retrieved 500 results for anonymous operation india"
       ]
      },
      {
       "output_type": "stream",
       "stream": "stdout",
       "text": [
        "\n",
        "('anonymous operation india', (500, 15))"
       ]
      },
      {
       "output_type": "stream",
       "stream": "stdout",
       "text": [
        "\n",
        "(500, 8)\n",
        "retrieved 500 results for anonymous operation malaysia"
       ]
      },
      {
       "output_type": "stream",
       "stream": "stdout",
       "text": [
        "\n",
        "('anonymous operation malaysia', (500, 15))"
       ]
      },
      {
       "output_type": "stream",
       "stream": "stdout",
       "text": [
        "\n",
        "(500, 8)\n",
        "retrieved 500 results for anonymous operation orlando"
       ]
      },
      {
       "output_type": "stream",
       "stream": "stdout",
       "text": [
        "\n",
        "('anonymous operation orlando', (500, 14))"
       ]
      },
      {
       "output_type": "stream",
       "stream": "stdout",
       "text": [
        "\n",
        "(500, 8)\n",
        "retrieved 500 results for anonymous operation antisec"
       ]
      },
      {
       "output_type": "stream",
       "stream": "stdout",
       "text": [
        "\n",
        "('anonymous operation antisec', (500, 15))"
       ]
      },
      {
       "output_type": "stream",
       "stream": "stdout",
       "text": [
        "\n",
        "(500, 8)\n",
        "retrieved 477 results for anonymous operation facebook"
       ]
      },
      {
       "output_type": "stream",
       "stream": "stdout",
       "text": [
        "\n",
        "('anonymous operation facebook', (477, 15))"
       ]
      },
      {
       "output_type": "stream",
       "stream": "stdout",
       "text": [
        "\n",
        "(477, 8)\n",
        "retrieved 500 results for anonymous operation bart"
       ]
      },
      {
       "output_type": "stream",
       "stream": "stdout",
       "text": [
        "\n",
        "('anonymous operation bart', (500, 14))"
       ]
      },
      {
       "output_type": "stream",
       "stream": "stdout",
       "text": [
        "\n",
        "(500, 8)\n",
        "retrieved 454 results for anonymous operation shooting sheriffs"
       ]
      },
      {
       "output_type": "stream",
       "stream": "stdout",
       "text": [
        "\n",
        "('anonymous operation shooting sheriffs', (454, 15))"
       ]
      },
      {
       "output_type": "stream",
       "stream": "stdout",
       "text": [
        "\n",
        "(454, 8)\n",
        "retrieved 500 results for anonymous operation wall street"
       ]
      },
      {
       "output_type": "stream",
       "stream": "stdout",
       "text": [
        "\n",
        "('anonymous operation wall street', (500, 15))"
       ]
      },
      {
       "output_type": "stream",
       "stream": "stdout",
       "text": [
        "\n",
        "(500, 8)\n",
        "retrieved 483 results for anonymous operation syria"
       ]
      },
      {
       "output_type": "stream",
       "stream": "stdout",
       "text": [
        "\n",
        "('anonymous operation syria', (483, 15))"
       ]
      },
      {
       "output_type": "stream",
       "stream": "stdout",
       "text": [
        "\n",
        "(483, 8)\n",
        "retrieved 500 results for anonymous operation darknet"
       ]
      },
      {
       "output_type": "stream",
       "stream": "stdout",
       "text": [
        "\n",
        "('anonymous operation darknet', (500, 14))"
       ]
      },
      {
       "output_type": "stream",
       "stream": "stdout",
       "text": [
        "\n",
        "(500, 8)\n",
        "retrieved 224 results for anonymous operation los zetas"
       ]
      },
      {
       "output_type": "stream",
       "stream": "stdout",
       "text": [
        "\n",
        "('anonymous operation los zetas', (224, 14))"
       ]
      },
      {
       "output_type": "stream",
       "stream": "stdout",
       "text": [
        "\n",
        "(224, 8)\n",
        "retrieved 462 results for anonymous operation brotherhood takedown"
       ]
      },
      {
       "output_type": "stream",
       "stream": "stdout",
       "text": [
        "\n",
        "('anonymous operation brotherhood takedown', (462, 14))"
       ]
      },
      {
       "output_type": "stream",
       "stream": "stdout",
       "text": [
        "\n",
        "(462, 8)\n",
        "retrieved 459 results for anonymous operation megaupload"
       ]
      },
      {
       "output_type": "stream",
       "stream": "stdout",
       "text": [
        "\n",
        "('anonymous operation megaupload', (459, 15))"
       ]
      },
      {
       "output_type": "stream",
       "stream": "stdout",
       "text": [
        "\n",
        "(459, 8)\n",
        "retrieved 497 results for anonymous operation black march"
       ]
      },
      {
       "output_type": "stream",
       "stream": "stdout",
       "text": [
        "\n",
        "('anonymous operation black march', (497, 14))"
       ]
      },
      {
       "output_type": "stream",
       "stream": "stdout",
       "text": [
        "\n",
        "(497, 8)\n",
        "retrieved 469 results for anonymous operation acta"
       ]
      },
      {
       "output_type": "stream",
       "stream": "stdout",
       "text": [
        "\n",
        "('anonymous operation acta', (469, 13))"
       ]
      },
      {
       "output_type": "stream",
       "stream": "stdout",
       "text": [
        "\n",
        "(469, 8)\n",
        "retrieved 457 results for anonymous operation pipa"
       ]
      },
      {
       "output_type": "stream",
       "stream": "stdout",
       "text": [
        "\n",
        "('anonymous operation pipa', (457, 14))"
       ]
      },
      {
       "output_type": "stream",
       "stream": "stdout",
       "text": [
        "\n",
        "(457, 8)\n",
        "retrieved 500 results for anonymous operation sopa"
       ]
      },
      {
       "output_type": "stream",
       "stream": "stdout",
       "text": [
        "\n",
        "('anonymous operation sopa', (500, 14))"
       ]
      },
      {
       "output_type": "stream",
       "stream": "stdout",
       "text": [
        "\n",
        "(500, 8)\n",
        "retrieved 477 results for anonymous operation blackout"
       ]
      },
      {
       "output_type": "stream",
       "stream": "stdout",
       "text": [
        "\n",
        "('anonymous operation blackout', (477, 15))"
       ]
      },
      {
       "output_type": "stream",
       "stream": "stdout",
       "text": [
        "\n",
        "(477, 8)\n",
        "retrieved 500 results for anonymous operation kony"
       ]
      },
      {
       "output_type": "stream",
       "stream": "stdout",
       "text": [
        "\n",
        "('anonymous operation kony', (500, 15))"
       ]
      },
      {
       "output_type": "stream",
       "stream": "stdout",
       "text": [
        "\n",
        "(500, 8)\n",
        "retrieved 500 results for anonymous operation greece"
       ]
      },
      {
       "output_type": "stream",
       "stream": "stdout",
       "text": [
        "\n",
        "('anonymous operation greece', (500, 14))"
       ]
      },
      {
       "output_type": "stream",
       "stream": "stdout",
       "text": [
        "\n",
        "(500, 8)\n",
        "retrieved 500 results for anonymous operation quebec"
       ]
      },
      {
       "output_type": "stream",
       "stream": "stdout",
       "text": [
        "\n",
        "('anonymous operation quebec', (500, 14))"
       ]
      },
      {
       "output_type": "stream",
       "stream": "stdout",
       "text": [
        "\n",
        "(500, 8)\n",
        "retrieved 500 results for anonymous operation japan"
       ]
      },
      {
       "output_type": "stream",
       "stream": "stdout",
       "text": [
        "\n",
        "('anonymous operation japan', (500, 14))"
       ]
      },
      {
       "output_type": "stream",
       "stream": "stdout",
       "text": [
        "\n",
        "(500, 8)\n",
        "retrieved 230 results for anonymous operation blitzkrieg"
       ]
      },
      {
       "output_type": "stream",
       "stream": "stdout",
       "text": [
        "\n",
        "('anonymous operation blitzkrieg', (230, 14))"
       ]
      },
      {
       "output_type": "stream",
       "stream": "stdout",
       "text": [
        "\n",
        "(230, 8)\n",
        "retrieved 419 results for anonymous operation anaheim"
       ]
      },
      {
       "output_type": "stream",
       "stream": "stdout",
       "text": [
        "\n",
        "('anonymous operation anaheim', (419, 14))"
       ]
      },
      {
       "output_type": "stream",
       "stream": "stdout",
       "text": [
        "\n",
        "(419, 8)\n",
        "retrieved 498 results for anonymous operation steubenville"
       ]
      },
      {
       "output_type": "stream",
       "stream": "stdout",
       "text": [
        "\n",
        "('anonymous operation steubenville', (498, 14))"
       ]
      },
      {
       "output_type": "stream",
       "stream": "stdout",
       "text": [
        "\n",
        "(498, 8)\n",
        "retrieved 500 results for anonymous operation darknet"
       ]
      },
      {
       "output_type": "stream",
       "stream": "stdout",
       "text": [
        "\n",
        "('anonymous operation darknet', (500, 14))"
       ]
      },
      {
       "output_type": "stream",
       "stream": "stdout",
       "text": [
        "\n",
        "(500, 8)\n",
        "retrieved 458 results for anonymous operation paperstorm"
       ]
      },
      {
       "output_type": "stream",
       "stream": "stdout",
       "text": [
        "\n",
        "('anonymous operation paperstorm', (458, 14))"
       ]
      },
      {
       "output_type": "stream",
       "stream": "stdout",
       "text": [
        "\n",
        "(458, 8)\n",
        "retrieved 500 results for anonymous operation aaron swartz"
       ]
      },
      {
       "output_type": "stream",
       "stream": "stdout",
       "text": [
        "\n",
        "('anonymous operation aaron swartz', (500, 14))"
       ]
      },
      {
       "output_type": "stream",
       "stream": "stdout",
       "text": [
        "\n",
        "(500, 8)\n",
        "retrieved 500 results for anonymous operation federal reserve"
       ]
      },
      {
       "output_type": "stream",
       "stream": "stdout",
       "text": [
        "\n",
        "('anonymous operation federal reserve', (500, 14))"
       ]
      },
      {
       "output_type": "stream",
       "stream": "stdout",
       "text": [
        "\n",
        "(500, 8)\n",
        "retrieved 458 results for anonymous operation north korea"
       ]
      },
      {
       "output_type": "stream",
       "stream": "stdout",
       "text": [
        "\n",
        "('anonymous operation north korea', (458, 13))"
       ]
      },
      {
       "output_type": "stream",
       "stream": "stdout",
       "text": [
        "\n",
        "(458, 8)\n",
        "retrieved 491 results for anonymous operation israel"
       ]
      },
      {
       "output_type": "stream",
       "stream": "stdout",
       "text": [
        "\n",
        "('anonymous operation israel', (491, 14))"
       ]
      },
      {
       "output_type": "stream",
       "stream": "stdout",
       "text": [
        "\n",
        "(491, 8)\n",
        "retrieved 470 results for anonymous operation last resort"
       ]
      },
      {
       "output_type": "stream",
       "stream": "stdout",
       "text": [
        "\n",
        "('anonymous operation last resort', (470, 14))"
       ]
      },
      {
       "output_type": "stream",
       "stream": "stdout",
       "text": [
        "\n",
        "(470, 8)\n",
        "retrieved 500 results for anonymous operation vendetta"
       ]
      },
      {
       "output_type": "stream",
       "stream": "stdout",
       "text": [
        "\n",
        "('anonymous operation vendetta', (500, 14))"
       ]
      },
      {
       "output_type": "stream",
       "stream": "stdout",
       "text": [
        "\n",
        "(500, 8)\n",
        "retrieved 471 results for anonymous operation cispa"
       ]
      },
      {
       "output_type": "stream",
       "stream": "stdout",
       "text": [
        "\n",
        "('anonymous operation cispa', (471, 14))"
       ]
      },
      {
       "output_type": "stream",
       "stream": "stdout",
       "text": [
        "\n",
        "(471, 8)\n",
        "retrieved 488 results for anonymous operation NSA"
       ]
      },
      {
       "output_type": "stream",
       "stream": "stdout",
       "text": [
        "\n",
        "('anonymous operation NSA', (488, 15))"
       ]
      },
      {
       "output_type": "stream",
       "stream": "stdout",
       "text": [
        "\n",
        "(488, 8)\n",
        "retrieved 500 results for anonymous operation american freedom"
       ]
      },
      {
       "output_type": "stream",
       "stream": "stdout",
       "text": [
        "\n",
        "('anonymous operation american freedom', (500, 15))"
       ]
      },
      {
       "output_type": "stream",
       "stream": "stdout",
       "text": [
        "\n",
        "(500, 8)\n",
        "retrieved 488 results for anonymous operation big brother"
       ]
      },
      {
       "output_type": "stream",
       "stream": "stdout",
       "text": [
        "\n",
        "('anonymous operation big brother', (488, 14))"
       ]
      },
      {
       "output_type": "stream",
       "stream": "stdout",
       "text": [
        "\n",
        "(488, 8)\n",
        "retrieved 500 results for anonymous operation V"
       ]
      },
      {
       "output_type": "stream",
       "stream": "stdout",
       "text": [
        "\n",
        "('anonymous operation V', (500, 14))"
       ]
      },
      {
       "output_type": "stream",
       "stream": "stdout",
       "text": [
        "\n",
        "(500, 8)\n",
        "retrieved 500 results for anonymous operation westboro baptist church"
       ]
      },
      {
       "output_type": "stream",
       "stream": "stdout",
       "text": [
        "\n",
        "('anonymous operation westboro baptist church', (500, 14))"
       ]
      },
      {
       "output_type": "stream",
       "stream": "stdout",
       "text": [
        "\n",
        "(500, 8)\n",
        "retrieved 500 results for anonymous operation support snowden"
       ]
      },
      {
       "output_type": "stream",
       "stream": "stdout",
       "text": [
        "\n",
        "('anonymous operation support snowden', (500, 14))"
       ]
      },
      {
       "output_type": "stream",
       "stream": "stdout",
       "text": [
        "\n",
        "(500, 8)\n",
        "retrieved 128 results for anonymous operation kiwi freedom"
       ]
      },
      {
       "output_type": "stream",
       "stream": "stdout",
       "text": [
        "\n",
        "('anonymous operation kiwi freedom', (128, 14))"
       ]
      },
      {
       "output_type": "stream",
       "stream": "stdout",
       "text": [
        "\n",
        "(128, 8)\n",
        "retrieved 493 results for anonymous operation world bank"
       ]
      },
      {
       "output_type": "stream",
       "stream": "stdout",
       "text": [
        "\n",
        "('anonymous operation world bank', (493, 14))"
       ]
      },
      {
       "output_type": "stream",
       "stream": "stdout",
       "text": [
        "\n",
        "(493, 8)\n",
        "retrieved 493 results for anonymous operation awake the masses"
       ]
      },
      {
       "output_type": "stream",
       "stream": "stdout",
       "text": [
        "\n",
        "('anonymous operation awake the masses', (493, 14))"
       ]
      },
      {
       "output_type": "stream",
       "stream": "stdout",
       "text": [
        "\n",
        "(493, 8)\n",
        "retrieved 500 results for anonymous operation cannabis"
       ]
      },
      {
       "output_type": "stream",
       "stream": "stdout",
       "text": [
        "\n",
        "('anonymous operation cannabis', (500, 15))"
       ]
      },
      {
       "output_type": "stream",
       "stream": "stdout",
       "text": [
        "\n",
        "(500, 8)\n",
        "retrieved 278 results for anonymous operation rohingya"
       ]
      },
      {
       "output_type": "stream",
       "stream": "stdout",
       "text": [
        "\n",
        "('anonymous operation rohingya', (278, 14))"
       ]
      },
      {
       "output_type": "stream",
       "stream": "stdout",
       "text": [
        "\n",
        "(278, 8)\n",
        "retrieved 123 results for anonymous operation rose awareness"
       ]
      },
      {
       "output_type": "stream",
       "stream": "stdout",
       "text": [
        "\n",
        "('anonymous operation rose awareness', (123, 14))"
       ]
      },
      {
       "output_type": "stream",
       "stream": "stdout",
       "text": [
        "\n",
        "(123, 8)\n",
        "retrieved 393 results for anonymous operation rebuild the hive"
       ]
      },
      {
       "output_type": "stream",
       "stream": "stdout",
       "text": [
        "\n",
        "('anonymous operation rebuild the hive', (393, 14))"
       ]
      },
      {
       "output_type": "stream",
       "stream": "stdout",
       "text": [
        "\n",
        "(393, 8)\n",
        "retrieved 500 results for anonymous operation bahrain"
       ]
      },
      {
       "output_type": "stream",
       "stream": "stdout",
       "text": [
        "\n",
        "('anonymous operation bahrain', (500, 15))"
       ]
      },
      {
       "output_type": "stream",
       "stream": "stdout",
       "text": [
        "\n",
        "(500, 8)\n",
        "retrieved 500 results for anonymous operation ukraine"
       ]
      },
      {
       "output_type": "stream",
       "stream": "stdout",
       "text": [
        "\n",
        "('anonymous operation ukraine', (500, 14))"
       ]
      },
      {
       "output_type": "stream",
       "stream": "stdout",
       "text": [
        "\n",
        "(500, 8)\n",
        "retrieved 500 results for anonymous operation pirate bay"
       ]
      },
      {
       "output_type": "stream",
       "stream": "stdout",
       "text": [
        "\n",
        "('anonymous operation pirate bay', (500, 14))"
       ]
      },
      {
       "output_type": "stream",
       "stream": "stdout",
       "text": [
        "\n",
        "(500, 8)\n",
        "retrieved 458 results for anonymous operation petrol"
       ]
      },
      {
       "output_type": "stream",
       "stream": "stdout",
       "text": [
        "\n",
        "('anonymous operation petrol', (458, 14))"
       ]
      },
      {
       "output_type": "stream",
       "stream": "stdout",
       "text": [
        "\n",
        "(458, 8)\n",
        "retrieved 268 results for anonymous operation ele"
       ]
      },
      {
       "output_type": "stream",
       "stream": "stdout",
       "text": [
        "\n",
        "('anonymous operation ele', (268, 14))"
       ]
      },
      {
       "output_type": "stream",
       "stream": "stdout",
       "text": [
        "\n",
        "(268, 8)\n",
        "retrieved 282 results for anonymous operation guantanamo bay"
       ]
      },
      {
       "output_type": "stream",
       "stream": "stdout",
       "text": [
        "\n",
        "('anonymous operation guantanamo bay', (282, 14))"
       ]
      },
      {
       "output_type": "stream",
       "stream": "stdout",
       "text": [
        "\n",
        "(282, 8)\n",
        "retrieved 500 results for anonymous operation safe winter"
       ]
      },
      {
       "output_type": "stream",
       "stream": "stdout",
       "text": [
        "\n",
        "('anonymous operation safe winter', (500, 15))"
       ]
      },
      {
       "output_type": "stream",
       "stream": "stdout",
       "text": [
        "\n",
        "(500, 8)\n",
        "retrieved 480 results for anonymous operation maryville"
       ]
      },
      {
       "output_type": "stream",
       "stream": "stdout",
       "text": [
        "\n",
        "('anonymous operation maryville', (480, 14))"
       ]
      },
      {
       "output_type": "stream",
       "stream": "stdout",
       "text": [
        "\n",
        "(480, 8)\n",
        "retrieved 386 results for anonymous operation green rights"
       ]
      },
      {
       "output_type": "stream",
       "stream": "stdout",
       "text": [
        "\n",
        "('anonymous operation green rights', (386, 15))"
       ]
      },
      {
       "output_type": "stream",
       "stream": "stdout",
       "text": [
        "\n",
        "(386, 8)\n",
        "retrieved 500 results for anonymous operation fullerton"
       ]
      },
      {
       "output_type": "stream",
       "stream": "stdout",
       "text": [
        "\n",
        "('anonymous operation fullerton', (500, 15))"
       ]
      },
      {
       "output_type": "stream",
       "stream": "stdout",
       "text": [
        "\n",
        "(500, 8)\n",
        "retrieved 477 results for anonymous operation american spring"
       ]
      },
      {
       "output_type": "stream",
       "stream": "stdout",
       "text": [
        "\n",
        "('anonymous operation american spring', (477, 14))"
       ]
      },
      {
       "output_type": "stream",
       "stream": "stdout",
       "text": [
        "\n",
        "(477, 8)\n"
       ]
      }
     ],
     "prompt_number": 71
    },
    {
     "cell_type": "markdown",
     "metadata": {},
     "source": [
      "Run all the same queries with 'mirror' as well. This might help address the unpredictability of the Youtube search results and its 'denial of search results'. So, we undertake a 'supply of service' approach here. "
     ]
    },
    {
     "cell_type": "code",
     "collapsed": false,
     "input": [
      "## run the same operations with 'mirror'\n",
      "\n",
      "\n",
      "\n",
      "for op in operations_mirror:\n",
      "    df  = yt.youtube_search(op,1000, True)\n",
      "    df['operation'] = op\n",
      "    df_ops = df_ops.append(df)\n"
     ],
     "language": "python",
     "metadata": {},
     "outputs": [
      {
       "output_type": "stream",
       "stream": "stdout",
       "text": [
        "retrieved 8 results for anonymous operation habbo mirror\n",
        "('anonymous operation habbo mirror', (8, 13))"
       ]
      },
      {
       "output_type": "stream",
       "stream": "stdout",
       "text": [
        "\n",
        "(8, 8)\n",
        "retrieved 6 results for anonymous operation hal turner mirror"
       ]
      },
      {
       "output_type": "stream",
       "stream": "stdout",
       "text": [
        "\n",
        "('anonymous operation hal turner mirror', (6, 13))"
       ]
      },
      {
       "output_type": "stream",
       "stream": "stdout",
       "text": [
        "\n",
        "(6, 8)\n",
        "retrieved 4 results for anonymous operation chris forcand mirror"
       ]
      },
      {
       "output_type": "stream",
       "stream": "stdout",
       "text": [
        "\n",
        "('anonymous operation chris forcand mirror', (4, 13))"
       ]
      },
      {
       "output_type": "stream",
       "stream": "stdout",
       "text": [
        "\n",
        "(4, 8)\n",
        "retrieved 229 results for anonymous operation chanology mirror"
       ]
      },
      {
       "output_type": "stream",
       "stream": "stdout",
       "text": [
        "\n",
        "('anonymous operation chanology mirror', (229, 14))"
       ]
      },
      {
       "output_type": "stream",
       "stream": "stdout",
       "text": [
        "\n",
        "(229, 8)\n",
        "retrieved 13 results for anonymous operation palin mirror"
       ]
      },
      {
       "output_type": "stream",
       "stream": "stdout",
       "text": [
        "\n",
        "('anonymous operation palin mirror', (13, 13))"
       ]
      },
      {
       "output_type": "stream",
       "stream": "stdout",
       "text": [
        "\n",
        "(13, 8)\n",
        "retrieved 245 results for anonymous operation iran mirror"
       ]
      },
      {
       "output_type": "stream",
       "stream": "stdout",
       "text": [
        "\n",
        "('anonymous operation iran mirror', (245, 13))"
       ]
      },
      {
       "output_type": "stream",
       "stream": "stdout",
       "text": [
        "\n",
        "(245, 8)\n",
        "retrieved 0 results for anonymous operation didgeridie mirror"
       ]
      },
      {
       "output_type": "stream",
       "stream": "stdout",
       "text": [
        "\n",
        "retrieved 10 results for anonymous operation titstorm mirror"
       ]
      },
      {
       "output_type": "stream",
       "stream": "stdout",
       "text": [
        "\n",
        "('anonymous operation titstorm mirror', (10, 14))"
       ]
      },
      {
       "output_type": "stream",
       "stream": "stdout",
       "text": [
        "\n",
        "(10, 8)\n",
        "retrieved 45 results for anonymous operation tea party mirror"
       ]
      },
      {
       "output_type": "stream",
       "stream": "stdout",
       "text": [
        "\n",
        "('anonymous operation tea party mirror', (45, 13))"
       ]
      },
      {
       "output_type": "stream",
       "stream": "stdout",
       "text": [
        "\n",
        "(45, 8)\n",
        "retrieved 248 results for anonymous operation payback mirror"
       ]
      },
      {
       "output_type": "stream",
       "stream": "stdout",
       "text": [
        "\n",
        "('anonymous operation payback mirror', (248, 14))"
       ]
      },
      {
       "output_type": "stream",
       "stream": "stdout",
       "text": [
        "\n",
        "(248, 8)\n",
        "retrieved 473 results for anonymous operation wikileaks mirror"
       ]
      },
      {
       "output_type": "stream",
       "stream": "stdout",
       "text": [
        "\n",
        "('anonymous operation wikileaks mirror', (473, 14))"
       ]
      },
      {
       "output_type": "stream",
       "stream": "stdout",
       "text": [
        "\n",
        "(473, 8)\n",
        "retrieved 202 results for anonymous operation assange mirror"
       ]
      },
      {
       "output_type": "stream",
       "stream": "stdout",
       "text": [
        "\n",
        "('anonymous operation assange mirror', (202, 14))"
       ]
      },
      {
       "output_type": "stream",
       "stream": "stdout",
       "text": [
        "\n",
        "(202, 8)\n",
        "retrieved 117 results for anonymous operation leakspin mirror"
       ]
      },
      {
       "output_type": "stream",
       "stream": "stdout",
       "text": [
        "\n",
        "('anonymous operation leakspin mirror', (117, 14))"
       ]
      },
      {
       "output_type": "stream",
       "stream": "stdout",
       "text": [
        "\n",
        "(117, 8)\n",
        "retrieved 39 results for anonymous operation visa mirror"
       ]
      },
      {
       "output_type": "stream",
       "stream": "stdout",
       "text": [
        "\n",
        "('anonymous operation visa mirror', (39, 14))"
       ]
      },
      {
       "output_type": "stream",
       "stream": "stdout",
       "text": [
        "\n",
        "(39, 8)\n",
        "retrieved 45 results for anonymous operation mastercard mirror"
       ]
      },
      {
       "output_type": "stream",
       "stream": "stdout",
       "text": [
        "\n",
        "('anonymous operation mastercard mirror', (45, 14))"
       ]
      },
      {
       "output_type": "stream",
       "stream": "stdout",
       "text": [
        "\n",
        "(45, 8)\n",
        "retrieved 73 results for anonymous operation paypal mirror"
       ]
      },
      {
       "output_type": "stream",
       "stream": "stdout",
       "text": [
        "\n",
        "('anonymous operation paypal mirror', (73, 14))"
       ]
      },
      {
       "output_type": "stream",
       "stream": "stdout",
       "text": [
        "\n",
        "(73, 8)\n",
        "retrieved 78 results for anonymous operation tunisia mirror"
       ]
      },
      {
       "output_type": "stream",
       "stream": "stdout",
       "text": [
        "\n",
        "('anonymous operation tunisia mirror', (78, 15))"
       ]
      },
      {
       "output_type": "stream",
       "stream": "stdout",
       "text": [
        "\n",
        "(78, 8)\n",
        "retrieved 133 results for anonymous operation egypt mirror"
       ]
      },
      {
       "output_type": "stream",
       "stream": "stdout",
       "text": [
        "\n",
        "('anonymous operation egypt mirror', (133, 15))"
       ]
      },
      {
       "output_type": "stream",
       "stream": "stdout",
       "text": [
        "\n",
        "(133, 8)\n",
        "retrieved 97 results for anonymous operation libya mirror"
       ]
      },
      {
       "output_type": "stream",
       "stream": "stdout",
       "text": [
        "\n",
        "('anonymous operation libya mirror', (97, 13))"
       ]
      },
      {
       "output_type": "stream",
       "stream": "stdout",
       "text": [
        "\n",
        "(97, 8)\n",
        "retrieved 40 results for anonymous operation hbgary mirror"
       ]
      },
      {
       "output_type": "stream",
       "stream": "stdout",
       "text": [
        "\n",
        "('anonymous operation hbgary mirror', (40, 13))"
       ]
      },
      {
       "output_type": "stream",
       "stream": "stdout",
       "text": [
        "\n",
        "(40, 8)\n",
        "retrieved 62 results for anonymous operation empire state mirror"
       ]
      },
      {
       "output_type": "stream",
       "stream": "stdout",
       "text": [
        "\n",
        "('anonymous operation empire state mirror', (62, 14))"
       ]
      },
      {
       "output_type": "stream",
       "stream": "stdout",
       "text": [
        "\n",
        "(62, 8)\n",
        "retrieved 182 results for anonymous operation sony mirror"
       ]
      },
      {
       "output_type": "stream",
       "stream": "stdout",
       "text": [
        "\n",
        "('anonymous operation sony mirror', (182, 14))"
       ]
      },
      {
       "output_type": "stream",
       "stream": "stdout",
       "text": [
        "\n",
        "(182, 8)\n",
        "retrieved 73 results for anonymous operation india mirror"
       ]
      },
      {
       "output_type": "stream",
       "stream": "stdout",
       "text": [
        "\n",
        "('anonymous operation india mirror', (73, 14))"
       ]
      },
      {
       "output_type": "stream",
       "stream": "stdout",
       "text": [
        "\n",
        "(73, 8)\n",
        "retrieved 27 results for anonymous operation malaysia mirror"
       ]
      },
      {
       "output_type": "stream",
       "stream": "stdout",
       "text": [
        "\n",
        "('anonymous operation malaysia mirror', (27, 14))"
       ]
      },
      {
       "output_type": "stream",
       "stream": "stdout",
       "text": [
        "\n",
        "(27, 8)\n",
        "retrieved 43 results for anonymous operation orlando mirror"
       ]
      },
      {
       "output_type": "stream",
       "stream": "stdout",
       "text": [
        "\n",
        "('anonymous operation orlando mirror', (43, 14))"
       ]
      },
      {
       "output_type": "stream",
       "stream": "stdout",
       "text": [
        "\n",
        "(43, 8)\n",
        "retrieved 171 results for anonymous operation antisec mirror"
       ]
      },
      {
       "output_type": "stream",
       "stream": "stdout",
       "text": [
        "\n",
        "('anonymous operation antisec mirror', (171, 14))"
       ]
      },
      {
       "output_type": "stream",
       "stream": "stdout",
       "text": [
        "\n",
        "(171, 8)\n",
        "retrieved 494 results for anonymous operation facebook mirror"
       ]
      },
      {
       "output_type": "stream",
       "stream": "stdout",
       "text": [
        "\n",
        "('anonymous operation facebook mirror', (494, 15))"
       ]
      },
      {
       "output_type": "stream",
       "stream": "stdout",
       "text": [
        "\n",
        "(494, 8)\n",
        "retrieved 100 results for anonymous operation bart mirror"
       ]
      },
      {
       "output_type": "stream",
       "stream": "stdout",
       "text": [
        "\n",
        "('anonymous operation bart mirror', (100, 14))"
       ]
      },
      {
       "output_type": "stream",
       "stream": "stdout",
       "text": [
        "\n",
        "(100, 8)\n",
        "retrieved 25 results for anonymous operation shooting sheriffs mirror"
       ]
      },
      {
       "output_type": "stream",
       "stream": "stdout",
       "text": [
        "\n",
        "('anonymous operation shooting sheriffs mirror', (25, 13))"
       ]
      },
      {
       "output_type": "stream",
       "stream": "stdout",
       "text": [
        "\n",
        "(25, 8)\n",
        "retrieved 493 results for anonymous operation wall street mirror"
       ]
      },
      {
       "output_type": "stream",
       "stream": "stdout",
       "text": [
        "\n",
        "('anonymous operation wall street mirror', (493, 14))"
       ]
      },
      {
       "output_type": "stream",
       "stream": "stdout",
       "text": [
        "\n",
        "(493, 8)\n",
        "retrieved 370 results for anonymous operation syria mirror"
       ]
      },
      {
       "output_type": "stream",
       "stream": "stdout",
       "text": [
        "\n",
        "('anonymous operation syria mirror', (370, 14))"
       ]
      },
      {
       "output_type": "stream",
       "stream": "stdout",
       "text": [
        "\n",
        "(370, 8)\n",
        "retrieved 49 results for anonymous operation darknet mirror"
       ]
      },
      {
       "output_type": "stream",
       "stream": "stdout",
       "text": [
        "\n",
        "('anonymous operation darknet mirror', (49, 13))"
       ]
      },
      {
       "output_type": "stream",
       "stream": "stdout",
       "text": [
        "\n",
        "(49, 8)\n",
        "retrieved 14 results for anonymous operation los zetas mirror"
       ]
      },
      {
       "output_type": "stream",
       "stream": "stdout",
       "text": [
        "\n",
        "('anonymous operation los zetas mirror', (14, 13))"
       ]
      },
      {
       "output_type": "stream",
       "stream": "stdout",
       "text": [
        "\n",
        "(14, 8)\n",
        "retrieved 46 results for anonymous operation brotherhood takedown mirror"
       ]
      },
      {
       "output_type": "stream",
       "stream": "stdout",
       "text": [
        "\n",
        "('anonymous operation brotherhood takedown mirror', (46, 13))"
       ]
      },
      {
       "output_type": "stream",
       "stream": "stdout",
       "text": [
        "\n",
        "(46, 8)\n",
        "retrieved 228 results for anonymous operation megaupload mirror"
       ]
      },
      {
       "output_type": "stream",
       "stream": "stdout",
       "text": [
        "\n",
        "('anonymous operation megaupload mirror', (228, 14))"
       ]
      },
      {
       "output_type": "stream",
       "stream": "stdout",
       "text": [
        "\n",
        "(228, 8)\n",
        "retrieved 123 results for anonymous operation black march mirror"
       ]
      },
      {
       "output_type": "stream",
       "stream": "stdout",
       "text": [
        "\n",
        "('anonymous operation black march mirror', (123, 14))"
       ]
      },
      {
       "output_type": "stream",
       "stream": "stdout",
       "text": [
        "\n",
        "(123, 8)\n",
        "retrieved 494 results for anonymous operation acta mirror"
       ]
      },
      {
       "output_type": "stream",
       "stream": "stdout",
       "text": [
        "\n",
        "('anonymous operation acta mirror', (494, 14))"
       ]
      },
      {
       "output_type": "stream",
       "stream": "stdout",
       "text": [
        "\n",
        "(494, 8)\n",
        "retrieved 239 results for anonymous operation pipa mirror"
       ]
      },
      {
       "output_type": "stream",
       "stream": "stdout",
       "text": [
        "\n",
        "('anonymous operation pipa mirror', (239, 14))"
       ]
      },
      {
       "output_type": "stream",
       "stream": "stdout",
       "text": [
        "\n",
        "(239, 8)\n",
        "retrieved 485 results for anonymous operation sopa mirror"
       ]
      },
      {
       "output_type": "stream",
       "stream": "stdout",
       "text": [
        "\n",
        "('anonymous operation sopa mirror', (485, 15))"
       ]
      },
      {
       "output_type": "stream",
       "stream": "stdout",
       "text": [
        "\n",
        "(485, 8)\n",
        "retrieved 469 results for anonymous operation blackout mirror"
       ]
      },
      {
       "output_type": "stream",
       "stream": "stdout",
       "text": [
        "\n",
        "('anonymous operation blackout mirror', (469, 15))"
       ]
      },
      {
       "output_type": "stream",
       "stream": "stdout",
       "text": [
        "\n",
        "(469, 8)\n",
        "retrieved 66 results for anonymous operation kony mirror"
       ]
      },
      {
       "output_type": "stream",
       "stream": "stdout",
       "text": [
        "\n",
        "('anonymous operation kony mirror', (66, 14))"
       ]
      },
      {
       "output_type": "stream",
       "stream": "stdout",
       "text": [
        "\n",
        "(66, 8)\n",
        "retrieved 98 results for anonymous operation greece mirror"
       ]
      },
      {
       "output_type": "stream",
       "stream": "stdout",
       "text": [
        "\n",
        "('anonymous operation greece mirror', (98, 14))"
       ]
      },
      {
       "output_type": "stream",
       "stream": "stdout",
       "text": [
        "\n",
        "(98, 8)\n",
        "retrieved 24 results for anonymous operation quebec mirror"
       ]
      },
      {
       "output_type": "stream",
       "stream": "stdout",
       "text": [
        "\n",
        "('anonymous operation quebec mirror', (24, 13))"
       ]
      },
      {
       "output_type": "stream",
       "stream": "stdout",
       "text": [
        "\n",
        "(24, 8)\n",
        "retrieved 106 results for anonymous operation japan mirror"
       ]
      },
      {
       "output_type": "stream",
       "stream": "stdout",
       "text": [
        "\n",
        "('anonymous operation japan mirror', (106, 13))"
       ]
      },
      {
       "output_type": "stream",
       "stream": "stdout",
       "text": [
        "\n",
        "(106, 8)\n",
        "retrieved 28 results for anonymous operation blitzkrieg mirror"
       ]
      },
      {
       "output_type": "stream",
       "stream": "stdout",
       "text": [
        "\n",
        "('anonymous operation blitzkrieg mirror', (28, 14))"
       ]
      },
      {
       "output_type": "stream",
       "stream": "stdout",
       "text": [
        "\n",
        "(28, 8)\n",
        "retrieved 18 results for anonymous operation anaheim mirror"
       ]
      },
      {
       "output_type": "stream",
       "stream": "stdout",
       "text": [
        "\n",
        "('anonymous operation anaheim mirror', (18, 13))"
       ]
      },
      {
       "output_type": "stream",
       "stream": "stdout",
       "text": [
        "\n",
        "(18, 8)\n",
        "retrieved 29 results for anonymous operation steubenville mirror"
       ]
      },
      {
       "output_type": "stream",
       "stream": "stdout",
       "text": [
        "\n",
        "('anonymous operation steubenville mirror', (29, 13))"
       ]
      },
      {
       "output_type": "stream",
       "stream": "stdout",
       "text": [
        "\n",
        "(29, 8)\n",
        "retrieved 49 results for anonymous operation darknet mirror"
       ]
      },
      {
       "output_type": "stream",
       "stream": "stdout",
       "text": [
        "\n",
        "('anonymous operation darknet mirror', (49, 13))"
       ]
      },
      {
       "output_type": "stream",
       "stream": "stdout",
       "text": [
        "\n",
        "(49, 8)\n",
        "retrieved 110 results for anonymous operation paperstorm mirror"
       ]
      },
      {
       "output_type": "stream",
       "stream": "stdout",
       "text": [
        "\n",
        "('anonymous operation paperstorm mirror', (110, 14))"
       ]
      },
      {
       "output_type": "stream",
       "stream": "stdout",
       "text": [
        "\n",
        "(110, 8)\n",
        "retrieved 62 results for anonymous operation aaron swartz mirror"
       ]
      },
      {
       "output_type": "stream",
       "stream": "stdout",
       "text": [
        "\n",
        "('anonymous operation aaron swartz mirror', (62, 13))"
       ]
      },
      {
       "output_type": "stream",
       "stream": "stdout",
       "text": [
        "\n",
        "(62, 8)\n",
        "retrieved 162 results for anonymous operation federal reserve mirror"
       ]
      },
      {
       "output_type": "stream",
       "stream": "stdout",
       "text": [
        "\n",
        "('anonymous operation federal reserve mirror', (162, 14))"
       ]
      },
      {
       "output_type": "stream",
       "stream": "stdout",
       "text": [
        "\n",
        "(162, 8)\n",
        "retrieved 63 results for anonymous operation north korea mirror"
       ]
      },
      {
       "output_type": "stream",
       "stream": "stdout",
       "text": [
        "\n",
        "('anonymous operation north korea mirror', (63, 14))"
       ]
      },
      {
       "output_type": "stream",
       "stream": "stdout",
       "text": [
        "\n",
        "(63, 8)\n",
        "retrieved 215 results for anonymous operation israel mirror"
       ]
      },
      {
       "output_type": "stream",
       "stream": "stdout",
       "text": [
        "\n",
        "('anonymous operation israel mirror', (215, 14))"
       ]
      },
      {
       "output_type": "stream",
       "stream": "stdout",
       "text": [
        "\n",
        "(215, 8)\n",
        "retrieved 107 results for anonymous operation last resort mirror"
       ]
      },
      {
       "output_type": "stream",
       "stream": "stdout",
       "text": [
        "\n",
        "('anonymous operation last resort mirror', (107, 14))"
       ]
      },
      {
       "output_type": "stream",
       "stream": "stdout",
       "text": [
        "\n",
        "(107, 8)\n",
        "retrieved 499 results for anonymous operation vendetta mirror"
       ]
      },
      {
       "output_type": "stream",
       "stream": "stdout",
       "text": [
        "\n",
        "('anonymous operation vendetta mirror', (499, 14))"
       ]
      },
      {
       "output_type": "stream",
       "stream": "stdout",
       "text": [
        "\n",
        "(499, 8)\n",
        "retrieved 151 results for anonymous operation cispa mirror"
       ]
      },
      {
       "output_type": "stream",
       "stream": "stdout",
       "text": [
        "\n",
        "('anonymous operation cispa mirror', (151, 14))"
       ]
      },
      {
       "output_type": "stream",
       "stream": "stdout",
       "text": [
        "\n",
        "(151, 8)\n",
        "retrieved 320 results for anonymous operation NSA mirror"
       ]
      },
      {
       "output_type": "stream",
       "stream": "stdout",
       "text": [
        "\n",
        "('anonymous operation NSA mirror', (320, 14))"
       ]
      },
      {
       "output_type": "stream",
       "stream": "stdout",
       "text": [
        "\n",
        "(320, 8)\n",
        "retrieved 466 results for anonymous operation american freedom mirror"
       ]
      },
      {
       "output_type": "stream",
       "stream": "stdout",
       "text": [
        "\n",
        "('anonymous operation american freedom mirror', (466, 14))"
       ]
      },
      {
       "output_type": "stream",
       "stream": "stdout",
       "text": [
        "\n",
        "(466, 8)\n",
        "retrieved 91 results for anonymous operation big brother mirror"
       ]
      },
      {
       "output_type": "stream",
       "stream": "stdout",
       "text": [
        "\n",
        "('anonymous operation big brother mirror', (91, 13))"
       ]
      },
      {
       "output_type": "stream",
       "stream": "stdout",
       "text": [
        "\n",
        "(91, 8)\n",
        "retrieved 500 results for anonymous operation V mirror"
       ]
      },
      {
       "output_type": "stream",
       "stream": "stdout",
       "text": [
        "\n",
        "('anonymous operation V mirror', (500, 15))"
       ]
      },
      {
       "output_type": "stream",
       "stream": "stdout",
       "text": [
        "\n",
        "(500, 8)\n",
        "retrieved 454 results for anonymous operation westboro baptist church mirror"
       ]
      },
      {
       "output_type": "stream",
       "stream": "stdout",
       "text": [
        "\n",
        "('anonymous operation westboro baptist church mirror', (454, 15))"
       ]
      },
      {
       "output_type": "stream",
       "stream": "stdout",
       "text": [
        "\n",
        "(454, 8)\n",
        "retrieved 38 results for anonymous operation support snowden mirror"
       ]
      },
      {
       "output_type": "stream",
       "stream": "stdout",
       "text": [
        "\n",
        "('anonymous operation support snowden mirror', (38, 14))"
       ]
      },
      {
       "output_type": "stream",
       "stream": "stdout",
       "text": [
        "\n",
        "(38, 8)\n",
        "retrieved 3 results for anonymous operation kiwi freedom mirror"
       ]
      },
      {
       "output_type": "stream",
       "stream": "stdout",
       "text": [
        "\n",
        "('anonymous operation kiwi freedom mirror', (3, 13))"
       ]
      },
      {
       "output_type": "stream",
       "stream": "stdout",
       "text": [
        "\n",
        "(3, 8)\n",
        "retrieved 282 results for anonymous operation world bank mirror"
       ]
      },
      {
       "output_type": "stream",
       "stream": "stdout",
       "text": [
        "\n",
        "('anonymous operation world bank mirror', (282, 14))"
       ]
      },
      {
       "output_type": "stream",
       "stream": "stdout",
       "text": [
        "\n",
        "(282, 8)\n",
        "retrieved 368 results for anonymous operation awake the masses mirror"
       ]
      },
      {
       "output_type": "stream",
       "stream": "stdout",
       "text": [
        "\n",
        "('anonymous operation awake the masses mirror', (368, 14))"
       ]
      },
      {
       "output_type": "stream",
       "stream": "stdout",
       "text": [
        "\n",
        "(368, 8)\n",
        "retrieved 134 results for anonymous operation cannabis mirror"
       ]
      },
      {
       "output_type": "stream",
       "stream": "stdout",
       "text": [
        "\n",
        "('anonymous operation cannabis mirror', (134, 14))"
       ]
      },
      {
       "output_type": "stream",
       "stream": "stdout",
       "text": [
        "\n",
        "(134, 8)\n",
        "retrieved 5 results for anonymous operation rohingya mirror"
       ]
      },
      {
       "output_type": "stream",
       "stream": "stdout",
       "text": [
        "\n",
        "('anonymous operation rohingya mirror', (5, 13))"
       ]
      },
      {
       "output_type": "stream",
       "stream": "stdout",
       "text": [
        "\n",
        "(5, 8)\n",
        "retrieved 5 results for anonymous operation rose awareness mirror"
       ]
      },
      {
       "output_type": "stream",
       "stream": "stdout",
       "text": [
        "\n",
        "('anonymous operation rose awareness mirror', (5, 13))"
       ]
      },
      {
       "output_type": "stream",
       "stream": "stdout",
       "text": [
        "\n",
        "(5, 8)\n",
        "retrieved 25 results for anonymous operation rebuild the hive mirror"
       ]
      },
      {
       "output_type": "stream",
       "stream": "stdout",
       "text": [
        "\n",
        "('anonymous operation rebuild the hive mirror', (25, 14))"
       ]
      },
      {
       "output_type": "stream",
       "stream": "stdout",
       "text": [
        "\n",
        "(25, 8)\n",
        "retrieved 27 results for anonymous operation bahrain mirror"
       ]
      },
      {
       "output_type": "stream",
       "stream": "stdout",
       "text": [
        "\n",
        "('anonymous operation bahrain mirror', (27, 13))"
       ]
      },
      {
       "output_type": "stream",
       "stream": "stdout",
       "text": [
        "\n",
        "(27, 8)\n",
        "retrieved 87 results for anonymous operation ukraine mirror"
       ]
      },
      {
       "output_type": "stream",
       "stream": "stdout",
       "text": [
        "\n",
        "('anonymous operation ukraine mirror', (87, 13))"
       ]
      },
      {
       "output_type": "stream",
       "stream": "stdout",
       "text": [
        "\n",
        "(87, 8)\n",
        "retrieved 47 results for anonymous operation pirate bay mirror"
       ]
      },
      {
       "output_type": "stream",
       "stream": "stdout",
       "text": [
        "\n",
        "('anonymous operation pirate bay mirror', (47, 14))"
       ]
      },
      {
       "output_type": "stream",
       "stream": "stdout",
       "text": [
        "\n",
        "(47, 8)\n",
        "retrieved 10 results for anonymous operation petrol mirror"
       ]
      },
      {
       "output_type": "stream",
       "stream": "stdout",
       "text": [
        "\n",
        "('anonymous operation petrol mirror', (10, 13))"
       ]
      },
      {
       "output_type": "stream",
       "stream": "stdout",
       "text": [
        "\n",
        "(10, 8)\n",
        "retrieved 26 results for anonymous operation ele mirror"
       ]
      },
      {
       "output_type": "stream",
       "stream": "stdout",
       "text": [
        "\n",
        "('anonymous operation ele mirror', (26, 14))"
       ]
      },
      {
       "output_type": "stream",
       "stream": "stdout",
       "text": [
        "\n",
        "(26, 8)\n",
        "retrieved 20 results for anonymous operation guantanamo bay mirror"
       ]
      },
      {
       "output_type": "stream",
       "stream": "stdout",
       "text": [
        "\n",
        "('anonymous operation guantanamo bay mirror', (20, 13))"
       ]
      },
      {
       "output_type": "stream",
       "stream": "stdout",
       "text": [
        "\n",
        "(20, 8)\n",
        "retrieved 32 results for anonymous operation safe winter mirror"
       ]
      },
      {
       "output_type": "stream",
       "stream": "stdout",
       "text": [
        "\n",
        "('anonymous operation safe winter mirror', (32, 13))"
       ]
      },
      {
       "output_type": "stream",
       "stream": "stdout",
       "text": [
        "\n",
        "(32, 8)\n",
        "retrieved 6 results for anonymous operation maryville mirror"
       ]
      },
      {
       "output_type": "stream",
       "stream": "stdout",
       "text": [
        "\n",
        "('anonymous operation maryville mirror', (6, 13))"
       ]
      },
      {
       "output_type": "stream",
       "stream": "stdout",
       "text": [
        "\n",
        "(6, 8)\n",
        "retrieved 22 results for anonymous operation green rights mirror"
       ]
      },
      {
       "output_type": "stream",
       "stream": "stdout",
       "text": [
        "\n",
        "('anonymous operation green rights mirror', (22, 13))"
       ]
      },
      {
       "output_type": "stream",
       "stream": "stdout",
       "text": [
        "\n",
        "(22, 8)\n",
        "retrieved 47 results for anonymous operation fullerton mirror"
       ]
      },
      {
       "output_type": "stream",
       "stream": "stdout",
       "text": [
        "\n",
        "('anonymous operation fullerton mirror', (47, 14))"
       ]
      },
      {
       "output_type": "stream",
       "stream": "stdout",
       "text": [
        "\n",
        "(47, 8)\n",
        "retrieved 301 results for anonymous operation american spring mirror"
       ]
      },
      {
       "output_type": "stream",
       "stream": "stdout",
       "text": [
        "\n",
        "('anonymous operation american spring mirror', (301, 14))"
       ]
      },
      {
       "output_type": "stream",
       "stream": "stdout",
       "text": [
        "\n",
        "(301, 8)\n",
        "retrieved 4 results for anonymous operation hunthunter mirror"
       ]
      },
      {
       "output_type": "stream",
       "stream": "stdout",
       "text": [
        "\n",
        "('anonymous operation hunthunter mirror', (4, 12))"
       ]
      },
      {
       "output_type": "stream",
       "stream": "stdout",
       "text": [
        "\n",
        "(4, 8)\n"
       ]
      }
     ],
     "prompt_number": 9
    },
    {
     "cell_type": "code",
     "collapsed": false,
     "input": [
      "df  = yt.youtube_search(operations[-1],1000, True)\n",
      "df['operation'] = operations[-1]\n",
      "df_ops = df_ops.append(df)"
     ],
     "language": "python",
     "metadata": {},
     "outputs": [
      {
       "output_type": "stream",
       "stream": "stdout",
       "text": [
        "retrieved 460 results for anonymous project mayhem\n",
        "('anonymous project mayhem', (460, 14))"
       ]
      },
      {
       "output_type": "stream",
       "stream": "stdout",
       "text": [
        "\n",
        "(460, 8)\n"
       ]
      }
     ],
     "prompt_number": 25
    },
    {
     "cell_type": "code",
     "collapsed": false,
     "input": [
      "print ('overall video details:' + str(df_ops.shape))"
     ],
     "language": "python",
     "metadata": {},
     "outputs": [
      {
       "output_type": "stream",
       "stream": "stdout",
       "text": [
        "overall video details:(39492, 23)\n"
       ]
      }
     ],
     "prompt_number": 78
    },
    {
     "cell_type": "code",
     "collapsed": false,
     "input": [
      "# local save  -- around 25Mb\n",
      "df_ops.to_pickle('data/operations_results.pyd')"
     ],
     "language": "python",
     "metadata": {},
     "outputs": [],
     "prompt_number": 79
    },
    {
     "cell_type": "code",
     "collapsed": false,
     "input": [
      "df1.description.ix[df1.viewCount.idxmax()]"
     ],
     "language": "python",
     "metadata": {},
     "outputs": [
      {
       "metadata": {},
       "output_type": "pyout",
       "prompt_number": 52,
       "text": [
        "'Aqu\\xc3\\xad, un miembro oficial de Anonymous, aclara, que la Operaci\\xc3\\xb3n Facebook nunca fue aprobada por todo el equipo.'"
       ]
      }
     ],
     "prompt_number": 52
    },
    {
     "cell_type": "code",
     "collapsed": false,
     "input": [
      "df1.title.value_counts()"
     ],
     "language": "python",
     "metadata": {},
     "outputs": [
      {
       "metadata": {},
       "output_type": "pyout",
       "prompt_number": 65,
       "text": [
        "Anonymous                                                  158\n",
        "Anonymous - Operation ANTI-ACTA                            115\n",
        "Anonymous members arraigned in 'Operation Payback' case     81\n",
        "Anonymous Operation Last Resort                             78\n",
        "Anonymous - #Operation American Freedom                     71\n",
        "...\n",
        "$304,601.80USD bank of america visa gift card and bank of america ira    1\n",
        "( \u0643\u0644\u0645\u0629 \u0644\u0637\u064a\u0641\u0629 \u0641\u0631\u062c\u0627\u0646\u064a \u0641\u064a \u0627\u0644\u0627\u062c\u062a\u0645\u0627\u0639 \u0627\u0644\u0639\u0627\u0645 \u0628\u0648\u0641\u064a\u0634\u0629 (1                 1\n",
        "Take Control of Your Freedom                                    1\n",
        "What is ACTA?- Declaration by Anonymous / Was ist ACTA? - Erkl\u00e4rung von Anonymous    1\n",
        "Khas in Action!!                                                1\n",
        "Anonymous 4/12/08 OPERATION RECONNECT Worldwide Recap Video     1\n",
        "Length: 21014, dtype: int64"
       ]
      }
     ],
     "prompt_number": 65
    },
    {
     "cell_type": "markdown",
     "metadata": {},
     "source": [
      "List of titles shows that data still needs cleaning. How to clean out all these none-anonymous videos?"
     ]
    }
   ],
   "metadata": {}
  }
 ]
}