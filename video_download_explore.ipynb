{
 "metadata": {
  "name": "video_download_explore"
 },
 "nbformat": 3,
 "nbformat_minor": 0,
 "worksheets": [
  {
   "cells": [
    {
     "cell_type": "code",
     "collapsed": false,
     "input": [
      "import subprocess as sp"
     ],
     "language": "python",
     "metadata": {},
     "outputs": [],
     "prompt_number": 1
    },
    {
     "cell_type": "code",
     "collapsed": false,
     "input": [
      "pipe = sp.Popen([ FFMPEG_BIN, \"-i\", \"myHolidays.mp4\",\n",
      "                   \"-f\", \"image2pipe\",\n",
      "                   \"-pix_fmt\", \"rgb24\",\n",
      "                   \"-vcodec', \"rawvideo\", \"-\"],"
     ],
     "language": "python",
     "metadata": {},
     "outputs": [],
     "prompt_number": 2
    },
    {
     "cell_type": "code",
     "collapsed": false,
     "input": [
      "                   stdin = sp.PIPE, stdout = sp.PIPE)"
     ],
     "language": "python",
     "metadata": {},
     "outputs": [],
     "prompt_number": 3
    },
    {
     "cell_type": "code",
     "collapsed": false,
     "input": [
      "pipe = sp.Popen([ FFMPEG_BIN, \"-i\", \"images/test.mp4\",\n",
      "                   \"-f\", \"image2pipe\",\n",
      "                   \"-pix_fmt\", \"rgb24\",\n",
      "                   \"-vcodec', \"rawvideo\", \"-\"], stdin = sp.PIPE, stdout = sp.PIPE)"
     ],
     "language": "python",
     "metadata": {},
     "outputs": [],
     "prompt_number": 4
    },
    {
     "cell_type": "code",
     "collapsed": false,
     "input": [
      "pipe = sp.Popen([ FFMPEG_BIN, \"-i\", \"images/test.mp4\",\n",
      "                   \"-f\", \"image2pipe\",\n",
      "                   \"-pix_fmt\", \"rgb24\",\"-vcodec', \"rawvideo\", \"-\"], stdin = sp.PIPE, stdout = sp.PIPE)"
     ],
     "language": "python",
     "metadata": {},
     "outputs": [],
     "prompt_number": 5
    },
    {
     "cell_type": "code",
     "collapsed": false,
     "input": [
      "pipe = sp.Popen([ FFMPEG_BIN, \"-i\", \"images/test.mp4\",\n",
      "                   \"-f\", \"image2pipe\",\n",
      "                   \"-pix_fmt\", \"rgb24\",\"-vcodec\", \"rawvideo\", \"-\"], stdin = sp.PIPE, stdout = sp.PIPE)"
     ],
     "language": "python",
     "metadata": {},
     "outputs": [],
     "prompt_number": 6
    },
    {
     "cell_type": "code",
     "collapsed": false,
     "input": [
      "FFMPEG_BIN = \"ffmpeg\""
     ],
     "language": "python",
     "metadata": {},
     "outputs": [],
     "prompt_number": 7
    },
    {
     "cell_type": "code",
     "collapsed": false,
     "input": [
      "pipe = sp.Popen([ FFMPEG_BIN, \"-i\", \"images/test.mp4\",\n",
      "                   \"-f\", \"image2pipe\",\n",
      "                   \"-pix_fmt\", \"rgb24\",\"-vcodec\", \"rawvideo\", \"-\"], stdin = sp.PIPE, stdout = sp.PIPE)"
     ],
     "language": "python",
     "metadata": {},
     "outputs": [],
     "prompt_number": 8
    },
    {
     "cell_type": "code",
     "collapsed": false,
     "input": [
      "pipe = sp.Popen([ FFMPEG_BIN, \"-i\", \"images/test.mp4\",\n",
      "                   \"-f\", \"image2pipe\",\n",
      "                   \"-pix_fmt\", \"rgb24\",\"-vcodec\", \"rawvideo\", \"-\"], stdin = sp.PIPE, stdout = sp.PIPE)"
     ],
     "language": "python",
     "metadata": {},
     "outputs": [],
     "prompt_number": 9
    },
    {
     "cell_type": "code",
     "collapsed": false,
     "input": [
      "FFMPEG_BIN = \"ffmpeg-harvid\""
     ],
     "language": "python",
     "metadata": {},
     "outputs": [],
     "prompt_number": 10
    },
    {
     "cell_type": "code",
     "collapsed": false,
     "input": [
      "pipe = sp.Popen([ FFMPEG_BIN, \"-i\", \"images/test.mp4\",\n",
      "                   \"-f\", \"image2pipe\",\n",
      "                   \"-pix_fmt\", \"rgb24\",\"-vcodec\", \"rawvideo\", \"-\"], stdin = sp.PIPE, stdout = sp.PIPE)"
     ],
     "language": "python",
     "metadata": {},
     "outputs": [],
     "prompt_number": 11
    },
    {
     "cell_type": "code",
     "collapsed": false,
     "input": [
      "FFMPEG_BIN = \"ffmpeg\""
     ],
     "language": "python",
     "metadata": {},
     "outputs": [],
     "prompt_number": 12
    },
    {
     "cell_type": "code",
     "collapsed": false,
     "input": [
      "pipe = sp.Popen([ FFMPEG_BIN, \"-i\", \"images/test.mp4\",\n",
      "                   \"-f\", \"image2pipe\",\n",
      "                   \"-pix_fmt\", \"rgb24\",\"-vcodec\", \"rawvideo\", \"-\"], stdin = sp.PIPE, stdout = sp.PIPE)"
     ],
     "language": "python",
     "metadata": {},
     "outputs": [],
     "prompt_number": 13
    },
    {
     "cell_type": "code",
     "collapsed": false,
     "input": [
      "raw_image = pipe.stdout.read(420*360*3) # read 420*360*3 bytes (= 1 frame)"
     ],
     "language": "python",
     "metadata": {},
     "outputs": [],
     "prompt_number": 14
    },
    {
     "cell_type": "code",
     "collapsed": false,
     "input": [
      "image =  numpy.fromstring(raw_image, dtype='uint8').reshape((360,420,3))"
     ],
     "language": "python",
     "metadata": {},
     "outputs": [],
     "prompt_number": 15
    },
    {
     "cell_type": "code",
     "collapsed": false,
     "input": [
      "image =  np.fromstring(raw_image, dtype='uint8').reshape((360,420,3))"
     ],
     "language": "python",
     "metadata": {},
     "outputs": [],
     "prompt_number": 16
    },
    {
     "cell_type": "code",
     "collapsed": false,
     "input": [
      "import numpy as np"
     ],
     "language": "python",
     "metadata": {},
     "outputs": [],
     "prompt_number": 17
    },
    {
     "cell_type": "code",
     "collapsed": false,
     "input": [
      "image =  np.fromstring(raw_image, dtype='uint8').reshape((360,420,3))"
     ],
     "language": "python",
     "metadata": {},
     "outputs": [],
     "prompt_number": 18
    },
    {
     "cell_type": "code",
     "collapsed": false,
     "input": [
      "image"
     ],
     "language": "python",
     "metadata": {},
     "outputs": [],
     "prompt_number": 19
    },
    {
     "cell_type": "code",
     "collapsed": false,
     "input": [
      "import matplotlib.pylab"
     ],
     "language": "python",
     "metadata": {},
     "outputs": [],
     "prompt_number": 20
    },
    {
     "cell_type": "code",
     "collapsed": false,
     "input": [
      "import matplotlib.pylab as pylab"
     ],
     "language": "python",
     "metadata": {},
     "outputs": [],
     "prompt_number": 21
    },
    {
     "cell_type": "code",
     "collapsed": false,
     "input": [
      "pylab.imshow(image)"
     ],
     "language": "python",
     "metadata": {},
     "outputs": [],
     "prompt_number": 22
    },
    {
     "cell_type": "code",
     "collapsed": false,
     "input": [
      "%matplotlib"
     ],
     "language": "python",
     "metadata": {},
     "outputs": [],
     "prompt_number": 23
    },
    {
     "cell_type": "code",
     "collapsed": false,
     "input": [
      "pylab.imshow(image)"
     ],
     "language": "python",
     "metadata": {},
     "outputs": [],
     "prompt_number": 24
    },
    {
     "cell_type": "code",
     "collapsed": false,
     "input": [
      "raw_image = pipe.stdout.read(420*360*3) # read 420*360*3 bytes (= 1 frame)"
     ],
     "language": "python",
     "metadata": {},
     "outputs": [],
     "prompt_number": 25
    },
    {
     "cell_type": "code",
     "collapsed": false,
     "input": [
      "image =  np.fromstring(raw_image, dtype='uint8').reshape((360,420,3))"
     ],
     "language": "python",
     "metadata": {},
     "outputs": [],
     "prompt_number": 26
    },
    {
     "cell_type": "code",
     "collapsed": false,
     "input": [
      "pylab.imshow(image)"
     ],
     "language": "python",
     "metadata": {},
     "outputs": [],
     "prompt_number": 27
    },
    {
     "cell_type": "code",
     "collapsed": false,
     "input": [
      "raw_image = pipe.stdout.read(420*360*3) # read 420*360*3 bytes (= 1 frame)"
     ],
     "language": "python",
     "metadata": {},
     "outputs": [],
     "prompt_number": 28
    },
    {
     "cell_type": "code",
     "collapsed": false,
     "input": [
      "image =  np.fromstring(raw_image, dtype='uint8').reshape((360,420,3))"
     ],
     "language": "python",
     "metadata": {},
     "outputs": [],
     "prompt_number": 29
    },
    {
     "cell_type": "code",
     "collapsed": false,
     "input": [
      "import cv2"
     ],
     "language": "python",
     "metadata": {},
     "outputs": [],
     "prompt_number": 30
    },
    {
     "cell_type": "code",
     "collapsed": false,
     "input": [
      "import cv2"
     ],
     "language": "python",
     "metadata": {},
     "outputs": [],
     "prompt_number": 31
    },
    {
     "cell_type": "code",
     "collapsed": false,
     "input": [
      "v = cv2.VideoCapture('images/test.mp4')"
     ],
     "language": "python",
     "metadata": {},
     "outputs": [],
     "prompt_number": 32
    },
    {
     "cell_type": "code",
     "collapsed": false,
     "input": [
      "success,image = vidcap.read()"
     ],
     "language": "python",
     "metadata": {},
     "outputs": [],
     "prompt_number": 33
    },
    {
     "cell_type": "code",
     "collapsed": false,
     "input": [
      "success,image = v.read()"
     ],
     "language": "python",
     "metadata": {},
     "outputs": [],
     "prompt_number": 34
    },
    {
     "cell_type": "code",
     "collapsed": false,
     "input": [
      "image"
     ],
     "language": "python",
     "metadata": {},
     "outputs": [],
     "prompt_number": 35
    },
    {
     "cell_type": "code",
     "collapsed": false,
     "input": [
      "vidcap = v"
     ],
     "language": "python",
     "metadata": {},
     "outputs": [],
     "prompt_number": 36
    },
    {
     "cell_type": "code",
     "collapsed": false,
     "input": [
      "success,image = vidcap.read()"
     ],
     "language": "python",
     "metadata": {},
     "outputs": [],
     "prompt_number": 37
    },
    {
     "cell_type": "code",
     "collapsed": false,
     "input": [
      "%paste"
     ],
     "language": "python",
     "metadata": {},
     "outputs": [],
     "prompt_number": 38
    }
   ],
   "metadata": {}
  }
 ]
}