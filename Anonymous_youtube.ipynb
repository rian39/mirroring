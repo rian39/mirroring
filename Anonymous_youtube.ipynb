{
 "metadata": {
  "name": "Anonymous_youtube"
 },
 "nbformat": 3,
 "nbformat_minor": 0,
 "worksheets": [
  {
   "cells": [
    {
     "cell_type": "markdown",
     "metadata": {},
     "source": [
      "# Exploration of the Anonymous videos on Youtube. \n",
      "\n",
      "## How the initial data was generated (by Davide Beraldo)\n",
      "\n",
      "Here's what Davide wrote in his email:\n",
      "\n",
      "> The query: \"anonymous internet freedom\"\n",
      "\n",
      "Some notes: I have just discovered that some changes have been made to YT api, so the script was not able to retreive keywords associated with videos (that can be interesting for semantic network analysis purposed) and that videos descriptions are truncated. I will try to figure out whether is possible to fix the first shortcome; for the second, luckly the \"related videos\" descriptions are still complete..and usually there is wide redundancy, so maybe it can be easily overcame (consider that in this sample I restricted related videos to 25 for each); the comments are also in this case limited to 25; videos are ordered by relevance computed by Youtube itself; users are limited to original content submitters; the string I input as keyword was only \"anonymous internet freedom\".\n",
      "\n",
      "(1) retrieve up to 1000 videos queried by keywords (including username,date,category,n of favorites, n of views,duration, tags and description)\n",
      "-maybe it is possible to extend the 1000 limit, or by the way it can be somehow done with the following module-\n",
      "\n",
      "(2) reconstruct the network of \"related videos\" for each video retrieved (with the metadata above)\n",
      "-the alghoritm for matching related videos is of course not known, but as far as I understood it should be both related to tags and to users' behaviour: the more two videos are viewed in sequence, the more related they'll be... so it can provide interesting insights on network of content-\n",
      "\n",
      "(3) scrape comments related to the videos/related videos retrieved (including user name, time and parent comments) \n",
      "The geo info are quite tricky cause there is no \"nationality\" associated to the video, but the language...at least not provided with the api! But maybe something can be inferred with a heuristic approach (nations mentioned in the title/description/comments)\n",
      "\n"
     ]
    },
    {
     "cell_type": "markdown",
     "metadata": {},
     "source": [
      "## Generating the data from Youtube API\n",
      "\n",
      "Davide's dataset is really useful, but I found it hard to replicate the same results. The scripts I wrote to query the YT api bring back different results. This needs to be investigated.\n",
      "Also because Google/Youtube only returns a maximum of 1000 results, we need to think of ways of 'tiling' the queries to get around this limitation. At least, so that we can be reasonably satisfied we are getting all the relevant videos."
     ]
    },
    {
     "cell_type": "code",
     "collapsed": true,
     "input": [
      "import pandas as pd\n",
      "import YT_api_generate as yt\n",
      "from pylab import *\n",
      "from IPython.display import HTML\n",
      "from IPython.display import YouTubeVideo\n",
      "pd.set_option(\"display.max_columns\", 6)\n",
      "pd.set_option(\"display.max_rows\", 15)\n",
      "pd.set_option(\"display.notebook_repr_html\", True)\n",
      "from optparse import OptionParser"
     ],
     "language": "python",
     "metadata": {},
     "outputs": [],
     "prompt_number": 41
    },
    {
     "cell_type": "code",
     "collapsed": true,
     "input": [
      "an_f = pd.ExcelFile('data/anonymouys internet freedom - VIDEOS.xls')\n",
      "an_dict = {name:an_f.parse(name) for name in an_f.sheet_names}\n",
      "video_df = an_dict['VIDEOS']\n",
      "#clean up data a bit\n",
      "video_df.VIEWS = video_df.VIEWS.replace('None', 0)\n",
      "video_df.shape"
     ],
     "language": "python",
     "metadata": {},
     "outputs": [
      {
       "output_type": "pyout",
       "prompt_number": 42,
       "text": [
        "(908, 11)"
       ]
      }
     ],
     "prompt_number": 42
    },
    {
     "cell_type": "markdown",
     "metadata": {},
     "source": [
      "The dataset has about a 1000 rows, but many seem duplicates. So cutting those out: ... "
     ]
    },
    {
     "cell_type": "code",
     "collapsed": false,
     "input": [
      "video_df = video_df.drop_duplicates()\n",
      "print(video_df.shape)\n",
      "print('Users: ', len(video_df.USER.unique()))\n",
      "print('Titles: ', len(video_df.TITLE.unique()))"
     ],
     "language": "python",
     "metadata": {},
     "outputs": [
      {
       "output_type": "stream",
       "stream": "stdout",
       "text": [
        "(289, 11)\n",
        "('Users: ', 246)\n",
        "('Titles: ', 283)\n"
       ]
      }
     ],
     "prompt_number": 43
    },
    {
     "cell_type": "markdown",
     "metadata": {},
     "source": [
      "There are 908 titles in the Beraldo dataset, of which 283 are unique. There are 246 users -- people (robots?) who upload videos. \n",
      "\n",
      "Comparing Davide's results with the ones I get from the Youtube API:"
     ]
    },
    {
     "cell_type": "code",
     "collapsed": true,
     "input": [
      "df_am = yt.youtube_search(query='anonymous,internet,freedom', max_results=1000, with_statistics=True)"
     ],
     "language": "python",
     "metadata": {},
     "outputs": [
      {
       "output_type": "stream",
       "stream": "stdout",
       "text": [
        "getting another page of results ... 50\n",
        "getting another page of results ... 100"
       ]
      },
      {
       "output_type": "stream",
       "stream": "stdout",
       "text": [
        "\n",
        "getting another page of results ... 150"
       ]
      },
      {
       "output_type": "stream",
       "stream": "stdout",
       "text": [
        "\n",
        "getting another page of results ... 200"
       ]
      },
      {
       "output_type": "stream",
       "stream": "stdout",
       "text": [
        "\n",
        "getting another page of results ... 250"
       ]
      },
      {
       "output_type": "stream",
       "stream": "stdout",
       "text": [
        "\n",
        "getting another page of results ... 300"
       ]
      },
      {
       "output_type": "stream",
       "stream": "stdout",
       "text": [
        "\n",
        "getting another page of results ... 350"
       ]
      },
      {
       "output_type": "stream",
       "stream": "stdout",
       "text": [
        "\n",
        "getting another page of results ... 373"
       ]
      },
      {
       "output_type": "stream",
       "stream": "stdout",
       "text": [
        "\n",
        "getting another page of results ... 423"
       ]
      },
      {
       "output_type": "stream",
       "stream": "stdout",
       "text": [
        "\n",
        "getting another page of results ... 473"
       ]
      },
      {
       "output_type": "stream",
       "stream": "stdout",
       "text": [
        "\n",
        "getting another page of results ... 523"
       ]
      },
      {
       "output_type": "stream",
       "stream": "stdout",
       "text": [
        "\n",
        "getting another page of results ... 573"
       ]
      },
      {
       "output_type": "stream",
       "stream": "stdout",
       "text": [
        "\n",
        "getting another page of results ... 623"
       ]
      },
      {
       "output_type": "stream",
       "stream": "stdout",
       "text": [
        "\n",
        "getting another page of results ... 673"
       ]
      },
      {
       "output_type": "stream",
       "stream": "stdout",
       "text": [
        "\n",
        "getting another page of results ... 723"
       ]
      },
      {
       "output_type": "stream",
       "stream": "stdout",
       "text": [
        "\n",
        "getting another page of results ... 773"
       ]
      },
      {
       "output_type": "stream",
       "stream": "stdout",
       "text": [
        "\n",
        "getting another page of results ... 823"
       ]
      },
      {
       "output_type": "stream",
       "stream": "stdout",
       "text": [
        "\n",
        "getting another page of results ... 873"
       ]
      },
      {
       "output_type": "stream",
       "stream": "stdout",
       "text": [
        "\n",
        "getting another page of results ... 923"
       ]
      },
      {
       "output_type": "stream",
       "stream": "stdout",
       "text": [
        "\n",
        "getting video statistics: 50"
       ]
      },
      {
       "output_type": "stream",
       "stream": "stdout",
       "text": [
        "\n",
        "getting video statistics: 100"
       ]
      },
      {
       "output_type": "stream",
       "stream": "stdout",
       "text": [
        "\n",
        "getting video statistics: 150"
       ]
      },
      {
       "output_type": "stream",
       "stream": "stdout",
       "text": [
        "\n",
        "getting video statistics: 200"
       ]
      },
      {
       "output_type": "stream",
       "stream": "stdout",
       "text": [
        "\n",
        "getting video statistics: 250"
       ]
      },
      {
       "output_type": "stream",
       "stream": "stdout",
       "text": [
        "\n",
        "getting video statistics: 300"
       ]
      },
      {
       "output_type": "stream",
       "stream": "stdout",
       "text": [
        "\n",
        "getting video statistics: 300"
       ]
      },
      {
       "output_type": "stream",
       "stream": "stdout",
       "text": [
        "\n",
        "getting video statistics: 350"
       ]
      },
      {
       "output_type": "stream",
       "stream": "stdout",
       "text": [
        "\n",
        "getting video statistics: 400"
       ]
      },
      {
       "output_type": "stream",
       "stream": "stdout",
       "text": [
        "\n",
        "getting video statistics: 450"
       ]
      },
      {
       "output_type": "stream",
       "stream": "stdout",
       "text": [
        "\n",
        "getting video statistics: 500"
       ]
      },
      {
       "output_type": "stream",
       "stream": "stdout",
       "text": [
        "\n",
        "getting video statistics: 550"
       ]
      },
      {
       "output_type": "stream",
       "stream": "stdout",
       "text": [
        "\n",
        "getting video statistics: 600"
       ]
      },
      {
       "output_type": "stream",
       "stream": "stdout",
       "text": [
        "\n",
        "getting video statistics: 650"
       ]
      },
      {
       "output_type": "stream",
       "stream": "stdout",
       "text": [
        "\n",
        "getting video statistics: 700"
       ]
      },
      {
       "output_type": "stream",
       "stream": "stdout",
       "text": [
        "\n",
        "getting video statistics: 750"
       ]
      },
      {
       "output_type": "stream",
       "stream": "stdout",
       "text": [
        "\n",
        "getting video statistics: 800"
       ]
      },
      {
       "output_type": "stream",
       "stream": "stdout",
       "text": [
        "\n",
        "getting video statistics: 850"
       ]
      },
      {
       "output_type": "stream",
       "stream": "stdout",
       "text": [
        "\n",
        "getting video statistics: 900"
       ]
      },
      {
       "output_type": "stream",
       "stream": "stdout",
       "text": [
        "\n",
        "getting video statistics: 923"
       ]
      },
      {
       "output_type": "stream",
       "stream": "stdout",
       "text": [
        "\n",
        "(923, 14)\n",
        "(973, 7)\n"
       ]
      }
     ],
     "prompt_number": 44
    },
    {
     "cell_type": "code",
     "collapsed": false,
     "input": [
      "df_am.columns\n",
      "df_am.drop_duplicates(inplace=True, cols='videoId')\n",
      "print(df_am.shape)\n",
      "print('Titles: ', len(df_am.title))"
     ],
     "language": "python",
     "metadata": {},
     "outputs": [
      {
       "output_type": "stream",
       "stream": "stdout",
       "text": [
        "(323, 20)\n",
        "('Titles: ', 323)\n"
       ]
      }
     ],
     "prompt_number": 45
    },
    {
     "cell_type": "markdown",
     "metadata": {},
     "source": [
      "So not a huge difference in numbers -- 283 vs 323. But are they the same videos more or less? "
     ]
    },
    {
     "cell_type": "code",
     "collapsed": false,
     "input": [
      "davide_set = set(video_df.ID.tolist())\n",
      "adrian_set = set(df_am.videoId.tolist())\n",
      "comb_id = davide_set.union(adrian_set)\n",
      "intersecting_id = adrian_set.intersection(davide_set)\n",
      "adrian_unique = adrian_set.difference(davide_set)\n",
      "davide_unique = davide_set.difference(adrian_set)\n",
      "print('Set of combined video ids: ' + str(len(comb_id)))\n",
      "print('They have ' + str(len(intersecting_id)) + ' in common')\n",
      "print('Davide datatset has ' + str(len(davide_unique)) + ' that Adrian doesnt')\n",
      "print('Adrian has ' + str(len(adrian_unique)) + ' that Davide doesnt')\n"
     ],
     "language": "python",
     "metadata": {},
     "outputs": [
      {
       "output_type": "stream",
       "stream": "stdout",
       "text": [
        "Set of combined video ids: 486\n",
        "They have 126 in common\n",
        "Davide datatset has 163 that Adrian doesnt\n",
        "Adrian has 197 that Davide doesnt\n"
       ]
      }
     ],
     "prompt_number": 46
    },
    {
     "cell_type": "markdown",
     "metadata": {},
     "source": [
      "So it looks like there is in now way good overlap between them. Only around one quarter are common to both. The rest are different. How to explain this? If Davide used the Youtube API like I did, does this mean that Google is giving different results to different people? Or that the results depend on when you run the query?"
     ]
    },
    {
     "cell_type": "markdown",
     "metadata": {},
     "source": [
      "## The length of the videos\n",
      "\n",
      "Not sure what the length of videos tells us. Something about the kind of object we are dealing with. Also, I guess length affects mirroring. Would many people upload a 60 minute documentary?"
     ]
    },
    {
     "cell_type": "code",
     "collapsed": false,
     "input": [
      "duration = video_df.DURATION.order().tolist()\n",
      "duration = [d/60 for d in duration]\n",
      "f = pylab.figure(figsize=(10,5))\n",
      "sp=f.add_subplot(1,1,1)\n",
      "\n",
      "h=sp.hist(duration, bins=100)\n",
      "print('Less than 10 minutes: '+ str(float(sum(video_df.DURATION/60 < 10))/video_df.DURATION.shape[0]*100)+ '%')\n",
      "sp.set_title('Length of videos (minutes)')\n",
      "sp.set_xlabel('minutes')\n",
      "sp.set_ylabel('videos')\n",
      "YouTubeVideo(video_df.ID.iloc[1])"
     ],
     "language": "python",
     "metadata": {},
     "outputs": [
      {
       "output_type": "stream",
       "stream": "stdout",
       "text": [
        "Less than 10 minutes: 83.3700440529%\n"
       ]
      },
      {
       "html": [
        "\n",
        "            <iframe\n",
        "                width=\"400\"\n",
        "                height=\"300\"\n",
        "                src=\"http://www.youtube.com/embed/nDjle8CcTqM\"\n",
        "                frameborder=\"0\"\n",
        "                allowfullscreen\n",
        "            ></iframe>\n",
        "        "
       ],
       "output_type": "pyout",
       "prompt_number": 7,
       "text": [
        "<IPython.lib.display.YouTubeVideo at 0x4077890>"
       ]
      },
      {
       "output_type": "display_data",
       "png": "[encoded data removed]"
      }
     ],
     "prompt_number": 7
    },
    {
     "cell_type": "markdown",
     "metadata": {},
     "source": [
      "This looks like most of the videos are relatively short (less than 10 minutes). Does duration correlate with either viewing or duplication?"
     ]
    },
    {
     "cell_type": "code",
     "collapsed": false,
     "input": [
      "fig=figure(dpi=200)\n",
      "sp = fig.add_subplot(1,2,1)\n",
      "sp.scatter(video_df.DURATION/60, video_df.VIEWS, s=5,marker='o')\n",
      "sp.set_title('Duration vs Views')\n",
      "sp.set_xlabel('Duration (minutes)')\n",
      "sp.set_ylabel('Views')\n",
      "sp.set_xlim(0, 200)\n",
      "sp.set_ylim(0, 1e7)\n",
      "\n",
      "hms =[re.sub('H|M', ':', s) for s in [re.sub('PT|S', '', t)   for t in df_am.duration]]\n",
      "\n",
      "sp = fig.add_subplot(1,2,2)\n",
      "sp.scatter(video_df.DURATION/60, video_df.VIEWS, s=5,marker='o')\n",
      "sp.set_title('Duration vs Views')\n",
      "sp.set_xlabel('Duration (minutes)')\n",
      "sp.set_ylabel('Views')\n",
      "sp.set_xlim(0, 200)\n",
      "sp.set_ylim(0, 1e7)"
     ],
     "language": "python",
     "metadata": {},
     "outputs": [
      {
       "output_type": "pyout",
       "prompt_number": 8,
       "text": [
        "(0, 10000000.0)"
       ]
      },
      {
       "output_type": "display_data",
       "png": "[encoded data removed]"
      }
     ],
     "prompt_number": 8
    },
    {
     "cell_type": "markdown",
     "metadata": {},
     "source": [
      "At a glance, it looks like the longer videos are viewed much less. Very short videos are not viewed much either. But this doesn't take into account the fact that there are many more short videos. "
     ]
    },
    {
     "cell_type": "markdown",
     "metadata": {},
     "source": [
      "# Viewing figures\n",
      "\n",
      "Another way to look at videos -- more in terms of reception. What stands out here?"
     ]
    },
    {
     "cell_type": "code",
     "collapsed": false,
     "input": [
      "video_df.VIEWS = video_df.VIEWS.replace('None', 0)\n",
      "views = video_df.VIEWS.order()\n",
      "f=figure(figsize(10,5))\n",
      "suptitle('Views of videos at different scale')\n",
      "sp1 = f.add_subplot(1,3,1)\n",
      "h1=sp1.hist(views, bins=100)\n",
      "sp1.set_ylabel('Number of videos')\n",
      "sp1.set_xlabel('Number of views')\n",
      "sp1.set_title('View high scale')\n",
      "sp2 = f.add_subplot(1,3,2)\n",
      "h2 = sp2.hist(views[views<100], bins=100)\n",
      "sp2.set_title('View on medium scale')\n",
      "sp2.set_ylabel('Number of videos')\n",
      "sp2.set_xlabel('Number of views')\n",
      "sp3 = f.add_subplot(1,3,3)\n",
      "h3 = sp3.hist(views[views<10], bins = 10)\n",
      "sp3.set_title('View on low scale')\n",
      "sp3.set_ylabel('Number of videos')\n",
      "sp3.set_xlabel('Number of views')\n"
     ],
     "language": "python",
     "metadata": {},
     "outputs": [
      {
       "output_type": "pyout",
       "prompt_number": 9,
       "text": [
        "<matplotlib.text.Text at 0x735aad0>"
       ]
      },
      {
       "output_type": "display_data",
       "png": "[encoded data removed]"
      }
     ],
     "prompt_number": 9
    },
    {
     "cell_type": "markdown",
     "metadata": {},
     "source": [
      "### Running the same analysis with my dataset to check"
     ]
    },
    {
     "cell_type": "code",
     "collapsed": false,
     "input": [
      "views=df.viewCount.astype('int32')"
     ],
     "language": "python",
     "metadata": {},
     "outputs": [],
     "prompt_number": 19
    },
    {
     "cell_type": "code",
     "collapsed": false,
     "input": [
      "\n",
      "views = df.viewCount.astype('int')\n",
      "views.head()\n",
      "f=figure(figsize=(10,5))\n",
      "suptitle('Views of videos at different scale (Mackenzie dataset)')\n",
      "sp1 = f.add_subplot(1,3,1)\n",
      "h1=sp1.hist(views, bins=100)\n",
      "sp1.set_ylabel('Number of videos')\n",
      "sp1.set_xlabel('Number of views')\n",
      "sp1.set_title('View high scale')\n",
      "sp2 = f.add_subplot(1,3,2)\n",
      "h2 = sp2.hist(views[views<100], bins=100)\n",
      "sp2.set_title('View on medium scale')\n",
      "sp2.set_ylabel('Number of videos')\n",
      "sp2.set_xlabel('Number of views')\n",
      "sp3 = f.add_subplot(1,3,3)\n",
      "h3 = sp3.hist(views[views<10], bins = 10)\n",
      "sp3.set_title('View on low scale')\n",
      "sp3.set_ylabel('Number of videos')\n",
      "sp3.set_xlabel('Number of views')\n"
     ],
     "language": "python",
     "metadata": {},
     "outputs": [
      {
       "output_type": "pyout",
       "prompt_number": 15,
       "text": [
        "<matplotlib.text.Text at 0x9458b10>"
       ]
      },
      {
       "output_type": "display_data",
       "png": "[encoded data removed]"
      }
     ],
     "prompt_number": 15
    },
    {
     "cell_type": "markdown",
     "metadata": {},
     "source": [
      "As usual, most videos are only viewed by a small number of people, and a couple are viewed by 100,000s up to 14 million. Actually, viewing figures are quite widely distributed even for the less-viewed videos. It might be interesting to look at the videos that are viewed 8, 30 or 80 times as well as the ones viewed 14 millon times. This analysis _does not_ take into account view figures for copies of videos.\n",
      "\n",
      "## The most viewed videos\n",
      "\n",
      "If we aggregate views for videos with the same title, things start to look different. "
     ]
    },
    {
     "cell_type": "code",
     "collapsed": false,
     "input": [
      "top_views = video_df.loc[video_df.VIEWS>100000, ['TITLE', 'VIEWS']]\n",
      "gby=top_views.groupby(by='TITLE')['VIEWS']\n",
      "print('total viewings:'+str(video_df['VIEWS'].sum()))\n",
      "print('total views of top videos:', sum(gby.sum()))\n",
      "print('total views of top 5 videos:', sum(gby.sum()[:4]))\n",
      "\n",
      "print(gby.ngroups)\n",
      "gbyo=gby.sum().order(ascending=False)\n",
      "pie(gbyo[0:9], labels=gbyo.keys()[0:9])\n",
      "pylab.title('Most viewed videos in terms of view share')\n",
      "pd.DataFrame(gbyo).head(n=5)"
     ],
     "language": "python",
     "metadata": {},
     "outputs": [
      {
       "output_type": "stream",
       "stream": "stdout",
       "text": [
        "total viewings:480078782.0\n",
        "('total views of top videos:', 477150437.0)\n",
        "('total views of top 5 videos:', 4606329.0)\n",
        "18\n"
       ]
      },
      {
       "html": [
        "<div style=\"max-height:1000px;max-width:1500px;overflow:auto;\">\n",
        "<table border=\"1\" class=\"dataframe\">\n",
        "  <thead>\n",
        "    <tr style=\"text-align: right;\">\n",
        "      <th></th>\n",
        "      <th>VIEWS</th>\n",
        "    </tr>\n",
        "    <tr>\n",
        "      <th>TITLE</th>\n",
        "      <th></th>\n",
        "    </tr>\n",
        "  </thead>\n",
        "  <tbody>\n",
        "    <tr>\n",
        "      <th>Emmanuel Kelly The X Factor 2011 Auditions Emmanuel Kelly FULL</th>\n",
        "      <td> 115051936</td>\n",
        "    </tr>\n",
        "    <tr>\n",
        "      <th>Collateral Murder - Wikileaks - Iraq</th>\n",
        "      <td> 109121536</td>\n",
        "    </tr>\n",
        "    <tr>\n",
        "      <th>The Greatest Speech Ever Made</th>\n",
        "      <td>  93953440</td>\n",
        "    </tr>\n",
        "    <tr>\n",
        "      <th>Anonymous - Message to the American People</th>\n",
        "      <td>  76903592</td>\n",
        "    </tr>\n",
        "    <tr>\n",
        "      <th>Wealth Inequality in America</th>\n",
        "      <td>  50298512</td>\n",
        "    </tr>\n",
        "  </tbody>\n",
        "</table>\n",
        "</div>"
       ],
       "output_type": "pyout",
       "prompt_number": 11,
       "text": [
        "                                                                    VIEWS\n",
        "TITLE                                                                    \n",
        "Emmanuel Kelly The X Factor 2011 Auditions Emmanuel Kelly FULL  115051936\n",
        "Collateral Murder - Wikileaks - Iraq                            109121536\n",
        "The Greatest Speech Ever Made                                    93953440\n",
        "Anonymous - Message to the American People                       76903592\n",
        "Wealth Inequality in America                                     50298512"
       ]
      },
      {
       "output_type": "display_data",
       "png": "[encoded data removed]"
      }
     ],
     "prompt_number": 11
    },
    {
     "cell_type": "markdown",
     "metadata": {},
     "source": [
      "There are 18 videos that each have more 100,00 views. There have been around 480 million views in total of Anonymous-related videos. The top 18 videos account for 477 million of the views. The top 5 videos account for 460 million of the 480 million. \n",
      "Looking at the titles, is the 'Emmanuel Kelly X Factor 2011 Auditions' video 'noise'? Maybe not -- he's an Iraqi orphan living in Australia, and 'Collateral Murder - Wikileaks - Iraq' (#2) doesn't look like that. The top four videos after Kelly's all have more than 50 million viewings. So they dominate the total views of Anonymous videos. "
     ]
    },
    {
     "cell_type": "code",
     "collapsed": false,
     "input": [
      "#video_df.TITLE.\n",
      "emmanuel_kelly = video_df.ID[video_df.TITLE == gbyo.index[0]]\n",
      "YouTubeVideo(emmanuel_kelly.iloc[0])"
     ],
     "language": "python",
     "metadata": {},
     "outputs": [
      {
       "html": [
        "\n",
        "            <iframe\n",
        "                width=\"400\"\n",
        "                height=\"300\"\n",
        "                src=\"http://www.youtube.com/embed/W86jlvrG54o\"\n",
        "                frameborder=\"0\"\n",
        "                allowfullscreen\n",
        "            ></iframe>\n",
        "        "
       ],
       "output_type": "pyout",
       "prompt_number": 12,
       "text": [
        "<IPython.lib.display.YouTubeVideo at 0x4c13a90>"
       ]
      }
     ],
     "prompt_number": 12
    },
    {
     "cell_type": "markdown",
     "metadata": {},
     "source": [
      "## Are video duplicates viewed?\n",
      "\n",
      "Are views related to duplication/mirroring practices? First, we need to find the duplicates. Title is an ok starting point. Presumably, videos with the same title are likely to be duplicates."
     ]
    },
    {
     "cell_type": "code",
     "collapsed": false,
     "input": [
      "title = video_df.TITLE.tolist()\n",
      "video_df.TITLE = [t.encode('utf8', errors='ignore') for t in title]\n",
      "print('distinct titles:', len(video_df.TITLE.unique()))\n",
      "print('distinct ids', len(video_df.ID.unique()))\n",
      "print('distinct durations:', len(video_df.DURATION.unique()))"
     ],
     "language": "python",
     "metadata": {},
     "outputs": [
      {
       "output_type": "stream",
       "stream": "stdout",
       "text": [
        "('distinct titles:', 283)\n",
        "('distinct ids', 289)\n",
        "('distinct durations:', 221)\n"
       ]
      }
     ],
     "prompt_number": 13
    },
    {
     "cell_type": "markdown",
     "metadata": {},
     "source": [
      "While there are 908 videos listed, there are only 283 distinctly titled videos and 289 distinct video IDS. That means that potentially ~620 are copies. But if copies have the same ID, does that mean that they have been uploaded? Or are they simply different views on the same video? This is a crucial question - are we dealing here with duplicates or just references to one instance?  \n",
      "Things are a bit more complicated in the duration data. There are only 220 distinct durations. But it could be that different videos happen to have the same duration. \n",
      "What are the most commonly duplicated videos?"
     ]
    },
    {
     "cell_type": "code",
     "collapsed": false,
     "input": [
      "dup_video_counts =video_df.TITLE.value_counts()\n",
      "dup_df = pd.DataFrame(dup_video_counts.head())\n",
      "dup_df"
     ],
     "language": "python",
     "metadata": {},
     "outputs": [
      {
       "html": [
        "<div style=\"max-height:1000px;max-width:1500px;overflow:auto;\">\n",
        "<table border=\"1\" class=\"dataframe\">\n",
        "  <thead>\n",
        "    <tr style=\"text-align: right;\">\n",
        "      <th></th>\n",
        "      <th>0</th>\n",
        "    </tr>\n",
        "  </thead>\n",
        "  <tbody>\n",
        "    <tr>\n",
        "      <th>Christopher Hitchens  Wishful Thinking vs Evidence 2008)</th>\n",
        "      <td> 16</td>\n",
        "    </tr>\n",
        "    <tr>\n",
        "      <th>Anonymous is Freedom</th>\n",
        "      <td> 15</td>\n",
        "    </tr>\n",
        "    <tr>\n",
        "      <th>Anonymous Declaration of Freedom</th>\n",
        "      <td> 10</td>\n",
        "    </tr>\n",
        "    <tr>\n",
        "      <th>Anonymous - Truth is a Virus</th>\n",
        "      <td> 10</td>\n",
        "    </tr>\n",
        "    <tr>\n",
        "      <th>Anonymous Exposed for Crimes Against Humanity</th>\n",
        "      <td>  9</td>\n",
        "    </tr>\n",
        "  </tbody>\n",
        "</table>\n",
        "</div>"
       ],
       "output_type": "pyout",
       "prompt_number": 14,
       "text": [
        "                                                           0\n",
        "Christopher Hitchens  Wishful Thinking vs Evidence 2008)  16\n",
        "Anonymous is Freedom                                      15\n",
        "Anonymous Declaration of Freedom                          10\n",
        "Anonymous - Truth is a Virus                              10\n",
        "Anonymous Exposed for Crimes Against Humanity              9"
       ]
      }
     ],
     "prompt_number": 14
    },
    {
     "cell_type": "code",
     "collapsed": true,
     "input": [
      "top_dup_video_counts=dup_video_counts[dup_video_counts>5]\n",
      "top_dup_video_counts = top_dup_video_counts.order(ascending=False)\n",
      "top_dup_videos = dup_video_counts.index\n",
      "top_dup_video_counts"
     ],
     "language": "python",
     "metadata": {},
     "outputs": [
      {
       "output_type": "pyout",
       "prompt_number": 15,
       "text": [
        "Christopher Hitchens  Wishful Thinking vs Evidence 2008)    16\n",
        "Anonymous is Freedom                                        15\n",
        "Anonymous - Truth is a Virus                                10\n",
        "Anonymous Declaration of Freedom                            10\n",
        "The Truth About The Anonymous Mask.                          9\n",
        "...\n",
        "Tor tutorial \"How to be anonymous on the internet\"              6\n",
        "Anonymous: S.O.P.A.                                             6\n",
        "Anonymous - NDAA Bill Signed                                    6\n",
        "OpIsrael Anonymous launches massive cyber assault               6\n",
        "Arranca la operaci\u00f3n de Anonymous contra Israel para borrarlos de Internet (06/04/13)    6\n",
        "Anonymous Current Event Project                                 6\n",
        "Length: 84, dtype: int64"
       ]
      }
     ],
     "prompt_number": 15
    },
    {
     "cell_type": "markdown",
     "metadata": {},
     "source": [
      "Does duplication correlate with viewing figures? Do these duplicates get the same number of views? Or are some versions much more widely viewed than others?"
     ]
    },
    {
     "cell_type": "code",
     "collapsed": false,
     "input": [
      "dup_views=video_df.loc[video_df.TITLE.isin(top_dup_videos), ['TITLE', 'VIEWS']]\n",
      "dup_views['copies'] = top_dup_video_counts\n",
      "dv =pd.DataFrame(dup_views.groupby(['TITLE'])['VIEWS'].sum().order(ascending=False))\n",
      "dv.head()"
     ],
     "language": "python",
     "metadata": {},
     "outputs": [
      {
       "html": [
        "<div style=\"max-height:1000px;max-width:1500px;overflow:auto;\">\n",
        "<table border=\"1\" class=\"dataframe\">\n",
        "  <thead>\n",
        "    <tr style=\"text-align: right;\">\n",
        "      <th></th>\n",
        "      <th>VIEWS</th>\n",
        "    </tr>\n",
        "    <tr>\n",
        "      <th>TITLE</th>\n",
        "      <th></th>\n",
        "    </tr>\n",
        "  </thead>\n",
        "  <tbody>\n",
        "    <tr>\n",
        "      <th>Emmanuel Kelly The X Factor 2011 Auditions Emmanuel Kelly FULL</th>\n",
        "      <td> 115051936</td>\n",
        "    </tr>\n",
        "    <tr>\n",
        "      <th>Collateral Murder - Wikileaks - Iraq</th>\n",
        "      <td> 109121536</td>\n",
        "    </tr>\n",
        "    <tr>\n",
        "      <th>The Greatest Speech Ever Made</th>\n",
        "      <td>  93953440</td>\n",
        "    </tr>\n",
        "    <tr>\n",
        "      <th>Anonymous - Message to the American People</th>\n",
        "      <td>  76903592</td>\n",
        "    </tr>\n",
        "    <tr>\n",
        "      <th>Wealth Inequality in America</th>\n",
        "      <td>  50298512</td>\n",
        "    </tr>\n",
        "  </tbody>\n",
        "</table>\n",
        "</div>"
       ],
       "output_type": "pyout",
       "prompt_number": 16,
       "text": [
        "                                                                    VIEWS\n",
        "TITLE                                                                    \n",
        "Emmanuel Kelly The X Factor 2011 Auditions Emmanuel Kelly FULL  115051936\n",
        "Collateral Murder - Wikileaks - Iraq                            109121536\n",
        "The Greatest Speech Ever Made                                    93953440\n",
        "Anonymous - Message to the American People                       76903592\n",
        "Wealth Inequality in America                                     50298512"
       ]
      }
     ],
     "prompt_number": 16
    },
    {
     "cell_type": "markdown",
     "metadata": {},
     "source": [
      "Some interesting points here. High rates of duplication does not equate with high view counts. What is the Christopher Hitchens piece? It is the 4th most duplicated video, but shows 0 views - is that possible? More importantly, the most duplicated video 'Anonymous - Truth is a Virus' only has 1380 views.\n",
      "\n",
      "## TBC -- look at views and copies side by side"
     ]
    },
    {
     "cell_type": "markdown",
     "metadata": {},
     "source": [
      "## Some stuff on users"
     ]
    },
    {
     "cell_type": "code",
     "collapsed": false,
     "input": [
      "video_df.columns\n",
      "video_df['USER'].unique().shape"
     ],
     "language": "python",
     "metadata": {},
     "outputs": [
      {
       "output_type": "pyout",
       "prompt_number": 17,
       "text": [
        "(246,)"
       ]
      }
     ],
     "prompt_number": 17
    },
    {
     "cell_type": "markdown",
     "metadata": {},
     "source": [
      "So there are 246 users (people?) who upload videos. How much do they upload?"
     ]
    },
    {
     "cell_type": "code",
     "collapsed": false,
     "input": [
      "user_counts = video_df['USER'].value_counts()\n",
      "f3 = figure(figsize=(5,3))\n",
      "sp=f3.add_subplot(111)\n",
      "h4 = sp.hist(video_df['USER'].value_counts(), bins=100)\n",
      "sp.set_title('Number of videos per user')\n",
      "top_users = user_counts[user_counts>5].index\n",
      "top_users\n",
      "print(user_counts.describe())\n",
      "user_counts.quantile(0.6)\n"
     ],
     "language": "python",
     "metadata": {},
     "outputs": [
      {
       "output_type": "stream",
       "stream": "stdout",
       "text": [
        "count    246.000000\n",
        "mean       3.691057\n",
        "std        3.804680\n",
        "min        1.000000\n",
        "25%        1.000000\n",
        "50%        1.000000\n",
        "75%        8.000000\n",
        "max       18.000000\n",
        "dtype: float64\n"
       ]
      },
      {
       "output_type": "pyout",
       "prompt_number": 18,
       "text": [
        "2"
       ]
      },
      {
       "output_type": "display_data",
       "png": "[encoded data removed]"
      }
     ],
     "prompt_number": 18
    },
    {
     "cell_type": "markdown",
     "metadata": {},
     "source": [
      "So, more than 60% of people upload less than 2 videos. "
     ]
    },
    {
     "cell_type": "markdown",
     "metadata": {},
     "source": [
      "## How top contributing users upload top-viewed videos -- that is, do they duplicate them? \n",
      "\n",
      "I'm calling 'top users' anyone who uploads more than 5 videos, and 'top videos' any video that is duplicated more than 5 times. "
     ]
    },
    {
     "cell_type": "code",
     "collapsed": false,
     "input": [
      "topuser_toptitle=pd.crosstab(video_df[video_df.USER.isin(top_users)]['USER'], video_df[video_df.TITLE.isin(top_dup_videos)]['TITLE'])\n",
      "top_user_title_df = pd.DataFrame(topuser_toptitle.sum(axis=1).order(ascending=False))\n",
      "top_user_title_df.head()"
     ],
     "language": "python",
     "metadata": {},
     "outputs": [
      {
       "html": [
        "<div style=\"max-height:1000px;max-width:1500px;overflow:auto;\">\n",
        "<table border=\"1\" class=\"dataframe\">\n",
        "  <thead>\n",
        "    <tr style=\"text-align: right;\">\n",
        "      <th></th>\n",
        "      <th>0</th>\n",
        "    </tr>\n",
        "    <tr>\n",
        "      <th>USER</th>\n",
        "      <th></th>\n",
        "    </tr>\n",
        "  </thead>\n",
        "  <tbody>\n",
        "    <tr>\n",
        "      <th>YourRightsVigilante</th>\n",
        "      <td> 18</td>\n",
        "    </tr>\n",
        "    <tr>\n",
        "      <th>Truthloader</th>\n",
        "      <td> 17</td>\n",
        "    </tr>\n",
        "    <tr>\n",
        "      <th>wikispeak10</th>\n",
        "      <td> 16</td>\n",
        "    </tr>\n",
        "    <tr>\n",
        "      <th>Tom Craig</th>\n",
        "      <td> 16</td>\n",
        "    </tr>\n",
        "    <tr>\n",
        "      <th>MatriXCr3w</th>\n",
        "      <td> 16</td>\n",
        "    </tr>\n",
        "  </tbody>\n",
        "</table>\n",
        "</div>"
       ],
       "output_type": "pyout",
       "prompt_number": 32,
       "text": [
        "                      0\n",
        "USER                   \n",
        "YourRightsVigilante  18\n",
        "Truthloader          17\n",
        "wikispeak10          16\n",
        "Tom Craig            16\n",
        "MatriXCr3w           16"
       ]
      }
     ],
     "prompt_number": 32
    },
    {
     "cell_type": "markdown",
     "metadata": {},
     "source": [
      "This suggests that there is some link between between uploading a lot and duplicating a lot. I'm not sure about this actually -- needs further thought. There is still the question of whether the duplicates are viewed a lot. And do these high duplicating users duplicate the same videos?"
     ]
    },
    {
     "cell_type": "markdown",
     "metadata": {},
     "source": [
      "## What is viewed\n",
      "\n",
      "Many questions could be asked here. For highly duplicated videos, are all copies viewed at similar levels or not?"
     ]
    },
    {
     "cell_type": "code",
     "collapsed": true,
     "input": [
      "date = pd.to_datetime(video_df.DATA)\n",
      "video_df.DATA = date\n",
      "video_df.groupby(by=['TITLE'])['VIEWS'].sum().order()"
     ],
     "language": "python",
     "metadata": {},
     "outputs": [
      {
       "output_type": "pyout",
       "prompt_number": 39,
       "text": [
        "TITLE\n",
        "Aaron Swartz - Wiki Article                                     0\n",
        "Are your civil liberties being taken away? LIVE Debate          0\n",
        "Christopher Hitchens  Wishful Thinking vs Evidence 2008)        0\n",
        "Cyber Intelligence Sharing and Protection Act - Wiki Article    0\n",
        "Freedom on the Net 2012 Release: Shifting Methods of Internet Control    0\n",
        "...\n",
        "The Story of Your Enslavement                                    14831144\n",
        "Wealth Inequality in America                                     50298512\n",
        "Anonymous - Message to the American People                       76903592\n",
        "The Greatest Speech Ever Made                                    93953440\n",
        "Collateral Murder - Wikileaks - Iraq                            109121536\n",
        "Emmanuel Kelly The X Factor 2011 Auditions Emmanuel Kelly FULL    115051936\n",
        "Name: VIEWS, Length: 283, dtype: float64"
       ]
      }
     ],
     "prompt_number": 39
    },
    {
     "cell_type": "code",
     "collapsed": false,
     "input": [
      "f = figure(figsize=(8,6), dpi=400)\n",
      "s = f.add_subplot(111)\n",
      "s.scatter(date, video_df.VIEWS)\n",
      "s.set_title('Viewing activity over time')\n",
      "s.set_ylabel('Views')\n",
      "\n",
      "top_views.head()"
     ],
     "language": "python",
     "metadata": {},
     "outputs": [
      {
       "html": [
        "<div style=\"max-height:1000px;max-width:1500px;overflow:auto;\">\n",
        "<table border=\"1\" class=\"dataframe\">\n",
        "  <thead>\n",
        "    <tr style=\"text-align: right;\">\n",
        "      <th></th>\n",
        "      <th>TITLE</th>\n",
        "      <th>VIEWS</th>\n",
        "    </tr>\n",
        "  </thead>\n",
        "  <tbody>\n",
        "    <tr>\n",
        "      <th>21</th>\n",
        "      <td> Anonymous Philippines message to Cybercrime La...</td>\n",
        "      <td> 143349</td>\n",
        "    </tr>\n",
        "    <tr>\n",
        "      <th>45</th>\n",
        "      <td> Table Talk: Cons, Internet Freedom, &amp; Spoiler ...</td>\n",
        "      <td> 155988</td>\n",
        "    </tr>\n",
        "    <tr>\n",
        "      <th>58</th>\n",
        "      <td>   Anonymous Calls for CISPA Internet Blackout Day</td>\n",
        "      <td> 138356</td>\n",
        "    </tr>\n",
        "    <tr>\n",
        "      <th>60</th>\n",
        "      <td> F2C2012:  Aaron Swartz keynote - \"How we stopp...</td>\n",
        "      <td> 415163</td>\n",
        "    </tr>\n",
        "    <tr>\n",
        "      <th>76</th>\n",
        "      <td>         Anonymous - A Message to Congress on SOPA</td>\n",
        "      <td> 101092</td>\n",
        "    </tr>\n",
        "  </tbody>\n",
        "</table>\n",
        "</div>"
       ],
       "output_type": "pyout",
       "prompt_number": 28,
       "text": [
        "                                                TITLE   VIEWS\n",
        "21  Anonymous Philippines message to Cybercrime La...  143349\n",
        "45  Table Talk: Cons, Internet Freedom, & Spoiler ...  155988\n",
        "58    Anonymous Calls for CISPA Internet Blackout Day  138356\n",
        "60  F2C2012:  Aaron Swartz keynote - \"How we stopp...  415163\n",
        "76          Anonymous - A Message to Congress on SOPA  101092"
       ]
      },
      {
       "output_type": "display_data",
       "png": "[encoded data removed]"
      }
     ],
     "prompt_number": 28
    },
    {
     "cell_type": "markdown",
     "metadata": {},
     "source": [
      "Hard to see what is happening in the viewing of these videos. "
     ]
    }
   ],
   "metadata": {}
  }
 ]
}