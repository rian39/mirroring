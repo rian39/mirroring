{
 "metadata": {
  "name": ""
 },
 "nbformat": 3,
 "nbformat_minor": 0,
 "worksheets": [
  {
   "cells": [
    {
     "cell_type": "markdown",
     "metadata": {},
     "source": [
      "# Exploration of the Anonymous videos on Youtube. \n",
      "\n",
      "## How the initial data was generated - Davide's dataset -- generate in July 2013\n",
      "\n",
      "Here's what Davide wrote in his email:\n",
      "\n",
      "> The query: \"anonymous internet freedom\"\n",
      "\n",
      "> Some notes: I have just discovered that some changes have been made to YT api, so the script was not able to retreive keywords associated with videos (that can be interesting for semantic network analysis purposed) and that videos descriptions are truncated. I will try to figure out whether is possible to fix the first shortcome; for the second, luckly the \"related videos\" descriptions are still complete..and usually there is wide redundancy, so maybe it can be easily overcame (consider that in this sample I restricted related videos to 25 for each); the comments are also in this case limited to 25; videos are ordered by relevance computed by Youtube itself; users are limited to original content submitters; the string I input as keyword was only \"anonymous internet freedom\".\n",
      "\n",
      "> (1) retrieve up to 1000 videos queried by keywords (including username,date,category,n of favorites, n of views,duration, tags and description)-maybe it is possible to extend the 1000 limit, or by the way it can be somehow done with the following module-\n",
      "\n",
      "> (2) reconstruct the network of \"related videos\" for each video retrieved (with the metadata above)-the alghoritm for matching related videos is of course not known, but as far as I understood it should be both related to tags and to users' behaviour: the more two videos are viewed in sequence, the more related they'll be... so it can provide interesting insights on network of content-\n",
      "\n",
      "> (3) scrape comments related to the videos/related videos retrieved (including user name, time and parent comments) \n",
      "The geo info are quite tricky cause there is no \"nationality\" associated to the video, but the language...at least not provided with the api! But maybe something can be inferred with a heuristic approach (nations mentioned in the title/description/comments)\n",
      "\n"
     ]
    },
    {
     "cell_type": "markdown",
     "metadata": {},
     "source": [
      "## Generating the data from Youtube API -- Adrian's dataset\n",
      "\n",
      "Davide's dataset is really useful, but I found it hard to replicate the same results. The scripts I wrote to query the YT api bring back different results. This needs to be investigated.\n",
      "Also because Google/Youtube only returns a maximum of 1000 results, we need to think of ways of 'tiling' the queries to get around this limitation. At least, so that we can be reasonably satisfied we are getting all the relevant videos.\n",
      "\n",
      "Felipe: use list of campaigns to script a set of queries that build a bigger dataset"
     ]
    },
    {
     "cell_type": "code",
     "collapsed": false,
     "input": [
      "+"
     ],
     "language": "python",
     "metadata": {},
     "outputs": [],
     "prompt_number": 1
    },
    {
     "cell_type": "code",
     "collapsed": true,
     "input": [
      "import pandas as pd\n",
      "import YT_api_generate as yt\n",
      "from pylab import *\n",
      "import seaborn\n",
      "from IPython.display import HTML\n",
      "from IPython.display import YouTubeVideo\n",
      "pd.set_option(\"display.max_columns\", 6)\n",
      "pd.set_option(\"display.max_rows\", 15)\n",
      "pd.set_option(\"display.notebook_repr_html\", True)\n",
      "from optparse import OptionParser"
     ],
     "language": "python",
     "metadata": {},
     "outputs": [
      {
       "ename": "ImportError",
       "evalue": "No module named statsmodels.api",
       "output_type": "pyerr",
       "traceback": [
        "\u001b[1;31m---------------------------------------------------------------------------\u001b[0m\n\u001b[1;31mImportError\u001b[0m                               Traceback (most recent call last)",
        "\u001b[1;32m<ipython-input-5-946403a61229>\u001b[0m in \u001b[0;36m<module>\u001b[1;34m()\u001b[0m\n\u001b[0;32m      2\u001b[0m \u001b[1;32mimport\u001b[0m \u001b[0mYT_api_generate\u001b[0m \u001b[1;32mas\u001b[0m \u001b[0myt\u001b[0m\u001b[1;33m\u001b[0m\u001b[0m\n\u001b[0;32m      3\u001b[0m \u001b[1;32mfrom\u001b[0m \u001b[0mpylab\u001b[0m \u001b[1;32mimport\u001b[0m \u001b[1;33m*\u001b[0m\u001b[1;33m\u001b[0m\u001b[0m\n\u001b[1;32m----> 4\u001b[1;33m \u001b[1;32mimport\u001b[0m \u001b[0mseaborn\u001b[0m\u001b[1;33m\u001b[0m\u001b[0m\n\u001b[0m\u001b[0;32m      5\u001b[0m \u001b[1;32mfrom\u001b[0m \u001b[0mIPython\u001b[0m\u001b[1;33m.\u001b[0m\u001b[0mdisplay\u001b[0m \u001b[1;32mimport\u001b[0m \u001b[0mHTML\u001b[0m\u001b[1;33m\u001b[0m\u001b[0m\n\u001b[0;32m      6\u001b[0m \u001b[1;32mfrom\u001b[0m \u001b[0mIPython\u001b[0m\u001b[1;33m.\u001b[0m\u001b[0mdisplay\u001b[0m \u001b[1;32mimport\u001b[0m \u001b[0mYouTubeVideo\u001b[0m\u001b[1;33m\u001b[0m\u001b[0m\n",
        "\u001b[1;32m/usr/local/lib/python2.7/dist-packages/seaborn/__init__.py\u001b[0m in \u001b[0;36m<module>\u001b[1;34m()\u001b[0m\n\u001b[0;32m      1\u001b[0m \u001b[1;32mfrom\u001b[0m \u001b[0mrcmod\u001b[0m \u001b[1;32mimport\u001b[0m \u001b[1;33m*\u001b[0m\u001b[1;33m\u001b[0m\u001b[0m\n\u001b[0;32m      2\u001b[0m \u001b[1;32mfrom\u001b[0m \u001b[0mutils\u001b[0m \u001b[1;32mimport\u001b[0m \u001b[1;33m*\u001b[0m\u001b[1;33m\u001b[0m\u001b[0m\n\u001b[1;32m----> 3\u001b[1;33m \u001b[1;32mfrom\u001b[0m \u001b[0mplotobjs\u001b[0m \u001b[1;32mimport\u001b[0m \u001b[1;33m*\u001b[0m\u001b[1;33m\u001b[0m\u001b[0m\n\u001b[0m\u001b[0;32m      4\u001b[0m \u001b[0mset\u001b[0m\u001b[1;33m(\u001b[0m\u001b[1;33m)\u001b[0m\u001b[1;33m\u001b[0m\u001b[0m\n",
        "\u001b[1;32m/usr/local/lib/python2.7/dist-packages/seaborn/plotobjs.py\u001b[0m in \u001b[0;36m<module>\u001b[1;34m()\u001b[0m\n\u001b[0;32m     12\u001b[0m \u001b[1;32mimport\u001b[0m \u001b[0mpandas\u001b[0m \u001b[1;32mas\u001b[0m \u001b[0mpd\u001b[0m\u001b[1;33m\u001b[0m\u001b[0m\n\u001b[0;32m     13\u001b[0m \u001b[1;32mfrom\u001b[0m \u001b[0mscipy\u001b[0m \u001b[1;32mimport\u001b[0m \u001b[0mstats\u001b[0m\u001b[1;33m,\u001b[0m \u001b[0minterpolate\u001b[0m\u001b[1;33m\u001b[0m\u001b[0m\n\u001b[1;32m---> 14\u001b[1;33m \u001b[1;32mimport\u001b[0m \u001b[0mstatsmodels\u001b[0m\u001b[1;33m.\u001b[0m\u001b[0mapi\u001b[0m \u001b[1;32mas\u001b[0m \u001b[0msm\u001b[0m\u001b[1;33m\u001b[0m\u001b[0m\n\u001b[0m\u001b[0;32m     15\u001b[0m \u001b[1;32mimport\u001b[0m \u001b[0mstatsmodels\u001b[0m\u001b[1;33m.\u001b[0m\u001b[0mformula\u001b[0m\u001b[1;33m.\u001b[0m\u001b[0mapi\u001b[0m \u001b[1;32mas\u001b[0m \u001b[0msf\u001b[0m\u001b[1;33m\u001b[0m\u001b[0m\n\u001b[0;32m     16\u001b[0m \u001b[1;32mimport\u001b[0m \u001b[0mmatplotlib\u001b[0m \u001b[1;32mas\u001b[0m \u001b[0mmpl\u001b[0m\u001b[1;33m\u001b[0m\u001b[0m\n",
        "\u001b[1;31mImportError\u001b[0m: No module named statsmodels.api"
       ]
      }
     ],
     "prompt_number": 5
    },
    {
     "cell_type": "code",
     "collapsed": true,
     "input": [
      "an_f = pd.ExcelFile('data/anonymouys internet freedom - VIDEOS.xls')\n",
      "an_dict = {name:an_f.parse(name) for name in an_f.sheet_names}\n",
      "video_df = an_dict['VIDEOS']\n",
      "#clean up data a bit\n",
      "video_df.VIEWS = video_df.VIEWS.replace('None', 0)\n",
      "print(video_df.shape)\n",
      "print(video_df.head(10))"
     ],
     "language": "python",
     "metadata": {},
     "outputs": [
      {
       "output_type": "stream",
       "stream": "stdout",
       "text": [
        "(908, 11)\n",
        "            ID                                              TITLE  \\\n",
        "0  HdOiHNUKMe8             Internet Freedom - CISPA and Anonymous   \n",
        "1  nDjle8CcTqM        SpeeDART #11 - Anonymous - Internet Freedom   \n",
        "2  Sfw1kG4IFx0  Anonymous message: ACTA Threats the internet f...   \n",
        "3  sOsFQQ6O6cQ  Internet Freedom: London Riots, Anonymous & Fa...   \n",
        "4  dx3puUUpdwc  'Anonymous' threatens Bernanke' - OR IS THIS A...   \n",
        "5  PLsGAfKpVwM  Reddit Tflow Hello World ! Anonymous Hacker Tf...   \n",
        "6  yzeYtf4VccM  Anonymous message  ACTA Threats the internet f...   \n",
        "7  h3MuUYpU43Y  Anonymous Educational Series- G. Edward Griffi...   \n",
        "8  RCYO19YfFfY  Jacob Appelbaum: TOR Project, Fight for Anonymity   \n",
        "9  SOO1Qb8VvgI  Anonymous vs. Sony. Battle for Internet Freedo...   \n",
        "\n",
        "                                               URL                USER  \\\n",
        "0  https://www.youtube.com/watch?v=HdOiHNUKMe8&amp           TYTnation   \n",
        "1  https://www.youtube.com/watch?v=nDjle8CcTqM&amp          dartvoider   \n",
        "2  https://www.youtube.com/watch?v=Sfw1kG4IFx0&amp  AnonymousLegionWWP   \n",
        "3  https://www.youtube.com/watch?v=sOsFQQ6O6cQ&amp       ImpactAssault   \n",
        "4  https://www.youtube.com/watch?v=dx3puUUpdwc&amp         axis4peace4   \n",
        "5  https://www.youtube.com/watch?v=PLsGAfKpVwM&amp         tflowreddit   \n",
        "6  https://www.youtube.com/watch?v=yzeYtf4VccM&amp        Ainon Keiwes   \n",
        "7  https://www.youtube.com/watch?v=h3MuUYpU43Y&amp       0407Anonymous   \n",
        "8  https://www.youtube.com/watch?v=RCYO19YfFfY&amp       TheAlyonaShow   \n",
        "9  https://www.youtube.com/watch?v=SOO1Qb8VvgI&amp        Tommy Polack   \n",
        "\n",
        "                       DATA       CATEGORY FAVOURITES  VIEWS  DURATION  \\\n",
        "0  2012-04-24T16:09:26.000Z         People          0     86       240   \n",
        "1  2012-01-24T16:45:28.000Z  Entertainment          0    251       267   \n",
        "2  2009-12-01T09:10:57.000Z           News          0   6712       472   \n",
        "3  2011-08-15T12:47:48.000Z           News          0    217       196   \n",
        "4  2011-06-13T21:42:07.000Z           News          0    924       164   \n",
        "5  2012-03-08T17:26:29.000Z  Entertainment          0    104        41   \n",
        "6  2012-10-11T15:04:16.000Z      Nonprofit          0      9       472   \n",
        "7  2011-11-03T11:35:52.000Z      Education          0    315       317   \n",
        "8  2012-05-11T12:31:27.000Z           News          0  24518       567   \n",
        "9  2012-02-07T10:54:25.000Z           News          0    990       163   \n",
        "\n",
        "   KEYWORDS                                        DESCRIPTION  \n",
        "0       NaN  A TYT Nation submission about CISPA / SOPA and...  \n",
        "1       NaN  Image: http://i.imgur.com/VbPR6.jpg Stop ACTA ...  \n",
        "2       NaN  Operation Cancer spread: Help spread the word,...  \n",
        "3       NaN  The Josh Speaks about the London Riots and the...  \n",
        "4       NaN  ANNOYMOUS DEFENDS ASSANGE WHO TELLS US INFORMA...  \n",
        "5       NaN  Tflow defining internet freedom The world's le...  \n",
        "6       NaN  Media Copyright Notice: \" We are not responsib...  \n",
        "7       NaN  Copyright Disclaimer: Under Section 107 of the...  \n",
        "8       NaN  We often talk about the increasing attemptsby ...  \n",
        "9       NaN  First of all, Music is a piece of art where th...  "
       ]
      },
      {
       "output_type": "stream",
       "stream": "stdout",
       "text": [
        "\n"
       ]
      }
     ],
     "prompt_number": 6
    },
    {
     "cell_type": "markdown",
     "metadata": {},
     "source": [
      "The dataset has about a 1000 rows, but many seem duplicates. That is, the rows are literally identical in every field So cutting those out: ... "
     ]
    },
    {
     "cell_type": "code",
     "collapsed": false,
     "input": [
      "video_df = video_df.drop_duplicates()\n",
      "print(video_df.shape)\n",
      "print('Users: ', len(video_df.USER.unique()))\n",
      "print('Titles: ', len(video_df.TITLE.str.encode('utf-8').unique()))\n",
      "print('IDS: ', len(video_df.ID.unique()))"
     ],
     "language": "python",
     "metadata": {},
     "outputs": [
      {
       "output_type": "stream",
       "stream": "stdout",
       "text": [
        "(289, 11)\n",
        "('Users: ', 246)\n",
        "('Titles: ', 283)\n",
        "('IDS: ', 289)"
       ]
      },
      {
       "output_type": "stream",
       "stream": "stdout",
       "text": [
        "\n"
       ]
      }
     ],
     "prompt_number": 7
    },
    {
     "cell_type": "markdown",
     "metadata": {},
     "source": [
      "There are 908 titles in the Beraldo dataset, of which **289** are unique. There are 246 users -- people (robots?) who upload videos. \n",
      "\n",
      "Comparing Davide's results with the ones I get from the Youtube API:"
     ]
    },
    {
     "cell_type": "code",
     "collapsed": false,
     "input": [
      "df_am = yt.youtube_search(query='anonymous,internet,freedom', max_results=1000, with_statistics=True)"
     ],
     "language": "python",
     "metadata": {},
     "outputs": [
      {
       "output_type": "stream",
       "stream": "stdout",
       "text": [
        "getting another page of results ... 50\n",
        "getting another page of results ... 100"
       ]
      },
      {
       "output_type": "stream",
       "stream": "stdout",
       "text": [
        "\n",
        "getting another page of results ... 150"
       ]
      },
      {
       "output_type": "stream",
       "stream": "stdout",
       "text": [
        "\n",
        "getting another page of results ... 200"
       ]
      },
      {
       "output_type": "stream",
       "stream": "stdout",
       "text": [
        "\n",
        "getting another page of results ... 250"
       ]
      },
      {
       "output_type": "stream",
       "stream": "stdout",
       "text": [
        "\n",
        "getting another page of results ... 300"
       ]
      },
      {
       "output_type": "stream",
       "stream": "stdout",
       "text": [
        "\n",
        "getting another page of results ... 350"
       ]
      },
      {
       "output_type": "stream",
       "stream": "stdout",
       "text": [
        "\n",
        "getting another page of results ... 400"
       ]
      },
      {
       "output_type": "stream",
       "stream": "stdout",
       "text": [
        "\n",
        "getting another page of results ... 450"
       ]
      },
      {
       "output_type": "stream",
       "stream": "stdout",
       "text": [
        "\n",
        "getting another page of results ... 500"
       ]
      },
      {
       "output_type": "stream",
       "stream": "stdout",
       "text": [
        "\n",
        "getting another page of results ... 540"
       ]
      },
      {
       "output_type": "stream",
       "stream": "stdout",
       "text": [
        "\n",
        "getting another page of results ... 590"
       ]
      },
      {
       "output_type": "stream",
       "stream": "stdout",
       "text": [
        "\n",
        "getting another page of results ... 640"
       ]
      },
      {
       "output_type": "stream",
       "stream": "stdout",
       "text": [
        "\n",
        "getting another page of results ... 690"
       ]
      },
      {
       "output_type": "stream",
       "stream": "stdout",
       "text": [
        "\n",
        "getting another page of results ... 740"
       ]
      },
      {
       "output_type": "stream",
       "stream": "stdout",
       "text": [
        "\n",
        "getting another page of results ... 790"
       ]
      },
      {
       "output_type": "stream",
       "stream": "stdout",
       "text": [
        "\n",
        "getting another page of results ... 840"
       ]
      },
      {
       "output_type": "stream",
       "stream": "stdout",
       "text": [
        "\n",
        "getting another page of results ... 890"
       ]
      },
      {
       "output_type": "stream",
       "stream": "stdout",
       "text": [
        "\n",
        "getting another page of results ... 940"
       ]
      },
      {
       "output_type": "stream",
       "stream": "stdout",
       "text": [
        "\n",
        "getting video statistics: 50"
       ]
      },
      {
       "output_type": "stream",
       "stream": "stdout",
       "text": [
        "\n",
        "getting video statistics: 100"
       ]
      },
      {
       "output_type": "stream",
       "stream": "stdout",
       "text": [
        "\n",
        "getting video statistics: 150"
       ]
      },
      {
       "output_type": "stream",
       "stream": "stdout",
       "text": [
        "\n",
        "getting video statistics: 200"
       ]
      },
      {
       "output_type": "stream",
       "stream": "stdout",
       "text": [
        "\n",
        "getting video statistics: 250"
       ]
      },
      {
       "output_type": "stream",
       "stream": "stdout",
       "text": [
        "\n",
        "getting video statistics: 300"
       ]
      },
      {
       "output_type": "stream",
       "stream": "stdout",
       "text": [
        "\n",
        "getting video statistics: 350"
       ]
      },
      {
       "output_type": "stream",
       "stream": "stdout",
       "text": [
        "\n",
        "getting video statistics: 400"
       ]
      },
      {
       "output_type": "stream",
       "stream": "stdout",
       "text": [
        "\n",
        "getting video statistics: 450"
       ]
      },
      {
       "output_type": "stream",
       "stream": "stdout",
       "text": [
        "\n",
        "getting video statistics: 500"
       ]
      },
      {
       "output_type": "stream",
       "stream": "stdout",
       "text": [
        "\n",
        "getting video statistics: 550"
       ]
      },
      {
       "output_type": "stream",
       "stream": "stdout",
       "text": [
        "\n",
        "getting video statistics: 600"
       ]
      },
      {
       "output_type": "stream",
       "stream": "stdout",
       "text": [
        "\n",
        "getting video statistics: 650"
       ]
      },
      {
       "output_type": "stream",
       "stream": "stdout",
       "text": [
        "\n",
        "getting video statistics: 700"
       ]
      },
      {
       "output_type": "stream",
       "stream": "stdout",
       "text": [
        "\n",
        "getting video statistics: 750"
       ]
      },
      {
       "output_type": "stream",
       "stream": "stdout",
       "text": [
        "\n",
        "getting video statistics: 800"
       ]
      },
      {
       "output_type": "stream",
       "stream": "stdout",
       "text": [
        "\n",
        "getting video statistics: 850"
       ]
      },
      {
       "output_type": "stream",
       "stream": "stdout",
       "text": [
        "\n",
        "getting video statistics: 900"
       ]
      },
      {
       "output_type": "stream",
       "stream": "stdout",
       "text": [
        "\n",
        "getting video statistics: 950"
       ]
      },
      {
       "output_type": "stream",
       "stream": "stdout",
       "text": [
        "\n",
        "getting video statistics: 990"
       ]
      },
      {
       "output_type": "stream",
       "stream": "stdout",
       "text": [
        "\n",
        "(990, 14)\n",
        "(990, 8)\n"
       ]
      }
     ],
     "prompt_number": 8
    },
    {
     "cell_type": "code",
     "collapsed": false,
     "input": [
      "df_am.columns\n",
      "df_am.drop_duplicates(inplace=True, cols='videoId')\n",
      "print(df_am.shape)\n",
      "print 'Unique ids: ', len(df_am.videoId.unique())"
     ],
     "language": "python",
     "metadata": {},
     "outputs": [
      {
       "output_type": "stream",
       "stream": "stdout",
       "text": [
        "(525, 23)\n",
        "Unique ids:  525\n"
       ]
      }
     ],
     "prompt_number": 79
    },
    {
     "cell_type": "markdown",
     "metadata": {},
     "source": [
      "So not a huge difference in numbers -- 525 vs 289. But are they the same videos more or less? "
     ]
    },
    {
     "cell_type": "code",
     "collapsed": false,
     "input": [
      "davide_set = set(video_df.ID.tolist())\n",
      "adrian_set = set(df_am.videoId.tolist())\n",
      "comb_id = davide_set.union(adrian_set)\n",
      "intersecting_id = adrian_set.intersection(davide_set)\n",
      "adrian_unique = adrian_set.difference(davide_set)\n",
      "davide_unique = davide_set.difference(adrian_set)\n",
      "print('Set of combined video ids: ' + str(len(comb_id)))\n",
      "print('They have ' + str(len(intersecting_id)) + ' in common')\n",
      "print('Davide datatset has ' + str(len(davide_unique)) + ' that Adrian doesnt')\n",
      "print('Adrian has ' + str(len(adrian_unique)) + ' that Davide doesnt')"
     ],
     "language": "python",
     "metadata": {},
     "outputs": [
      {
       "output_type": "stream",
       "stream": "stdout",
       "text": [
        "Set of combined video ids: 707\n",
        "They have 107 in common\n",
        "Davide datatset has 182 that Adrian doesnt\n",
        "Adrian has 418 that Davide doesnt"
       ]
      },
      {
       "output_type": "stream",
       "stream": "stdout",
       "text": [
        "\n"
       ]
      }
     ],
     "prompt_number": 80
    },
    {
     "cell_type": "markdown",
     "metadata": {},
     "source": [
      "So it looks like there is in **poor overlap** between them. Altogether there are around 700 unique video ids, but 25% are common to both. The rest are different. How to explain this? If Davide used the Youtube API like I did, does this mean that Google is giving different results to different people? Or that the results depend on when/where you run the query? The question of getting the same data is maybe only an interesting methodological wrinkle, or it might be something worth investigating in its own right. \n",
      "\n",
      "I'll leave this aside for the moment, and just combine them both into one dataset.  "
     ]
    },
    {
     "cell_type": "code",
     "collapsed": false,
     "input": [
      "#combine all the ids and titles from Davide and Adrian's results\n",
      "video_df['videoId'] = video_df.ID\n",
      "video_df['title'] = video_df.TITLE.str.encode('utf-8')\n",
      "video_df['duration_second'] = video_df.DURATION\n",
      "\n",
      "\n",
      "video_comb = pd.concat([df_am[['videoId', 'title', 'duration_second']], video_df[['videoId','title', 'duration_second']]], axis=0, ignore_index=True)\n",
      "video_comb = video_comb.drop_duplicates()\n",
      "video_comb.shape"
     ],
     "language": "python",
     "metadata": {},
     "outputs": [
      {
       "metadata": {},
       "output_type": "pyout",
       "prompt_number": 91,
       "text": [
        "(715, 3)"
       ]
      }
     ],
     "prompt_number": 91
    },
    {
     "cell_type": "markdown",
     "metadata": {},
     "source": [
      "# The uniqueness of the videos\n",
      "\n",
      "But once all the dupicates are removed, it seems we are left with a unique list of videos, and **they are not mirrored very much at all.** Is that right? Video-IDs means that there is no real mirroring? A key question, because it would undermine the whole mirroring strategy. \n",
      "\n",
      "Here are the mirrored videos:"
     ]
    },
    {
     "cell_type": "code",
     "collapsed": false,
     "input": [
      "\n",
      "vc=video_comb.title.value_counts()\n",
      "vc[vc>1]"
     ],
     "language": "python",
     "metadata": {},
     "outputs": [
      {
       "metadata": {},
       "output_type": "pyout",
       "prompt_number": 92,
       "text": [
        "Freedom                              5\n",
        "Anonymous Declaration of Freedom     4\n",
        "A message from Anonymous Security    3\n",
        "Internet Censorship                  3\n",
        "Anonymous - Operation ANTI-ACTA      3\n",
        "...\n",
        "Is Hollywood undermining the free Internet?                     2\n",
        "ANONYMOUS NO MORE! Anonymous Comments Online to be BANNED from the Internet    2\n",
        "LulzSec & Anonymous Declare War Against Government! Operation Anti Security '#AntiSec'! Leak Info!    2\n",
        "Christopher Hitchens  Wishful Thinking vs Evidence 2008)        2\n",
        "freedom                                                         2\n",
        "EU & 22 Countries Sign ACTA! Anonymous Start #TwitterCensored! Twitter Start Censorship 2012!    2\n",
        "Length: 31, dtype: int64"
       ]
      }
     ],
     "prompt_number": 92
    },
    {
     "cell_type": "markdown",
     "metadata": {},
     "source": [
      "That's it in combined's dataset: 5 copies of 'Anonymous Declaration of Freedom,' and 2 of the rest. **5** mirrored videos, and not highly mirrored. \n"
     ]
    },
    {
     "cell_type": "markdown",
     "metadata": {},
     "source": [
      "Here there is a bit more duplication, and some overlap. There are also some time-specific results -- PRISM and Snowden probably arrives after Davide has generated his dataset. But still only 8 mirrored videos.\n",
      "\n",
      "I guess we should discuss this Adam. Should we look for more hidden duplicates? Is it something to do with the youtube search? Are there other ways of identifying videos associated with Anonymous that need to look into. "
     ]
    },
    {
     "cell_type": "markdown",
     "metadata": {},
     "source": [
      "## The length of the videos\n",
      "\n",
      "Not sure what the length of videos tells us. Something about the kind of object we are dealing with. Also, I guess length affects mirroring. Would many people upload a 60 minute documentary?"
     ]
    },
    {
     "cell_type": "code",
     "collapsed": false,
     "input": [
      "# renaming dataframes\n",
      "video_df = video_comb\n",
      "\n",
      "duration = video_df.duration_second.order().tolist()\n",
      "duration = [d/60 for d in duration]\n",
      "f = pylab.figure(figsize=(10,5))\n",
      "sp=f.add_subplot(1,1,1)\n",
      "\n",
      "h=sp.hist(duration, bins=100)\n",
      "print('Less than 10 minutes: '+ str(float(sum(video_df.duration_second/60 < 10))/video_df.duration_second.shape[0]*100)+ '%')\n",
      "sp.set_title('Length of videos (minutes) - Davide')\n",
      "sp.set_xlabel('minutes')\n",
      "sp.set_ylabel('videos')\n",
      "#adrian's videos\n",
      "# df_am = yt.format_durations(df_am)\n",
      "# df_am.columns\n",
      "# #df_am['duration_second'].hist(bins=100)\n",
      "# sp2=f.add_subplot(1,2,2)\n",
      "# sp2.set_title('Length of videos (minutes) - Adrian')\n",
      "# sp2.set_xlabel('minutes')\n",
      "# sp2.set_ylabel('videos')\n",
      "# dur_min = df_am.duration_second/60\n",
      "# h2 = sp2.hist(dur_min, bins=100)\n",
      "YouTubeVideo(video_df.videoId.iloc[1])"
     ],
     "language": "python",
     "metadata": {},
     "outputs": [
      {
       "output_type": "stream",
       "stream": "stdout",
       "text": [
        "Less than 10 minutes: 88.951048951%\n"
       ]
      },
      {
       "html": [
        "\n",
        "        <iframe\n",
        "            width=\"400\"\n",
        "            height=300\"\n",
        "            src=\"http://www.youtube.com/embed/2GS8DOdS53Y\"\n",
        "            frameborder=\"0\"\n",
        "            allowfullscreen\n",
        "        ></iframe>\n",
        "        "
       ],
       "metadata": {},
       "output_type": "pyout",
       "prompt_number": 95,
       "text": [
        "<IPython.lib.display.YouTubeVideo at 0x6cec650>"
       ]
      },
      {
       "metadata": {},
       "output_type": "display_data",
       "png": "[encoded data removed]",
       "text": [
        "<matplotlib.figure.Figure at 0x82b0e90>"
       ]
      }
     ],
     "prompt_number": 95
    },
    {
     "cell_type": "markdown",
     "metadata": {},
     "source": [
      "Again, the differences between the datasets. But can't see any pattern here.\n",
      "\n",
      "In general, it looks like most of the videos are relatively short (less than 10 minutes). Does duration correlate with either viewing or duplication?"
     ]
    },
    {
     "cell_type": "markdown",
     "metadata": {},
     "source": [
      "## Felipe: EVERYTHING BELOW HERE IS NOT RELEVANT AT THE MOMENT OR NEEDS FIXING"
     ]
    },
    {
     "cell_type": "code",
     "collapsed": false,
     "input": [
      "fig=figure(dpi=200)\n",
      "sp = fig.add_subplot(1,2,1)\n",
      "sp.scatter(video_df.DURATION/60, video_df.VIEWS, s=5,marker='o')\n",
      "sp.set_title('Duration vs Views')\n",
      "sp.set_xlabel('Duration (minutes)')\n",
      "sp.set_ylabel('Views')\n",
      "sp.set_xlim(0, 200)\n",
      "sp.set_ylim(0, 1e7)\n",
      "\n",
      "hms =[re.sub('H|M', ':', s) for s in [re.sub('PT|S', '', t)   for t in df_am.duration]]\n",
      "\n",
      "sp = fig.add_subplot(1,2,2)\n",
      "sp.scatter(video_df.DURATION/60, video_df.VIEWS, s=5,marker='o')\n",
      "sp.set_title('Duration vs Views')\n",
      "sp.set_xlabel('Duration (minutes)')\n",
      "sp.set_ylabel('Views')\n",
      "sp.set_xlim(0, 200)\n",
      "sp.set_ylim(0, 1e7)"
     ],
     "language": "python",
     "metadata": {},
     "outputs": [
      {
       "ename": "NameError",
       "evalue": "name 're' is not defined",
       "output_type": "pyerr",
       "traceback": [
        "\u001b[1;31m---------------------------------------------------------------------------\u001b[0m\n\u001b[1;31mNameError\u001b[0m                                 Traceback (most recent call last)",
        "\u001b[1;32m<ipython-input-18-657643217319>\u001b[0m in \u001b[0;36m<module>\u001b[1;34m()\u001b[0m\n\u001b[0;32m      8\u001b[0m \u001b[0msp\u001b[0m\u001b[1;33m.\u001b[0m\u001b[0mset_ylim\u001b[0m\u001b[1;33m(\u001b[0m\u001b[1;36m0\u001b[0m\u001b[1;33m,\u001b[0m \u001b[1;36m1e7\u001b[0m\u001b[1;33m)\u001b[0m\u001b[1;33m\u001b[0m\u001b[0m\n\u001b[0;32m      9\u001b[0m \u001b[1;33m\u001b[0m\u001b[0m\n\u001b[1;32m---> 10\u001b[1;33m \u001b[0mhms\u001b[0m \u001b[1;33m=\u001b[0m\u001b[1;33m[\u001b[0m\u001b[0mre\u001b[0m\u001b[1;33m.\u001b[0m\u001b[0msub\u001b[0m\u001b[1;33m(\u001b[0m\u001b[1;34m'H|M'\u001b[0m\u001b[1;33m,\u001b[0m \u001b[1;34m':'\u001b[0m\u001b[1;33m,\u001b[0m \u001b[0ms\u001b[0m\u001b[1;33m)\u001b[0m \u001b[1;32mfor\u001b[0m \u001b[0ms\u001b[0m \u001b[1;32min\u001b[0m \u001b[1;33m[\u001b[0m\u001b[0mre\u001b[0m\u001b[1;33m.\u001b[0m\u001b[0msub\u001b[0m\u001b[1;33m(\u001b[0m\u001b[1;34m'PT|S'\u001b[0m\u001b[1;33m,\u001b[0m \u001b[1;34m''\u001b[0m\u001b[1;33m,\u001b[0m \u001b[0mt\u001b[0m\u001b[1;33m)\u001b[0m   \u001b[1;32mfor\u001b[0m \u001b[0mt\u001b[0m \u001b[1;32min\u001b[0m \u001b[0mdf_am\u001b[0m\u001b[1;33m.\u001b[0m\u001b[0mduration\u001b[0m\u001b[1;33m]\u001b[0m\u001b[1;33m]\u001b[0m\u001b[1;33m\u001b[0m\u001b[0m\n\u001b[0m\u001b[0;32m     11\u001b[0m \u001b[1;33m\u001b[0m\u001b[0m\n\u001b[0;32m     12\u001b[0m \u001b[0msp\u001b[0m \u001b[1;33m=\u001b[0m \u001b[0mfig\u001b[0m\u001b[1;33m.\u001b[0m\u001b[0madd_subplot\u001b[0m\u001b[1;33m(\u001b[0m\u001b[1;36m1\u001b[0m\u001b[1;33m,\u001b[0m\u001b[1;36m2\u001b[0m\u001b[1;33m,\u001b[0m\u001b[1;36m2\u001b[0m\u001b[1;33m)\u001b[0m\u001b[1;33m\u001b[0m\u001b[0m\n",
        "\u001b[1;31mNameError\u001b[0m: name 're' is not defined"
       ]
      },
      {
       "metadata": {},
       "output_type": "display_data",
       "png": "[encoded data removed]",
       "text": [
        "<matplotlib.figure.Figure at 0x82b9790>"
       ]
      }
     ],
     "prompt_number": 18
    },
    {
     "cell_type": "markdown",
     "metadata": {},
     "source": [
      "At a glance, it looks like the longer videos are viewed much less. Very short videos are not viewed much either. But this doesn't take into account the fact that there are many more short videos. "
     ]
    },
    {
     "cell_type": "markdown",
     "metadata": {},
     "source": [
      "# Viewing figures\n",
      "\n",
      "Another way to look at videos -- more in terms of reception. Does anything stand out from the viewing figures?\n",
      "\n",
      "As usually, totally different results from the Adrian dataset -- maximum view is 66 million, not 14 million"
     ]
    },
    {
     "cell_type": "code",
     "collapsed": false,
     "input": [
      "video_df.VIEWS = video_df.VIEWS.replace('None', 0)\n",
      "views = video_df.VIEWS.order()\n",
      "print('Maximum views: ' + str(views.max()))\n",
      "f=figure(figsize(10,5))\n",
      "suptitle('Views of videos at different scale: Davide dataset')\n",
      "sp1 = f.add_subplot(1,3,1)\n",
      "h1=sp1.hist(views, bins=100)\n",
      "sp1.set_ylabel('Number of videos')\n",
      "sp1.set_xlabel('Number of views')\n",
      "sp1.set_title('View high scale')\n",
      "sp2 = f.add_subplot(1,3,2)\n",
      "h2 = sp2.hist(views[views<100], bins=100)\n",
      "sp2.set_title('View on medium scale')\n",
      "sp2.set_ylabel('Number of videos')\n",
      "sp2.set_xlabel('Number of views')\n",
      "sp3 = f.add_subplot(1,3,3)\n",
      "h3 = sp3.hist(views[views<10], bins = 10)\n",
      "sp3.set_title('View on low scale')\n",
      "sp3.set_ylabel('Number of videos')\n",
      "sp3.set_xlabel('Number of views')\n",
      "\n",
      "#Adrian dataset\n",
      "views = df_am.viewCount.astype('int').order()\n",
      "print('Max views in adrian dataset: ' + str(views.max()))\n",
      "f=figure(figsize=(10,5))\n",
      "suptitle('Views of videos at different scale (Mackenzie dataset)')\n",
      "sp1 = f.add_subplot(1,3,1)\n",
      "h1=sp1.hist(views, bins=100)\n",
      "sp1.set_ylabel('Number of videos')\n",
      "sp1.set_xlabel('Number of views')\n",
      "sp1.set_title('View high scale')\n",
      "sp2 = f.add_subplot(1,3,2)\n",
      "h2 = sp2.hist(views[views<100], bins=100)\n",
      "sp2.set_title('View on medium scale')\n",
      "sp2.set_ylabel('Number of videos')\n",
      "sp2.set_xlabel('Number of views')\n",
      "sp3 = f.add_subplot(1,3,3)\n",
      "h3 = sp3.hist(views[views<10])\n",
      "sp3.set_title('View on low scale')\n",
      "sp3.set_ylabel('Number of videos')\n",
      "sp3.set_xlabel('Number of views')\n",
      "\n"
     ],
     "language": "python",
     "metadata": {},
     "outputs": [
      {
       "output_type": "stream",
       "stream": "stdout",
       "text": [
        "Maximum views: 14381492.0\n",
        "Max views in adrian dataset: 105657789"
       ]
      },
      {
       "output_type": "stream",
       "stream": "stdout",
       "text": [
        "\n"
       ]
      },
      {
       "metadata": {},
       "output_type": "pyout",
       "prompt_number": 19,
       "text": [
        "<matplotlib.text.Text at 0x91325d0>"
       ]
      },
      {
       "metadata": {},
       "output_type": "display_data",
       "png": "[encoded data removed]",
       "text": [
        "<matplotlib.figure.Figure at 0x7476d10>"
       ]
      },
      {
       "metadata": {},
       "output_type": "display_data",
       "png": "[encoded data removed]",
       "text": [
        "<matplotlib.figure.Figure at 0x81ebc10>"
       ]
      }
     ],
     "prompt_number": 19
    },
    {
     "cell_type": "markdown",
     "metadata": {},
     "source": [
      "As usual, most videos are only viewed by a small number of people, and a couple are viewed by 100,000s up to 14 million. Actually, viewing figures are quite widely distributed even for the less-viewed videos. It might be interesting to look at the videos that are viewed 8, 30 or 80 times as well as the ones viewed 14 millon times. This analysis _does not_ take into account view figures for copies of videos.\n",
      "\n",
      "## The most viewed videos\n",
      "\n",
      "If we aggregate views for videos with the same title, things start to look different. "
     ]
    },
    {
     "cell_type": "code",
     "collapsed": false,
     "input": [
      "top_views = video_df.loc[video_df.VIEWS>100000, ['TITLE', 'VIEWS']]\n",
      "gby=top_views.groupby(by='TITLE')['VIEWS']\n",
      "print('total viewings:'+str(video_df['VIEWS'].sum()))\n",
      "print('total views of top videos:', sum(gby.sum()))\n",
      "print('total views of top 5 videos:', sum(gby.sum()[:4]))\n",
      "\n",
      "print(gby.ngroups)\n",
      "gbyo=gby.sum().order(ascending=False)\n",
      "pie(gbyo[0:9], labels=gbyo.keys()[0:9])\n",
      "pylab.title('Most viewed videos in terms of view share')\n",
      "pd.DataFrame(gbyo).head(n=5)"
     ],
     "language": "python",
     "metadata": {},
     "outputs": [
      {
       "output_type": "stream",
       "stream": "stdout",
       "text": [
        "total viewings:64494886.0\n",
        "('total views of top videos:', 63247980.0)\n",
        "('total views of top 5 videos:', 1128680.0)\n",
        "18"
       ]
      },
      {
       "output_type": "stream",
       "stream": "stdout",
       "text": [
        "\n"
       ]
      },
      {
       "output_type": "stream",
       "stream": "stderr",
       "text": [
        "/usr/local/lib/python2.7/dist-packages/pandas-0.12.0-py2.7-linux-x86_64.egg/pandas/core/config.py:570: DeprecationWarning: height has been deprecated.\n",
        "\n",
        "  warnings.warn(d.msg, DeprecationWarning)\n",
        "/usr/local/lib/python2.7/dist-packages/pandas-0.12.0-py2.7-linux-x86_64.egg/pandas/core/config.py:570: DeprecationWarning: height has been deprecated.\n",
        "\n",
        "  warnings.warn(d.msg, DeprecationWarning)\n"
       ]
      },
      {
       "html": [
        "<div style=\"max-height:1000px;max-width:1500px;overflow:auto;\">\n",
        "<table border=\"1\" class=\"dataframe\">\n",
        "  <thead>\n",
        "    <tr style=\"text-align: right;\">\n",
        "      <th></th>\n",
        "      <th>VIEWS</th>\n",
        "    </tr>\n",
        "    <tr>\n",
        "      <th>TITLE</th>\n",
        "      <th></th>\n",
        "    </tr>\n",
        "  </thead>\n",
        "  <tbody>\n",
        "    <tr>\n",
        "      <th>Emmanuel Kelly The X Factor 2011 Auditions Emmanuel Kelly FULL</th>\n",
        "      <td> 14381492</td>\n",
        "    </tr>\n",
        "    <tr>\n",
        "      <th>Collateral Murder - Wikileaks - Iraq</th>\n",
        "      <td> 13640192</td>\n",
        "    </tr>\n",
        "    <tr>\n",
        "      <th>The Greatest Speech Ever Made</th>\n",
        "      <td> 11744180</td>\n",
        "    </tr>\n",
        "    <tr>\n",
        "      <th>Anonymous - Message to the American People</th>\n",
        "      <td>  9612949</td>\n",
        "    </tr>\n",
        "    <tr>\n",
        "      <th>Wealth Inequality in America</th>\n",
        "      <td>  6287314</td>\n",
        "    </tr>\n",
        "  </tbody>\n",
        "</table>\n",
        "</div>"
       ],
       "metadata": {},
       "output_type": "pyout",
       "prompt_number": 21,
       "text": [
        "                                                                   VIEWS\n",
        "TITLE                                                                   \n",
        "Emmanuel Kelly The X Factor 2011 Auditions Emmanuel Kelly FULL  14381492\n",
        "Collateral Murder - Wikileaks - Iraq                            13640192\n",
        "The Greatest Speech Ever Made                                   11744180\n",
        "Anonymous - Message to the American People                       9612949\n",
        "Wealth Inequality in America                                     6287314"
       ]
      },
      {
       "metadata": {},
       "output_type": "display_data",
       "png": "[encoded data removed]",
       "text": [
        "<matplotlib.figure.Figure at 0x820cd50>"
       ]
      }
     ],
     "prompt_number": 21
    },
    {
     "cell_type": "code",
     "collapsed": false,
     "input": [
      "# for the Adrian dataset\n",
      "df_am.viewCount = df_am.viewCount.astype('int32')\n",
      "top_views_am = df_am.loc[df_am.viewCount>100000, ['title', 'viewCount']]\n",
      "gby_am=top_views_am.groupby(by='title')['viewCount']\n",
      "print('total viewings:'+str(df_am['viewCount'].sum()))\n",
      "print('total views of top videos:', sum(gby_am.sum()))\n",
      "print('total views of top 5 videos:', sum(gby_am.sum()[:4]))\n",
      "\n",
      "print(gby_am.ngroups)\n",
      "gbyo_am=gby_am.sum().order(ascending=False)\n",
      "pie(gbyo_am[0:9], labels=gbyo_am.keys()[0:9])\n",
      "pylab.title('Most viewed videos in terms of view share (Adrian dataset)')\n",
      "pd.DataFrame(gbyo_am).head(n=5)"
     ],
     "language": "python",
     "metadata": {},
     "outputs": [
      {
       "output_type": "stream",
       "stream": "stdout",
       "text": [
        "total viewings:112748149\n",
        "('total views of top videos:', 110920802)\n",
        "('total views of top 5 videos:', 1393879)\n",
        "15"
       ]
      },
      {
       "output_type": "stream",
       "stream": "stdout",
       "text": [
        "\n"
       ]
      },
      {
       "output_type": "stream",
       "stream": "stderr",
       "text": [
        "/usr/local/lib/python2.7/dist-packages/pandas-0.12.0-py2.7-linux-x86_64.egg/pandas/core/config.py:570: DeprecationWarning: height has been deprecated.\n",
        "\n",
        "  warnings.warn(d.msg, DeprecationWarning)\n",
        "/usr/local/lib/python2.7/dist-packages/pandas-0.12.0-py2.7-linux-x86_64.egg/pandas/core/config.py:570: DeprecationWarning: height has been deprecated.\n",
        "\n",
        "  warnings.warn(d.msg, DeprecationWarning)\n"
       ]
      },
      {
       "html": [
        "<div style=\"max-height:1000px;max-width:1500px;overflow:auto;\">\n",
        "<table border=\"1\" class=\"dataframe\">\n",
        "  <thead>\n",
        "    <tr style=\"text-align: right;\">\n",
        "      <th></th>\n",
        "      <th>viewCount</th>\n",
        "    </tr>\n",
        "    <tr>\n",
        "      <th>title</th>\n",
        "      <th></th>\n",
        "    </tr>\n",
        "  </thead>\n",
        "  <tbody>\n",
        "    <tr>\n",
        "      <th>Nicky Romero - Toulouse</th>\n",
        "      <td> 105657789</td>\n",
        "    </tr>\n",
        "    <tr>\n",
        "      <th>Kim Dotcom - Mr President</th>\n",
        "      <td>   1770309</td>\n",
        "    </tr>\n",
        "    <tr>\n",
        "      <th>Anonymous - Operation ANTI-ACTA</th>\n",
        "      <td>    973731</td>\n",
        "    </tr>\n",
        "    <tr>\n",
        "      <th>Anonymous vs NorthKorea</th>\n",
        "      <td>    568330</td>\n",
        "    </tr>\n",
        "    <tr>\n",
        "      <th>Operation Payback #Anonymous Message RE: ACTA, SOPA, PIPA, Internet Censorship &amp; Copyright</th>\n",
        "      <td>    308797</td>\n",
        "    </tr>\n",
        "  </tbody>\n",
        "</table>\n",
        "</div>"
       ],
       "metadata": {},
       "output_type": "pyout",
       "prompt_number": 22,
       "text": [
        "                                                                                            viewCount\n",
        "title                                                                                                \n",
        "Nicky Romero - Toulouse                                                                     105657789\n",
        "Kim Dotcom - Mr President                                                                     1770309\n",
        "Anonymous - Operation ANTI-ACTA                                                                973731\n",
        "Anonymous vs NorthKorea                                                                        568330\n",
        "Operation Payback #Anonymous Message RE: ACTA, SOPA, PIPA, Internet Censorship & Copyright     308797"
       ]
      },
      {
       "metadata": {},
       "output_type": "display_data",
       "png": "[encoded data removed]",
       "text": [
        "<matplotlib.figure.Figure at 0x8255690>"
       ]
      }
     ],
     "prompt_number": 22
    },
    {
     "cell_type": "markdown",
     "metadata": {},
     "source": [
      "There are 18 videos that each have more 100,00 views. There have been around 480 million views in total of Anonymous-related videos. The top 18 videos account for 477 million of the views. The top 5 videos account for 460 million of the 480 million. \n",
      "Looking at the titles, is the 'Emmanuel Kelly X Factor 2011 Auditions' video 'noise'? Maybe not -- he's an Iraqi orphan living in Australia, and 'Collateral Murder - Wikileaks - Iraq' (#2) doesn't look like that. The top four videos after Kelly's all have more than 50 million viewings. So they dominate the total views of Anonymous videos. "
     ]
    },
    {
     "cell_type": "code",
     "collapsed": false,
     "input": [
      "#video_df.TITLE.\n",
      "emmanuel_kelly = video_df.ID[video_df.TITLE == gbyo.index[0]]\n",
      "YouTubeVideo(emmanuel_kelly.iloc[0])"
     ],
     "language": "python",
     "metadata": {},
     "outputs": [
      {
       "html": [
        "\n",
        "            <iframe\n",
        "                width=\"400\"\n",
        "                height=\"300\"\n",
        "                src=\"http://www.youtube.com/embed/W86jlvrG54o\"\n",
        "                frameborder=\"0\"\n",
        "                allowfullscreen\n",
        "            ></iframe>\n",
        "        "
       ],
       "output_type": "pyout",
       "prompt_number": 12,
       "text": [
        "<IPython.lib.display.YouTubeVideo at 0x4c13a90>"
       ]
      }
     ],
     "prompt_number": 12
    },
    {
     "cell_type": "markdown",
     "metadata": {},
     "source": [
      "## Are video duplicates viewed?\n",
      "\n",
      "Are views related to duplication/mirroring practices? First, we need to find the duplicates. Title is an ok starting point. Presumably, videos with the same title are likely to be duplicates."
     ]
    },
    {
     "cell_type": "code",
     "collapsed": false,
     "input": [
      "title = video_df.TITLE.tolist()\n",
      "video_df.TITLE = [t.encode('utf8', errors='ignore') for t in title]\n",
      "print('distinct titles:', len(video_df.TITLE.unique()))\n",
      "print('distinct ids', len(video_df.ID.unique()))\n",
      "print('distinct durations:', len(video_df.DURATION.unique()))"
     ],
     "language": "python",
     "metadata": {},
     "outputs": [
      {
       "output_type": "stream",
       "stream": "stdout",
       "text": [
        "('distinct titles:', 283)\n",
        "('distinct ids', 289)\n",
        "('distinct durations:', 221)\n"
       ]
      }
     ],
     "prompt_number": 13
    },
    {
     "cell_type": "markdown",
     "metadata": {},
     "source": [
      "While there are 908 videos listed, there are only 283 distinctly titled videos and 289 distinct video IDS. That means that potentially ~620 are copies. But if copies have the same ID, does that mean that they have been uploaded? Or are they simply different views on the same video? This is a crucial question - are we dealing here with duplicates or just references to one instance?  \n",
      "Things are a bit more complicated in the duration data. There are only 220 distinct durations. But it could be that different videos happen to have the same duration. \n",
      "What are the most commonly duplicated videos?"
     ]
    },
    {
     "cell_type": "code",
     "collapsed": false,
     "input": [
      "dup_video_counts =video_df.TITLE.value_counts()\n",
      "dup_df = pd.DataFrame(dup_video_counts.head())\n",
      "dup_df"
     ],
     "language": "python",
     "metadata": {},
     "outputs": [
      {
       "html": [
        "<div style=\"max-height:1000px;max-width:1500px;overflow:auto;\">\n",
        "<table border=\"1\" class=\"dataframe\">\n",
        "  <thead>\n",
        "    <tr style=\"text-align: right;\">\n",
        "      <th></th>\n",
        "      <th>0</th>\n",
        "    </tr>\n",
        "  </thead>\n",
        "  <tbody>\n",
        "    <tr>\n",
        "      <th>Christopher Hitchens  Wishful Thinking vs Evidence 2008)</th>\n",
        "      <td> 16</td>\n",
        "    </tr>\n",
        "    <tr>\n",
        "      <th>Anonymous is Freedom</th>\n",
        "      <td> 15</td>\n",
        "    </tr>\n",
        "    <tr>\n",
        "      <th>Anonymous Declaration of Freedom</th>\n",
        "      <td> 10</td>\n",
        "    </tr>\n",
        "    <tr>\n",
        "      <th>Anonymous - Truth is a Virus</th>\n",
        "      <td> 10</td>\n",
        "    </tr>\n",
        "    <tr>\n",
        "      <th>Anonymous Exposed for Crimes Against Humanity</th>\n",
        "      <td>  9</td>\n",
        "    </tr>\n",
        "  </tbody>\n",
        "</table>\n",
        "</div>"
       ],
       "output_type": "pyout",
       "prompt_number": 14,
       "text": [
        "                                                           0\n",
        "Christopher Hitchens  Wishful Thinking vs Evidence 2008)  16\n",
        "Anonymous is Freedom                                      15\n",
        "Anonymous Declaration of Freedom                          10\n",
        "Anonymous - Truth is a Virus                              10\n",
        "Anonymous Exposed for Crimes Against Humanity              9"
       ]
      }
     ],
     "prompt_number": 14
    },
    {
     "cell_type": "code",
     "collapsed": true,
     "input": [
      "top_dup_video_counts=dup_video_counts[dup_video_counts>5]\n",
      "top_dup_video_counts = top_dup_video_counts.order(ascending=False)\n",
      "top_dup_videos = dup_video_counts.index\n",
      "top_dup_video_counts"
     ],
     "language": "python",
     "metadata": {},
     "outputs": [
      {
       "output_type": "pyout",
       "prompt_number": 15,
       "text": [
        "Christopher Hitchens  Wishful Thinking vs Evidence 2008)    16\n",
        "Anonymous is Freedom                                        15\n",
        "Anonymous - Truth is a Virus                                10\n",
        "Anonymous Declaration of Freedom                            10\n",
        "The Truth About The Anonymous Mask.                          9\n",
        "...\n",
        "Tor tutorial \"How to be anonymous on the internet\"              6\n",
        "Anonymous: S.O.P.A.                                             6\n",
        "Anonymous - NDAA Bill Signed                                    6\n",
        "OpIsrael Anonymous launches massive cyber assault               6\n",
        "Arranca la operaci\u00f3n de Anonymous contra Israel para borrarlos de Internet (06/04/13)    6\n",
        "Anonymous Current Event Project                                 6\n",
        "Length: 84, dtype: int64"
       ]
      }
     ],
     "prompt_number": 15
    },
    {
     "cell_type": "markdown",
     "metadata": {},
     "source": [
      "Does duplication correlate with viewing figures? Do these duplicates get the same number of views? Or are some versions much more widely viewed than others?"
     ]
    },
    {
     "cell_type": "code",
     "collapsed": false,
     "input": [
      "dup_views=video_df.loc[video_df.TITLE.isin(top_dup_videos), ['TITLE', 'VIEWS']]\n",
      "dup_views['copies'] = top_dup_video_counts\n",
      "dv =pd.DataFrame(dup_views.groupby(['TITLE'])['VIEWS'].sum().order(ascending=False))\n",
      "dv.head()"
     ],
     "language": "python",
     "metadata": {},
     "outputs": [
      {
       "html": [
        "<div style=\"max-height:1000px;max-width:1500px;overflow:auto;\">\n",
        "<table border=\"1\" class=\"dataframe\">\n",
        "  <thead>\n",
        "    <tr style=\"text-align: right;\">\n",
        "      <th></th>\n",
        "      <th>VIEWS</th>\n",
        "    </tr>\n",
        "    <tr>\n",
        "      <th>TITLE</th>\n",
        "      <th></th>\n",
        "    </tr>\n",
        "  </thead>\n",
        "  <tbody>\n",
        "    <tr>\n",
        "      <th>Emmanuel Kelly The X Factor 2011 Auditions Emmanuel Kelly FULL</th>\n",
        "      <td> 115051936</td>\n",
        "    </tr>\n",
        "    <tr>\n",
        "      <th>Collateral Murder - Wikileaks - Iraq</th>\n",
        "      <td> 109121536</td>\n",
        "    </tr>\n",
        "    <tr>\n",
        "      <th>The Greatest Speech Ever Made</th>\n",
        "      <td>  93953440</td>\n",
        "    </tr>\n",
        "    <tr>\n",
        "      <th>Anonymous - Message to the American People</th>\n",
        "      <td>  76903592</td>\n",
        "    </tr>\n",
        "    <tr>\n",
        "      <th>Wealth Inequality in America</th>\n",
        "      <td>  50298512</td>\n",
        "    </tr>\n",
        "  </tbody>\n",
        "</table>\n",
        "</div>"
       ],
       "output_type": "pyout",
       "prompt_number": 16,
       "text": [
        "                                                                    VIEWS\n",
        "TITLE                                                                    \n",
        "Emmanuel Kelly The X Factor 2011 Auditions Emmanuel Kelly FULL  115051936\n",
        "Collateral Murder - Wikileaks - Iraq                            109121536\n",
        "The Greatest Speech Ever Made                                    93953440\n",
        "Anonymous - Message to the American People                       76903592\n",
        "Wealth Inequality in America                                     50298512"
       ]
      }
     ],
     "prompt_number": 16
    },
    {
     "cell_type": "markdown",
     "metadata": {},
     "source": [
      "Some interesting points here. High rates of duplication does not equate with high view counts. What is the Christopher Hitchens piece? It is the 4th most duplicated video, but shows 0 views - is that possible? More importantly, the most duplicated video 'Anonymous - Truth is a Virus' only has 1380 views.\n"
     ]
    },
    {
     "cell_type": "markdown",
     "metadata": {},
     "source": [
      "## Some stuff on users"
     ]
    },
    {
     "cell_type": "code",
     "collapsed": false,
     "input": [
      "video_df.columns\n",
      "video_df['USER'].unique().shape"
     ],
     "language": "python",
     "metadata": {},
     "outputs": [
      {
       "metadata": {},
       "output_type": "pyout",
       "prompt_number": 23,
       "text": [
        "(246,)"
       ]
      }
     ],
     "prompt_number": 23
    },
    {
     "cell_type": "markdown",
     "metadata": {},
     "source": [
      "So there are 246 users (people?) who upload videos. How much do they upload?"
     ]
    },
    {
     "cell_type": "code",
     "collapsed": false,
     "input": [
      "user_counts = video_df['USER'].value_counts()\n",
      "f3 = figure(figsize=(5,3))\n",
      "sp=f3.add_subplot(111)\n",
      "h4 = sp.hist(video_df['USER'].value_counts(), bins=100)\n",
      "sp.set_title('Number of videos per user')\n",
      "top_users = user_counts[user_counts>5].index\n",
      "top_users\n",
      "print(user_counts.describe())\n",
      "user_counts.quantile(0.6)\n"
     ],
     "language": "python",
     "metadata": {},
     "outputs": [
      {
       "output_type": "stream",
       "stream": "stdout",
       "text": [
        "count    246.000000\n",
        "mean       1.174797\n",
        "std        0.576703\n",
        "min        1.000000\n",
        "25%        1.000000\n",
        "50%        1.000000\n",
        "75%        1.000000\n",
        "max        5.000000\n",
        "dtype: float64\n"
       ]
      },
      {
       "output_type": "stream",
       "stream": "stderr",
       "text": [
        "/usr/local/lib/python2.7/dist-packages/pandas-0.12.0-py2.7-linux-x86_64.egg/pandas/compat/scipy.py:68: DeprecationWarning: using a non-integer number instead of an integer will result in an error in the future\n",
        "  score = values[idx]\n"
       ]
      },
      {
       "metadata": {},
       "output_type": "pyout",
       "prompt_number": 24,
       "text": [
        "1"
       ]
      },
      {
       "metadata": {},
       "output_type": "display_data",
       "png": "[encoded data removed]",
       "text": [
        "<matplotlib.figure.Figure at 0x9527710>"
       ]
      }
     ],
     "prompt_number": 24
    },
    {
     "cell_type": "markdown",
     "metadata": {},
     "source": [
      "So, more than 60% of people upload less than 2 videos. "
     ]
    },
    {
     "cell_type": "markdown",
     "metadata": {},
     "source": [
      "## How top contributing users upload top-viewed videos -- that is, do they duplicate them? \n",
      "\n",
      "I'm calling 'top users' anyone who uploads more than 5 videos, and 'top videos' any video that is duplicated more than 5 times. "
     ]
    },
    {
     "cell_type": "code",
     "collapsed": false,
     "input": [
      "topuser_toptitle=pd.crosstab(video_df[video_df.USER.isin(top_users)]['USER'], video_df[video_df.TITLE.isin(top_dup_videos)]['TITLE'])\n",
      "top_user_title_df = pd.DataFrame(topuser_toptitle.sum(axis=1).order(ascending=False))\n",
      "top_user_title_df.head()"
     ],
     "language": "python",
     "metadata": {},
     "outputs": [
      {
       "html": [
        "<div style=\"max-height:1000px;max-width:1500px;overflow:auto;\">\n",
        "<table border=\"1\" class=\"dataframe\">\n",
        "  <thead>\n",
        "    <tr style=\"text-align: right;\">\n",
        "      <th></th>\n",
        "      <th>0</th>\n",
        "    </tr>\n",
        "    <tr>\n",
        "      <th>USER</th>\n",
        "      <th></th>\n",
        "    </tr>\n",
        "  </thead>\n",
        "  <tbody>\n",
        "    <tr>\n",
        "      <th>YourRightsVigilante</th>\n",
        "      <td> 18</td>\n",
        "    </tr>\n",
        "    <tr>\n",
        "      <th>Truthloader</th>\n",
        "      <td> 17</td>\n",
        "    </tr>\n",
        "    <tr>\n",
        "      <th>wikispeak10</th>\n",
        "      <td> 16</td>\n",
        "    </tr>\n",
        "    <tr>\n",
        "      <th>Tom Craig</th>\n",
        "      <td> 16</td>\n",
        "    </tr>\n",
        "    <tr>\n",
        "      <th>MatriXCr3w</th>\n",
        "      <td> 16</td>\n",
        "    </tr>\n",
        "  </tbody>\n",
        "</table>\n",
        "</div>"
       ],
       "output_type": "pyout",
       "prompt_number": 32,
       "text": [
        "                      0\n",
        "USER                   \n",
        "YourRightsVigilante  18\n",
        "Truthloader          17\n",
        "wikispeak10          16\n",
        "Tom Craig            16\n",
        "MatriXCr3w           16"
       ]
      }
     ],
     "prompt_number": 32
    },
    {
     "cell_type": "markdown",
     "metadata": {},
     "source": [
      "This suggests that there is some link between between uploading a lot and duplicating a lot. I'm not sure about this actually -- needs further thought. There is still the question of whether the duplicates are viewed a lot. And do these high duplicating users duplicate the same videos?"
     ]
    },
    {
     "cell_type": "markdown",
     "metadata": {},
     "source": [
      "## What is viewed\n",
      "\n",
      "Many questions could be asked here. For highly duplicated videos, are all copies viewed at similar levels or not?"
     ]
    },
    {
     "cell_type": "code",
     "collapsed": false,
     "input": [
      "date = pd.to_datetime(video_df.DATA)\n",
      "video_df.DATA = date\n",
      "video_df.groupby(by=['TITLE'])['VIEWS'].sum().order()"
     ],
     "language": "python",
     "metadata": {},
     "outputs": [
      {
       "metadata": {},
       "output_type": "pyout",
       "prompt_number": 25,
       "text": [
        "TITLE\n",
        "Aaron Swartz - Wiki Article                                     0\n",
        "Are your civil liberties being taken away? LIVE Debate          0\n",
        "Christopher Hitchens  Wishful Thinking vs Evidence 2008)        0\n",
        "Cyber Intelligence Sharing and Protection Act - Wiki Article    0\n",
        "Freedom on the Net 2012 Release: Shifting Methods of Internet Control    0\n",
        "...\n",
        "The Most AMAZING video on the internet #Egypt #jan25             2474050\n",
        "Wealth Inequality in America                                     6287314\n",
        "Anonymous - Message to the American People                       9612949\n",
        "The Greatest Speech Ever Made                                   11744180\n",
        "Collateral Murder - Wikileaks - Iraq                            13640192\n",
        "Emmanuel Kelly The X Factor 2011 Auditions Emmanuel Kelly FULL    14381492\n",
        "Name: VIEWS, Length: 283, dtype: float64"
       ]
      }
     ],
     "prompt_number": 25
    },
    {
     "cell_type": "code",
     "collapsed": false,
     "input": [
      "f = figure(figsize=(8,6), dpi=400)\n",
      "s = f.add_subplot(111)\n",
      "s.scatter(date, video_df.VIEWS)\n",
      "s.set_title('Viewing activity over time')\n",
      "s.set_ylabel('Views')\n",
      "\n",
      "top_views.head()"
     ],
     "language": "python",
     "metadata": {},
     "outputs": [
      {
       "output_type": "stream",
       "stream": "stderr",
       "text": [
        "/usr/local/lib/python2.7/dist-packages/pandas-0.12.0-py2.7-linux-x86_64.egg/pandas/core/config.py:570: DeprecationWarning: height has been deprecated.\n",
        "\n",
        "  warnings.warn(d.msg, DeprecationWarning)\n",
        "/usr/local/lib/python2.7/dist-packages/pandas-0.12.0-py2.7-linux-x86_64.egg/pandas/core/config.py:570: DeprecationWarning: height has been deprecated.\n",
        "\n",
        "  warnings.warn(d.msg, DeprecationWarning)\n"
       ]
      },
      {
       "html": [
        "<div style=\"max-height:1000px;max-width:1500px;overflow:auto;\">\n",
        "<table border=\"1\" class=\"dataframe\">\n",
        "  <thead>\n",
        "    <tr style=\"text-align: right;\">\n",
        "      <th></th>\n",
        "      <th>TITLE</th>\n",
        "      <th>VIEWS</th>\n",
        "    </tr>\n",
        "  </thead>\n",
        "  <tbody>\n",
        "    <tr>\n",
        "      <th>21</th>\n",
        "      <td> Anonymous Philippines message to Cybercrime La...</td>\n",
        "      <td> 143349</td>\n",
        "    </tr>\n",
        "    <tr>\n",
        "      <th>45</th>\n",
        "      <td> Table Talk: Cons, Internet Freedom, &amp; Spoiler ...</td>\n",
        "      <td> 155988</td>\n",
        "    </tr>\n",
        "    <tr>\n",
        "      <th>58</th>\n",
        "      <td>   Anonymous Calls for CISPA Internet Blackout Day</td>\n",
        "      <td> 138356</td>\n",
        "    </tr>\n",
        "    <tr>\n",
        "      <th>60</th>\n",
        "      <td> F2C2012:  Aaron Swartz keynote - \"How we stopp...</td>\n",
        "      <td> 415163</td>\n",
        "    </tr>\n",
        "    <tr>\n",
        "      <th>76</th>\n",
        "      <td>         Anonymous - A Message to Congress on SOPA</td>\n",
        "      <td> 101092</td>\n",
        "    </tr>\n",
        "  </tbody>\n",
        "</table>\n",
        "</div>"
       ],
       "metadata": {},
       "output_type": "pyout",
       "prompt_number": 26,
       "text": [
        "                                                TITLE   VIEWS\n",
        "21  Anonymous Philippines message to Cybercrime La...  143349\n",
        "45  Table Talk: Cons, Internet Freedom, & Spoiler ...  155988\n",
        "58    Anonymous Calls for CISPA Internet Blackout Day  138356\n",
        "60  F2C2012:  Aaron Swartz keynote - \"How we stopp...  415163\n",
        "76          Anonymous - A Message to Congress on SOPA  101092"
       ]
      },
      {
       "metadata": {},
       "output_type": "display_data",
       "png": "[encoded data removed]",
       "text": [
        "<matplotlib.figure.Figure at 0x9527110>"
       ]
      }
     ],
     "prompt_number": 26
    },
    {
     "cell_type": "code",
     "collapsed": false,
     "input": [
      "## Overviews of the data"
     ],
     "language": "python",
     "metadata": {},
     "outputs": []
    },
    {
     "cell_type": "code",
     "collapsed": false,
     "input": [
      "df_am.columns\n",
      "# df_am.commentCount.astype('int64').hist()\n",
      "\n",
      "df_am[['commentCount', 'dislikeCount', 'favoriteCount', 'viewCount', 'duration_second']].astype('int64').hist(bins=100)"
     ],
     "language": "python",
     "metadata": {},
     "outputs": [
      {
       "metadata": {},
       "output_type": "pyout",
       "prompt_number": 27,
       "text": [
        "array([[<matplotlib.axes.AxesSubplot object at 0x7397f90>,\n",
        "        <matplotlib.axes.AxesSubplot object at 0x954dad0>,\n",
        "        <matplotlib.axes.AxesSubplot object at 0x6e86590>],\n",
        "       [<matplotlib.axes.AxesSubplot object at 0x7c515d0>,\n",
        "        <matplotlib.axes.AxesSubplot object at 0x81c0e10>,\n",
        "        <matplotlib.axes.AxesSubplot object at 0x82aa890>]], dtype=object)"
       ]
      },
      {
       "metadata": {},
       "output_type": "display_data",
       "png": "[encoded data removed]",
       "text": [
        "<matplotlib.figure.Figure at 0x81ab710>"
       ]
      }
     ],
     "prompt_number": 27
    },
    {
     "cell_type": "markdown",
     "metadata": {},
     "source": [
      "Hard to see what is happening in the viewing of these videos. "
     ]
    }
   ],
   "metadata": {}
  }
 ]
}