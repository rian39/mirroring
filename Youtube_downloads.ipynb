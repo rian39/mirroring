{
 "metadata": {
  "name": ""
 },
 "nbformat": 3,
 "nbformat_minor": 0,
 "worksheets": [
  {
   "cells": [
    {
     "cell_type": "markdown",
     "metadata": {},
     "source": [
      "## Trying out Youtube downloads\n",
      "\n",
      "Can download videos and look at their attributes"
     ]
    },
    {
     "cell_type": "code",
     "collapsed": false,
     "input": [
      "import pafy\n"
     ],
     "language": "python",
     "metadata": {},
     "outputs": [],
     "prompt_number": 68
    },
    {
     "cell_type": "code",
     "collapsed": false,
     "input": [
      "vid = pafy.Pafy('TOgk9WW1Q8c')"
     ],
     "language": "python",
     "metadata": {},
     "outputs": [],
     "prompt_number": 69
    },
    {
     "cell_type": "code",
     "collapsed": false,
     "input": [
      "vid.length"
     ],
     "language": "python",
     "metadata": {},
     "outputs": [
      {
       "metadata": {},
       "output_type": "pyout",
       "prompt_number": 70,
       "text": [
        "182"
       ]
      }
     ],
     "prompt_number": 70
    },
    {
     "cell_type": "code",
     "collapsed": false,
     "input": [
      "vid.published"
     ],
     "language": "python",
     "metadata": {},
     "outputs": [
      {
       "metadata": {},
       "output_type": "pyout",
       "prompt_number": 71,
       "text": [
        "'2012-11-28 20:18:25'"
       ]
      }
     ],
     "prompt_number": 71
    },
    {
     "cell_type": "code",
     "collapsed": false,
     "input": [
      "vid.streams"
     ],
     "language": "python",
     "metadata": {},
     "outputs": [
      {
       "metadata": {},
       "output_type": "pyout",
       "prompt_number": 72,
       "text": [
        "[normal:mp4@1280x720,\n",
        " normal:webm@640x360,\n",
        " normal:mp4@640x360,\n",
        " normal:flv@320x240,\n",
        " normal:3gp@320x240,\n",
        " normal:3gp@176x144]"
       ]
      }
     ],
     "prompt_number": 72
    },
    {
     "cell_type": "code",
     "collapsed": false,
     "input": [
      "vid.expiry"
     ],
     "language": "python",
     "metadata": {},
     "outputs": [
      {
       "metadata": {},
       "output_type": "pyout",
       "prompt_number": 73,
       "text": [
        "1394508947.338408"
       ]
      }
     ],
     "prompt_number": 73
    },
    {
     "cell_type": "code",
     "collapsed": false,
     "input": [
      "vid.description"
     ],
     "language": "python",
     "metadata": {},
     "outputs": [
      {
       "metadata": {},
       "output_type": "pyout",
       "prompt_number": 74,
       "text": [
        "\"We love the internet.\\nAnd we're guessing you do too. Think about all the awesome things it gives us: A vast communication network; innovative businesses; a platform to freely speak or challenge powerful governments; and hundreds and hundreds of hours of cat videos.\\n\\nAll this great stuff is available because the internet was designed in an open and inclusive way, with a multitude of voices being able to get a say on how it's governed.\\nBut the internet is in danger.\\n\\nThere's a meeting between the world's governments in a just a few weeks, and it could very well decide the future of the internet through a binding international treaty. It's called the World Conference on International Telecommunications (WCIT), and it's being organized by a government-controlled UN agency called the International Telecommunication Union (ITU).\\n\\nIf some proposals at WCIT are approved, decisions about the internet would be made by a top-down, old-school government-centric agency behind closed doors. Some proposals allow for internet access to be cut off more easily, threaten privacy, legitimizes monitoring and blocking of online traffic. Others seek to impose new fees for accessing content, not to mention slowing down connection speeds. Used as a pretext to internet pornography among other things as an excuse to censor sensitive material pages (note that there are too many cases of child pornography that are ignored by the police) In addition to paying for internet service, you'd also have to pay for visiting certain sites, such as YouTube. Your communications would be constantly monitored and archived, meaning the end of Internet privacy. This could potentially lead to individuals becoming victims of blackmail by malicious people who control the monitoring. The Internet is home to many organized social movements which fight for human rights worldwide. If we allow this, we will not be able to use the Internet to organize the defense of our rights...\\n\\nIf the delicate balance of the internet is upset, it could have grave consequences for businesses and human rights.\\nThis must be stopped.\\n\\nOnly governments get a vote at WCIT, so we need people from all around the world to demand that our leaders keep the internet open.\\nWatch the video, and take action above to tell your governments to oppose handing over key decisions about the internet to the ITU. Let's use the internet's global reach to save it.\\n\\nWe are the internet\\nWe are anonymous\\nWe are here to help you with your revolution\\n\\nWatch the video here https://www.whatistheitu.org/?ref=an\\n\\nLeaked documents here http://www.wcitleaks.org/\\n\\nWebChat: http://webchat.voxanon.org/?channels=opwcit\\n\\nOther Languages, also German: http://pastebin.com/9pCST17G\\n\\n\\nmirrored from Anonpublicrel\""
       ]
      }
     ],
     "prompt_number": 74
    },
    {
     "cell_type": "code",
     "collapsed": false,
     "input": [
      "best = vid.getbest()"
     ],
     "language": "python",
     "metadata": {},
     "outputs": [],
     "prompt_number": 76
    },
    {
     "cell_type": "code",
     "collapsed": false,
     "input": [
      "best.download('images/test.mp4')"
     ],
     "language": "python",
     "metadata": {},
     "outputs": [
      {
       "output_type": "stream",
       "stream": "stdout",
       "text": [
        "\r",
        "  16,384 Bytes [0.05%] received. Rate: [ 424 KB/s].  ETA: [73 secs]    \r"
       ]
      },
      {
       "output_type": "stream",
       "stream": "stdout",
       "text": [
        "\r",
        "  32,768 Bytes [0.10%] received. Rate: [ 552 KB/s].  ETA: [56 secs]    \r"
       ]
      },
      {
       "output_type": "stream",
       "stream": "stdout",
       "text": [
        "\r",
        "  49,152 Bytes [0.15%] received. Rate: [ 571 KB/s].  ETA: [55 secs]    \r"
       ]
      },
      {
       "output_type": "stream",
       "stream": "stdout",
       "text": [
        "\r",
        "  65,536 Bytes [0.21%] received. Rate: [ 648 KB/s].  ETA: [48 secs]    \r"
       ]
      },
      {
       "output_type": "stream",
       "stream": "stdout",
       "text": [
        "\r",
        "  81,920 Bytes [0.26%] received. Rate: [ 712 KB/s].  ETA: [44 secs]    \r"
       ]
      },
      {
       "output_type": "stream",
       "stream": "stdout",
       "text": [
        "\r",
        "  98,304 Bytes [0.31%] received. Rate: [ 757 KB/s].  ETA: [41 secs]    \r"
       ]
      },
      {
       "output_type": "stream",
       "stream": "stdout",
       "text": [
        "\r",
        "  114,688 Bytes [0.36%] received. Rate: [ 778 KB/s].  ETA: [40 secs]    \r"
       ]
      },
      {
       "output_type": "stream",
       "stream": "stdout",
       "text": [
        "\r",
        "  131,072 Bytes [0.41%] received. Rate: [ 804 KB/s].  ETA: [39 secs]    \r"
       ]
      },
      {
       "output_type": "stream",
       "stream": "stdout",
       "text": [
        "\r",
        "  147,456 Bytes [0.46%] received. Rate: [ 832 KB/s].  ETA: [37 secs]    \r"
       ]
      },
      {
       "output_type": "stream",
       "stream": "stdout",
       "text": [
        "\r",
        "  163,840 Bytes [0.51%] received. Rate: [ 844 KB/s].  ETA: [37 secs]    \r"
       ]
      },
      {
       "output_type": "stream",
       "stream": "stdout",
       "text": [
        "\r",
        "  180,224 Bytes [0.56%] received. Rate: [ 860 KB/s].  ETA: [36 secs]    \r"
       ]
      },
      {
       "output_type": "stream",
       "stream": "stdout",
       "text": [
        "\r",
        "  196,608 Bytes [0.62%] received. Rate: [ 875 KB/s].  ETA: [35 secs]    \r"
       ]
      },
      {
       "output_type": "stream",
       "stream": "stdout",
       "text": [
        "\r",
        "  212,992 Bytes [0.67%] received. Rate: [ 891 KB/s].  ETA: [35 secs]    \r"
       ]
      },
      {
       "output_type": "stream",
       "stream": "stdout",
       "text": [
        "\r",
        "  229,376 Bytes [0.72%] received. Rate: [ 894 KB/s].  ETA: [35 secs]    \r"
       ]
      },
      {
       "output_type": "stream",
       "stream": "stdout",
       "text": [
        "\r",
        "  245,760 Bytes [0.77%] received. Rate: [ 903 KB/s].  ETA: [34 secs]    \r"
       ]
      },
      {
       "output_type": "stream",
       "stream": "stdout",
       "text": [
        "\r",
        "  262,144 Bytes [0.82%] received. Rate: [ 907 KB/s].  ETA: [34 secs]    \r"
       ]
      },
      {
       "output_type": "stream",
       "stream": "stdout",
       "text": [
        "\r",
        "  278,528 Bytes [0.87%] received. Rate: [ 914 KB/s].  ETA: [34 secs]    \r"
       ]
      },
      {
       "output_type": "stream",
       "stream": "stdout",
       "text": [
        "\r",
        "  294,912 Bytes [0.92%] received. Rate: [ 923 KB/s].  ETA: [33 secs]    \r"
       ]
      },
      {
       "output_type": "stream",
       "stream": "stdout",
       "text": [
        "\r",
        "  311,296 Bytes [0.97%] received. Rate: [ 930 KB/s].  ETA: [33 secs]    \r"
       ]
      },
      {
       "output_type": "stream",
       "stream": "stdout",
       "text": [
        "\r",
        "  327,680 Bytes [1.03%] received. Rate: [ 931 KB/s].  ETA: [33 secs]    \r"
       ]
      },
      {
       "output_type": "stream",
       "stream": "stdout",
       "text": [
        "\r",
        "  344,064 Bytes [1.08%] received. Rate: [ 928 KB/s].  ETA: [33 secs]    \r"
       ]
      },
      {
       "output_type": "stream",
       "stream": "stdout",
       "text": [
        "\r",
        "  360,448 Bytes [1.13%] received. Rate: [ 943 KB/s].  ETA: [33 secs]    \r"
       ]
      },
      {
       "output_type": "stream",
       "stream": "stdout",
       "text": [
        "\r",
        "  376,832 Bytes [1.18%] received. Rate: [ 948 KB/s].  ETA: [32 secs]    \r"
       ]
      },
      {
       "output_type": "stream",
       "stream": "stdout",
       "text": [
        "\r",
        "  393,216 Bytes [1.23%] received. Rate: [ 950 KB/s].  ETA: [32 secs]    \r"
       ]
      },
      {
       "output_type": "stream",
       "stream": "stdout",
       "text": [
        "\r",
        "  409,600 Bytes [1.28%] received. Rate: [ 957 KB/s].  ETA: [32 secs]    \r"
       ]
      },
      {
       "output_type": "stream",
       "stream": "stdout",
       "text": [
        "\r",
        "  425,984 Bytes [1.33%] received. Rate: [ 963 KB/s].  ETA: [32 secs]    \r"
       ]
      },
      {
       "output_type": "stream",
       "stream": "stdout",
       "text": [
        "\r",
        "  442,368 Bytes [1.39%] received. Rate: [ 958 KB/s].  ETA: [32 secs]    \r"
       ]
      },
      {
       "output_type": "stream",
       "stream": "stdout",
       "text": [
        "\r",
        "  458,752 Bytes [1.44%] received. Rate: [ 964 KB/s].  ETA: [32 secs]    \r"
       ]
      },
      {
       "output_type": "stream",
       "stream": "stdout",
       "text": [
        "\r",
        "  475,136 Bytes [1.49%] received. Rate: [ 968 KB/s].  ETA: [32 secs]    \r"
       ]
      },
      {
       "output_type": "stream",
       "stream": "stdout",
       "text": [
        "\r",
        "  491,520 Bytes [1.54%] received. Rate: [ 971 KB/s].  ETA: [32 secs]    \r"
       ]
      },
      {
       "output_type": "stream",
       "stream": "stdout",
       "text": [
        "\r",
        "  507,904 Bytes [1.59%] received. Rate: [ 971 KB/s].  ETA: [32 secs]    \r"
       ]
      },
      {
       "output_type": "stream",
       "stream": "stdout",
       "text": [
        "\r",
        "  524,288 Bytes [1.64%] received. Rate: [ 938 KB/s].  ETA: [33 secs]    \r"
       ]
      },
      {
       "output_type": "stream",
       "stream": "stdout",
       "text": [
        "\r",
        "  540,672 Bytes [1.69%] received. Rate: [ 956 KB/s].  ETA: [32 secs]    \r"
       ]
      },
      {
       "output_type": "stream",
       "stream": "stdout",
       "text": [
        "\r",
        "  557,056 Bytes [1.74%] received. Rate: [ 973 KB/s].  ETA: [31 secs]    \r"
       ]
      },
      {
       "output_type": "stream",
       "stream": "stdout",
       "text": [
        "\r",
        "  573,440 Bytes [1.80%] received. Rate: [ 974 KB/s].  ETA: [31 secs]    \r"
       ]
      },
      {
       "output_type": "stream",
       "stream": "stdout",
       "text": [
        "\r",
        "  589,824 Bytes [1.85%] received. Rate: [ 957 KB/s].  ETA: [32 secs]    \r"
       ]
      },
      {
       "output_type": "stream",
       "stream": "stdout",
       "text": [
        "\r",
        "  606,208 Bytes [1.90%] received. Rate: [ 943 KB/s].  ETA: [32 secs]    \r"
       ]
      },
      {
       "output_type": "stream",
       "stream": "stdout",
       "text": [
        "\r",
        "  622,592 Bytes [1.95%] received. Rate: [ 941 KB/s].  ETA: [32 secs]    \r"
       ]
      },
      {
       "output_type": "stream",
       "stream": "stdout",
       "text": [
        "\r",
        "  638,976 Bytes [2.00%] received. Rate: [ 947 KB/s].  ETA: [32 secs]    \r"
       ]
      },
      {
       "output_type": "stream",
       "stream": "stdout",
       "text": [
        "\r",
        "  655,360 Bytes [2.05%] received. Rate: [ 866 KB/s].  ETA: [35 secs]    \r"
       ]
      },
      {
       "output_type": "stream",
       "stream": "stdout",
       "text": [
        "\r",
        "  671,744 Bytes [2.10%] received. Rate: [ 886 KB/s].  ETA: [34 secs]    \r"
       ]
      },
      {
       "output_type": "stream",
       "stream": "stdout",
       "text": [
        "\r",
        "  688,128 Bytes [2.15%] received. Rate: [ 906 KB/s].  ETA: [34 secs]    \r"
       ]
      },
      {
       "output_type": "stream",
       "stream": "stdout",
       "text": [
        "\r",
        "  704,512 Bytes [2.21%] received. Rate: [ 927 KB/s].  ETA: [33 secs]    \r"
       ]
      },
      {
       "output_type": "stream",
       "stream": "stdout",
       "text": [
        "\r",
        "  720,896 Bytes [2.26%] received. Rate: [ 947 KB/s].  ETA: [32 secs]    \r"
       ]
      },
      {
       "output_type": "stream",
       "stream": "stdout",
       "text": [
        "\r",
        "  737,280 Bytes [2.31%] received. Rate: [ 948 KB/s].  ETA: [32 secs]    \r"
       ]
      },
      {
       "output_type": "stream",
       "stream": "stdout",
       "text": [
        "\r",
        "  753,664 Bytes [2.36%] received. Rate: [ 948 KB/s].  ETA: [32 secs]    \r"
       ]
      },
      {
       "output_type": "stream",
       "stream": "stdout",
       "text": [
        "\r",
        "  770,048 Bytes [2.41%] received. Rate: [ 946 KB/s].  ETA: [32 secs]    \r"
       ]
      },
      {
       "output_type": "stream",
       "stream": "stdout",
       "text": [
        "\r",
        "  786,432 Bytes [2.46%] received. Rate: [ 949 KB/s].  ETA: [32 secs]    \r"
       ]
      },
      {
       "output_type": "stream",
       "stream": "stdout",
       "text": [
        "\r",
        "  802,816 Bytes [2.51%] received. Rate: [ 951 KB/s].  ETA: [32 secs]    \r"
       ]
      },
      {
       "output_type": "stream",
       "stream": "stdout",
       "text": [
        "\r",
        "  819,200 Bytes [2.57%] received. Rate: [ 950 KB/s].  ETA: [32 secs]    \r"
       ]
      },
      {
       "output_type": "stream",
       "stream": "stdout",
       "text": [
        "\r",
        "  835,584 Bytes [2.62%] received. Rate: [ 954 KB/s].  ETA: [32 secs]    \r"
       ]
      },
      {
       "output_type": "stream",
       "stream": "stdout",
       "text": [
        "\r",
        "  851,968 Bytes [2.67%] received. Rate: [ 955 KB/s].  ETA: [32 secs]    \r"
       ]
      },
      {
       "output_type": "stream",
       "stream": "stdout",
       "text": [
        "\r",
        "  868,352 Bytes [2.72%] received. Rate: [ 957 KB/s].  ETA: [32 secs]    \r"
       ]
      },
      {
       "output_type": "stream",
       "stream": "stdout",
       "text": [
        "\r",
        "  884,736 Bytes [2.77%] received. Rate: [ 959 KB/s].  ETA: [32 secs]    \r"
       ]
      },
      {
       "output_type": "stream",
       "stream": "stdout",
       "text": [
        "\r",
        "  901,120 Bytes [2.82%] received. Rate: [ 965 KB/s].  ETA: [31 secs]    \r"
       ]
      },
      {
       "output_type": "stream",
       "stream": "stdout",
       "text": [
        "\r",
        "  917,504 Bytes [2.87%] received. Rate: [ 963 KB/s].  ETA: [31 secs]    \r"
       ]
      },
      {
       "output_type": "stream",
       "stream": "stdout",
       "text": [
        "\r",
        "  933,888 Bytes [2.92%] received. Rate: [ 967 KB/s].  ETA: [31 secs]    \r"
       ]
      },
      {
       "output_type": "stream",
       "stream": "stdout",
       "text": [
        "\r",
        "  950,272 Bytes [2.98%] received. Rate: [ 967 KB/s].  ETA: [31 secs]    \r"
       ]
      },
      {
       "output_type": "stream",
       "stream": "stdout",
       "text": [
        "\r",
        "  966,656 Bytes [3.03%] received. Rate: [ 966 KB/s].  ETA: [31 secs]    \r"
       ]
      },
      {
       "output_type": "stream",
       "stream": "stdout",
       "text": [
        "\r",
        "  983,040 Bytes [3.08%] received. Rate: [ 967 KB/s].  ETA: [31 secs]    \r"
       ]
      },
      {
       "output_type": "stream",
       "stream": "stdout",
       "text": [
        "\r",
        "  999,424 Bytes [3.13%] received. Rate: [ 972 KB/s].  ETA: [31 secs]    \r"
       ]
      },
      {
       "output_type": "stream",
       "stream": "stdout",
       "text": [
        "\r",
        "  1,015,808 Bytes [3.18%] received. Rate: [ 971 KB/s].  ETA: [31 secs]    \r"
       ]
      },
      {
       "output_type": "stream",
       "stream": "stdout",
       "text": [
        "\r",
        "  1,032,192 Bytes [3.23%] received. Rate: [ 974 KB/s].  ETA: [31 secs]    \r"
       ]
      },
      {
       "output_type": "stream",
       "stream": "stdout",
       "text": [
        "\r",
        "  1,048,576 Bytes [3.28%] received. Rate: [ 973 KB/s].  ETA: [31 secs]    \r"
       ]
      },
      {
       "output_type": "stream",
       "stream": "stdout",
       "text": [
        "\r",
        "  1,064,960 Bytes [3.33%] received. Rate: [ 976 KB/s].  ETA: [31 secs]    \r"
       ]
      },
      {
       "output_type": "stream",
       "stream": "stdout",
       "text": [
        "\r",
        "  1,081,344 Bytes [3.39%] received. Rate: [ 978 KB/s].  ETA: [31 secs]    \r"
       ]
      },
      {
       "output_type": "stream",
       "stream": "stdout",
       "text": [
        "\r",
        "  1,097,728 Bytes [3.44%] received. Rate: [ 977 KB/s].  ETA: [31 secs]    \r"
       ]
      },
      {
       "output_type": "stream",
       "stream": "stdout",
       "text": [
        "\r",
        "  1,114,112 Bytes [3.49%] received. Rate: [ 978 KB/s].  ETA: [31 secs]    \r"
       ]
      },
      {
       "output_type": "stream",
       "stream": "stdout",
       "text": [
        "\r",
        "  1,130,496 Bytes [3.54%] received. Rate: [ 980 KB/s].  ETA: [31 secs]    \r"
       ]
      },
      {
       "output_type": "stream",
       "stream": "stdout",
       "text": [
        "\r",
        "  1,146,880 Bytes [3.59%] received. Rate: [ 981 KB/s].  ETA: [31 secs]    \r"
       ]
      },
      {
       "output_type": "stream",
       "stream": "stdout",
       "text": [
        "\r",
        "  1,163,264 Bytes [3.64%] received. Rate: [ 982 KB/s].  ETA: [31 secs]    \r"
       ]
      },
      {
       "output_type": "stream",
       "stream": "stdout",
       "text": [
        "\r",
        "  1,179,648 Bytes [3.69%] received. Rate: [ 982 KB/s].  ETA: [31 secs]    \r"
       ]
      },
      {
       "output_type": "stream",
       "stream": "stdout",
       "text": [
        "\r",
        "  1,196,032 Bytes [3.75%] received. Rate: [ 983 KB/s].  ETA: [31 secs]    \r"
       ]
      },
      {
       "output_type": "stream",
       "stream": "stdout",
       "text": [
        "\r",
        "  1,212,416 Bytes [3.80%] received. Rate: [ 985 KB/s].  ETA: [30 secs]    \r"
       ]
      },
      {
       "output_type": "stream",
       "stream": "stdout",
       "text": [
        "\r",
        "  1,228,800 Bytes [3.85%] received. Rate: [ 985 KB/s].  ETA: [30 secs]    \r"
       ]
      },
      {
       "output_type": "stream",
       "stream": "stdout",
       "text": [
        "\r",
        "  1,245,184 Bytes [3.90%] received. Rate: [ 985 KB/s].  ETA: [30 secs]    \r"
       ]
      },
      {
       "output_type": "stream",
       "stream": "stdout",
       "text": [
        "\r",
        "  1,261,568 Bytes [3.95%] received. Rate: [ 986 KB/s].  ETA: [30 secs]    \r"
       ]
      },
      {
       "output_type": "stream",
       "stream": "stdout",
       "text": [
        "\r",
        "  1,277,952 Bytes [4.00%] received. Rate: [ 989 KB/s].  ETA: [30 secs]    \r"
       ]
      },
      {
       "output_type": "stream",
       "stream": "stdout",
       "text": [
        "\r",
        "  1,294,336 Bytes [4.05%] received. Rate: [ 990 KB/s].  ETA: [30 secs]    \r"
       ]
      },
      {
       "output_type": "stream",
       "stream": "stdout",
       "text": [
        "\r",
        "  1,310,720 Bytes [4.10%] received. Rate: [ 990 KB/s].  ETA: [30 secs]    \r"
       ]
      },
      {
       "output_type": "stream",
       "stream": "stdout",
       "text": [
        "\r",
        "  1,327,104 Bytes [4.16%] received. Rate: [ 991 KB/s].  ETA: [30 secs]    \r"
       ]
      },
      {
       "output_type": "stream",
       "stream": "stdout",
       "text": [
        "\r",
        "  1,343,488 Bytes [4.21%] received. Rate: [ 992 KB/s].  ETA: [30 secs]    \r"
       ]
      },
      {
       "output_type": "stream",
       "stream": "stdout",
       "text": [
        "\r",
        "  1,359,872 Bytes [4.26%] received. Rate: [ 992 KB/s].  ETA: [30 secs]    \r"
       ]
      },
      {
       "output_type": "stream",
       "stream": "stdout",
       "text": [
        "\r",
        "  1,376,256 Bytes [4.31%] received. Rate: [ 993 KB/s].  ETA: [30 secs]    \r"
       ]
      },
      {
       "output_type": "stream",
       "stream": "stdout",
       "text": [
        "\r",
        "  1,392,640 Bytes [4.36%] received. Rate: [ 992 KB/s].  ETA: [30 secs]    \r"
       ]
      },
      {
       "output_type": "stream",
       "stream": "stdout",
       "text": [
        "\r",
        "  1,409,024 Bytes [4.41%] received. Rate: [ 995 KB/s].  ETA: [30 secs]    \r"
       ]
      },
      {
       "output_type": "stream",
       "stream": "stdout",
       "text": [
        "\r",
        "  1,425,408 Bytes [4.46%] received. Rate: [ 994 KB/s].  ETA: [30 secs]    \r"
       ]
      },
      {
       "output_type": "stream",
       "stream": "stdout",
       "text": [
        "\r",
        "  1,441,792 Bytes [4.51%] received. Rate: [ 996 KB/s].  ETA: [30 secs]    \r"
       ]
      },
      {
       "output_type": "stream",
       "stream": "stdout",
       "text": [
        "\r",
        "  1,458,176 Bytes [4.57%] received. Rate: [ 997 KB/s].  ETA: [30 secs]    \r"
       ]
      },
      {
       "output_type": "stream",
       "stream": "stdout",
       "text": [
        "\r",
        "  1,474,560 Bytes [4.62%] received. Rate: [ 997 KB/s].  ETA: [30 secs]    \r"
       ]
      },
      {
       "output_type": "stream",
       "stream": "stdout",
       "text": [
        "\r",
        "  1,490,944 Bytes [4.67%] received. Rate: [ 996 KB/s].  ETA: [30 secs]    \r"
       ]
      },
      {
       "output_type": "stream",
       "stream": "stdout",
       "text": [
        "\r",
        "  1,507,328 Bytes [4.72%] received. Rate: [ 997 KB/s].  ETA: [30 secs]    \r"
       ]
      },
      {
       "output_type": "stream",
       "stream": "stdout",
       "text": [
        "\r",
        "  1,523,712 Bytes [4.77%] received. Rate: [ 999 KB/s].  ETA: [30 secs]    \r"
       ]
      },
      {
       "output_type": "stream",
       "stream": "stdout",
       "text": [
        "\r",
        "  1,540,096 Bytes [4.82%] received. Rate: [1000 KB/s].  ETA: [30 secs]    \r"
       ]
      },
      {
       "output_type": "stream",
       "stream": "stdout",
       "text": [
        "\r",
        "  1,556,480 Bytes [4.87%] received. Rate: [ 999 KB/s].  ETA: [30 secs]    \r"
       ]
      },
      {
       "output_type": "stream",
       "stream": "stdout",
       "text": [
        "\r",
        "  1,572,864 Bytes [4.93%] received. Rate: [1001 KB/s].  ETA: [30 secs]    \r"
       ]
      },
      {
       "output_type": "stream",
       "stream": "stdout",
       "text": [
        "\r",
        "  1,589,248 Bytes [4.98%] received. Rate: [1001 KB/s].  ETA: [30 secs]    \r"
       ]
      },
      {
       "output_type": "stream",
       "stream": "stdout",
       "text": [
        "\r",
        "  1,605,632 Bytes [5.03%] received. Rate: [1001 KB/s].  ETA: [30 secs]    \r"
       ]
      },
      {
       "output_type": "stream",
       "stream": "stdout",
       "text": [
        "\r",
        "  1,622,016 Bytes [5.08%] received. Rate: [1002 KB/s].  ETA: [30 secs]    \r"
       ]
      },
      {
       "output_type": "stream",
       "stream": "stdout",
       "text": [
        "\r",
        "  1,638,400 Bytes [5.13%] received. Rate: [1003 KB/s].  ETA: [29 secs]    \r"
       ]
      },
      {
       "output_type": "stream",
       "stream": "stdout",
       "text": [
        "\r",
        "  1,654,784 Bytes [5.18%] received. Rate: [1002 KB/s].  ETA: [30 secs]    \r"
       ]
      },
      {
       "output_type": "stream",
       "stream": "stdout",
       "text": [
        "\r",
        "  1,671,168 Bytes [5.23%] received. Rate: [1004 KB/s].  ETA: [29 secs]    \r"
       ]
      },
      {
       "output_type": "stream",
       "stream": "stdout",
       "text": [
        "\r",
        "  1,687,552 Bytes [5.28%] received. Rate: [1004 KB/s].  ETA: [29 secs]    \r"
       ]
      },
      {
       "output_type": "stream",
       "stream": "stdout",
       "text": [
        "\r",
        "  1,703,936 Bytes [5.34%] received. Rate: [1004 KB/s].  ETA: [29 secs]    \r"
       ]
      },
      {
       "output_type": "stream",
       "stream": "stdout",
       "text": [
        "\r",
        "  1,720,320 Bytes [5.39%] received. Rate: [1005 KB/s].  ETA: [29 secs]    \r"
       ]
      },
      {
       "output_type": "stream",
       "stream": "stdout",
       "text": [
        "\r",
        "  1,736,704 Bytes [5.44%] received. Rate: [1005 KB/s].  ETA: [29 secs]    \r"
       ]
      },
      {
       "output_type": "stream",
       "stream": "stdout",
       "text": [
        "\r",
        "  1,753,088 Bytes [5.49%] received. Rate: [1006 KB/s].  ETA: [29 secs]    \r"
       ]
      },
      {
       "output_type": "stream",
       "stream": "stdout",
       "text": [
        "\r",
        "  1,769,472 Bytes [5.54%] received. Rate: [1006 KB/s].  ETA: [29 secs]    \r"
       ]
      },
      {
       "output_type": "stream",
       "stream": "stdout",
       "text": [
        "\r",
        "  1,785,856 Bytes [5.59%] received. Rate: [1007 KB/s].  ETA: [29 secs]    \r"
       ]
      },
      {
       "output_type": "stream",
       "stream": "stdout",
       "text": [
        "\r",
        "  1,802,240 Bytes [5.64%] received. Rate: [1008 KB/s].  ETA: [29 secs]    \r"
       ]
      },
      {
       "output_type": "stream",
       "stream": "stdout",
       "text": [
        "\r",
        "  1,818,624 Bytes [5.69%] received. Rate: [1008 KB/s].  ETA: [29 secs]    \r"
       ]
      },
      {
       "output_type": "stream",
       "stream": "stdout",
       "text": [
        "\r",
        "  1,835,008 Bytes [5.75%] received. Rate: [1008 KB/s].  ETA: [29 secs]    \r"
       ]
      },
      {
       "output_type": "stream",
       "stream": "stdout",
       "text": [
        "\r",
        "  1,851,392 Bytes [5.80%] received. Rate: [1008 KB/s].  ETA: [29 secs]    \r"
       ]
      },
      {
       "output_type": "stream",
       "stream": "stdout",
       "text": [
        "\r",
        "  1,867,776 Bytes [5.85%] received. Rate: [1009 KB/s].  ETA: [29 secs]    \r"
       ]
      },
      {
       "output_type": "stream",
       "stream": "stdout",
       "text": [
        "\r",
        "  1,884,160 Bytes [5.90%] received. Rate: [1010 KB/s].  ETA: [29 secs]    \r"
       ]
      },
      {
       "output_type": "stream",
       "stream": "stdout",
       "text": [
        "\r",
        "  1,900,544 Bytes [5.95%] received. Rate: [1010 KB/s].  ETA: [29 secs]    \r"
       ]
      },
      {
       "output_type": "stream",
       "stream": "stdout",
       "text": [
        "\r",
        "  1,916,928 Bytes [6.00%] received. Rate: [1010 KB/s].  ETA: [29 secs]    \r"
       ]
      },
      {
       "output_type": "stream",
       "stream": "stdout",
       "text": [
        "\r",
        "  1,933,312 Bytes [6.05%] received. Rate: [1010 KB/s].  ETA: [29 secs]    \r"
       ]
      },
      {
       "output_type": "stream",
       "stream": "stdout",
       "text": [
        "\r",
        "  1,949,696 Bytes [6.11%] received. Rate: [1010 KB/s].  ETA: [29 secs]    \r"
       ]
      },
      {
       "output_type": "stream",
       "stream": "stdout",
       "text": [
        "\r",
        "  1,966,080 Bytes [6.16%] received. Rate: [1011 KB/s].  ETA: [29 secs]    \r"
       ]
      },
      {
       "output_type": "stream",
       "stream": "stdout",
       "text": [
        "\r",
        "  1,982,464 Bytes [6.21%] received. Rate: [1011 KB/s].  ETA: [29 secs]    \r"
       ]
      },
      {
       "output_type": "stream",
       "stream": "stdout",
       "text": [
        "\r",
        "  1,998,848 Bytes [6.26%] received. Rate: [1012 KB/s].  ETA: [29 secs]    \r"
       ]
      },
      {
       "output_type": "stream",
       "stream": "stdout",
       "text": [
        "\r",
        "  2,015,232 Bytes [6.31%] received. Rate: [1012 KB/s].  ETA: [29 secs]    \r"
       ]
      },
      {
       "output_type": "stream",
       "stream": "stdout",
       "text": [
        "\r",
        "  2,031,616 Bytes [6.36%] received. Rate: [1013 KB/s].  ETA: [29 secs]    \r"
       ]
      },
      {
       "output_type": "stream",
       "stream": "stdout",
       "text": [
        "\r",
        "  2,048,000 Bytes [6.41%] received. Rate: [1013 KB/s].  ETA: [29 secs]    \r"
       ]
      },
      {
       "output_type": "stream",
       "stream": "stdout",
       "text": [
        "\r",
        "  2,064,384 Bytes [6.46%] received. Rate: [1013 KB/s].  ETA: [29 secs]    \r"
       ]
      },
      {
       "output_type": "stream",
       "stream": "stdout",
       "text": [
        "\r",
        "  2,080,768 Bytes [6.52%] received. Rate: [1014 KB/s].  ETA: [29 secs]    \r"
       ]
      },
      {
       "output_type": "stream",
       "stream": "stdout",
       "text": [
        "\r",
        "  2,097,152 Bytes [6.57%] received. Rate: [1014 KB/s].  ETA: [29 secs]    \r"
       ]
      },
      {
       "output_type": "stream",
       "stream": "stdout",
       "text": [
        "\r",
        "  2,113,536 Bytes [6.62%] received. Rate: [1015 KB/s].  ETA: [29 secs]    \r"
       ]
      },
      {
       "output_type": "stream",
       "stream": "stdout",
       "text": [
        "\r",
        "  2,129,920 Bytes [6.67%] received. Rate: [1015 KB/s].  ETA: [29 secs]    \r"
       ]
      },
      {
       "output_type": "stream",
       "stream": "stdout",
       "text": [
        "\r",
        "  2,146,304 Bytes [6.72%] received. Rate: [1015 KB/s].  ETA: [29 secs]    \r"
       ]
      },
      {
       "output_type": "stream",
       "stream": "stdout",
       "text": [
        "\r",
        "  2,162,688 Bytes [6.77%] received. Rate: [1016 KB/s].  ETA: [29 secs]    \r"
       ]
      },
      {
       "output_type": "stream",
       "stream": "stdout",
       "text": [
        "\r",
        "  2,179,072 Bytes [6.82%] received. Rate: [1016 KB/s].  ETA: [29 secs]    \r"
       ]
      },
      {
       "output_type": "stream",
       "stream": "stdout",
       "text": [
        "\r",
        "  2,195,456 Bytes [6.87%] received. Rate: [1016 KB/s].  ETA: [29 secs]    \r"
       ]
      },
      {
       "output_type": "stream",
       "stream": "stdout",
       "text": [
        "\r",
        "  2,211,840 Bytes [6.93%] received. Rate: [1016 KB/s].  ETA: [29 secs]    \r"
       ]
      },
      {
       "output_type": "stream",
       "stream": "stdout",
       "text": [
        "\r",
        "  2,228,224 Bytes [6.98%] received. Rate: [1017 KB/s].  ETA: [29 secs]    \r"
       ]
      },
      {
       "output_type": "stream",
       "stream": "stdout",
       "text": [
        "\r",
        "  2,244,608 Bytes [7.03%] received. Rate: [1016 KB/s].  ETA: [29 secs]    \r"
       ]
      },
      {
       "output_type": "stream",
       "stream": "stdout",
       "text": [
        "\r",
        "  2,260,992 Bytes [7.08%] received. Rate: [1017 KB/s].  ETA: [28 secs]    \r"
       ]
      },
      {
       "output_type": "stream",
       "stream": "stdout",
       "text": [
        "\r",
        "  2,277,376 Bytes [7.13%] received. Rate: [1017 KB/s].  ETA: [28 secs]    \r"
       ]
      },
      {
       "output_type": "stream",
       "stream": "stdout",
       "text": [
        "\r",
        "  2,293,760 Bytes [7.18%] received. Rate: [1018 KB/s].  ETA: [28 secs]    \r"
       ]
      },
      {
       "output_type": "stream",
       "stream": "stdout",
       "text": [
        "\r",
        "  2,310,144 Bytes [7.23%] received. Rate: [1017 KB/s].  ETA: [28 secs]    \r"
       ]
      },
      {
       "output_type": "stream",
       "stream": "stdout",
       "text": [
        "\r",
        "  2,326,528 Bytes [7.29%] received. Rate: [1019 KB/s].  ETA: [28 secs]    \r"
       ]
      },
      {
       "output_type": "stream",
       "stream": "stdout",
       "text": [
        "\r",
        "  2,342,912 Bytes [7.34%] received. Rate: [1018 KB/s].  ETA: [28 secs]    \r"
       ]
      },
      {
       "output_type": "stream",
       "stream": "stdout",
       "text": [
        "\r",
        "  2,359,296 Bytes [7.39%] received. Rate: [1019 KB/s].  ETA: [28 secs]    \r"
       ]
      },
      {
       "output_type": "stream",
       "stream": "stdout",
       "text": [
        "\r",
        "  2,375,680 Bytes [7.44%] received. Rate: [1018 KB/s].  ETA: [28 secs]    \r"
       ]
      },
      {
       "output_type": "stream",
       "stream": "stdout",
       "text": [
        "\r",
        "  2,392,064 Bytes [7.49%] received. Rate: [1020 KB/s].  ETA: [28 secs]    \r"
       ]
      },
      {
       "output_type": "stream",
       "stream": "stdout",
       "text": [
        "\r",
        "  2,408,448 Bytes [7.54%] received. Rate: [1020 KB/s].  ETA: [28 secs]    \r"
       ]
      },
      {
       "output_type": "stream",
       "stream": "stdout",
       "text": [
        "\r",
        "  2,424,832 Bytes [7.59%] received. Rate: [1019 KB/s].  ETA: [28 secs]    \r"
       ]
      },
      {
       "output_type": "stream",
       "stream": "stdout",
       "text": [
        "\r",
        "  2,441,216 Bytes [7.64%] received. Rate: [1019 KB/s].  ETA: [28 secs]    \r"
       ]
      },
      {
       "output_type": "stream",
       "stream": "stdout",
       "text": [
        "\r",
        "  2,457,600 Bytes [7.70%] received. Rate: [1020 KB/s].  ETA: [28 secs]    \r"
       ]
      },
      {
       "output_type": "stream",
       "stream": "stdout",
       "text": [
        "\r",
        "  2,473,984 Bytes [7.75%] received. Rate: [1019 KB/s].  ETA: [28 secs]    \r"
       ]
      },
      {
       "output_type": "stream",
       "stream": "stdout",
       "text": [
        "\r",
        "  2,490,368 Bytes [7.80%] received. Rate: [1021 KB/s].  ETA: [28 secs]    \r"
       ]
      },
      {
       "output_type": "stream",
       "stream": "stdout",
       "text": [
        "\r",
        "  2,506,752 Bytes [7.85%] received. Rate: [1021 KB/s].  ETA: [28 secs]    \r"
       ]
      },
      {
       "output_type": "stream",
       "stream": "stdout",
       "text": [
        "\r",
        "  2,523,136 Bytes [7.90%] received. Rate: [1021 KB/s].  ETA: [28 secs]    \r"
       ]
      },
      {
       "output_type": "stream",
       "stream": "stdout",
       "text": [
        "\r",
        "  2,539,520 Bytes [7.95%] received. Rate: [1021 KB/s].  ETA: [28 secs]    \r"
       ]
      },
      {
       "output_type": "stream",
       "stream": "stdout",
       "text": [
        "\r",
        "  2,555,904 Bytes [8.00%] received. Rate: [1022 KB/s].  ETA: [28 secs]    \r"
       ]
      },
      {
       "output_type": "stream",
       "stream": "stdout",
       "text": [
        "\r",
        "  2,572,288 Bytes [8.06%] received. Rate: [1021 KB/s].  ETA: [28 secs]    \r"
       ]
      },
      {
       "output_type": "stream",
       "stream": "stdout",
       "text": [
        "\r",
        "  2,588,672 Bytes [8.11%] received. Rate: [1022 KB/s].  ETA: [28 secs]    \r"
       ]
      },
      {
       "output_type": "stream",
       "stream": "stdout",
       "text": [
        "\r",
        "  2,605,056 Bytes [8.16%] received. Rate: [1022 KB/s].  ETA: [28 secs]    \r"
       ]
      },
      {
       "output_type": "stream",
       "stream": "stdout",
       "text": [
        "\r",
        "  2,621,440 Bytes [8.21%] received. Rate: [1022 KB/s].  ETA: [28 secs]    \r"
       ]
      },
      {
       "output_type": "stream",
       "stream": "stdout",
       "text": [
        "\r",
        "  2,637,824 Bytes [8.26%] received. Rate: [1023 KB/s].  ETA: [28 secs]    \r"
       ]
      },
      {
       "output_type": "stream",
       "stream": "stdout",
       "text": [
        "\r",
        "  2,654,208 Bytes [8.31%] received. Rate: [1023 KB/s].  ETA: [28 secs]    \r"
       ]
      },
      {
       "output_type": "stream",
       "stream": "stdout",
       "text": [
        "\r",
        "  2,670,592 Bytes [8.36%] received. Rate: [1023 KB/s].  ETA: [28 secs]    \r"
       ]
      },
      {
       "output_type": "stream",
       "stream": "stdout",
       "text": [
        "\r",
        "  2,686,976 Bytes [8.41%] received. Rate: [1023 KB/s].  ETA: [28 secs]    \r"
       ]
      },
      {
       "output_type": "stream",
       "stream": "stdout",
       "text": [
        "\r",
        "  2,703,360 Bytes [8.47%] received. Rate: [1023 KB/s].  ETA: [28 secs]    \r"
       ]
      },
      {
       "output_type": "stream",
       "stream": "stdout",
       "text": [
        "\r",
        "  2,719,744 Bytes [8.52%] received. Rate: [1023 KB/s].  ETA: [28 secs]    \r"
       ]
      },
      {
       "output_type": "stream",
       "stream": "stdout",
       "text": [
        "\r",
        "  2,736,128 Bytes [8.57%] received. Rate: [1024 KB/s].  ETA: [28 secs]    \r"
       ]
      },
      {
       "output_type": "stream",
       "stream": "stdout",
       "text": [
        "\r",
        "  2,752,512 Bytes [8.62%] received. Rate: [1024 KB/s].  ETA: [28 secs]    \r"
       ]
      },
      {
       "output_type": "stream",
       "stream": "stdout",
       "text": [
        "\r",
        "  2,768,896 Bytes [8.67%] received. Rate: [1023 KB/s].  ETA: [28 secs]    \r"
       ]
      },
      {
       "output_type": "stream",
       "stream": "stdout",
       "text": [
        "\r",
        "  2,785,280 Bytes [8.72%] received. Rate: [1024 KB/s].  ETA: [28 secs]    \r"
       ]
      },
      {
       "output_type": "stream",
       "stream": "stdout",
       "text": [
        "\r",
        "  2,801,664 Bytes [8.77%] received. Rate: [1025 KB/s].  ETA: [28 secs]    \r"
       ]
      },
      {
       "output_type": "stream",
       "stream": "stdout",
       "text": [
        "\r",
        "  2,818,048 Bytes [8.82%] received. Rate: [1024 KB/s].  ETA: [28 secs]    \r"
       ]
      },
      {
       "output_type": "stream",
       "stream": "stdout",
       "text": [
        "\r",
        "  2,834,432 Bytes [8.88%] received. Rate: [1025 KB/s].  ETA: [28 secs]    \r"
       ]
      },
      {
       "output_type": "stream",
       "stream": "stdout",
       "text": [
        "\r",
        "  2,850,816 Bytes [8.93%] received. Rate: [1025 KB/s].  ETA: [28 secs]    \r"
       ]
      },
      {
       "output_type": "stream",
       "stream": "stdout",
       "text": [
        "\r",
        "  2,867,200 Bytes [8.98%] received. Rate: [1025 KB/s].  ETA: [28 secs]    \r"
       ]
      },
      {
       "output_type": "stream",
       "stream": "stdout",
       "text": [
        "\r",
        "  2,883,584 Bytes [9.03%] received. Rate: [1025 KB/s].  ETA: [28 secs]    \r"
       ]
      },
      {
       "output_type": "stream",
       "stream": "stdout",
       "text": [
        "\r",
        "  2,899,968 Bytes [9.08%] received. Rate: [1025 KB/s].  ETA: [28 secs]    \r"
       ]
      },
      {
       "output_type": "stream",
       "stream": "stdout",
       "text": [
        "\r",
        "  2,916,352 Bytes [9.13%] received. Rate: [1026 KB/s].  ETA: [28 secs]    \r"
       ]
      },
      {
       "output_type": "stream",
       "stream": "stdout",
       "text": [
        "\r",
        "  2,932,736 Bytes [9.18%] received. Rate: [1025 KB/s].  ETA: [28 secs]    \r"
       ]
      },
      {
       "output_type": "stream",
       "stream": "stdout",
       "text": [
        "\r",
        "  2,949,120 Bytes [9.24%] received. Rate: [1026 KB/s].  ETA: [28 secs]    \r"
       ]
      },
      {
       "output_type": "stream",
       "stream": "stdout",
       "text": [
        "\r",
        "  2,965,504 Bytes [9.29%] received. Rate: [1026 KB/s].  ETA: [28 secs]    \r"
       ]
      },
      {
       "output_type": "stream",
       "stream": "stdout",
       "text": [
        "\r",
        "  2,981,888 Bytes [9.34%] received. Rate: [1026 KB/s].  ETA: [28 secs]    \r"
       ]
      },
      {
       "output_type": "stream",
       "stream": "stdout",
       "text": [
        "\r",
        "  2,998,272 Bytes [9.39%] received. Rate: [1026 KB/s].  ETA: [28 secs]    \r"
       ]
      },
      {
       "output_type": "stream",
       "stream": "stdout",
       "text": [
        "\r",
        "  3,014,656 Bytes [9.44%] received. Rate: [1026 KB/s].  ETA: [28 secs]    \r"
       ]
      },
      {
       "output_type": "stream",
       "stream": "stdout",
       "text": [
        "\r",
        "  3,031,040 Bytes [9.49%] received. Rate: [1026 KB/s].  ETA: [27 secs]    \r"
       ]
      },
      {
       "output_type": "stream",
       "stream": "stdout",
       "text": [
        "\r",
        "  3,047,424 Bytes [9.54%] received. Rate: [1026 KB/s].  ETA: [27 secs]    \r"
       ]
      },
      {
       "output_type": "stream",
       "stream": "stdout",
       "text": [
        "\r",
        "  3,063,808 Bytes [9.59%] received. Rate: [1027 KB/s].  ETA: [27 secs]    \r"
       ]
      },
      {
       "output_type": "stream",
       "stream": "stdout",
       "text": [
        "\r",
        "  3,080,192 Bytes [9.65%] received. Rate: [1028 KB/s].  ETA: [27 secs]    \r"
       ]
      },
      {
       "output_type": "stream",
       "stream": "stdout",
       "text": [
        "\r",
        "  3,096,576 Bytes [9.70%] received. Rate: [1028 KB/s].  ETA: [27 secs]    \r"
       ]
      },
      {
       "output_type": "stream",
       "stream": "stdout",
       "text": [
        "\r",
        "  3,112,960 Bytes [9.75%] received. Rate: [1027 KB/s].  ETA: [27 secs]    \r"
       ]
      },
      {
       "output_type": "stream",
       "stream": "stdout",
       "text": [
        "\r",
        "  3,129,344 Bytes [9.80%] received. Rate: [1028 KB/s].  ETA: [27 secs]    \r"
       ]
      },
      {
       "output_type": "stream",
       "stream": "stdout",
       "text": [
        "\r",
        "  3,145,728 Bytes [9.85%] received. Rate: [1028 KB/s].  ETA: [27 secs]    \r"
       ]
      },
      {
       "output_type": "stream",
       "stream": "stdout",
       "text": [
        "\r",
        "  3,162,112 Bytes [9.90%] received. Rate: [1028 KB/s].  ETA: [27 secs]    \r"
       ]
      },
      {
       "output_type": "stream",
       "stream": "stdout",
       "text": [
        "\r",
        "  3,178,496 Bytes [9.95%] received. Rate: [1028 KB/s].  ETA: [27 secs]    \r"
       ]
      },
      {
       "output_type": "stream",
       "stream": "stdout",
       "text": [
        "\r",
        "  3,194,880 Bytes [10.00%] received. Rate: [1029 KB/s].  ETA: [27 secs]    \r"
       ]
      },
      {
       "output_type": "stream",
       "stream": "stdout",
       "text": [
        "\r",
        "  3,211,264 Bytes [10.06%] received. Rate: [1029 KB/s].  ETA: [27 secs]    \r"
       ]
      },
      {
       "output_type": "stream",
       "stream": "stdout",
       "text": [
        "\r",
        "  3,227,648 Bytes [10.11%] received. Rate: [1029 KB/s].  ETA: [27 secs]    \r"
       ]
      },
      {
       "output_type": "stream",
       "stream": "stdout",
       "text": [
        "\r",
        "  3,244,032 Bytes [10.16%] received. Rate: [1029 KB/s].  ETA: [27 secs]    \r"
       ]
      },
      {
       "output_type": "stream",
       "stream": "stdout",
       "text": [
        "\r",
        "  3,260,416 Bytes [10.21%] received. Rate: [1029 KB/s].  ETA: [27 secs]    \r"
       ]
      },
      {
       "output_type": "stream",
       "stream": "stdout",
       "text": [
        "\r",
        "  3,276,800 Bytes [10.26%] received. Rate: [1029 KB/s].  ETA: [27 secs]    \r"
       ]
      },
      {
       "output_type": "stream",
       "stream": "stdout",
       "text": [
        "\r",
        "  3,293,184 Bytes [10.31%] received. Rate: [1029 KB/s].  ETA: [27 secs]    \r"
       ]
      },
      {
       "output_type": "stream",
       "stream": "stdout",
       "text": [
        "\r",
        "  3,309,568 Bytes [10.36%] received. Rate: [1029 KB/s].  ETA: [27 secs]    \r"
       ]
      },
      {
       "output_type": "stream",
       "stream": "stdout",
       "text": [
        "\r",
        "  3,325,952 Bytes [10.42%] received. Rate: [1026 KB/s].  ETA: [27 secs]    \r"
       ]
      },
      {
       "output_type": "stream",
       "stream": "stdout",
       "text": [
        "\r",
        "  3,342,336 Bytes [10.47%] received. Rate: [1024 KB/s].  ETA: [27 secs]    \r"
       ]
      },
      {
       "output_type": "stream",
       "stream": "stdout",
       "text": [
        "\r",
        "  3,358,720 Bytes [10.52%] received. Rate: [1027 KB/s].  ETA: [27 secs]    \r"
       ]
      },
      {
       "output_type": "stream",
       "stream": "stdout",
       "text": [
        "\r",
        "  3,375,104 Bytes [10.57%] received. Rate: [1021 KB/s].  ETA: [27 secs]    \r"
       ]
      },
      {
       "output_type": "stream",
       "stream": "stdout",
       "text": [
        "\r",
        "  3,391,488 Bytes [10.62%] received. Rate: [1024 KB/s].  ETA: [27 secs]    \r"
       ]
      },
      {
       "output_type": "stream",
       "stream": "stdout",
       "text": [
        "\r",
        "  3,407,872 Bytes [10.67%] received. Rate: [1023 KB/s].  ETA: [27 secs]    \r"
       ]
      },
      {
       "output_type": "stream",
       "stream": "stdout",
       "text": [
        "\r",
        "  3,424,256 Bytes [10.72%] received. Rate: [1018 KB/s].  ETA: [27 secs]    \r"
       ]
      },
      {
       "output_type": "stream",
       "stream": "stdout",
       "text": [
        "\r",
        "  3,440,640 Bytes [10.77%] received. Rate: [1016 KB/s].  ETA: [27 secs]    \r"
       ]
      },
      {
       "output_type": "stream",
       "stream": "stdout",
       "text": [
        "\r",
        "  3,457,024 Bytes [10.83%] received. Rate: [1017 KB/s].  ETA: [27 secs]    \r"
       ]
      },
      {
       "output_type": "stream",
       "stream": "stdout",
       "text": [
        "\r",
        "  3,473,408 Bytes [10.88%] received. Rate: [1018 KB/s].  ETA: [27 secs]    \r"
       ]
      },
      {
       "output_type": "stream",
       "stream": "stdout",
       "text": [
        "\r",
        "  3,489,792 Bytes [10.93%] received. Rate: [1019 KB/s].  ETA: [27 secs]    \r"
       ]
      },
      {
       "output_type": "stream",
       "stream": "stdout",
       "text": [
        "\r",
        "  3,506,176 Bytes [10.98%] received. Rate: [ 999 KB/s].  ETA: [28 secs]    \r"
       ]
      },
      {
       "output_type": "stream",
       "stream": "stdout",
       "text": [
        "\r",
        "  3,522,560 Bytes [11.03%] received. Rate: [1003 KB/s].  ETA: [28 secs]    \r"
       ]
      },
      {
       "output_type": "stream",
       "stream": "stdout",
       "text": [
        "\r",
        "  3,538,944 Bytes [11.08%] received. Rate: [1007 KB/s].  ETA: [28 secs]    \r"
       ]
      },
      {
       "output_type": "stream",
       "stream": "stdout",
       "text": [
        "\r",
        "  3,555,328 Bytes [11.13%] received. Rate: [1012 KB/s].  ETA: [27 secs]    \r"
       ]
      },
      {
       "output_type": "stream",
       "stream": "stdout",
       "text": [
        "\r",
        "  3,571,712 Bytes [11.18%] received. Rate: [1016 KB/s].  ETA: [27 secs]    \r"
       ]
      },
      {
       "output_type": "stream",
       "stream": "stdout",
       "text": [
        "\r",
        "  3,588,096 Bytes [11.24%] received. Rate: [1018 KB/s].  ETA: [27 secs]    \r"
       ]
      },
      {
       "output_type": "stream",
       "stream": "stdout",
       "text": [
        "\r",
        "  3,604,480 Bytes [11.29%] received. Rate: [1018 KB/s].  ETA: [27 secs]    \r"
       ]
      },
      {
       "output_type": "stream",
       "stream": "stdout",
       "text": [
        "\r",
        "  3,620,864 Bytes [11.34%] received. Rate: [1018 KB/s].  ETA: [27 secs]    \r"
       ]
      },
      {
       "output_type": "stream",
       "stream": "stdout",
       "text": [
        "\r",
        "  3,637,248 Bytes [11.39%] received. Rate: [1017 KB/s].  ETA: [27 secs]    \r"
       ]
      },
      {
       "output_type": "stream",
       "stream": "stdout",
       "text": [
        "\r",
        "  3,653,632 Bytes [11.44%] received. Rate: [1017 KB/s].  ETA: [27 secs]    \r"
       ]
      },
      {
       "output_type": "stream",
       "stream": "stdout",
       "text": [
        "\r",
        "  3,670,016 Bytes [11.49%] received. Rate: [1018 KB/s].  ETA: [27 secs]    \r"
       ]
      },
      {
       "output_type": "stream",
       "stream": "stdout",
       "text": [
        "\r",
        "  3,686,400 Bytes [11.54%] received. Rate: [1018 KB/s].  ETA: [27 secs]    \r"
       ]
      },
      {
       "output_type": "stream",
       "stream": "stdout",
       "text": [
        "\r",
        "  3,702,784 Bytes [11.60%] received. Rate: [1019 KB/s].  ETA: [27 secs]    \r"
       ]
      },
      {
       "output_type": "stream",
       "stream": "stdout",
       "text": [
        "\r",
        "  3,719,168 Bytes [11.65%] received. Rate: [1018 KB/s].  ETA: [27 secs]    \r"
       ]
      },
      {
       "output_type": "stream",
       "stream": "stdout",
       "text": [
        "\r",
        "  3,735,552 Bytes [11.70%] received. Rate: [1018 KB/s].  ETA: [27 secs]    \r"
       ]
      },
      {
       "output_type": "stream",
       "stream": "stdout",
       "text": [
        "\r",
        "  3,751,936 Bytes [11.75%] received. Rate: [1019 KB/s].  ETA: [27 secs]    \r"
       ]
      },
      {
       "output_type": "stream",
       "stream": "stdout",
       "text": [
        "\r",
        "  3,768,320 Bytes [11.80%] received. Rate: [1019 KB/s].  ETA: [27 secs]    \r"
       ]
      },
      {
       "output_type": "stream",
       "stream": "stdout",
       "text": [
        "\r",
        "  3,784,704 Bytes [11.85%] received. Rate: [1020 KB/s].  ETA: [27 secs]    \r"
       ]
      },
      {
       "output_type": "stream",
       "stream": "stdout",
       "text": [
        "\r",
        "  3,801,088 Bytes [11.90%] received. Rate: [1019 KB/s].  ETA: [27 secs]    \r"
       ]
      },
      {
       "output_type": "stream",
       "stream": "stdout",
       "text": [
        "\r",
        "  3,817,472 Bytes [11.95%] received. Rate: [1019 KB/s].  ETA: [27 secs]    \r"
       ]
      },
      {
       "output_type": "stream",
       "stream": "stdout",
       "text": [
        "\r",
        "  3,833,856 Bytes [12.01%] received. Rate: [1020 KB/s].  ETA: [27 secs]    \r"
       ]
      },
      {
       "output_type": "stream",
       "stream": "stdout",
       "text": [
        "\r",
        "  3,850,240 Bytes [12.06%] received. Rate: [1020 KB/s].  ETA: [27 secs]    \r"
       ]
      },
      {
       "output_type": "stream",
       "stream": "stdout",
       "text": [
        "\r",
        "  3,866,624 Bytes [12.11%] received. Rate: [1019 KB/s].  ETA: [27 secs]    \r"
       ]
      },
      {
       "output_type": "stream",
       "stream": "stdout",
       "text": [
        "\r",
        "  3,883,008 Bytes [12.16%] received. Rate: [1019 KB/s].  ETA: [27 secs]    \r"
       ]
      },
      {
       "output_type": "stream",
       "stream": "stdout",
       "text": [
        "\r",
        "  3,899,392 Bytes [12.21%] received. Rate: [1020 KB/s].  ETA: [27 secs]    \r"
       ]
      },
      {
       "output_type": "stream",
       "stream": "stdout",
       "text": [
        "\r",
        "  3,915,776 Bytes [12.26%] received. Rate: [1020 KB/s].  ETA: [27 secs]    \r"
       ]
      },
      {
       "output_type": "stream",
       "stream": "stdout",
       "text": [
        "\r",
        "  3,932,160 Bytes [12.31%] received. Rate: [1020 KB/s].  ETA: [27 secs]    \r"
       ]
      },
      {
       "output_type": "stream",
       "stream": "stdout",
       "text": [
        "\r",
        "  3,948,544 Bytes [12.36%] received. Rate: [1021 KB/s].  ETA: [27 secs]    \r"
       ]
      },
      {
       "output_type": "stream",
       "stream": "stdout",
       "text": [
        "\r",
        "  3,964,928 Bytes [12.42%] received. Rate: [1021 KB/s].  ETA: [27 secs]    \r"
       ]
      },
      {
       "output_type": "stream",
       "stream": "stdout",
       "text": [
        "\r",
        "  3,981,312 Bytes [12.47%] received. Rate: [1020 KB/s].  ETA: [27 secs]    \r"
       ]
      },
      {
       "output_type": "stream",
       "stream": "stdout",
       "text": [
        "\r",
        "  3,997,696 Bytes [12.52%] received. Rate: [1021 KB/s].  ETA: [27 secs]    \r"
       ]
      },
      {
       "output_type": "stream",
       "stream": "stdout",
       "text": [
        "\r",
        "  4,014,080 Bytes [12.57%] received. Rate: [1021 KB/s].  ETA: [27 secs]    \r"
       ]
      },
      {
       "output_type": "stream",
       "stream": "stdout",
       "text": [
        "\r",
        "  4,030,464 Bytes [12.62%] received. Rate: [1021 KB/s].  ETA: [27 secs]    \r"
       ]
      },
      {
       "output_type": "stream",
       "stream": "stdout",
       "text": [
        "\r",
        "  4,046,848 Bytes [12.67%] received. Rate: [1021 KB/s].  ETA: [27 secs]    \r"
       ]
      },
      {
       "output_type": "stream",
       "stream": "stdout",
       "text": [
        "\r",
        "  4,063,232 Bytes [12.72%] received. Rate: [1022 KB/s].  ETA: [27 secs]    \r"
       ]
      },
      {
       "output_type": "stream",
       "stream": "stdout",
       "text": [
        "\r",
        "  4,079,616 Bytes [12.78%] received. Rate: [1022 KB/s].  ETA: [27 secs]    \r"
       ]
      },
      {
       "output_type": "stream",
       "stream": "stdout",
       "text": [
        "\r",
        "  4,096,000 Bytes [12.83%] received. Rate: [1021 KB/s].  ETA: [27 secs]    \r"
       ]
      },
      {
       "output_type": "stream",
       "stream": "stdout",
       "text": [
        "\r",
        "  4,112,384 Bytes [12.88%] received. Rate: [1022 KB/s].  ETA: [27 secs]    \r"
       ]
      },
      {
       "output_type": "stream",
       "stream": "stdout",
       "text": [
        "\r",
        "  4,128,768 Bytes [12.93%] received. Rate: [1022 KB/s].  ETA: [27 secs]    \r"
       ]
      },
      {
       "output_type": "stream",
       "stream": "stdout",
       "text": [
        "\r",
        "  4,145,152 Bytes [12.98%] received. Rate: [1022 KB/s].  ETA: [27 secs]    \r"
       ]
      },
      {
       "output_type": "stream",
       "stream": "stdout",
       "text": [
        "\r",
        "  4,161,536 Bytes [13.03%] received. Rate: [1022 KB/s].  ETA: [27 secs]    \r"
       ]
      },
      {
       "output_type": "stream",
       "stream": "stdout",
       "text": [
        "\r",
        "  4,177,920 Bytes [13.08%] received. Rate: [1023 KB/s].  ETA: [27 secs]    \r"
       ]
      },
      {
       "output_type": "stream",
       "stream": "stdout",
       "text": [
        "\r",
        "  4,194,304 Bytes [13.13%] received. Rate: [1023 KB/s].  ETA: [26 secs]    \r"
       ]
      },
      {
       "output_type": "stream",
       "stream": "stdout",
       "text": [
        "\r",
        "  4,210,688 Bytes [13.19%] received. Rate: [1022 KB/s].  ETA: [26 secs]    \r"
       ]
      },
      {
       "output_type": "stream",
       "stream": "stdout",
       "text": [
        "\r",
        "  4,227,072 Bytes [13.24%] received. Rate: [1023 KB/s].  ETA: [26 secs]    \r"
       ]
      },
      {
       "output_type": "stream",
       "stream": "stdout",
       "text": [
        "\r",
        "  4,243,456 Bytes [13.29%] received. Rate: [1023 KB/s].  ETA: [26 secs]    \r"
       ]
      },
      {
       "output_type": "stream",
       "stream": "stdout",
       "text": [
        "\r",
        "  4,259,840 Bytes [13.34%] received. Rate: [1023 KB/s].  ETA: [26 secs]    \r"
       ]
      },
      {
       "output_type": "stream",
       "stream": "stdout",
       "text": [
        "\r",
        "  4,276,224 Bytes [13.39%] received. Rate: [1023 KB/s].  ETA: [26 secs]    \r"
       ]
      },
      {
       "output_type": "stream",
       "stream": "stdout",
       "text": [
        "\r",
        "  4,292,608 Bytes [13.44%] received. Rate: [1024 KB/s].  ETA: [26 secs]    \r"
       ]
      },
      {
       "output_type": "stream",
       "stream": "stdout",
       "text": [
        "\r",
        "  4,308,992 Bytes [13.49%] received. Rate: [1024 KB/s].  ETA: [26 secs]    \r"
       ]
      },
      {
       "output_type": "stream",
       "stream": "stdout",
       "text": [
        "\r",
        "  4,325,376 Bytes [13.54%] received. Rate: [1023 KB/s].  ETA: [26 secs]    \r"
       ]
      },
      {
       "output_type": "stream",
       "stream": "stdout",
       "text": [
        "\r",
        "  4,341,760 Bytes [13.60%] received. Rate: [1023 KB/s].  ETA: [26 secs]    \r"
       ]
      },
      {
       "output_type": "stream",
       "stream": "stdout",
       "text": [
        "\r",
        "  4,358,144 Bytes [13.65%] received. Rate: [1024 KB/s].  ETA: [26 secs]    \r"
       ]
      },
      {
       "output_type": "stream",
       "stream": "stdout",
       "text": [
        "\r",
        "  4,374,528 Bytes [13.70%] received. Rate: [1024 KB/s].  ETA: [26 secs]    \r"
       ]
      },
      {
       "output_type": "stream",
       "stream": "stdout",
       "text": [
        "\r",
        "  4,390,912 Bytes [13.75%] received. Rate: [1024 KB/s].  ETA: [26 secs]    \r"
       ]
      },
      {
       "output_type": "stream",
       "stream": "stdout",
       "text": [
        "\r",
        "  4,407,296 Bytes [13.80%] received. Rate: [1024 KB/s].  ETA: [26 secs]    \r"
       ]
      },
      {
       "output_type": "stream",
       "stream": "stdout",
       "text": [
        "\r",
        "  4,423,680 Bytes [13.85%] received. Rate: [1024 KB/s].  ETA: [26 secs]    \r"
       ]
      },
      {
       "output_type": "stream",
       "stream": "stdout",
       "text": [
        "\r",
        "  4,440,064 Bytes [13.90%] received. Rate: [1024 KB/s].  ETA: [26 secs]    \r"
       ]
      },
      {
       "output_type": "stream",
       "stream": "stdout",
       "text": [
        "\r",
        "  4,456,448 Bytes [13.96%] received. Rate: [1025 KB/s].  ETA: [26 secs]    \r"
       ]
      },
      {
       "output_type": "stream",
       "stream": "stdout",
       "text": [
        "\r",
        "  4,472,832 Bytes [14.01%] received. Rate: [1025 KB/s].  ETA: [26 secs]    \r"
       ]
      },
      {
       "output_type": "stream",
       "stream": "stdout",
       "text": [
        "\r",
        "  4,489,216 Bytes [14.06%] received. Rate: [1024 KB/s].  ETA: [26 secs]    \r"
       ]
      },
      {
       "output_type": "stream",
       "stream": "stdout",
       "text": [
        "\r",
        "  4,505,600 Bytes [14.11%] received. Rate: [1025 KB/s].  ETA: [26 secs]    \r"
       ]
      },
      {
       "output_type": "stream",
       "stream": "stdout",
       "text": [
        "\r",
        "  4,521,984 Bytes [14.16%] received. Rate: [1025 KB/s].  ETA: [26 secs]    \r"
       ]
      },
      {
       "output_type": "stream",
       "stream": "stdout",
       "text": [
        "\r",
        "  4,538,368 Bytes [14.21%] received. Rate: [1026 KB/s].  ETA: [26 secs]    \r"
       ]
      },
      {
       "output_type": "stream",
       "stream": "stdout",
       "text": [
        "\r",
        "  4,554,752 Bytes [14.26%] received. Rate: [1025 KB/s].  ETA: [26 secs]    \r"
       ]
      },
      {
       "output_type": "stream",
       "stream": "stdout",
       "text": [
        "\r",
        "  4,571,136 Bytes [14.31%] received. Rate: [1025 KB/s].  ETA: [26 secs]    \r"
       ]
      },
      {
       "output_type": "stream",
       "stream": "stdout",
       "text": [
        "\r",
        "  4,587,520 Bytes [14.37%] received. Rate: [1025 KB/s].  ETA: [26 secs]    \r"
       ]
      },
      {
       "output_type": "stream",
       "stream": "stdout",
       "text": [
        "\r",
        "  4,603,904 Bytes [14.42%] received. Rate: [1026 KB/s].  ETA: [26 secs]    \r"
       ]
      },
      {
       "output_type": "stream",
       "stream": "stdout",
       "text": [
        "\r",
        "  4,620,288 Bytes [14.47%] received. Rate: [1025 KB/s].  ETA: [26 secs]    \r"
       ]
      },
      {
       "output_type": "stream",
       "stream": "stdout",
       "text": [
        "\r",
        "  4,636,672 Bytes [14.52%] received. Rate: [1026 KB/s].  ETA: [26 secs]    \r"
       ]
      },
      {
       "output_type": "stream",
       "stream": "stdout",
       "text": [
        "\r",
        "  4,653,056 Bytes [14.57%] received. Rate: [1026 KB/s].  ETA: [26 secs]    \r"
       ]
      },
      {
       "output_type": "stream",
       "stream": "stdout",
       "text": [
        "\r",
        "  4,669,440 Bytes [14.62%] received. Rate: [1026 KB/s].  ETA: [26 secs]    \r"
       ]
      },
      {
       "output_type": "stream",
       "stream": "stdout",
       "text": [
        "\r",
        "  4,685,824 Bytes [14.67%] received. Rate: [1026 KB/s].  ETA: [26 secs]    \r"
       ]
      },
      {
       "output_type": "stream",
       "stream": "stdout",
       "text": [
        "\r",
        "  4,702,208 Bytes [14.72%] received. Rate: [1026 KB/s].  ETA: [26 secs]    \r"
       ]
      },
      {
       "output_type": "stream",
       "stream": "stdout",
       "text": [
        "\r",
        "  4,718,592 Bytes [14.78%] received. Rate: [1026 KB/s].  ETA: [26 secs]    \r"
       ]
      },
      {
       "output_type": "stream",
       "stream": "stdout",
       "text": [
        "\r",
        "  4,734,976 Bytes [14.83%] received. Rate: [1026 KB/s].  ETA: [26 secs]    \r"
       ]
      },
      {
       "output_type": "stream",
       "stream": "stdout",
       "text": [
        "\r",
        "  4,751,360 Bytes [14.88%] received. Rate: [1027 KB/s].  ETA: [26 secs]    \r"
       ]
      },
      {
       "output_type": "stream",
       "stream": "stdout",
       "text": [
        "\r",
        "  4,767,744 Bytes [14.93%] received. Rate: [1027 KB/s].  ETA: [26 secs]    \r"
       ]
      },
      {
       "output_type": "stream",
       "stream": "stdout",
       "text": [
        "\r",
        "  4,784,128 Bytes [14.98%] received. Rate: [1026 KB/s].  ETA: [26 secs]    \r"
       ]
      },
      {
       "output_type": "stream",
       "stream": "stdout",
       "text": [
        "\r",
        "  4,800,512 Bytes [15.03%] received. Rate: [1026 KB/s].  ETA: [26 secs]    \r"
       ]
      },
      {
       "output_type": "stream",
       "stream": "stdout",
       "text": [
        "\r",
        "  4,816,896 Bytes [15.08%] received. Rate: [1027 KB/s].  ETA: [26 secs]    \r"
       ]
      },
      {
       "output_type": "stream",
       "stream": "stdout",
       "text": [
        "\r",
        "  4,833,280 Bytes [15.14%] received. Rate: [1027 KB/s].  ETA: [26 secs]    \r"
       ]
      },
      {
       "output_type": "stream",
       "stream": "stdout",
       "text": [
        "\r",
        "  4,849,664 Bytes [15.19%] received. Rate: [1027 KB/s].  ETA: [26 secs]    \r"
       ]
      },
      {
       "output_type": "stream",
       "stream": "stdout",
       "text": [
        "\r",
        "  4,866,048 Bytes [15.24%] received. Rate: [1027 KB/s].  ETA: [26 secs]    \r"
       ]
      },
      {
       "output_type": "stream",
       "stream": "stdout",
       "text": [
        "\r",
        "  4,882,432 Bytes [15.29%] received. Rate: [1028 KB/s].  ETA: [26 secs]    \r"
       ]
      },
      {
       "output_type": "stream",
       "stream": "stdout",
       "text": [
        "\r",
        "  4,898,816 Bytes [15.34%] received. Rate: [1028 KB/s].  ETA: [26 secs]    \r"
       ]
      },
      {
       "output_type": "stream",
       "stream": "stdout",
       "text": [
        "\r",
        "  4,915,200 Bytes [15.39%] received. Rate: [1027 KB/s].  ETA: [26 secs]    \r"
       ]
      },
      {
       "output_type": "stream",
       "stream": "stdout",
       "text": [
        "\r",
        "  4,931,584 Bytes [15.44%] received. Rate: [1028 KB/s].  ETA: [26 secs]    \r"
       ]
      },
      {
       "output_type": "stream",
       "stream": "stdout",
       "text": [
        "\r",
        "  4,947,968 Bytes [15.49%] received. Rate: [1028 KB/s].  ETA: [26 secs]    \r"
       ]
      },
      {
       "output_type": "stream",
       "stream": "stdout",
       "text": [
        "\r",
        "  4,964,352 Bytes [15.55%] received. Rate: [1028 KB/s].  ETA: [26 secs]    \r"
       ]
      },
      {
       "output_type": "stream",
       "stream": "stdout",
       "text": [
        "\r",
        "  4,980,736 Bytes [15.60%] received. Rate: [1028 KB/s].  ETA: [26 secs]    \r"
       ]
      },
      {
       "output_type": "stream",
       "stream": "stdout",
       "text": [
        "\r",
        "  4,997,120 Bytes [15.65%] received. Rate: [1028 KB/s].  ETA: [26 secs]    \r"
       ]
      },
      {
       "output_type": "stream",
       "stream": "stdout",
       "text": [
        "\r",
        "  5,013,504 Bytes [15.70%] received. Rate: [1028 KB/s].  ETA: [26 secs]    \r"
       ]
      },
      {
       "output_type": "stream",
       "stream": "stdout",
       "text": [
        "\r",
        "  5,029,888 Bytes [15.75%] received. Rate: [1028 KB/s].  ETA: [26 secs]    \r"
       ]
      },
      {
       "output_type": "stream",
       "stream": "stdout",
       "text": [
        "\r",
        "  5,046,272 Bytes [15.80%] received. Rate: [1028 KB/s].  ETA: [26 secs]    \r"
       ]
      },
      {
       "output_type": "stream",
       "stream": "stdout",
       "text": [
        "\r",
        "  5,062,656 Bytes [15.85%] received. Rate: [1029 KB/s].  ETA: [26 secs]    \r"
       ]
      },
      {
       "output_type": "stream",
       "stream": "stdout",
       "text": [
        "\r",
        "  5,079,040 Bytes [15.90%] received. Rate: [1028 KB/s].  ETA: [26 secs]    \r"
       ]
      },
      {
       "output_type": "stream",
       "stream": "stdout",
       "text": [
        "\r",
        "  5,095,424 Bytes [15.96%] received. Rate: [1029 KB/s].  ETA: [25 secs]    \r"
       ]
      },
      {
       "output_type": "stream",
       "stream": "stdout",
       "text": [
        "\r",
        "  5,111,808 Bytes [16.01%] received. Rate: [1029 KB/s].  ETA: [25 secs]    \r"
       ]
      },
      {
       "output_type": "stream",
       "stream": "stdout",
       "text": [
        "\r",
        "  5,128,192 Bytes [16.06%] received. Rate: [1028 KB/s].  ETA: [25 secs]    \r"
       ]
      },
      {
       "output_type": "stream",
       "stream": "stdout",
       "text": [
        "\r",
        "  5,144,576 Bytes [16.11%] received. Rate: [1028 KB/s].  ETA: [25 secs]    \r"
       ]
      },
      {
       "output_type": "stream",
       "stream": "stdout",
       "text": [
        "\r",
        "  5,160,960 Bytes [16.16%] received. Rate: [1029 KB/s].  ETA: [25 secs]    \r"
       ]
      },
      {
       "output_type": "stream",
       "stream": "stdout",
       "text": [
        "\r",
        "  5,177,344 Bytes [16.21%] received. Rate: [1029 KB/s].  ETA: [25 secs]    \r"
       ]
      },
      {
       "output_type": "stream",
       "stream": "stdout",
       "text": [
        "\r",
        "  5,193,728 Bytes [16.26%] received. Rate: [1029 KB/s].  ETA: [25 secs]    \r"
       ]
      },
      {
       "output_type": "stream",
       "stream": "stdout",
       "text": [
        "\r",
        "  5,210,112 Bytes [16.32%] received. Rate: [1029 KB/s].  ETA: [25 secs]    \r"
       ]
      },
      {
       "output_type": "stream",
       "stream": "stdout",
       "text": [
        "\r",
        "  5,226,496 Bytes [16.37%] received. Rate: [1030 KB/s].  ETA: [25 secs]    \r"
       ]
      },
      {
       "output_type": "stream",
       "stream": "stdout",
       "text": [
        "\r",
        "  5,242,880 Bytes [16.42%] received. Rate: [1029 KB/s].  ETA: [25 secs]    \r"
       ]
      },
      {
       "output_type": "stream",
       "stream": "stdout",
       "text": [
        "\r",
        "  5,259,264 Bytes [16.47%] received. Rate: [1029 KB/s].  ETA: [25 secs]    \r"
       ]
      },
      {
       "output_type": "stream",
       "stream": "stdout",
       "text": [
        "\r",
        "  5,275,648 Bytes [16.52%] received. Rate: [1029 KB/s].  ETA: [25 secs]    \r"
       ]
      },
      {
       "output_type": "stream",
       "stream": "stdout",
       "text": [
        "\r",
        "  5,292,032 Bytes [16.57%] received. Rate: [1030 KB/s].  ETA: [25 secs]    \r"
       ]
      },
      {
       "output_type": "stream",
       "stream": "stdout",
       "text": [
        "\r",
        "  5,308,416 Bytes [16.62%] received. Rate: [1030 KB/s].  ETA: [25 secs]    \r"
       ]
      },
      {
       "output_type": "stream",
       "stream": "stdout",
       "text": [
        "\r",
        "  5,324,800 Bytes [16.67%] received. Rate: [1030 KB/s].  ETA: [25 secs]    \r"
       ]
      },
      {
       "output_type": "stream",
       "stream": "stdout",
       "text": [
        "\r",
        "  5,341,184 Bytes [16.73%] received. Rate: [1030 KB/s].  ETA: [25 secs]    \r"
       ]
      },
      {
       "output_type": "stream",
       "stream": "stdout",
       "text": [
        "\r",
        "  5,357,568 Bytes [16.78%] received. Rate: [1030 KB/s].  ETA: [25 secs]    \r"
       ]
      },
      {
       "output_type": "stream",
       "stream": "stdout",
       "text": [
        "\r",
        "  5,373,952 Bytes [16.83%] received. Rate: [1030 KB/s].  ETA: [25 secs]    \r"
       ]
      },
      {
       "output_type": "stream",
       "stream": "stdout",
       "text": [
        "\r",
        "  5,390,336 Bytes [16.88%] received. Rate: [1030 KB/s].  ETA: [25 secs]    \r"
       ]
      },
      {
       "output_type": "stream",
       "stream": "stdout",
       "text": [
        "\r",
        "  5,406,720 Bytes [16.93%] received. Rate: [1030 KB/s].  ETA: [25 secs]    \r"
       ]
      },
      {
       "output_type": "stream",
       "stream": "stdout",
       "text": [
        "\r",
        "  5,423,104 Bytes [16.98%] received. Rate: [1030 KB/s].  ETA: [25 secs]    \r"
       ]
      },
      {
       "output_type": "stream",
       "stream": "stdout",
       "text": [
        "\r",
        "  5,439,488 Bytes [17.03%] received. Rate: [1030 KB/s].  ETA: [25 secs]    \r"
       ]
      },
      {
       "output_type": "stream",
       "stream": "stdout",
       "text": [
        "\r",
        "  5,455,872 Bytes [17.08%] received. Rate: [1030 KB/s].  ETA: [25 secs]    \r"
       ]
      },
      {
       "output_type": "stream",
       "stream": "stdout",
       "text": [
        "\r",
        "  5,472,256 Bytes [17.14%] received. Rate: [1030 KB/s].  ETA: [25 secs]    \r"
       ]
      },
      {
       "output_type": "stream",
       "stream": "stdout",
       "text": [
        "\r",
        "  5,488,640 Bytes [17.19%] received. Rate: [1031 KB/s].  ETA: [25 secs]    \r"
       ]
      },
      {
       "output_type": "stream",
       "stream": "stdout",
       "text": [
        "\r",
        "  5,505,024 Bytes [17.24%] received. Rate: [1030 KB/s].  ETA: [25 secs]    \r"
       ]
      },
      {
       "output_type": "stream",
       "stream": "stdout",
       "text": [
        "\r",
        "  5,521,408 Bytes [17.29%] received. Rate: [1031 KB/s].  ETA: [25 secs]    \r"
       ]
      },
      {
       "output_type": "stream",
       "stream": "stdout",
       "text": [
        "\r",
        "  5,537,792 Bytes [17.34%] received. Rate: [1031 KB/s].  ETA: [25 secs]    \r"
       ]
      },
      {
       "output_type": "stream",
       "stream": "stdout",
       "text": [
        "\r",
        "  5,554,176 Bytes [17.39%] received. Rate: [1031 KB/s].  ETA: [25 secs]    \r"
       ]
      },
      {
       "output_type": "stream",
       "stream": "stdout",
       "text": [
        "\r",
        "  5,570,560 Bytes [17.44%] received. Rate: [1031 KB/s].  ETA: [25 secs]    \r"
       ]
      },
      {
       "output_type": "stream",
       "stream": "stdout",
       "text": [
        "\r",
        "  5,586,944 Bytes [17.50%] received. Rate: [1031 KB/s].  ETA: [25 secs]    \r"
       ]
      },
      {
       "output_type": "stream",
       "stream": "stdout",
       "text": [
        "\r",
        "  5,603,328 Bytes [17.55%] received. Rate: [1031 KB/s].  ETA: [25 secs]    \r"
       ]
      },
      {
       "output_type": "stream",
       "stream": "stdout",
       "text": [
        "\r",
        "  5,619,712 Bytes [17.60%] received. Rate: [1031 KB/s].  ETA: [25 secs]    \r"
       ]
      },
      {
       "output_type": "stream",
       "stream": "stdout",
       "text": [
        "\r",
        "  5,636,096 Bytes [17.65%] received. Rate: [1031 KB/s].  ETA: [25 secs]    \r"
       ]
      },
      {
       "output_type": "stream",
       "stream": "stdout",
       "text": [
        "\r",
        "  5,652,480 Bytes [17.70%] received. Rate: [1031 KB/s].  ETA: [25 secs]    \r"
       ]
      },
      {
       "output_type": "stream",
       "stream": "stdout",
       "text": [
        "\r",
        "  5,668,864 Bytes [17.75%] received. Rate: [1031 KB/s].  ETA: [25 secs]    \r"
       ]
      },
      {
       "output_type": "stream",
       "stream": "stdout",
       "text": [
        "\r",
        "  5,685,248 Bytes [17.80%] received. Rate: [1031 KB/s].  ETA: [25 secs]    \r"
       ]
      },
      {
       "output_type": "stream",
       "stream": "stdout",
       "text": [
        "\r",
        "  5,701,632 Bytes [17.85%] received. Rate: [1032 KB/s].  ETA: [25 secs]    \r"
       ]
      },
      {
       "output_type": "stream",
       "stream": "stdout",
       "text": [
        "\r",
        "  5,718,016 Bytes [17.91%] received. Rate: [1032 KB/s].  ETA: [25 secs]    \r"
       ]
      },
      {
       "output_type": "stream",
       "stream": "stdout",
       "text": [
        "\r",
        "  5,734,400 Bytes [17.96%] received. Rate: [1031 KB/s].  ETA: [25 secs]    \r"
       ]
      },
      {
       "output_type": "stream",
       "stream": "stdout",
       "text": [
        "\r",
        "  5,750,784 Bytes [18.01%] received. Rate: [1032 KB/s].  ETA: [25 secs]    \r"
       ]
      },
      {
       "output_type": "stream",
       "stream": "stdout",
       "text": [
        "\r",
        "  5,767,168 Bytes [18.06%] received. Rate: [1031 KB/s].  ETA: [25 secs]    \r"
       ]
      },
      {
       "output_type": "stream",
       "stream": "stdout",
       "text": [
        "\r",
        "  5,783,552 Bytes [18.11%] received. Rate: [1032 KB/s].  ETA: [25 secs]    \r"
       ]
      },
      {
       "output_type": "stream",
       "stream": "stdout",
       "text": [
        "\r",
        "  5,799,936 Bytes [18.16%] received. Rate: [1032 KB/s].  ETA: [25 secs]    \r"
       ]
      },
      {
       "output_type": "stream",
       "stream": "stdout",
       "text": [
        "\r",
        "  5,816,320 Bytes [18.21%] received. Rate: [1032 KB/s].  ETA: [25 secs]    \r"
       ]
      },
      {
       "output_type": "stream",
       "stream": "stdout",
       "text": [
        "\r",
        "  5,832,704 Bytes [18.26%] received. Rate: [1032 KB/s].  ETA: [25 secs]    \r"
       ]
      },
      {
       "output_type": "stream",
       "stream": "stdout",
       "text": [
        "\r",
        "  5,849,088 Bytes [18.32%] received. Rate: [1032 KB/s].  ETA: [25 secs]    \r"
       ]
      },
      {
       "output_type": "stream",
       "stream": "stdout",
       "text": [
        "\r",
        "  5,865,472 Bytes [18.37%] received. Rate: [1032 KB/s].  ETA: [25 secs]    \r"
       ]
      },
      {
       "output_type": "stream",
       "stream": "stdout",
       "text": [
        "\r",
        "  5,881,856 Bytes [18.42%] received. Rate: [1032 KB/s].  ETA: [25 secs]    \r"
       ]
      },
      {
       "output_type": "stream",
       "stream": "stdout",
       "text": [
        "\r",
        "  5,898,240 Bytes [18.47%] received. Rate: [1032 KB/s].  ETA: [25 secs]    \r"
       ]
      },
      {
       "output_type": "stream",
       "stream": "stdout",
       "text": [
        "\r",
        "  5,914,624 Bytes [18.52%] received. Rate: [1033 KB/s].  ETA: [25 secs]    \r"
       ]
      },
      {
       "output_type": "stream",
       "stream": "stdout",
       "text": [
        "\r",
        "  5,931,008 Bytes [18.57%] received. Rate: [1033 KB/s].  ETA: [25 secs]    \r"
       ]
      },
      {
       "output_type": "stream",
       "stream": "stdout",
       "text": [
        "\r",
        "  5,947,392 Bytes [18.62%] received. Rate: [1033 KB/s].  ETA: [25 secs]    \r"
       ]
      },
      {
       "output_type": "stream",
       "stream": "stdout",
       "text": [
        "\r",
        "  5,963,776 Bytes [18.68%] received. Rate: [1032 KB/s].  ETA: [25 secs]    \r"
       ]
      },
      {
       "output_type": "stream",
       "stream": "stdout",
       "text": [
        "\r",
        "  5,980,160 Bytes [18.73%] received. Rate: [1032 KB/s].  ETA: [25 secs]    \r"
       ]
      },
      {
       "output_type": "stream",
       "stream": "stdout",
       "text": [
        "\r",
        "  5,996,544 Bytes [18.78%] received. Rate: [1033 KB/s].  ETA: [25 secs]    \r"
       ]
      },
      {
       "output_type": "stream",
       "stream": "stdout",
       "text": [
        "\r",
        "  6,012,928 Bytes [18.83%] received. Rate: [1033 KB/s].  ETA: [25 secs]    \r"
       ]
      },
      {
       "output_type": "stream",
       "stream": "stdout",
       "text": [
        "\r",
        "  6,029,312 Bytes [18.88%] received. Rate: [1033 KB/s].  ETA: [24 secs]    \r"
       ]
      },
      {
       "output_type": "stream",
       "stream": "stdout",
       "text": [
        "\r",
        "  6,045,696 Bytes [18.93%] received. Rate: [1033 KB/s].  ETA: [24 secs]    \r"
       ]
      },
      {
       "output_type": "stream",
       "stream": "stdout",
       "text": [
        "\r",
        "  6,062,080 Bytes [18.98%] received. Rate: [1033 KB/s].  ETA: [24 secs]    \r"
       ]
      },
      {
       "output_type": "stream",
       "stream": "stdout",
       "text": [
        "\r",
        "  6,078,464 Bytes [19.03%] received. Rate: [1033 KB/s].  ETA: [24 secs]    \r"
       ]
      },
      {
       "output_type": "stream",
       "stream": "stdout",
       "text": [
        "\r",
        "  6,094,848 Bytes [19.09%] received. Rate: [1033 KB/s].  ETA: [24 secs]    \r"
       ]
      },
      {
       "output_type": "stream",
       "stream": "stdout",
       "text": [
        "\r",
        "  6,111,232 Bytes [19.14%] received. Rate: [1033 KB/s].  ETA: [24 secs]    \r"
       ]
      },
      {
       "output_type": "stream",
       "stream": "stdout",
       "text": [
        "\r",
        "  6,127,616 Bytes [19.19%] received. Rate: [1033 KB/s].  ETA: [24 secs]    \r"
       ]
      },
      {
       "output_type": "stream",
       "stream": "stdout",
       "text": [
        "\r",
        "  6,144,000 Bytes [19.24%] received. Rate: [1033 KB/s].  ETA: [24 secs]    \r"
       ]
      },
      {
       "output_type": "stream",
       "stream": "stdout",
       "text": [
        "\r",
        "  6,160,384 Bytes [19.29%] received. Rate: [1034 KB/s].  ETA: [24 secs]    \r"
       ]
      },
      {
       "output_type": "stream",
       "stream": "stdout",
       "text": [
        "\r",
        "  6,176,768 Bytes [19.34%] received. Rate: [1033 KB/s].  ETA: [24 secs]    \r"
       ]
      },
      {
       "output_type": "stream",
       "stream": "stdout",
       "text": [
        "\r",
        "  6,193,152 Bytes [19.39%] received. Rate: [1033 KB/s].  ETA: [24 secs]    \r"
       ]
      },
      {
       "output_type": "stream",
       "stream": "stdout",
       "text": [
        "\r",
        "  6,209,536 Bytes [19.44%] received. Rate: [1034 KB/s].  ETA: [24 secs]    \r"
       ]
      },
      {
       "output_type": "stream",
       "stream": "stdout",
       "text": [
        "\r",
        "  6,225,920 Bytes [19.50%] received. Rate: [1033 KB/s].  ETA: [24 secs]    \r"
       ]
      },
      {
       "output_type": "stream",
       "stream": "stdout",
       "text": [
        "\r",
        "  6,242,304 Bytes [19.55%] received. Rate: [1033 KB/s].  ETA: [24 secs]    \r"
       ]
      },
      {
       "output_type": "stream",
       "stream": "stdout",
       "text": [
        "\r",
        "  6,258,688 Bytes [19.60%] received. Rate: [1034 KB/s].  ETA: [24 secs]    \r"
       ]
      },
      {
       "output_type": "stream",
       "stream": "stdout",
       "text": [
        "\r",
        "  6,275,072 Bytes [19.65%] received. Rate: [1034 KB/s].  ETA: [24 secs]    \r"
       ]
      },
      {
       "output_type": "stream",
       "stream": "stdout",
       "text": [
        "\r",
        "  6,291,456 Bytes [19.70%] received. Rate: [1034 KB/s].  ETA: [24 secs]    \r"
       ]
      },
      {
       "output_type": "stream",
       "stream": "stdout",
       "text": [
        "\r",
        "  6,307,840 Bytes [19.75%] received. Rate: [1034 KB/s].  ETA: [24 secs]    \r"
       ]
      },
      {
       "output_type": "stream",
       "stream": "stdout",
       "text": [
        "\r",
        "  6,324,224 Bytes [19.80%] received. Rate: [1034 KB/s].  ETA: [24 secs]    \r"
       ]
      },
      {
       "output_type": "stream",
       "stream": "stdout",
       "text": [
        "\r",
        "  6,340,608 Bytes [19.86%] received. Rate: [1034 KB/s].  ETA: [24 secs]    \r"
       ]
      },
      {
       "output_type": "stream",
       "stream": "stdout",
       "text": [
        "\r",
        "  6,356,992 Bytes [19.91%] received. Rate: [1034 KB/s].  ETA: [24 secs]    \r"
       ]
      },
      {
       "output_type": "stream",
       "stream": "stdout",
       "text": [
        "\r",
        "  6,373,376 Bytes [19.96%] received. Rate: [1034 KB/s].  ETA: [24 secs]    \r"
       ]
      },
      {
       "output_type": "stream",
       "stream": "stdout",
       "text": [
        "\r",
        "  6,389,760 Bytes [20.01%] received. Rate: [1034 KB/s].  ETA: [24 secs]    \r"
       ]
      },
      {
       "output_type": "stream",
       "stream": "stdout",
       "text": [
        "\r",
        "  6,406,144 Bytes [20.06%] received. Rate: [1034 KB/s].  ETA: [24 secs]    \r"
       ]
      },
      {
       "output_type": "stream",
       "stream": "stdout",
       "text": [
        "\r",
        "  6,422,528 Bytes [20.11%] received. Rate: [1034 KB/s].  ETA: [24 secs]    \r"
       ]
      },
      {
       "output_type": "stream",
       "stream": "stdout",
       "text": [
        "\r",
        "  6,438,912 Bytes [20.16%] received. Rate: [1034 KB/s].  ETA: [24 secs]    \r"
       ]
      },
      {
       "output_type": "stream",
       "stream": "stdout",
       "text": [
        "\r",
        "  6,455,296 Bytes [20.21%] received. Rate: [1034 KB/s].  ETA: [24 secs]    \r"
       ]
      },
      {
       "output_type": "stream",
       "stream": "stdout",
       "text": [
        "\r",
        "  6,471,680 Bytes [20.27%] received. Rate: [1035 KB/s].  ETA: [24 secs]    \r"
       ]
      },
      {
       "output_type": "stream",
       "stream": "stdout",
       "text": [
        "\r",
        "  6,488,064 Bytes [20.32%] received. Rate: [1034 KB/s].  ETA: [24 secs]    \r"
       ]
      },
      {
       "output_type": "stream",
       "stream": "stdout",
       "text": [
        "\r",
        "  6,504,448 Bytes [20.37%] received. Rate: [1035 KB/s].  ETA: [24 secs]    \r"
       ]
      },
      {
       "output_type": "stream",
       "stream": "stdout",
       "text": [
        "\r",
        "  6,520,832 Bytes [20.42%] received. Rate: [1035 KB/s].  ETA: [24 secs]    \r"
       ]
      },
      {
       "output_type": "stream",
       "stream": "stdout",
       "text": [
        "\r",
        "  6,537,216 Bytes [20.47%] received. Rate: [1035 KB/s].  ETA: [24 secs]    \r"
       ]
      },
      {
       "output_type": "stream",
       "stream": "stdout",
       "text": [
        "\r",
        "  6,553,600 Bytes [20.52%] received. Rate: [1035 KB/s].  ETA: [24 secs]    \r"
       ]
      },
      {
       "output_type": "stream",
       "stream": "stdout",
       "text": [
        "\r",
        "  6,569,984 Bytes [20.57%] received. Rate: [1035 KB/s].  ETA: [24 secs]    \r"
       ]
      },
      {
       "output_type": "stream",
       "stream": "stdout",
       "text": [
        "\r",
        "  6,586,368 Bytes [20.62%] received. Rate: [1035 KB/s].  ETA: [24 secs]    \r"
       ]
      },
      {
       "output_type": "stream",
       "stream": "stdout",
       "text": [
        "\r",
        "  6,602,752 Bytes [20.68%] received. Rate: [1035 KB/s].  ETA: [24 secs]    \r"
       ]
      },
      {
       "output_type": "stream",
       "stream": "stdout",
       "text": [
        "\r",
        "  6,619,136 Bytes [20.73%] received. Rate: [1035 KB/s].  ETA: [24 secs]    \r"
       ]
      },
      {
       "output_type": "stream",
       "stream": "stdout",
       "text": [
        "\r",
        "  6,635,520 Bytes [20.78%] received. Rate: [1035 KB/s].  ETA: [24 secs]    \r"
       ]
      },
      {
       "output_type": "stream",
       "stream": "stdout",
       "text": [
        "\r",
        "  6,651,904 Bytes [20.83%] received. Rate: [1035 KB/s].  ETA: [24 secs]    \r"
       ]
      },
      {
       "output_type": "stream",
       "stream": "stdout",
       "text": [
        "\r",
        "  6,668,288 Bytes [20.88%] received. Rate: [1035 KB/s].  ETA: [24 secs]    \r"
       ]
      },
      {
       "output_type": "stream",
       "stream": "stdout",
       "text": [
        "\r",
        "  6,684,672 Bytes [20.93%] received. Rate: [1035 KB/s].  ETA: [24 secs]    \r"
       ]
      },
      {
       "output_type": "stream",
       "stream": "stdout",
       "text": [
        "\r",
        "  6,701,056 Bytes [20.98%] received. Rate: [1035 KB/s].  ETA: [24 secs]    \r"
       ]
      },
      {
       "output_type": "stream",
       "stream": "stdout",
       "text": [
        "\r",
        "  6,717,440 Bytes [21.04%] received. Rate: [1035 KB/s].  ETA: [24 secs]    \r"
       ]
      },
      {
       "output_type": "stream",
       "stream": "stdout",
       "text": [
        "\r",
        "  6,733,824 Bytes [21.09%] received. Rate: [1035 KB/s].  ETA: [24 secs]    \r"
       ]
      },
      {
       "output_type": "stream",
       "stream": "stdout",
       "text": [
        "\r",
        "  6,750,208 Bytes [21.14%] received. Rate: [1035 KB/s].  ETA: [24 secs]    \r"
       ]
      },
      {
       "output_type": "stream",
       "stream": "stdout",
       "text": [
        "\r",
        "  6,766,592 Bytes [21.19%] received. Rate: [1035 KB/s].  ETA: [24 secs]    \r"
       ]
      },
      {
       "output_type": "stream",
       "stream": "stdout",
       "text": [
        "\r",
        "  6,782,976 Bytes [21.24%] received. Rate: [1035 KB/s].  ETA: [24 secs]    \r"
       ]
      },
      {
       "output_type": "stream",
       "stream": "stdout",
       "text": [
        "\r",
        "  6,799,360 Bytes [21.29%] received. Rate: [1035 KB/s].  ETA: [24 secs]    \r"
       ]
      },
      {
       "output_type": "stream",
       "stream": "stdout",
       "text": [
        "\r",
        "  6,815,744 Bytes [21.34%] received. Rate: [1035 KB/s].  ETA: [24 secs]    \r"
       ]
      },
      {
       "output_type": "stream",
       "stream": "stdout",
       "text": [
        "\r",
        "  6,832,128 Bytes [21.39%] received. Rate: [1036 KB/s].  ETA: [24 secs]    \r"
       ]
      },
      {
       "output_type": "stream",
       "stream": "stdout",
       "text": [
        "\r",
        "  6,848,512 Bytes [21.45%] received. Rate: [1036 KB/s].  ETA: [24 secs]    \r"
       ]
      },
      {
       "output_type": "stream",
       "stream": "stdout",
       "text": [
        "\r",
        "  6,864,896 Bytes [21.50%] received. Rate: [1036 KB/s].  ETA: [24 secs]    \r"
       ]
      },
      {
       "output_type": "stream",
       "stream": "stdout",
       "text": [
        "\r",
        "  6,881,280 Bytes [21.55%] received. Rate: [1035 KB/s].  ETA: [24 secs]    \r"
       ]
      },
      {
       "output_type": "stream",
       "stream": "stdout",
       "text": [
        "\r",
        "  6,897,664 Bytes [21.60%] received. Rate: [1036 KB/s].  ETA: [24 secs]    \r"
       ]
      },
      {
       "output_type": "stream",
       "stream": "stdout",
       "text": [
        "\r",
        "  6,914,048 Bytes [21.65%] received. Rate: [1036 KB/s].  ETA: [24 secs]    \r"
       ]
      },
      {
       "output_type": "stream",
       "stream": "stdout",
       "text": [
        "\r",
        "  6,930,432 Bytes [21.70%] received. Rate: [1036 KB/s].  ETA: [24 secs]    \r"
       ]
      },
      {
       "output_type": "stream",
       "stream": "stdout",
       "text": [
        "\r",
        "  6,946,816 Bytes [21.75%] received. Rate: [1036 KB/s].  ETA: [24 secs]    \r"
       ]
      },
      {
       "output_type": "stream",
       "stream": "stdout",
       "text": [
        "\r",
        "  6,963,200 Bytes [21.81%] received. Rate: [1036 KB/s].  ETA: [24 secs]    \r"
       ]
      },
      {
       "output_type": "stream",
       "stream": "stdout",
       "text": [
        "\r",
        "  6,979,584 Bytes [21.86%] received. Rate: [1036 KB/s].  ETA: [24 secs]    \r"
       ]
      },
      {
       "output_type": "stream",
       "stream": "stdout",
       "text": [
        "\r",
        "  6,995,968 Bytes [21.91%] received. Rate: [1036 KB/s].  ETA: [24 secs]    \r"
       ]
      },
      {
       "output_type": "stream",
       "stream": "stdout",
       "text": [
        "\r",
        "  7,012,352 Bytes [21.96%] received. Rate: [1036 KB/s].  ETA: [23 secs]    \r"
       ]
      },
      {
       "output_type": "stream",
       "stream": "stdout",
       "text": [
        "\r",
        "  7,028,736 Bytes [22.01%] received. Rate: [1036 KB/s].  ETA: [23 secs]    \r"
       ]
      },
      {
       "output_type": "stream",
       "stream": "stdout",
       "text": [
        "\r",
        "  7,045,120 Bytes [22.06%] received. Rate: [1036 KB/s].  ETA: [23 secs]    \r"
       ]
      },
      {
       "output_type": "stream",
       "stream": "stdout",
       "text": [
        "\r",
        "  7,061,504 Bytes [22.11%] received. Rate: [1036 KB/s].  ETA: [23 secs]    \r"
       ]
      },
      {
       "output_type": "stream",
       "stream": "stdout",
       "text": [
        "\r",
        "  7,077,888 Bytes [22.16%] received. Rate: [1036 KB/s].  ETA: [23 secs]    \r"
       ]
      },
      {
       "output_type": "stream",
       "stream": "stdout",
       "text": [
        "\r",
        "  7,094,272 Bytes [22.22%] received. Rate: [1036 KB/s].  ETA: [23 secs]    \r"
       ]
      },
      {
       "output_type": "stream",
       "stream": "stdout",
       "text": [
        "\r",
        "  7,110,656 Bytes [22.27%] received. Rate: [1036 KB/s].  ETA: [23 secs]    \r"
       ]
      },
      {
       "output_type": "stream",
       "stream": "stdout",
       "text": [
        "\r",
        "  7,127,040 Bytes [22.32%] received. Rate: [1036 KB/s].  ETA: [23 secs]    \r"
       ]
      },
      {
       "output_type": "stream",
       "stream": "stdout",
       "text": [
        "\r",
        "  7,143,424 Bytes [22.37%] received. Rate: [1037 KB/s].  ETA: [23 secs]    \r"
       ]
      },
      {
       "output_type": "stream",
       "stream": "stdout",
       "text": [
        "\r",
        "  7,159,808 Bytes [22.42%] received. Rate: [1037 KB/s].  ETA: [23 secs]    \r"
       ]
      },
      {
       "output_type": "stream",
       "stream": "stdout",
       "text": [
        "\r",
        "  7,176,192 Bytes [22.47%] received. Rate: [1037 KB/s].  ETA: [23 secs]    \r"
       ]
      },
      {
       "output_type": "stream",
       "stream": "stdout",
       "text": [
        "\r",
        "  7,192,576 Bytes [22.52%] received. Rate: [1037 KB/s].  ETA: [23 secs]    \r"
       ]
      },
      {
       "output_type": "stream",
       "stream": "stdout",
       "text": [
        "\r",
        "  7,208,960 Bytes [22.57%] received. Rate: [1037 KB/s].  ETA: [23 secs]    \r"
       ]
      },
      {
       "output_type": "stream",
       "stream": "stdout",
       "text": [
        "\r",
        "  7,225,344 Bytes [22.63%] received. Rate: [1026 KB/s].  ETA: [24 secs]    \r"
       ]
      },
      {
       "output_type": "stream",
       "stream": "stdout",
       "text": [
        "\r",
        "  7,241,728 Bytes [22.68%] received. Rate: [1028 KB/s].  ETA: [23 secs]    \r"
       ]
      },
      {
       "output_type": "stream",
       "stream": "stdout",
       "text": [
        "\r",
        "  7,258,112 Bytes [22.73%] received. Rate: [1030 KB/s].  ETA: [23 secs]    \r"
       ]
      },
      {
       "output_type": "stream",
       "stream": "stdout",
       "text": [
        "\r",
        "  7,274,496 Bytes [22.78%] received. Rate: [1033 KB/s].  ETA: [23 secs]    \r"
       ]
      },
      {
       "output_type": "stream",
       "stream": "stdout",
       "text": [
        "\r",
        "  7,290,880 Bytes [22.83%] received. Rate: [1029 KB/s].  ETA: [23 secs]    \r"
       ]
      },
      {
       "output_type": "stream",
       "stream": "stdout",
       "text": [
        "\r",
        "  7,307,264 Bytes [22.88%] received. Rate: [1029 KB/s].  ETA: [23 secs]    \r"
       ]
      },
      {
       "output_type": "stream",
       "stream": "stdout",
       "text": [
        "\r",
        "  7,323,648 Bytes [22.93%] received. Rate: [1031 KB/s].  ETA: [23 secs]    \r"
       ]
      },
      {
       "output_type": "stream",
       "stream": "stdout",
       "text": [
        "\r",
        "  7,340,032 Bytes [22.99%] received. Rate: [1034 KB/s].  ETA: [23 secs]    \r"
       ]
      },
      {
       "output_type": "stream",
       "stream": "stdout",
       "text": [
        "\r",
        "  7,356,416 Bytes [23.04%] received. Rate: [1036 KB/s].  ETA: [23 secs]    \r"
       ]
      },
      {
       "output_type": "stream",
       "stream": "stdout",
       "text": [
        "\r",
        "  7,372,800 Bytes [23.09%] received. Rate: [1035 KB/s].  ETA: [23 secs]    \r"
       ]
      },
      {
       "output_type": "stream",
       "stream": "stdout",
       "text": [
        "\r",
        "  7,389,184 Bytes [23.14%] received. Rate: [1036 KB/s].  ETA: [23 secs]    \r"
       ]
      },
      {
       "output_type": "stream",
       "stream": "stdout",
       "text": [
        "\r",
        "  7,405,568 Bytes [23.19%] received. Rate: [1036 KB/s].  ETA: [23 secs]    \r"
       ]
      },
      {
       "output_type": "stream",
       "stream": "stdout",
       "text": [
        "\r",
        "  7,421,952 Bytes [23.24%] received. Rate: [1035 KB/s].  ETA: [23 secs]    \r"
       ]
      },
      {
       "output_type": "stream",
       "stream": "stdout",
       "text": [
        "\r",
        "  7,438,336 Bytes [23.29%] received. Rate: [1036 KB/s].  ETA: [23 secs]    \r"
       ]
      },
      {
       "output_type": "stream",
       "stream": "stdout",
       "text": [
        "\r",
        "  7,454,720 Bytes [23.34%] received. Rate: [1035 KB/s].  ETA: [23 secs]    \r"
       ]
      },
      {
       "output_type": "stream",
       "stream": "stdout",
       "text": [
        "\r",
        "  7,471,104 Bytes [23.40%] received. Rate: [1035 KB/s].  ETA: [23 secs]    \r"
       ]
      },
      {
       "output_type": "stream",
       "stream": "stdout",
       "text": [
        "\r",
        "  7,487,488 Bytes [23.45%] received. Rate: [1036 KB/s].  ETA: [23 secs]    \r"
       ]
      },
      {
       "output_type": "stream",
       "stream": "stdout",
       "text": [
        "\r",
        "  7,503,872 Bytes [23.50%] received. Rate: [1036 KB/s].  ETA: [23 secs]    \r"
       ]
      },
      {
       "output_type": "stream",
       "stream": "stdout",
       "text": [
        "\r",
        "  7,520,256 Bytes [23.55%] received. Rate: [1036 KB/s].  ETA: [23 secs]    \r"
       ]
      },
      {
       "output_type": "stream",
       "stream": "stdout",
       "text": [
        "\r",
        "  7,536,640 Bytes [23.60%] received. Rate: [1036 KB/s].  ETA: [23 secs]    \r"
       ]
      },
      {
       "output_type": "stream",
       "stream": "stdout",
       "text": [
        "\r",
        "  7,553,024 Bytes [23.65%] received. Rate: [1036 KB/s].  ETA: [23 secs]    \r"
       ]
      },
      {
       "output_type": "stream",
       "stream": "stdout",
       "text": [
        "\r",
        "  7,569,408 Bytes [23.70%] received. Rate: [1035 KB/s].  ETA: [23 secs]    \r"
       ]
      },
      {
       "output_type": "stream",
       "stream": "stdout",
       "text": [
        "\r",
        "  7,585,792 Bytes [23.75%] received. Rate: [1036 KB/s].  ETA: [23 secs]    \r"
       ]
      },
      {
       "output_type": "stream",
       "stream": "stdout",
       "text": [
        "\r",
        "  7,602,176 Bytes [23.81%] received. Rate: [1036 KB/s].  ETA: [23 secs]    \r"
       ]
      },
      {
       "output_type": "stream",
       "stream": "stdout",
       "text": [
        "\r",
        "  7,618,560 Bytes [23.86%] received. Rate: [1036 KB/s].  ETA: [23 secs]    \r"
       ]
      },
      {
       "output_type": "stream",
       "stream": "stdout",
       "text": [
        "\r",
        "  7,634,944 Bytes [23.91%] received. Rate: [1036 KB/s].  ETA: [23 secs]    \r"
       ]
      },
      {
       "output_type": "stream",
       "stream": "stdout",
       "text": [
        "\r",
        "  7,651,328 Bytes [23.96%] received. Rate: [1036 KB/s].  ETA: [23 secs]    \r"
       ]
      },
      {
       "output_type": "stream",
       "stream": "stdout",
       "text": [
        "\r",
        "  7,667,712 Bytes [24.01%] received. Rate: [1036 KB/s].  ETA: [23 secs]    \r"
       ]
      },
      {
       "output_type": "stream",
       "stream": "stdout",
       "text": [
        "\r",
        "  7,684,096 Bytes [24.06%] received. Rate: [1036 KB/s].  ETA: [23 secs]    \r"
       ]
      },
      {
       "output_type": "stream",
       "stream": "stdout",
       "text": [
        "\r",
        "  7,700,480 Bytes [24.11%] received. Rate: [1036 KB/s].  ETA: [23 secs]    \r"
       ]
      },
      {
       "output_type": "stream",
       "stream": "stdout",
       "text": [
        "\r",
        "  7,716,864 Bytes [24.17%] received. Rate: [1037 KB/s].  ETA: [23 secs]    \r"
       ]
      },
      {
       "output_type": "stream",
       "stream": "stdout",
       "text": [
        "\r",
        "  7,733,248 Bytes [24.22%] received. Rate: [1036 KB/s].  ETA: [23 secs]    \r"
       ]
      },
      {
       "output_type": "stream",
       "stream": "stdout",
       "text": [
        "\r",
        "  7,749,632 Bytes [24.27%] received. Rate: [1036 KB/s].  ETA: [23 secs]    \r"
       ]
      },
      {
       "output_type": "stream",
       "stream": "stdout",
       "text": [
        "\r",
        "  7,766,016 Bytes [24.32%] received. Rate: [1036 KB/s].  ETA: [23 secs]    \r"
       ]
      },
      {
       "output_type": "stream",
       "stream": "stdout",
       "text": [
        "\r",
        "  7,782,400 Bytes [24.37%] received. Rate: [1036 KB/s].  ETA: [23 secs]    \r"
       ]
      },
      {
       "output_type": "stream",
       "stream": "stdout",
       "text": [
        "\r",
        "  7,798,784 Bytes [24.42%] received. Rate: [1036 KB/s].  ETA: [23 secs]    \r"
       ]
      },
      {
       "output_type": "stream",
       "stream": "stdout",
       "text": [
        "\r",
        "  7,815,168 Bytes [24.47%] received. Rate: [1037 KB/s].  ETA: [23 secs]    \r"
       ]
      },
      {
       "output_type": "stream",
       "stream": "stdout",
       "text": [
        "\r",
        "  7,831,552 Bytes [24.52%] received. Rate: [1037 KB/s].  ETA: [23 secs]    \r"
       ]
      },
      {
       "output_type": "stream",
       "stream": "stdout",
       "text": [
        "\r",
        "  7,847,936 Bytes [24.58%] received. Rate: [1036 KB/s].  ETA: [23 secs]    \r"
       ]
      },
      {
       "output_type": "stream",
       "stream": "stdout",
       "text": [
        "\r",
        "  7,864,320 Bytes [24.63%] received. Rate: [1037 KB/s].  ETA: [23 secs]    \r"
       ]
      },
      {
       "output_type": "stream",
       "stream": "stdout",
       "text": [
        "\r",
        "  7,880,704 Bytes [24.68%] received. Rate: [1037 KB/s].  ETA: [23 secs]    \r"
       ]
      },
      {
       "output_type": "stream",
       "stream": "stdout",
       "text": [
        "\r",
        "  7,897,088 Bytes [24.73%] received. Rate: [1037 KB/s].  ETA: [23 secs]    \r"
       ]
      },
      {
       "output_type": "stream",
       "stream": "stdout",
       "text": [
        "\r",
        "  7,913,472 Bytes [24.78%] received. Rate: [1037 KB/s].  ETA: [23 secs]    \r"
       ]
      },
      {
       "output_type": "stream",
       "stream": "stdout",
       "text": [
        "\r",
        "  7,929,856 Bytes [24.83%] received. Rate: [1037 KB/s].  ETA: [23 secs]    \r"
       ]
      },
      {
       "output_type": "stream",
       "stream": "stdout",
       "text": [
        "\r",
        "  7,946,240 Bytes [24.88%] received. Rate: [1037 KB/s].  ETA: [23 secs]    \r"
       ]
      },
      {
       "output_type": "stream",
       "stream": "stdout",
       "text": [
        "\r",
        "  7,962,624 Bytes [24.93%] received. Rate: [1037 KB/s].  ETA: [23 secs]    \r"
       ]
      },
      {
       "output_type": "stream",
       "stream": "stdout",
       "text": [
        "\r",
        "  7,979,008 Bytes [24.99%] received. Rate: [1037 KB/s].  ETA: [23 secs]    \r"
       ]
      },
      {
       "output_type": "stream",
       "stream": "stdout",
       "text": [
        "\r",
        "  7,995,392 Bytes [25.04%] received. Rate: [1037 KB/s].  ETA: [23 secs]    \r"
       ]
      },
      {
       "output_type": "stream",
       "stream": "stdout",
       "text": [
        "\r",
        "  8,011,776 Bytes [25.09%] received. Rate: [1037 KB/s].  ETA: [23 secs]    \r"
       ]
      },
      {
       "output_type": "stream",
       "stream": "stdout",
       "text": [
        "\r",
        "  8,028,160 Bytes [25.14%] received. Rate: [1037 KB/s].  ETA: [23 secs]    \r"
       ]
      },
      {
       "output_type": "stream",
       "stream": "stdout",
       "text": [
        "\r",
        "  8,044,544 Bytes [25.19%] received. Rate: [1037 KB/s].  ETA: [22 secs]    \r"
       ]
      },
      {
       "output_type": "stream",
       "stream": "stdout",
       "text": [
        "\r",
        "  8,060,928 Bytes [25.24%] received. Rate: [1037 KB/s].  ETA: [22 secs]    \r"
       ]
      },
      {
       "output_type": "stream",
       "stream": "stdout",
       "text": [
        "\r",
        "  8,077,312 Bytes [25.29%] received. Rate: [1037 KB/s].  ETA: [22 secs]    \r"
       ]
      },
      {
       "output_type": "stream",
       "stream": "stdout",
       "text": [
        "\r",
        "  8,093,696 Bytes [25.35%] received. Rate: [1037 KB/s].  ETA: [22 secs]    \r"
       ]
      },
      {
       "output_type": "stream",
       "stream": "stdout",
       "text": [
        "\r",
        "  8,110,080 Bytes [25.40%] received. Rate: [1037 KB/s].  ETA: [22 secs]    \r"
       ]
      },
      {
       "output_type": "stream",
       "stream": "stdout",
       "text": [
        "\r",
        "  8,126,464 Bytes [25.45%] received. Rate: [1037 KB/s].  ETA: [22 secs]    \r"
       ]
      },
      {
       "output_type": "stream",
       "stream": "stdout",
       "text": [
        "\r",
        "  8,142,848 Bytes [25.50%] received. Rate: [1037 KB/s].  ETA: [22 secs]    \r"
       ]
      },
      {
       "output_type": "stream",
       "stream": "stdout",
       "text": [
        "\r",
        "  8,159,232 Bytes [25.55%] received. Rate: [1037 KB/s].  ETA: [22 secs]    \r"
       ]
      },
      {
       "output_type": "stream",
       "stream": "stdout",
       "text": [
        "\r",
        "  8,175,616 Bytes [25.60%] received. Rate: [1037 KB/s].  ETA: [22 secs]    \r"
       ]
      },
      {
       "output_type": "stream",
       "stream": "stdout",
       "text": [
        "\r",
        "  8,192,000 Bytes [25.65%] received. Rate: [1037 KB/s].  ETA: [22 secs]    \r"
       ]
      },
      {
       "output_type": "stream",
       "stream": "stdout",
       "text": [
        "\r",
        "  8,208,384 Bytes [25.70%] received. Rate: [1037 KB/s].  ETA: [22 secs]    \r"
       ]
      },
      {
       "output_type": "stream",
       "stream": "stdout",
       "text": [
        "\r",
        "  8,224,768 Bytes [25.76%] received. Rate: [1037 KB/s].  ETA: [22 secs]    \r"
       ]
      },
      {
       "output_type": "stream",
       "stream": "stdout",
       "text": [
        "\r",
        "  8,241,152 Bytes [25.81%] received. Rate: [1038 KB/s].  ETA: [22 secs]    \r"
       ]
      },
      {
       "output_type": "stream",
       "stream": "stdout",
       "text": [
        "\r",
        "  8,257,536 Bytes [25.86%] received. Rate: [1037 KB/s].  ETA: [22 secs]    \r"
       ]
      },
      {
       "output_type": "stream",
       "stream": "stdout",
       "text": [
        "\r",
        "  8,273,920 Bytes [25.91%] received. Rate: [1038 KB/s].  ETA: [22 secs]    \r"
       ]
      },
      {
       "output_type": "stream",
       "stream": "stdout",
       "text": [
        "\r",
        "  8,290,304 Bytes [25.96%] received. Rate: [1038 KB/s].  ETA: [22 secs]    \r"
       ]
      },
      {
       "output_type": "stream",
       "stream": "stdout",
       "text": [
        "\r",
        "  8,306,688 Bytes [26.01%] received. Rate: [1038 KB/s].  ETA: [22 secs]    \r"
       ]
      },
      {
       "output_type": "stream",
       "stream": "stdout",
       "text": [
        "\r",
        "  8,323,072 Bytes [26.06%] received. Rate: [1037 KB/s].  ETA: [22 secs]    \r"
       ]
      },
      {
       "output_type": "stream",
       "stream": "stdout",
       "text": [
        "\r",
        "  8,339,456 Bytes [26.11%] received. Rate: [1036 KB/s].  ETA: [22 secs]    \r"
       ]
      },
      {
       "output_type": "stream",
       "stream": "stdout",
       "text": [
        "\r",
        "  8,355,840 Bytes [26.17%] received. Rate: [1035 KB/s].  ETA: [22 secs]    \r"
       ]
      },
      {
       "output_type": "stream",
       "stream": "stdout",
       "text": [
        "\r",
        "  8,372,224 Bytes [26.22%] received. Rate: [1037 KB/s].  ETA: [22 secs]    \r"
       ]
      },
      {
       "output_type": "stream",
       "stream": "stdout",
       "text": [
        "\r",
        "  8,388,608 Bytes [26.27%] received. Rate: [1036 KB/s].  ETA: [22 secs]    \r"
       ]
      },
      {
       "output_type": "stream",
       "stream": "stdout",
       "text": [
        "\r",
        "  8,404,992 Bytes [26.32%] received. Rate: [1036 KB/s].  ETA: [22 secs]    \r"
       ]
      },
      {
       "output_type": "stream",
       "stream": "stdout",
       "text": [
        "\r",
        "  8,421,376 Bytes [26.37%] received. Rate: [1035 KB/s].  ETA: [22 secs]    \r"
       ]
      },
      {
       "output_type": "stream",
       "stream": "stdout",
       "text": [
        "\r",
        "  8,437,760 Bytes [26.42%] received. Rate: [1035 KB/s].  ETA: [22 secs]    \r"
       ]
      },
      {
       "output_type": "stream",
       "stream": "stdout",
       "text": [
        "\r",
        "  8,454,144 Bytes [26.47%] received. Rate: [1034 KB/s].  ETA: [22 secs]    \r"
       ]
      },
      {
       "output_type": "stream",
       "stream": "stdout",
       "text": [
        "\r",
        "  8,470,528 Bytes [26.53%] received. Rate: [1034 KB/s].  ETA: [22 secs]    \r"
       ]
      },
      {
       "output_type": "stream",
       "stream": "stdout",
       "text": [
        "\r",
        "  8,486,912 Bytes [26.58%] received. Rate: [1034 KB/s].  ETA: [22 secs]    \r"
       ]
      },
      {
       "output_type": "stream",
       "stream": "stdout",
       "text": [
        "\r",
        "  8,503,296 Bytes [26.63%] received. Rate: [1034 KB/s].  ETA: [22 secs]    \r"
       ]
      },
      {
       "output_type": "stream",
       "stream": "stdout",
       "text": [
        "\r",
        "  8,519,680 Bytes [26.68%] received. Rate: [1034 KB/s].  ETA: [22 secs]    \r"
       ]
      },
      {
       "output_type": "stream",
       "stream": "stdout",
       "text": [
        "\r",
        "  8,536,064 Bytes [26.73%] received. Rate: [1034 KB/s].  ETA: [22 secs]    \r"
       ]
      },
      {
       "output_type": "stream",
       "stream": "stdout",
       "text": [
        "\r",
        "  8,552,448 Bytes [26.78%] received. Rate: [1035 KB/s].  ETA: [22 secs]    \r"
       ]
      },
      {
       "output_type": "stream",
       "stream": "stdout",
       "text": [
        "\r",
        "  8,568,832 Bytes [26.83%] received. Rate: [1035 KB/s].  ETA: [22 secs]    \r"
       ]
      },
      {
       "output_type": "stream",
       "stream": "stdout",
       "text": [
        "\r",
        "  8,585,216 Bytes [26.88%] received. Rate: [1035 KB/s].  ETA: [22 secs]    \r"
       ]
      },
      {
       "output_type": "stream",
       "stream": "stdout",
       "text": [
        "\r",
        "  8,601,600 Bytes [26.94%] received. Rate: [1035 KB/s].  ETA: [22 secs]    \r"
       ]
      },
      {
       "output_type": "stream",
       "stream": "stdout",
       "text": [
        "\r",
        "  8,617,984 Bytes [26.99%] received. Rate: [1035 KB/s].  ETA: [22 secs]    \r"
       ]
      },
      {
       "output_type": "stream",
       "stream": "stdout",
       "text": [
        "\r",
        "  8,634,368 Bytes [27.04%] received. Rate: [1035 KB/s].  ETA: [22 secs]    \r"
       ]
      },
      {
       "output_type": "stream",
       "stream": "stdout",
       "text": [
        "\r",
        "  8,650,752 Bytes [27.09%] received. Rate: [1035 KB/s].  ETA: [22 secs]    \r"
       ]
      },
      {
       "output_type": "stream",
       "stream": "stdout",
       "text": [
        "\r",
        "  8,667,136 Bytes [27.14%] received. Rate: [1035 KB/s].  ETA: [22 secs]    \r"
       ]
      },
      {
       "output_type": "stream",
       "stream": "stdout",
       "text": [
        "\r",
        "  8,683,520 Bytes [27.19%] received. Rate: [1034 KB/s].  ETA: [22 secs]    \r"
       ]
      },
      {
       "output_type": "stream",
       "stream": "stdout",
       "text": [
        "\r",
        "  8,699,904 Bytes [27.24%] received. Rate: [1034 KB/s].  ETA: [22 secs]    \r"
       ]
      },
      {
       "output_type": "stream",
       "stream": "stdout",
       "text": [
        "\r",
        "  8,716,288 Bytes [27.29%] received. Rate: [1033 KB/s].  ETA: [22 secs]    \r"
       ]
      },
      {
       "output_type": "stream",
       "stream": "stdout",
       "text": [
        "\r",
        "  8,732,672 Bytes [27.35%] received. Rate: [1034 KB/s].  ETA: [22 secs]    \r"
       ]
      },
      {
       "output_type": "stream",
       "stream": "stdout",
       "text": [
        "\r",
        "  8,749,056 Bytes [27.40%] received. Rate: [1034 KB/s].  ETA: [22 secs]    \r"
       ]
      },
      {
       "output_type": "stream",
       "stream": "stdout",
       "text": [
        "\r",
        "  8,765,440 Bytes [27.45%] received. Rate: [1034 KB/s].  ETA: [22 secs]    \r"
       ]
      },
      {
       "output_type": "stream",
       "stream": "stdout",
       "text": [
        "\r",
        "  8,781,824 Bytes [27.50%] received. Rate: [1033 KB/s].  ETA: [22 secs]    \r"
       ]
      },
      {
       "output_type": "stream",
       "stream": "stdout",
       "text": [
        "\r",
        "  8,798,208 Bytes [27.55%] received. Rate: [1032 KB/s].  ETA: [22 secs]    \r"
       ]
      },
      {
       "output_type": "stream",
       "stream": "stdout",
       "text": [
        "\r",
        "  8,814,592 Bytes [27.60%] received. Rate: [1032 KB/s].  ETA: [22 secs]    \r"
       ]
      },
      {
       "output_type": "stream",
       "stream": "stdout",
       "text": [
        "\r",
        "  8,830,976 Bytes [27.65%] received. Rate: [1032 KB/s].  ETA: [22 secs]    \r"
       ]
      },
      {
       "output_type": "stream",
       "stream": "stdout",
       "text": [
        "\r",
        "  8,847,360 Bytes [27.71%] received. Rate: [1031 KB/s].  ETA: [22 secs]    \r"
       ]
      },
      {
       "output_type": "stream",
       "stream": "stdout",
       "text": [
        "\r",
        "  8,863,744 Bytes [27.76%] received. Rate: [1032 KB/s].  ETA: [22 secs]    \r"
       ]
      },
      {
       "output_type": "stream",
       "stream": "stdout",
       "text": [
        "\r",
        "  8,880,128 Bytes [27.81%] received. Rate: [1032 KB/s].  ETA: [22 secs]    \r"
       ]
      },
      {
       "output_type": "stream",
       "stream": "stdout",
       "text": [
        "\r",
        "  8,896,512 Bytes [27.86%] received. Rate: [1032 KB/s].  ETA: [22 secs]    \r"
       ]
      },
      {
       "output_type": "stream",
       "stream": "stdout",
       "text": [
        "\r",
        "  8,912,896 Bytes [27.91%] received. Rate: [1032 KB/s].  ETA: [22 secs]    \r"
       ]
      },
      {
       "output_type": "stream",
       "stream": "stdout",
       "text": [
        "\r",
        "  8,929,280 Bytes [27.96%] received. Rate: [1032 KB/s].  ETA: [22 secs]    \r"
       ]
      },
      {
       "output_type": "stream",
       "stream": "stdout",
       "text": [
        "\r",
        "  8,945,664 Bytes [28.01%] received. Rate: [1032 KB/s].  ETA: [22 secs]    \r"
       ]
      },
      {
       "output_type": "stream",
       "stream": "stdout",
       "text": [
        "\r",
        "  8,962,048 Bytes [28.06%] received. Rate: [1032 KB/s].  ETA: [22 secs]    \r"
       ]
      },
      {
       "output_type": "stream",
       "stream": "stdout",
       "text": [
        "\r",
        "  8,978,432 Bytes [28.12%] received. Rate: [1032 KB/s].  ETA: [22 secs]    \r"
       ]
      },
      {
       "output_type": "stream",
       "stream": "stdout",
       "text": [
        "\r",
        "  8,994,816 Bytes [28.17%] received. Rate: [1032 KB/s].  ETA: [22 secs]    \r"
       ]
      },
      {
       "output_type": "stream",
       "stream": "stdout",
       "text": [
        "\r",
        "  9,011,200 Bytes [28.22%] received. Rate: [1032 KB/s].  ETA: [22 secs]    \r"
       ]
      },
      {
       "output_type": "stream",
       "stream": "stdout",
       "text": [
        "\r",
        "  9,027,584 Bytes [28.27%] received. Rate: [1032 KB/s].  ETA: [22 secs]    \r"
       ]
      },
      {
       "output_type": "stream",
       "stream": "stdout",
       "text": [
        "\r",
        "  9,043,968 Bytes [28.32%] received. Rate: [1032 KB/s].  ETA: [22 secs]    \r"
       ]
      },
      {
       "output_type": "stream",
       "stream": "stdout",
       "text": [
        "\r",
        "  9,060,352 Bytes [28.37%] received. Rate: [1032 KB/s].  ETA: [22 secs]    \r"
       ]
      },
      {
       "output_type": "stream",
       "stream": "stdout",
       "text": [
        "\r",
        "  9,076,736 Bytes [28.42%] received. Rate: [1032 KB/s].  ETA: [22 secs]    \r"
       ]
      },
      {
       "output_type": "stream",
       "stream": "stdout",
       "text": [
        "\r",
        "  9,093,120 Bytes [28.47%] received. Rate: [1032 KB/s].  ETA: [22 secs]    \r"
       ]
      },
      {
       "output_type": "stream",
       "stream": "stdout",
       "text": [
        "\r",
        "  9,109,504 Bytes [28.53%] received. Rate: [1032 KB/s].  ETA: [22 secs]    \r"
       ]
      },
      {
       "output_type": "stream",
       "stream": "stdout",
       "text": [
        "\r",
        "  9,125,888 Bytes [28.58%] received. Rate: [1032 KB/s].  ETA: [22 secs]    \r"
       ]
      },
      {
       "output_type": "stream",
       "stream": "stdout",
       "text": [
        "\r",
        "  9,142,272 Bytes [28.63%] received. Rate: [1032 KB/s].  ETA: [22 secs]    \r"
       ]
      },
      {
       "output_type": "stream",
       "stream": "stdout",
       "text": [
        "\r",
        "  9,158,656 Bytes [28.68%] received. Rate: [1031 KB/s].  ETA: [22 secs]    \r"
       ]
      },
      {
       "output_type": "stream",
       "stream": "stdout",
       "text": [
        "\r",
        "  9,175,040 Bytes [28.73%] received. Rate: [1031 KB/s].  ETA: [22 secs]    \r"
       ]
      },
      {
       "output_type": "stream",
       "stream": "stdout",
       "text": [
        "\r",
        "  9,191,424 Bytes [28.78%] received. Rate: [1032 KB/s].  ETA: [22 secs]    \r"
       ]
      },
      {
       "output_type": "stream",
       "stream": "stdout",
       "text": [
        "\r",
        "  9,207,808 Bytes [28.83%] received. Rate: [1032 KB/s].  ETA: [21 secs]    \r"
       ]
      },
      {
       "output_type": "stream",
       "stream": "stdout",
       "text": [
        "\r",
        "  9,224,192 Bytes [28.89%] received. Rate: [1032 KB/s].  ETA: [21 secs]    \r"
       ]
      },
      {
       "output_type": "stream",
       "stream": "stdout",
       "text": [
        "\r",
        "  9,240,576 Bytes [28.94%] received. Rate: [1031 KB/s].  ETA: [21 secs]    \r"
       ]
      },
      {
       "output_type": "stream",
       "stream": "stdout",
       "text": [
        "\r",
        "  9,256,960 Bytes [28.99%] received. Rate: [1031 KB/s].  ETA: [21 secs]    \r"
       ]
      },
      {
       "output_type": "stream",
       "stream": "stdout",
       "text": [
        "\r",
        "  9,273,344 Bytes [29.04%] received. Rate: [1032 KB/s].  ETA: [21 secs]    \r"
       ]
      },
      {
       "output_type": "stream",
       "stream": "stdout",
       "text": [
        "\r",
        "  9,289,728 Bytes [29.09%] received. Rate: [1032 KB/s].  ETA: [21 secs]    \r"
       ]
      },
      {
       "output_type": "stream",
       "stream": "stdout",
       "text": [
        "\r",
        "  9,306,112 Bytes [29.14%] received. Rate: [1031 KB/s].  ETA: [21 secs]    \r"
       ]
      },
      {
       "output_type": "stream",
       "stream": "stdout",
       "text": [
        "\r",
        "  9,322,496 Bytes [29.19%] received. Rate: [1031 KB/s].  ETA: [21 secs]    \r"
       ]
      },
      {
       "output_type": "stream",
       "stream": "stdout",
       "text": [
        "\r",
        "  9,338,880 Bytes [29.24%] received. Rate: [1030 KB/s].  ETA: [21 secs]    \r"
       ]
      },
      {
       "output_type": "stream",
       "stream": "stdout",
       "text": [
        "\r",
        "  9,355,264 Bytes [29.30%] received. Rate: [1030 KB/s].  ETA: [21 secs]    \r"
       ]
      },
      {
       "output_type": "stream",
       "stream": "stdout",
       "text": [
        "\r",
        "  9,371,648 Bytes [29.35%] received. Rate: [1031 KB/s].  ETA: [21 secs]    \r"
       ]
      },
      {
       "output_type": "stream",
       "stream": "stdout",
       "text": [
        "\r",
        "  9,388,032 Bytes [29.40%] received. Rate: [1031 KB/s].  ETA: [21 secs]    \r"
       ]
      },
      {
       "output_type": "stream",
       "stream": "stdout",
       "text": [
        "\r",
        "  9,404,416 Bytes [29.45%] received. Rate: [1031 KB/s].  ETA: [21 secs]    \r"
       ]
      },
      {
       "output_type": "stream",
       "stream": "stdout",
       "text": [
        "\r",
        "  9,420,800 Bytes [29.50%] received. Rate: [1030 KB/s].  ETA: [21 secs]    \r"
       ]
      },
      {
       "output_type": "stream",
       "stream": "stdout",
       "text": [
        "\r",
        "  9,437,184 Bytes [29.55%] received. Rate: [1030 KB/s].  ETA: [21 secs]    \r"
       ]
      },
      {
       "output_type": "stream",
       "stream": "stdout",
       "text": [
        "\r",
        "  9,453,568 Bytes [29.60%] received. Rate: [1031 KB/s].  ETA: [21 secs]    \r"
       ]
      },
      {
       "output_type": "stream",
       "stream": "stdout",
       "text": [
        "\r",
        "  9,469,952 Bytes [29.65%] received. Rate: [1027 KB/s].  ETA: [21 secs]    \r"
       ]
      },
      {
       "output_type": "stream",
       "stream": "stdout",
       "text": [
        "\r",
        "  9,486,336 Bytes [29.71%] received. Rate: [1029 KB/s].  ETA: [21 secs]    \r"
       ]
      },
      {
       "output_type": "stream",
       "stream": "stdout",
       "text": [
        "\r",
        "  9,502,720 Bytes [29.76%] received. Rate: [1030 KB/s].  ETA: [21 secs]    \r"
       ]
      },
      {
       "output_type": "stream",
       "stream": "stdout",
       "text": [
        "\r",
        "  9,519,104 Bytes [29.81%] received. Rate: [1031 KB/s].  ETA: [21 secs]    \r"
       ]
      },
      {
       "output_type": "stream",
       "stream": "stdout",
       "text": [
        "\r",
        "  9,535,488 Bytes [29.86%] received. Rate: [1031 KB/s].  ETA: [21 secs]    \r"
       ]
      },
      {
       "output_type": "stream",
       "stream": "stdout",
       "text": [
        "\r",
        "  9,551,872 Bytes [29.91%] received. Rate: [1030 KB/s].  ETA: [21 secs]    \r"
       ]
      },
      {
       "output_type": "stream",
       "stream": "stdout",
       "text": [
        "\r",
        "  9,568,256 Bytes [29.96%] received. Rate: [1030 KB/s].  ETA: [21 secs]    \r"
       ]
      },
      {
       "output_type": "stream",
       "stream": "stdout",
       "text": [
        "\r",
        "  9,584,640 Bytes [30.01%] received. Rate: [1030 KB/s].  ETA: [21 secs]    \r"
       ]
      },
      {
       "output_type": "stream",
       "stream": "stdout",
       "text": [
        "\r",
        "  9,601,024 Bytes [30.07%] received. Rate: [1031 KB/s].  ETA: [21 secs]    \r"
       ]
      },
      {
       "output_type": "stream",
       "stream": "stdout",
       "text": [
        "\r",
        "  9,617,408 Bytes [30.12%] received. Rate: [1031 KB/s].  ETA: [21 secs]    \r"
       ]
      },
      {
       "output_type": "stream",
       "stream": "stdout",
       "text": [
        "\r",
        "  9,633,792 Bytes [30.17%] received. Rate: [1028 KB/s].  ETA: [21 secs]    \r"
       ]
      },
      {
       "output_type": "stream",
       "stream": "stdout",
       "text": [
        "\r",
        "  9,650,176 Bytes [30.22%] received. Rate: [1028 KB/s].  ETA: [21 secs]    \r"
       ]
      },
      {
       "output_type": "stream",
       "stream": "stdout",
       "text": [
        "\r",
        "  9,666,560 Bytes [30.27%] received. Rate: [1027 KB/s].  ETA: [21 secs]    \r"
       ]
      },
      {
       "output_type": "stream",
       "stream": "stdout",
       "text": [
        "\r",
        "  9,682,944 Bytes [30.32%] received. Rate: [1028 KB/s].  ETA: [21 secs]    \r"
       ]
      },
      {
       "output_type": "stream",
       "stream": "stdout",
       "text": [
        "\r",
        "  9,699,328 Bytes [30.37%] received. Rate: [1028 KB/s].  ETA: [21 secs]    \r"
       ]
      },
      {
       "output_type": "stream",
       "stream": "stdout",
       "text": [
        "\r",
        "  9,715,712 Bytes [30.42%] received. Rate: [1018 KB/s].  ETA: [21 secs]    \r"
       ]
      },
      {
       "output_type": "stream",
       "stream": "stdout",
       "text": [
        "\r",
        "  9,732,096 Bytes [30.48%] received. Rate: [1020 KB/s].  ETA: [21 secs]    \r"
       ]
      },
      {
       "output_type": "stream",
       "stream": "stdout",
       "text": [
        "\r",
        "  9,748,480 Bytes [30.53%] received. Rate: [1022 KB/s].  ETA: [21 secs]    \r"
       ]
      },
      {
       "output_type": "stream",
       "stream": "stdout",
       "text": [
        "\r",
        "  9,764,864 Bytes [30.58%] received. Rate: [1023 KB/s].  ETA: [21 secs]    \r"
       ]
      },
      {
       "output_type": "stream",
       "stream": "stdout",
       "text": [
        "\r",
        "  9,781,248 Bytes [30.63%] received. Rate: [1025 KB/s].  ETA: [21 secs]    \r"
       ]
      },
      {
       "output_type": "stream",
       "stream": "stdout",
       "text": [
        "\r",
        "  9,797,632 Bytes [30.68%] received. Rate: [1024 KB/s].  ETA: [21 secs]    \r"
       ]
      },
      {
       "output_type": "stream",
       "stream": "stdout",
       "text": [
        "\r",
        "  9,814,016 Bytes [30.73%] received. Rate: [1023 KB/s].  ETA: [21 secs]    \r"
       ]
      },
      {
       "output_type": "stream",
       "stream": "stdout",
       "text": [
        "\r",
        "  9,830,400 Bytes [30.78%] received. Rate: [1022 KB/s].  ETA: [21 secs]    \r"
       ]
      },
      {
       "output_type": "stream",
       "stream": "stdout",
       "text": [
        "\r",
        "  9,846,784 Bytes [30.83%] received. Rate: [1024 KB/s].  ETA: [21 secs]    \r"
       ]
      },
      {
       "output_type": "stream",
       "stream": "stdout",
       "text": [
        "\r",
        "  9,863,168 Bytes [30.89%] received. Rate: [1023 KB/s].  ETA: [21 secs]    \r"
       ]
      },
      {
       "output_type": "stream",
       "stream": "stdout",
       "text": [
        "\r",
        "  9,879,552 Bytes [30.94%] received. Rate: [1021 KB/s].  ETA: [21 secs]    \r"
       ]
      },
      {
       "output_type": "stream",
       "stream": "stdout",
       "text": [
        "\r",
        "  9,895,936 Bytes [30.99%] received. Rate: [1021 KB/s].  ETA: [21 secs]    \r"
       ]
      },
      {
       "output_type": "stream",
       "stream": "stdout",
       "text": [
        "\r",
        "  9,912,320 Bytes [31.04%] received. Rate: [1021 KB/s].  ETA: [21 secs]    \r"
       ]
      },
      {
       "output_type": "stream",
       "stream": "stdout",
       "text": [
        "\r",
        "  9,928,704 Bytes [31.09%] received. Rate: [1020 KB/s].  ETA: [21 secs]    \r"
       ]
      },
      {
       "output_type": "stream",
       "stream": "stdout",
       "text": [
        "\r",
        "  9,945,088 Bytes [31.14%] received. Rate: [1021 KB/s].  ETA: [21 secs]    \r"
       ]
      },
      {
       "output_type": "stream",
       "stream": "stdout",
       "text": [
        "\r",
        "  9,961,472 Bytes [31.19%] received. Rate: [1020 KB/s].  ETA: [21 secs]    \r"
       ]
      },
      {
       "output_type": "stream",
       "stream": "stdout",
       "text": [
        "\r",
        "  9,977,856 Bytes [31.25%] received. Rate: [1020 KB/s].  ETA: [21 secs]    \r"
       ]
      },
      {
       "output_type": "stream",
       "stream": "stdout",
       "text": [
        "\r",
        "  9,994,240 Bytes [31.30%] received. Rate: [1018 KB/s].  ETA: [21 secs]    \r"
       ]
      },
      {
       "output_type": "stream",
       "stream": "stdout",
       "text": [
        "\r",
        "  10,010,624 Bytes [31.35%] received. Rate: [1019 KB/s].  ETA: [21 secs]    \r"
       ]
      },
      {
       "output_type": "stream",
       "stream": "stdout",
       "text": [
        "\r",
        "  10,027,008 Bytes [31.40%] received. Rate: [1018 KB/s].  ETA: [21 secs]    \r"
       ]
      },
      {
       "output_type": "stream",
       "stream": "stdout",
       "text": [
        "\r",
        "  10,043,392 Bytes [31.45%] received. Rate: [1017 KB/s].  ETA: [21 secs]    \r"
       ]
      },
      {
       "output_type": "stream",
       "stream": "stdout",
       "text": [
        "\r",
        "  10,059,776 Bytes [31.50%] received. Rate: [1017 KB/s].  ETA: [21 secs]    \r"
       ]
      },
      {
       "output_type": "stream",
       "stream": "stdout",
       "text": [
        "\r",
        "  10,076,160 Bytes [31.55%] received. Rate: [1018 KB/s].  ETA: [21 secs]    \r"
       ]
      },
      {
       "output_type": "stream",
       "stream": "stdout",
       "text": [
        "\r",
        "  10,092,544 Bytes [31.60%] received. Rate: [1016 KB/s].  ETA: [21 secs]    \r"
       ]
      },
      {
       "output_type": "stream",
       "stream": "stdout",
       "text": [
        "\r",
        "  10,108,928 Bytes [31.66%] received. Rate: [1015 KB/s].  ETA: [21 secs]    \r"
       ]
      },
      {
       "output_type": "stream",
       "stream": "stdout",
       "text": [
        "\r",
        "  10,125,312 Bytes [31.71%] received. Rate: [1015 KB/s].  ETA: [21 secs]    \r"
       ]
      },
      {
       "output_type": "stream",
       "stream": "stdout",
       "text": [
        "\r",
        "  10,141,696 Bytes [31.76%] received. Rate: [1015 KB/s].  ETA: [21 secs]    \r"
       ]
      },
      {
       "output_type": "stream",
       "stream": "stdout",
       "text": [
        "\r",
        "  10,158,080 Bytes [31.81%] received. Rate: [1014 KB/s].  ETA: [21 secs]    \r"
       ]
      },
      {
       "output_type": "stream",
       "stream": "stdout",
       "text": [
        "\r",
        "  10,174,464 Bytes [31.86%] received. Rate: [1014 KB/s].  ETA: [21 secs]    \r"
       ]
      },
      {
       "output_type": "stream",
       "stream": "stdout",
       "text": [
        "\r",
        "  10,190,848 Bytes [31.91%] received. Rate: [1014 KB/s].  ETA: [21 secs]    \r"
       ]
      },
      {
       "output_type": "stream",
       "stream": "stdout",
       "text": [
        "\r",
        "  10,207,232 Bytes [31.96%] received. Rate: [1013 KB/s].  ETA: [21 secs]    \r"
       ]
      },
      {
       "output_type": "stream",
       "stream": "stdout",
       "text": [
        "\r",
        "  10,223,616 Bytes [32.01%] received. Rate: [1013 KB/s].  ETA: [21 secs]    \r"
       ]
      },
      {
       "output_type": "stream",
       "stream": "stdout",
       "text": [
        "\r",
        "  10,240,000 Bytes [32.07%] received. Rate: [1013 KB/s].  ETA: [21 secs]    \r"
       ]
      },
      {
       "output_type": "stream",
       "stream": "stdout",
       "text": [
        "\r",
        "  10,256,384 Bytes [32.12%] received. Rate: [1013 KB/s].  ETA: [21 secs]    \r"
       ]
      },
      {
       "output_type": "stream",
       "stream": "stdout",
       "text": [
        "\r",
        "  10,272,768 Bytes [32.17%] received. Rate: [1011 KB/s].  ETA: [21 secs]    \r"
       ]
      },
      {
       "output_type": "stream",
       "stream": "stdout",
       "text": [
        "\r",
        "  10,289,152 Bytes [32.22%] received. Rate: [1012 KB/s].  ETA: [21 secs]    \r"
       ]
      },
      {
       "output_type": "stream",
       "stream": "stdout",
       "text": [
        "\r",
        "  10,305,536 Bytes [32.27%] received. Rate: [1012 KB/s].  ETA: [21 secs]    \r"
       ]
      },
      {
       "output_type": "stream",
       "stream": "stdout",
       "text": [
        "\r",
        "  10,321,920 Bytes [32.32%] received. Rate: [1012 KB/s].  ETA: [21 secs]    \r"
       ]
      },
      {
       "output_type": "stream",
       "stream": "stdout",
       "text": [
        "\r",
        "  10,338,304 Bytes [32.37%] received. Rate: [1011 KB/s].  ETA: [21 secs]    \r"
       ]
      },
      {
       "output_type": "stream",
       "stream": "stdout",
       "text": [
        "\r",
        "  10,354,688 Bytes [32.43%] received. Rate: [1011 KB/s].  ETA: [21 secs]    \r"
       ]
      },
      {
       "output_type": "stream",
       "stream": "stdout",
       "text": [
        "\r",
        "  10,371,072 Bytes [32.48%] received. Rate: [1011 KB/s].  ETA: [21 secs]    \r"
       ]
      },
      {
       "output_type": "stream",
       "stream": "stdout",
       "text": [
        "\r",
        "  10,387,456 Bytes [32.53%] received. Rate: [1010 KB/s].  ETA: [21 secs]    \r"
       ]
      },
      {
       "output_type": "stream",
       "stream": "stdout",
       "text": [
        "\r",
        "  10,403,840 Bytes [32.58%] received. Rate: [1010 KB/s].  ETA: [21 secs]    \r"
       ]
      },
      {
       "output_type": "stream",
       "stream": "stdout",
       "text": [
        "\r",
        "  10,420,224 Bytes [32.63%] received. Rate: [1010 KB/s].  ETA: [21 secs]    \r"
       ]
      },
      {
       "output_type": "stream",
       "stream": "stdout",
       "text": [
        "\r",
        "  10,436,608 Bytes [32.68%] received. Rate: [1010 KB/s].  ETA: [21 secs]    \r"
       ]
      },
      {
       "output_type": "stream",
       "stream": "stdout",
       "text": [
        "\r",
        "  10,452,992 Bytes [32.73%] received. Rate: [1010 KB/s].  ETA: [21 secs]    \r"
       ]
      },
      {
       "output_type": "stream",
       "stream": "stdout",
       "text": [
        "\r",
        "  10,469,376 Bytes [32.78%] received. Rate: [1010 KB/s].  ETA: [21 secs]    \r"
       ]
      },
      {
       "output_type": "stream",
       "stream": "stdout",
       "text": [
        "\r",
        "  10,485,760 Bytes [32.84%] received. Rate: [1010 KB/s].  ETA: [21 secs]    \r"
       ]
      },
      {
       "output_type": "stream",
       "stream": "stdout",
       "text": [
        "\r",
        "  10,502,144 Bytes [32.89%] received. Rate: [1010 KB/s].  ETA: [21 secs]    \r"
       ]
      },
      {
       "output_type": "stream",
       "stream": "stdout",
       "text": [
        "\r",
        "  10,518,528 Bytes [32.94%] received. Rate: [1010 KB/s].  ETA: [21 secs]    \r"
       ]
      },
      {
       "output_type": "stream",
       "stream": "stdout",
       "text": [
        "\r",
        "  10,534,912 Bytes [32.99%] received. Rate: [1011 KB/s].  ETA: [21 secs]    \r"
       ]
      },
      {
       "output_type": "stream",
       "stream": "stdout",
       "text": [
        "\r",
        "  10,551,296 Bytes [33.04%] received. Rate: [1010 KB/s].  ETA: [21 secs]    \r"
       ]
      },
      {
       "output_type": "stream",
       "stream": "stdout",
       "text": [
        "\r",
        "  10,567,680 Bytes [33.09%] received. Rate: [1009 KB/s].  ETA: [21 secs]    \r"
       ]
      },
      {
       "output_type": "stream",
       "stream": "stdout",
       "text": [
        "\r",
        "  10,584,064 Bytes [33.14%] received. Rate: [1009 KB/s].  ETA: [21 secs]    \r"
       ]
      },
      {
       "output_type": "stream",
       "stream": "stdout",
       "text": [
        "\r",
        "  10,600,448 Bytes [33.19%] received. Rate: [1010 KB/s].  ETA: [21 secs]    \r"
       ]
      },
      {
       "output_type": "stream",
       "stream": "stdout",
       "text": [
        "\r",
        "  10,616,832 Bytes [33.25%] received. Rate: [1009 KB/s].  ETA: [21 secs]    \r"
       ]
      },
      {
       "output_type": "stream",
       "stream": "stdout",
       "text": [
        "\r",
        "  10,633,216 Bytes [33.30%] received. Rate: [1008 KB/s].  ETA: [21 secs]    \r"
       ]
      },
      {
       "output_type": "stream",
       "stream": "stdout",
       "text": [
        "\r",
        "  10,649,600 Bytes [33.35%] received. Rate: [1008 KB/s].  ETA: [21 secs]    \r"
       ]
      },
      {
       "output_type": "stream",
       "stream": "stdout",
       "text": [
        "\r",
        "  10,665,984 Bytes [33.40%] received. Rate: [1009 KB/s].  ETA: [21 secs]    \r"
       ]
      },
      {
       "output_type": "stream",
       "stream": "stdout",
       "text": [
        "\r",
        "  10,682,368 Bytes [33.45%] received. Rate: [1009 KB/s].  ETA: [21 secs]    \r"
       ]
      },
      {
       "output_type": "stream",
       "stream": "stdout",
       "text": [
        "\r",
        "  10,698,752 Bytes [33.50%] received. Rate: [1008 KB/s].  ETA: [21 secs]    \r"
       ]
      },
      {
       "output_type": "stream",
       "stream": "stdout",
       "text": [
        "\r",
        "  10,715,136 Bytes [33.55%] received. Rate: [1008 KB/s].  ETA: [21 secs]    \r"
       ]
      },
      {
       "output_type": "stream",
       "stream": "stdout",
       "text": [
        "\r",
        "  10,731,520 Bytes [33.61%] received. Rate: [1007 KB/s].  ETA: [21 secs]    \r"
       ]
      },
      {
       "output_type": "stream",
       "stream": "stdout",
       "text": [
        "\r",
        "  10,747,904 Bytes [33.66%] received. Rate: [1007 KB/s].  ETA: [21 secs]    \r"
       ]
      },
      {
       "output_type": "stream",
       "stream": "stdout",
       "text": [
        "\r",
        "  10,764,288 Bytes [33.71%] received. Rate: [1007 KB/s].  ETA: [21 secs]    \r"
       ]
      },
      {
       "output_type": "stream",
       "stream": "stdout",
       "text": [
        "\r",
        "  10,780,672 Bytes [33.76%] received. Rate: [1008 KB/s].  ETA: [20 secs]    \r"
       ]
      },
      {
       "output_type": "stream",
       "stream": "stdout",
       "text": [
        "\r",
        "  10,797,056 Bytes [33.81%] received. Rate: [1007 KB/s].  ETA: [20 secs]    \r"
       ]
      },
      {
       "output_type": "stream",
       "stream": "stdout",
       "text": [
        "\r",
        "  10,813,440 Bytes [33.86%] received. Rate: [1005 KB/s].  ETA: [21 secs]    \r"
       ]
      },
      {
       "output_type": "stream",
       "stream": "stdout",
       "text": [
        "\r",
        "  10,829,824 Bytes [33.91%] received. Rate: [1005 KB/s].  ETA: [21 secs]    \r"
       ]
      },
      {
       "output_type": "stream",
       "stream": "stdout",
       "text": [
        "\r",
        "  10,846,208 Bytes [33.96%] received. Rate: [1005 KB/s].  ETA: [20 secs]    \r"
       ]
      },
      {
       "output_type": "stream",
       "stream": "stdout",
       "text": [
        "\r",
        "  10,862,592 Bytes [34.02%] received. Rate: [1005 KB/s].  ETA: [20 secs]    \r"
       ]
      },
      {
       "output_type": "stream",
       "stream": "stdout",
       "text": [
        "\r",
        "  10,878,976 Bytes [34.07%] received. Rate: [1005 KB/s].  ETA: [20 secs]    \r"
       ]
      },
      {
       "output_type": "stream",
       "stream": "stdout",
       "text": [
        "\r",
        "  10,895,360 Bytes [34.12%] received. Rate: [ 997 KB/s].  ETA: [21 secs]    \r"
       ]
      },
      {
       "output_type": "stream",
       "stream": "stdout",
       "text": [
        "\r",
        "  10,911,744 Bytes [34.17%] received. Rate: [ 998 KB/s].  ETA: [21 secs]    \r"
       ]
      },
      {
       "output_type": "stream",
       "stream": "stdout",
       "text": [
        "\r",
        "  10,928,128 Bytes [34.22%] received. Rate: [ 999 KB/s].  ETA: [21 secs]    \r"
       ]
      },
      {
       "output_type": "stream",
       "stream": "stdout",
       "text": [
        "\r",
        "  10,944,512 Bytes [34.27%] received. Rate: [1001 KB/s].  ETA: [20 secs]    \r"
       ]
      },
      {
       "output_type": "stream",
       "stream": "stdout",
       "text": [
        "\r",
        "  10,960,896 Bytes [34.32%] received. Rate: [1002 KB/s].  ETA: [20 secs]    \r"
       ]
      },
      {
       "output_type": "stream",
       "stream": "stdout",
       "text": [
        "\r",
        "  10,977,280 Bytes [34.37%] received. Rate: [1001 KB/s].  ETA: [20 secs]    \r"
       ]
      },
      {
       "output_type": "stream",
       "stream": "stdout",
       "text": [
        "\r",
        "  10,993,664 Bytes [34.43%] received. Rate: [1001 KB/s].  ETA: [20 secs]    \r"
       ]
      },
      {
       "output_type": "stream",
       "stream": "stdout",
       "text": [
        "\r",
        "  11,010,048 Bytes [34.48%] received. Rate: [1000 KB/s].  ETA: [20 secs]    \r"
       ]
      },
      {
       "output_type": "stream",
       "stream": "stdout",
       "text": [
        "\r",
        "  11,026,432 Bytes [34.53%] received. Rate: [1000 KB/s].  ETA: [20 secs]    \r"
       ]
      },
      {
       "output_type": "stream",
       "stream": "stdout",
       "text": [
        "\r",
        "  11,042,816 Bytes [34.58%] received. Rate: [ 999 KB/s].  ETA: [20 secs]    \r"
       ]
      },
      {
       "output_type": "stream",
       "stream": "stdout",
       "text": [
        "\r",
        "  11,059,200 Bytes [34.63%] received. Rate: [ 999 KB/s].  ETA: [20 secs]    \r"
       ]
      },
      {
       "output_type": "stream",
       "stream": "stdout",
       "text": [
        "\r",
        "  11,075,584 Bytes [34.68%] received. Rate: [ 998 KB/s].  ETA: [20 secs]    \r"
       ]
      },
      {
       "output_type": "stream",
       "stream": "stdout",
       "text": [
        "\r",
        "  11,091,968 Bytes [34.73%] received. Rate: [ 998 KB/s].  ETA: [20 secs]    \r"
       ]
      },
      {
       "output_type": "stream",
       "stream": "stdout",
       "text": [
        "\r",
        "  11,108,352 Bytes [34.79%] received. Rate: [ 998 KB/s].  ETA: [20 secs]    \r"
       ]
      },
      {
       "output_type": "stream",
       "stream": "stdout",
       "text": [
        "\r",
        "  11,124,736 Bytes [34.84%] received. Rate: [ 998 KB/s].  ETA: [20 secs]    \r"
       ]
      },
      {
       "output_type": "stream",
       "stream": "stdout",
       "text": [
        "\r",
        "  11,141,120 Bytes [34.89%] received. Rate: [ 997 KB/s].  ETA: [20 secs]    \r"
       ]
      },
      {
       "output_type": "stream",
       "stream": "stdout",
       "text": [
        "\r",
        "  11,157,504 Bytes [34.94%] received. Rate: [ 997 KB/s].  ETA: [20 secs]    \r"
       ]
      },
      {
       "output_type": "stream",
       "stream": "stdout",
       "text": [
        "\r",
        "  11,173,888 Bytes [34.99%] received. Rate: [ 995 KB/s].  ETA: [20 secs]    \r"
       ]
      },
      {
       "output_type": "stream",
       "stream": "stdout",
       "text": [
        "\r",
        "  11,190,272 Bytes [35.04%] received. Rate: [ 996 KB/s].  ETA: [20 secs]    \r"
       ]
      },
      {
       "output_type": "stream",
       "stream": "stdout",
       "text": [
        "\r",
        "  11,206,656 Bytes [35.09%] received. Rate: [ 995 KB/s].  ETA: [20 secs]    \r"
       ]
      },
      {
       "output_type": "stream",
       "stream": "stdout",
       "text": [
        "\r",
        "  11,223,040 Bytes [35.14%] received. Rate: [ 995 KB/s].  ETA: [20 secs]    \r"
       ]
      },
      {
       "output_type": "stream",
       "stream": "stdout",
       "text": [
        "\r",
        "  11,239,424 Bytes [35.20%] received. Rate: [ 994 KB/s].  ETA: [20 secs]    \r"
       ]
      },
      {
       "output_type": "stream",
       "stream": "stdout",
       "text": [
        "\r",
        "  11,255,808 Bytes [35.25%] received. Rate: [ 993 KB/s].  ETA: [20 secs]    \r"
       ]
      },
      {
       "output_type": "stream",
       "stream": "stdout",
       "text": [
        "\r",
        "  11,272,192 Bytes [35.30%] received. Rate: [ 993 KB/s].  ETA: [20 secs]    \r"
       ]
      },
      {
       "output_type": "stream",
       "stream": "stdout",
       "text": [
        "\r",
        "  11,288,576 Bytes [35.35%] received. Rate: [ 993 KB/s].  ETA: [20 secs]    \r"
       ]
      },
      {
       "output_type": "stream",
       "stream": "stdout",
       "text": [
        "\r",
        "  11,304,960 Bytes [35.40%] received. Rate: [ 993 KB/s].  ETA: [20 secs]    \r"
       ]
      },
      {
       "output_type": "stream",
       "stream": "stdout",
       "text": [
        "\r",
        "  11,321,344 Bytes [35.45%] received. Rate: [ 992 KB/s].  ETA: [20 secs]    \r"
       ]
      },
      {
       "output_type": "stream",
       "stream": "stdout",
       "text": [
        "\r",
        "  11,337,728 Bytes [35.50%] received. Rate: [ 991 KB/s].  ETA: [20 secs]    \r"
       ]
      },
      {
       "output_type": "stream",
       "stream": "stdout",
       "text": [
        "\r",
        "  11,354,112 Bytes [35.55%] received. Rate: [ 991 KB/s].  ETA: [20 secs]    \r"
       ]
      },
      {
       "output_type": "stream",
       "stream": "stdout",
       "text": [
        "\r",
        "  11,370,496 Bytes [35.61%] received. Rate: [ 991 KB/s].  ETA: [20 secs]    \r"
       ]
      },
      {
       "output_type": "stream",
       "stream": "stdout",
       "text": [
        "\r",
        "  11,386,880 Bytes [35.66%] received. Rate: [ 991 KB/s].  ETA: [20 secs]    \r"
       ]
      },
      {
       "output_type": "stream",
       "stream": "stdout",
       "text": [
        "\r",
        "  11,403,264 Bytes [35.71%] received. Rate: [ 990 KB/s].  ETA: [20 secs]    \r"
       ]
      },
      {
       "output_type": "stream",
       "stream": "stdout",
       "text": [
        "\r",
        "  11,419,648 Bytes [35.76%] received. Rate: [ 989 KB/s].  ETA: [20 secs]    \r"
       ]
      },
      {
       "output_type": "stream",
       "stream": "stdout",
       "text": [
        "\r",
        "  11,436,032 Bytes [35.81%] received. Rate: [ 989 KB/s].  ETA: [20 secs]    \r"
       ]
      },
      {
       "output_type": "stream",
       "stream": "stdout",
       "text": [
        "\r",
        "  11,452,416 Bytes [35.86%] received. Rate: [ 989 KB/s].  ETA: [20 secs]    \r"
       ]
      },
      {
       "output_type": "stream",
       "stream": "stdout",
       "text": [
        "\r",
        "  11,468,800 Bytes [35.91%] received. Rate: [ 988 KB/s].  ETA: [20 secs]    \r"
       ]
      },
      {
       "output_type": "stream",
       "stream": "stdout",
       "text": [
        "\r",
        "  11,485,184 Bytes [35.97%] received. Rate: [ 989 KB/s].  ETA: [20 secs]    \r"
       ]
      },
      {
       "output_type": "stream",
       "stream": "stdout",
       "text": [
        "\r",
        "  11,501,568 Bytes [36.02%] received. Rate: [ 988 KB/s].  ETA: [20 secs]    \r"
       ]
      },
      {
       "output_type": "stream",
       "stream": "stdout",
       "text": [
        "\r",
        "  11,517,952 Bytes [36.07%] received. Rate: [ 988 KB/s].  ETA: [20 secs]    \r"
       ]
      },
      {
       "output_type": "stream",
       "stream": "stdout",
       "text": [
        "\r",
        "  11,534,336 Bytes [36.12%] received. Rate: [ 987 KB/s].  ETA: [20 secs]    \r"
       ]
      },
      {
       "output_type": "stream",
       "stream": "stdout",
       "text": [
        "\r",
        "  11,550,720 Bytes [36.17%] received. Rate: [ 988 KB/s].  ETA: [20 secs]    \r"
       ]
      },
      {
       "output_type": "stream",
       "stream": "stdout",
       "text": [
        "\r",
        "  11,567,104 Bytes [36.22%] received. Rate: [ 988 KB/s].  ETA: [20 secs]    \r"
       ]
      },
      {
       "output_type": "stream",
       "stream": "stdout",
       "text": [
        "\r",
        "  11,583,488 Bytes [36.27%] received. Rate: [ 988 KB/s].  ETA: [20 secs]    \r"
       ]
      },
      {
       "output_type": "stream",
       "stream": "stdout",
       "text": [
        "\r",
        "  11,599,872 Bytes [36.32%] received. Rate: [ 987 KB/s].  ETA: [20 secs]    \r"
       ]
      },
      {
       "output_type": "stream",
       "stream": "stdout",
       "text": [
        "\r",
        "  11,616,256 Bytes [36.38%] received. Rate: [ 988 KB/s].  ETA: [20 secs]    \r"
       ]
      },
      {
       "output_type": "stream",
       "stream": "stdout",
       "text": [
        "\r",
        "  11,632,640 Bytes [36.43%] received. Rate: [ 988 KB/s].  ETA: [20 secs]    \r"
       ]
      },
      {
       "output_type": "stream",
       "stream": "stdout",
       "text": [
        "\r",
        "  11,649,024 Bytes [36.48%] received. Rate: [ 988 KB/s].  ETA: [20 secs]    \r"
       ]
      },
      {
       "output_type": "stream",
       "stream": "stdout",
       "text": [
        "\r",
        "  11,665,408 Bytes [36.53%] received. Rate: [ 988 KB/s].  ETA: [20 secs]    \r"
       ]
      },
      {
       "output_type": "stream",
       "stream": "stdout",
       "text": [
        "\r",
        "  11,681,792 Bytes [36.58%] received. Rate: [ 988 KB/s].  ETA: [20 secs]    \r"
       ]
      },
      {
       "output_type": "stream",
       "stream": "stdout",
       "text": [
        "\r",
        "  11,698,176 Bytes [36.63%] received. Rate: [ 988 KB/s].  ETA: [20 secs]    \r"
       ]
      },
      {
       "output_type": "stream",
       "stream": "stdout",
       "text": [
        "\r",
        "  11,714,560 Bytes [36.68%] received. Rate: [ 988 KB/s].  ETA: [20 secs]    \r"
       ]
      },
      {
       "output_type": "stream",
       "stream": "stdout",
       "text": [
        "\r",
        "  11,730,944 Bytes [36.74%] received. Rate: [ 988 KB/s].  ETA: [20 secs]    \r"
       ]
      },
      {
       "output_type": "stream",
       "stream": "stdout",
       "text": [
        "\r",
        "  11,747,328 Bytes [36.79%] received. Rate: [ 988 KB/s].  ETA: [20 secs]    \r"
       ]
      },
      {
       "output_type": "stream",
       "stream": "stdout",
       "text": [
        "\r",
        "  11,763,712 Bytes [36.84%] received. Rate: [ 988 KB/s].  ETA: [20 secs]    \r"
       ]
      },
      {
       "output_type": "stream",
       "stream": "stdout",
       "text": [
        "\r",
        "  11,780,096 Bytes [36.89%] received. Rate: [ 989 KB/s].  ETA: [20 secs]    \r"
       ]
      },
      {
       "output_type": "stream",
       "stream": "stdout",
       "text": [
        "\r",
        "  11,796,480 Bytes [36.94%] received. Rate: [ 989 KB/s].  ETA: [20 secs]    \r"
       ]
      },
      {
       "output_type": "stream",
       "stream": "stdout",
       "text": [
        "\r",
        "  11,812,864 Bytes [36.99%] received. Rate: [ 989 KB/s].  ETA: [20 secs]    \r"
       ]
      },
      {
       "output_type": "stream",
       "stream": "stdout",
       "text": [
        "\r",
        "  11,829,248 Bytes [37.04%] received. Rate: [ 989 KB/s].  ETA: [20 secs]    \r"
       ]
      },
      {
       "output_type": "stream",
       "stream": "stdout",
       "text": [
        "\r",
        "  11,845,632 Bytes [37.09%] received. Rate: [ 989 KB/s].  ETA: [20 secs]    \r"
       ]
      },
      {
       "output_type": "stream",
       "stream": "stdout",
       "text": [
        "\r",
        "  11,862,016 Bytes [37.15%] received. Rate: [ 989 KB/s].  ETA: [20 secs]    \r"
       ]
      },
      {
       "output_type": "stream",
       "stream": "stdout",
       "text": [
        "\r",
        "  11,878,400 Bytes [37.20%] received. Rate: [ 989 KB/s].  ETA: [20 secs]    \r"
       ]
      },
      {
       "output_type": "stream",
       "stream": "stdout",
       "text": [
        "\r",
        "  11,894,784 Bytes [37.25%] received. Rate: [ 989 KB/s].  ETA: [20 secs]    \r"
       ]
      },
      {
       "output_type": "stream",
       "stream": "stdout",
       "text": [
        "\r",
        "  11,911,168 Bytes [37.30%] received. Rate: [ 989 KB/s].  ETA: [20 secs]    \r"
       ]
      },
      {
       "output_type": "stream",
       "stream": "stdout",
       "text": [
        "\r",
        "  11,927,552 Bytes [37.35%] received. Rate: [ 989 KB/s].  ETA: [20 secs]    \r"
       ]
      },
      {
       "output_type": "stream",
       "stream": "stdout",
       "text": [
        "\r",
        "  11,943,936 Bytes [37.40%] received. Rate: [ 989 KB/s].  ETA: [20 secs]    \r"
       ]
      },
      {
       "output_type": "stream",
       "stream": "stdout",
       "text": [
        "\r",
        "  11,960,320 Bytes [37.45%] received. Rate: [ 989 KB/s].  ETA: [20 secs]    \r"
       ]
      },
      {
       "output_type": "stream",
       "stream": "stdout",
       "text": [
        "\r",
        "  11,976,704 Bytes [37.50%] received. Rate: [ 990 KB/s].  ETA: [20 secs]    \r"
       ]
      },
      {
       "output_type": "stream",
       "stream": "stdout",
       "text": [
        "\r",
        "  11,993,088 Bytes [37.56%] received. Rate: [ 990 KB/s].  ETA: [20 secs]    \r"
       ]
      },
      {
       "output_type": "stream",
       "stream": "stdout",
       "text": [
        "\r",
        "  12,009,472 Bytes [37.61%] received. Rate: [ 990 KB/s].  ETA: [20 secs]    \r"
       ]
      },
      {
       "output_type": "stream",
       "stream": "stdout",
       "text": [
        "\r",
        "  12,025,856 Bytes [37.66%] received. Rate: [ 990 KB/s].  ETA: [20 secs]    \r"
       ]
      },
      {
       "output_type": "stream",
       "stream": "stdout",
       "text": [
        "\r",
        "  12,042,240 Bytes [37.71%] received. Rate: [ 990 KB/s].  ETA: [20 secs]    \r"
       ]
      },
      {
       "output_type": "stream",
       "stream": "stdout",
       "text": [
        "\r",
        "  12,058,624 Bytes [37.76%] received. Rate: [ 990 KB/s].  ETA: [20 secs]    \r"
       ]
      },
      {
       "output_type": "stream",
       "stream": "stdout",
       "text": [
        "\r",
        "  12,075,008 Bytes [37.81%] received. Rate: [ 990 KB/s].  ETA: [20 secs]    \r"
       ]
      },
      {
       "output_type": "stream",
       "stream": "stdout",
       "text": [
        "\r",
        "  12,091,392 Bytes [37.86%] received. Rate: [ 990 KB/s].  ETA: [20 secs]    \r"
       ]
      },
      {
       "output_type": "stream",
       "stream": "stdout",
       "text": [
        "\r",
        "  12,107,776 Bytes [37.92%] received. Rate: [ 990 KB/s].  ETA: [20 secs]    \r"
       ]
      },
      {
       "output_type": "stream",
       "stream": "stdout",
       "text": [
        "\r",
        "  12,124,160 Bytes [37.97%] received. Rate: [ 990 KB/s].  ETA: [20 secs]    \r"
       ]
      },
      {
       "output_type": "stream",
       "stream": "stdout",
       "text": [
        "\r",
        "  12,140,544 Bytes [38.02%] received. Rate: [ 990 KB/s].  ETA: [20 secs]    \r"
       ]
      },
      {
       "output_type": "stream",
       "stream": "stdout",
       "text": [
        "\r",
        "  12,156,928 Bytes [38.07%] received. Rate: [ 991 KB/s].  ETA: [19 secs]    \r"
       ]
      },
      {
       "output_type": "stream",
       "stream": "stdout",
       "text": [
        "\r",
        "  12,173,312 Bytes [38.12%] received. Rate: [ 991 KB/s].  ETA: [19 secs]    \r"
       ]
      },
      {
       "output_type": "stream",
       "stream": "stdout",
       "text": [
        "\r",
        "  12,189,696 Bytes [38.17%] received. Rate: [ 991 KB/s].  ETA: [19 secs]    \r"
       ]
      },
      {
       "output_type": "stream",
       "stream": "stdout",
       "text": [
        "\r",
        "  12,206,080 Bytes [38.22%] received. Rate: [ 991 KB/s].  ETA: [19 secs]    \r"
       ]
      },
      {
       "output_type": "stream",
       "stream": "stdout",
       "text": [
        "\r",
        "  12,222,464 Bytes [38.27%] received. Rate: [ 991 KB/s].  ETA: [19 secs]    \r"
       ]
      },
      {
       "output_type": "stream",
       "stream": "stdout",
       "text": [
        "\r",
        "  12,238,848 Bytes [38.33%] received. Rate: [ 991 KB/s].  ETA: [19 secs]    \r"
       ]
      },
      {
       "output_type": "stream",
       "stream": "stdout",
       "text": [
        "\r",
        "  12,255,232 Bytes [38.38%] received. Rate: [ 991 KB/s].  ETA: [19 secs]    \r"
       ]
      },
      {
       "output_type": "stream",
       "stream": "stdout",
       "text": [
        "\r",
        "  12,271,616 Bytes [38.43%] received. Rate: [ 991 KB/s].  ETA: [19 secs]    \r"
       ]
      },
      {
       "output_type": "stream",
       "stream": "stdout",
       "text": [
        "\r",
        "  12,288,000 Bytes [38.48%] received. Rate: [ 991 KB/s].  ETA: [19 secs]    \r"
       ]
      },
      {
       "output_type": "stream",
       "stream": "stdout",
       "text": [
        "\r",
        "  12,304,384 Bytes [38.53%] received. Rate: [ 991 KB/s].  ETA: [19 secs]    \r"
       ]
      },
      {
       "output_type": "stream",
       "stream": "stdout",
       "text": [
        "\r",
        "  12,320,768 Bytes [38.58%] received. Rate: [ 991 KB/s].  ETA: [19 secs]    \r"
       ]
      },
      {
       "output_type": "stream",
       "stream": "stdout",
       "text": [
        "\r",
        "  12,337,152 Bytes [38.63%] received. Rate: [ 992 KB/s].  ETA: [19 secs]    \r"
       ]
      },
      {
       "output_type": "stream",
       "stream": "stdout",
       "text": [
        "\r",
        "  12,353,536 Bytes [38.68%] received. Rate: [ 991 KB/s].  ETA: [19 secs]    \r"
       ]
      },
      {
       "output_type": "stream",
       "stream": "stdout",
       "text": [
        "\r",
        "  12,369,920 Bytes [38.74%] received. Rate: [ 992 KB/s].  ETA: [19 secs]    \r"
       ]
      },
      {
       "output_type": "stream",
       "stream": "stdout",
       "text": [
        "\r",
        "  12,386,304 Bytes [38.79%] received. Rate: [ 992 KB/s].  ETA: [19 secs]    \r"
       ]
      },
      {
       "output_type": "stream",
       "stream": "stdout",
       "text": [
        "\r",
        "  12,402,688 Bytes [38.84%] received. Rate: [ 992 KB/s].  ETA: [19 secs]    \r"
       ]
      },
      {
       "output_type": "stream",
       "stream": "stdout",
       "text": [
        "\r",
        "  12,419,072 Bytes [38.89%] received. Rate: [ 992 KB/s].  ETA: [19 secs]    \r"
       ]
      },
      {
       "output_type": "stream",
       "stream": "stdout",
       "text": [
        "\r",
        "  12,435,456 Bytes [38.94%] received. Rate: [ 992 KB/s].  ETA: [19 secs]    \r"
       ]
      },
      {
       "output_type": "stream",
       "stream": "stdout",
       "text": [
        "\r",
        "  12,451,840 Bytes [38.99%] received. Rate: [ 992 KB/s].  ETA: [19 secs]    \r"
       ]
      },
      {
       "output_type": "stream",
       "stream": "stdout",
       "text": [
        "\r",
        "  12,468,224 Bytes [39.04%] received. Rate: [ 992 KB/s].  ETA: [19 secs]    \r"
       ]
      },
      {
       "output_type": "stream",
       "stream": "stdout",
       "text": [
        "\r",
        "  12,484,608 Bytes [39.10%] received. Rate: [ 992 KB/s].  ETA: [19 secs]    \r"
       ]
      },
      {
       "output_type": "stream",
       "stream": "stdout",
       "text": [
        "\r",
        "  12,500,992 Bytes [39.15%] received. Rate: [ 992 KB/s].  ETA: [19 secs]    \r"
       ]
      },
      {
       "output_type": "stream",
       "stream": "stdout",
       "text": [
        "\r",
        "  12,517,376 Bytes [39.20%] received. Rate: [ 992 KB/s].  ETA: [19 secs]    \r"
       ]
      },
      {
       "output_type": "stream",
       "stream": "stdout",
       "text": [
        "\r",
        "  12,533,760 Bytes [39.25%] received. Rate: [ 992 KB/s].  ETA: [19 secs]    \r"
       ]
      },
      {
       "output_type": "stream",
       "stream": "stdout",
       "text": [
        "\r",
        "  12,550,144 Bytes [39.30%] received. Rate: [ 993 KB/s].  ETA: [19 secs]    \r"
       ]
      },
      {
       "output_type": "stream",
       "stream": "stdout",
       "text": [
        "\r",
        "  12,566,528 Bytes [39.35%] received. Rate: [ 993 KB/s].  ETA: [19 secs]    \r"
       ]
      },
      {
       "output_type": "stream",
       "stream": "stdout",
       "text": [
        "\r",
        "  12,582,912 Bytes [39.40%] received. Rate: [ 993 KB/s].  ETA: [19 secs]    \r"
       ]
      },
      {
       "output_type": "stream",
       "stream": "stdout",
       "text": [
        "\r",
        "  12,599,296 Bytes [39.45%] received. Rate: [ 993 KB/s].  ETA: [19 secs]    \r"
       ]
      },
      {
       "output_type": "stream",
       "stream": "stdout",
       "text": [
        "\r",
        "  12,615,680 Bytes [39.51%] received. Rate: [ 993 KB/s].  ETA: [19 secs]    \r"
       ]
      },
      {
       "output_type": "stream",
       "stream": "stdout",
       "text": [
        "\r",
        "  12,632,064 Bytes [39.56%] received. Rate: [ 993 KB/s].  ETA: [19 secs]    \r"
       ]
      },
      {
       "output_type": "stream",
       "stream": "stdout",
       "text": [
        "\r",
        "  12,648,448 Bytes [39.61%] received. Rate: [ 993 KB/s].  ETA: [19 secs]    \r"
       ]
      },
      {
       "output_type": "stream",
       "stream": "stdout",
       "text": [
        "\r",
        "  12,664,832 Bytes [39.66%] received. Rate: [ 993 KB/s].  ETA: [19 secs]    \r"
       ]
      },
      {
       "output_type": "stream",
       "stream": "stdout",
       "text": [
        "\r",
        "  12,681,216 Bytes [39.71%] received. Rate: [ 993 KB/s].  ETA: [19 secs]    \r"
       ]
      },
      {
       "output_type": "stream",
       "stream": "stdout",
       "text": [
        "\r",
        "  12,697,600 Bytes [39.76%] received. Rate: [ 993 KB/s].  ETA: [19 secs]    \r"
       ]
      },
      {
       "output_type": "stream",
       "stream": "stdout",
       "text": [
        "\r",
        "  12,713,984 Bytes [39.81%] received. Rate: [ 993 KB/s].  ETA: [19 secs]    \r"
       ]
      },
      {
       "output_type": "stream",
       "stream": "stdout",
       "text": [
        "\r",
        "  12,730,368 Bytes [39.86%] received. Rate: [ 993 KB/s].  ETA: [19 secs]    \r"
       ]
      },
      {
       "output_type": "stream",
       "stream": "stdout",
       "text": [
        "\r",
        "  12,746,752 Bytes [39.92%] received. Rate: [ 993 KB/s].  ETA: [19 secs]    \r"
       ]
      },
      {
       "output_type": "stream",
       "stream": "stdout",
       "text": [
        "\r",
        "  12,763,136 Bytes [39.97%] received. Rate: [ 993 KB/s].  ETA: [19 secs]    \r"
       ]
      },
      {
       "output_type": "stream",
       "stream": "stdout",
       "text": [
        "\r",
        "  12,779,520 Bytes [40.02%] received. Rate: [ 994 KB/s].  ETA: [19 secs]    \r"
       ]
      },
      {
       "output_type": "stream",
       "stream": "stdout",
       "text": [
        "\r",
        "  12,795,904 Bytes [40.07%] received. Rate: [ 994 KB/s].  ETA: [19 secs]    \r"
       ]
      },
      {
       "output_type": "stream",
       "stream": "stdout",
       "text": [
        "\r",
        "  12,812,288 Bytes [40.12%] received. Rate: [ 994 KB/s].  ETA: [19 secs]    \r"
       ]
      },
      {
       "output_type": "stream",
       "stream": "stdout",
       "text": [
        "\r",
        "  12,828,672 Bytes [40.17%] received. Rate: [ 994 KB/s].  ETA: [19 secs]    \r"
       ]
      },
      {
       "output_type": "stream",
       "stream": "stdout",
       "text": [
        "\r",
        "  12,845,056 Bytes [40.22%] received. Rate: [ 994 KB/s].  ETA: [19 secs]    \r"
       ]
      },
      {
       "output_type": "stream",
       "stream": "stdout",
       "text": [
        "\r",
        "  12,861,440 Bytes [40.28%] received. Rate: [ 994 KB/s].  ETA: [19 secs]    \r"
       ]
      },
      {
       "output_type": "stream",
       "stream": "stdout",
       "text": [
        "\r",
        "  12,877,824 Bytes [40.33%] received. Rate: [ 994 KB/s].  ETA: [19 secs]    \r"
       ]
      },
      {
       "output_type": "stream",
       "stream": "stdout",
       "text": [
        "\r",
        "  12,894,208 Bytes [40.38%] received. Rate: [ 994 KB/s].  ETA: [19 secs]    \r"
       ]
      },
      {
       "output_type": "stream",
       "stream": "stdout",
       "text": [
        "\r",
        "  12,910,592 Bytes [40.43%] received. Rate: [ 994 KB/s].  ETA: [19 secs]    \r"
       ]
      },
      {
       "output_type": "stream",
       "stream": "stdout",
       "text": [
        "\r",
        "  12,926,976 Bytes [40.48%] received. Rate: [ 994 KB/s].  ETA: [19 secs]    \r"
       ]
      },
      {
       "output_type": "stream",
       "stream": "stdout",
       "text": [
        "\r",
        "  12,943,360 Bytes [40.53%] received. Rate: [ 994 KB/s].  ETA: [19 secs]    \r"
       ]
      },
      {
       "output_type": "stream",
       "stream": "stdout",
       "text": [
        "\r",
        "  12,959,744 Bytes [40.58%] received. Rate: [ 994 KB/s].  ETA: [19 secs]    \r"
       ]
      },
      {
       "output_type": "stream",
       "stream": "stdout",
       "text": [
        "\r",
        "  12,976,128 Bytes [40.63%] received. Rate: [ 995 KB/s].  ETA: [19 secs]    \r"
       ]
      },
      {
       "output_type": "stream",
       "stream": "stdout",
       "text": [
        "\r",
        "  12,992,512 Bytes [40.69%] received. Rate: [ 995 KB/s].  ETA: [19 secs]    \r"
       ]
      },
      {
       "output_type": "stream",
       "stream": "stdout",
       "text": [
        "\r",
        "  13,008,896 Bytes [40.74%] received. Rate: [ 995 KB/s].  ETA: [19 secs]    \r"
       ]
      },
      {
       "output_type": "stream",
       "stream": "stdout",
       "text": [
        "\r",
        "  13,025,280 Bytes [40.79%] received. Rate: [ 995 KB/s].  ETA: [19 secs]    \r"
       ]
      },
      {
       "output_type": "stream",
       "stream": "stdout",
       "text": [
        "\r",
        "  13,041,664 Bytes [40.84%] received. Rate: [ 995 KB/s].  ETA: [19 secs]    \r"
       ]
      },
      {
       "output_type": "stream",
       "stream": "stdout",
       "text": [
        "\r",
        "  13,058,048 Bytes [40.89%] received. Rate: [ 995 KB/s].  ETA: [19 secs]    \r"
       ]
      },
      {
       "output_type": "stream",
       "stream": "stdout",
       "text": [
        "\r",
        "  13,074,432 Bytes [40.94%] received. Rate: [ 995 KB/s].  ETA: [19 secs]    \r"
       ]
      },
      {
       "output_type": "stream",
       "stream": "stdout",
       "text": [
        "\r",
        "  13,090,816 Bytes [40.99%] received. Rate: [ 995 KB/s].  ETA: [18 secs]    \r"
       ]
      },
      {
       "output_type": "stream",
       "stream": "stdout",
       "text": [
        "\r",
        "  13,107,200 Bytes [41.04%] received. Rate: [ 995 KB/s].  ETA: [18 secs]    \r"
       ]
      },
      {
       "output_type": "stream",
       "stream": "stdout",
       "text": [
        "\r",
        "  13,123,584 Bytes [41.10%] received. Rate: [ 995 KB/s].  ETA: [18 secs]    \r"
       ]
      },
      {
       "output_type": "stream",
       "stream": "stdout",
       "text": [
        "\r",
        "  13,139,968 Bytes [41.15%] received. Rate: [ 995 KB/s].  ETA: [18 secs]    \r"
       ]
      },
      {
       "output_type": "stream",
       "stream": "stdout",
       "text": [
        "\r",
        "  13,156,352 Bytes [41.20%] received. Rate: [ 995 KB/s].  ETA: [18 secs]    \r"
       ]
      },
      {
       "output_type": "stream",
       "stream": "stdout",
       "text": [
        "\r",
        "  13,172,736 Bytes [41.25%] received. Rate: [ 995 KB/s].  ETA: [18 secs]    \r"
       ]
      },
      {
       "output_type": "stream",
       "stream": "stdout",
       "text": [
        "\r",
        "  13,189,120 Bytes [41.30%] received. Rate: [ 996 KB/s].  ETA: [18 secs]    \r"
       ]
      },
      {
       "output_type": "stream",
       "stream": "stdout",
       "text": [
        "\r",
        "  13,205,504 Bytes [41.35%] received. Rate: [ 995 KB/s].  ETA: [18 secs]    \r"
       ]
      },
      {
       "output_type": "stream",
       "stream": "stdout",
       "text": [
        "\r",
        "  13,221,888 Bytes [41.40%] received. Rate: [ 995 KB/s].  ETA: [18 secs]    \r"
       ]
      },
      {
       "output_type": "stream",
       "stream": "stdout",
       "text": [
        "\r",
        "  13,238,272 Bytes [41.46%] received. Rate: [ 996 KB/s].  ETA: [18 secs]    \r"
       ]
      },
      {
       "output_type": "stream",
       "stream": "stdout",
       "text": [
        "\r",
        "  13,254,656 Bytes [41.51%] received. Rate: [ 996 KB/s].  ETA: [18 secs]    \r"
       ]
      },
      {
       "output_type": "stream",
       "stream": "stdout",
       "text": [
        "\r",
        "  13,271,040 Bytes [41.56%] received. Rate: [ 996 KB/s].  ETA: [18 secs]    \r"
       ]
      },
      {
       "output_type": "stream",
       "stream": "stdout",
       "text": [
        "\r",
        "  13,287,424 Bytes [41.61%] received. Rate: [ 996 KB/s].  ETA: [18 secs]    \r"
       ]
      },
      {
       "output_type": "stream",
       "stream": "stdout",
       "text": [
        "\r",
        "  13,303,808 Bytes [41.66%] received. Rate: [ 996 KB/s].  ETA: [18 secs]    \r"
       ]
      },
      {
       "output_type": "stream",
       "stream": "stdout",
       "text": [
        "\r",
        "  13,320,192 Bytes [41.71%] received. Rate: [ 996 KB/s].  ETA: [18 secs]    \r"
       ]
      },
      {
       "output_type": "stream",
       "stream": "stdout",
       "text": [
        "\r",
        "  13,336,576 Bytes [41.76%] received. Rate: [ 996 KB/s].  ETA: [18 secs]    \r"
       ]
      },
      {
       "output_type": "stream",
       "stream": "stdout",
       "text": [
        "\r",
        "  13,352,960 Bytes [41.81%] received. Rate: [ 996 KB/s].  ETA: [18 secs]    \r"
       ]
      },
      {
       "output_type": "stream",
       "stream": "stdout",
       "text": [
        "\r",
        "  13,369,344 Bytes [41.87%] received. Rate: [ 996 KB/s].  ETA: [18 secs]    \r"
       ]
      },
      {
       "output_type": "stream",
       "stream": "stdout",
       "text": [
        "\r",
        "  13,385,728 Bytes [41.92%] received. Rate: [ 996 KB/s].  ETA: [18 secs]    \r"
       ]
      },
      {
       "output_type": "stream",
       "stream": "stdout",
       "text": [
        "\r",
        "  13,402,112 Bytes [41.97%] received. Rate: [ 996 KB/s].  ETA: [18 secs]    \r"
       ]
      },
      {
       "output_type": "stream",
       "stream": "stdout",
       "text": [
        "\r",
        "  13,418,496 Bytes [42.02%] received. Rate: [ 996 KB/s].  ETA: [18 secs]    \r"
       ]
      },
      {
       "output_type": "stream",
       "stream": "stdout",
       "text": [
        "\r",
        "  13,434,880 Bytes [42.07%] received. Rate: [ 996 KB/s].  ETA: [18 secs]    \r"
       ]
      },
      {
       "output_type": "stream",
       "stream": "stdout",
       "text": [
        "\r",
        "  13,451,264 Bytes [42.12%] received. Rate: [ 996 KB/s].  ETA: [18 secs]    \r"
       ]
      },
      {
       "output_type": "stream",
       "stream": "stdout",
       "text": [
        "\r",
        "  13,467,648 Bytes [42.17%] received. Rate: [ 996 KB/s].  ETA: [18 secs]    \r"
       ]
      },
      {
       "output_type": "stream",
       "stream": "stdout",
       "text": [
        "\r",
        "  13,484,032 Bytes [42.22%] received. Rate: [ 997 KB/s].  ETA: [18 secs]    \r"
       ]
      },
      {
       "output_type": "stream",
       "stream": "stdout",
       "text": [
        "\r",
        "  13,500,416 Bytes [42.28%] received. Rate: [ 997 KB/s].  ETA: [18 secs]    \r"
       ]
      },
      {
       "output_type": "stream",
       "stream": "stdout",
       "text": [
        "\r",
        "  13,516,800 Bytes [42.33%] received. Rate: [ 997 KB/s].  ETA: [18 secs]    \r"
       ]
      },
      {
       "output_type": "stream",
       "stream": "stdout",
       "text": [
        "\r",
        "  13,533,184 Bytes [42.38%] received. Rate: [ 997 KB/s].  ETA: [18 secs]    \r"
       ]
      },
      {
       "output_type": "stream",
       "stream": "stdout",
       "text": [
        "\r",
        "  13,549,568 Bytes [42.43%] received. Rate: [ 997 KB/s].  ETA: [18 secs]    \r"
       ]
      },
      {
       "output_type": "stream",
       "stream": "stdout",
       "text": [
        "\r",
        "  13,565,952 Bytes [42.48%] received. Rate: [ 997 KB/s].  ETA: [18 secs]    \r"
       ]
      },
      {
       "output_type": "stream",
       "stream": "stdout",
       "text": [
        "\r",
        "  13,582,336 Bytes [42.53%] received. Rate: [ 997 KB/s].  ETA: [18 secs]    \r"
       ]
      },
      {
       "output_type": "stream",
       "stream": "stdout",
       "text": [
        "\r",
        "  13,598,720 Bytes [42.58%] received. Rate: [ 997 KB/s].  ETA: [18 secs]    \r"
       ]
      },
      {
       "output_type": "stream",
       "stream": "stdout",
       "text": [
        "\r",
        "  13,615,104 Bytes [42.64%] received. Rate: [ 997 KB/s].  ETA: [18 secs]    \r"
       ]
      },
      {
       "output_type": "stream",
       "stream": "stdout",
       "text": [
        "\r",
        "  13,631,488 Bytes [42.69%] received. Rate: [ 997 KB/s].  ETA: [18 secs]    \r"
       ]
      },
      {
       "output_type": "stream",
       "stream": "stdout",
       "text": [
        "\r",
        "  13,647,872 Bytes [42.74%] received. Rate: [ 997 KB/s].  ETA: [18 secs]    \r"
       ]
      },
      {
       "output_type": "stream",
       "stream": "stdout",
       "text": [
        "\r",
        "  13,664,256 Bytes [42.79%] received. Rate: [ 997 KB/s].  ETA: [18 secs]    \r"
       ]
      },
      {
       "output_type": "stream",
       "stream": "stdout",
       "text": [
        "\r",
        "  13,680,640 Bytes [42.84%] received. Rate: [ 998 KB/s].  ETA: [18 secs]    \r"
       ]
      },
      {
       "output_type": "stream",
       "stream": "stdout",
       "text": [
        "\r",
        "  13,697,024 Bytes [42.89%] received. Rate: [ 998 KB/s].  ETA: [18 secs]    \r"
       ]
      },
      {
       "output_type": "stream",
       "stream": "stdout",
       "text": [
        "\r",
        "  13,713,408 Bytes [42.94%] received. Rate: [ 998 KB/s].  ETA: [18 secs]    \r"
       ]
      },
      {
       "output_type": "stream",
       "stream": "stdout",
       "text": [
        "\r",
        "  13,729,792 Bytes [42.99%] received. Rate: [ 998 KB/s].  ETA: [18 secs]    \r"
       ]
      },
      {
       "output_type": "stream",
       "stream": "stdout",
       "text": [
        "\r",
        "  13,746,176 Bytes [43.05%] received. Rate: [ 998 KB/s].  ETA: [18 secs]    \r"
       ]
      },
      {
       "output_type": "stream",
       "stream": "stdout",
       "text": [
        "\r",
        "  13,762,560 Bytes [43.10%] received. Rate: [ 998 KB/s].  ETA: [18 secs]    \r"
       ]
      },
      {
       "output_type": "stream",
       "stream": "stdout",
       "text": [
        "\r",
        "  13,778,944 Bytes [43.15%] received. Rate: [ 998 KB/s].  ETA: [18 secs]    \r"
       ]
      },
      {
       "output_type": "stream",
       "stream": "stdout",
       "text": [
        "\r",
        "  13,795,328 Bytes [43.20%] received. Rate: [ 998 KB/s].  ETA: [18 secs]    \r"
       ]
      },
      {
       "output_type": "stream",
       "stream": "stdout",
       "text": [
        "\r",
        "  13,811,712 Bytes [43.25%] received. Rate: [ 998 KB/s].  ETA: [18 secs]    \r"
       ]
      },
      {
       "output_type": "stream",
       "stream": "stdout",
       "text": [
        "\r",
        "  13,828,096 Bytes [43.30%] received. Rate: [ 998 KB/s].  ETA: [18 secs]    \r"
       ]
      },
      {
       "output_type": "stream",
       "stream": "stdout",
       "text": [
        "\r",
        "  13,844,480 Bytes [43.35%] received. Rate: [ 998 KB/s].  ETA: [18 secs]    \r"
       ]
      },
      {
       "output_type": "stream",
       "stream": "stdout",
       "text": [
        "\r",
        "  13,860,864 Bytes [43.40%] received. Rate: [ 998 KB/s].  ETA: [18 secs]    \r"
       ]
      },
      {
       "output_type": "stream",
       "stream": "stdout",
       "text": [
        "\r",
        "  13,877,248 Bytes [43.46%] received. Rate: [ 998 KB/s].  ETA: [18 secs]    \r"
       ]
      },
      {
       "output_type": "stream",
       "stream": "stdout",
       "text": [
        "\r",
        "  13,893,632 Bytes [43.51%] received. Rate: [ 998 KB/s].  ETA: [18 secs]    \r"
       ]
      },
      {
       "output_type": "stream",
       "stream": "stdout",
       "text": [
        "\r",
        "  13,910,016 Bytes [43.56%] received. Rate: [ 998 KB/s].  ETA: [18 secs]    \r"
       ]
      },
      {
       "output_type": "stream",
       "stream": "stdout",
       "text": [
        "\r",
        "  13,926,400 Bytes [43.61%] received. Rate: [ 998 KB/s].  ETA: [18 secs]    \r"
       ]
      },
      {
       "output_type": "stream",
       "stream": "stdout",
       "text": [
        "\r",
        "  13,942,784 Bytes [43.66%] received. Rate: [ 999 KB/s].  ETA: [18 secs]    \r"
       ]
      },
      {
       "output_type": "stream",
       "stream": "stdout",
       "text": [
        "\r",
        "  13,959,168 Bytes [43.71%] received. Rate: [ 999 KB/s].  ETA: [18 secs]    \r"
       ]
      },
      {
       "output_type": "stream",
       "stream": "stdout",
       "text": [
        "\r",
        "  13,975,552 Bytes [43.76%] received. Rate: [ 999 KB/s].  ETA: [18 secs]    \r"
       ]
      },
      {
       "output_type": "stream",
       "stream": "stdout",
       "text": [
        "\r",
        "  13,991,936 Bytes [43.82%] received. Rate: [ 999 KB/s].  ETA: [18 secs]    \r"
       ]
      },
      {
       "output_type": "stream",
       "stream": "stdout",
       "text": [
        "\r",
        "  14,008,320 Bytes [43.87%] received. Rate: [ 999 KB/s].  ETA: [18 secs]    \r"
       ]
      },
      {
       "output_type": "stream",
       "stream": "stdout",
       "text": [
        "\r",
        "  14,024,704 Bytes [43.92%] received. Rate: [ 999 KB/s].  ETA: [18 secs]    \r"
       ]
      },
      {
       "output_type": "stream",
       "stream": "stdout",
       "text": [
        "\r",
        "  14,041,088 Bytes [43.97%] received. Rate: [ 999 KB/s].  ETA: [17 secs]    \r"
       ]
      },
      {
       "output_type": "stream",
       "stream": "stdout",
       "text": [
        "\r",
        "  14,057,472 Bytes [44.02%] received. Rate: [ 999 KB/s].  ETA: [17 secs]    \r"
       ]
      },
      {
       "output_type": "stream",
       "stream": "stdout",
       "text": [
        "\r",
        "  14,073,856 Bytes [44.07%] received. Rate: [ 999 KB/s].  ETA: [17 secs]    \r"
       ]
      },
      {
       "output_type": "stream",
       "stream": "stdout",
       "text": [
        "\r",
        "  14,090,240 Bytes [44.12%] received. Rate: [ 999 KB/s].  ETA: [17 secs]    \r"
       ]
      },
      {
       "output_type": "stream",
       "stream": "stdout",
       "text": [
        "\r",
        "  14,106,624 Bytes [44.17%] received. Rate: [ 999 KB/s].  ETA: [17 secs]    \r"
       ]
      },
      {
       "output_type": "stream",
       "stream": "stdout",
       "text": [
        "\r",
        "  14,123,008 Bytes [44.23%] received. Rate: [ 999 KB/s].  ETA: [17 secs]    \r"
       ]
      },
      {
       "output_type": "stream",
       "stream": "stdout",
       "text": [
        "\r",
        "  14,139,392 Bytes [44.28%] received. Rate: [ 999 KB/s].  ETA: [17 secs]    \r"
       ]
      },
      {
       "output_type": "stream",
       "stream": "stdout",
       "text": [
        "\r",
        "  14,155,776 Bytes [44.33%] received. Rate: [ 999 KB/s].  ETA: [17 secs]    \r"
       ]
      },
      {
       "output_type": "stream",
       "stream": "stdout",
       "text": [
        "\r",
        "  14,172,160 Bytes [44.38%] received. Rate: [ 999 KB/s].  ETA: [17 secs]    \r"
       ]
      },
      {
       "output_type": "stream",
       "stream": "stdout",
       "text": [
        "\r",
        "  14,188,544 Bytes [44.43%] received. Rate: [1000 KB/s].  ETA: [17 secs]    \r"
       ]
      },
      {
       "output_type": "stream",
       "stream": "stdout",
       "text": [
        "\r",
        "  14,204,928 Bytes [44.48%] received. Rate: [1000 KB/s].  ETA: [17 secs]    \r"
       ]
      },
      {
       "output_type": "stream",
       "stream": "stdout",
       "text": [
        "\r",
        "  14,221,312 Bytes [44.53%] received. Rate: [1000 KB/s].  ETA: [17 secs]    \r"
       ]
      },
      {
       "output_type": "stream",
       "stream": "stdout",
       "text": [
        "\r",
        "  14,237,696 Bytes [44.58%] received. Rate: [1000 KB/s].  ETA: [17 secs]    \r"
       ]
      },
      {
       "output_type": "stream",
       "stream": "stdout",
       "text": [
        "\r",
        "  14,254,080 Bytes [44.64%] received. Rate: [1000 KB/s].  ETA: [17 secs]    \r"
       ]
      },
      {
       "output_type": "stream",
       "stream": "stdout",
       "text": [
        "\r",
        "  14,270,464 Bytes [44.69%] received. Rate: [1000 KB/s].  ETA: [17 secs]    \r"
       ]
      },
      {
       "output_type": "stream",
       "stream": "stdout",
       "text": [
        "\r",
        "  14,286,848 Bytes [44.74%] received. Rate: [1000 KB/s].  ETA: [17 secs]    \r"
       ]
      },
      {
       "output_type": "stream",
       "stream": "stdout",
       "text": [
        "\r",
        "  14,303,232 Bytes [44.79%] received. Rate: [1000 KB/s].  ETA: [17 secs]    \r"
       ]
      },
      {
       "output_type": "stream",
       "stream": "stdout",
       "text": [
        "\r",
        "  14,319,616 Bytes [44.84%] received. Rate: [1000 KB/s].  ETA: [17 secs]    \r"
       ]
      },
      {
       "output_type": "stream",
       "stream": "stdout",
       "text": [
        "\r",
        "  14,336,000 Bytes [44.89%] received. Rate: [1000 KB/s].  ETA: [17 secs]    \r"
       ]
      },
      {
       "output_type": "stream",
       "stream": "stdout",
       "text": [
        "\r",
        "  14,352,384 Bytes [44.94%] received. Rate: [1000 KB/s].  ETA: [17 secs]    \r"
       ]
      },
      {
       "output_type": "stream",
       "stream": "stdout",
       "text": [
        "\r",
        "  14,368,768 Bytes [45.00%] received. Rate: [1000 KB/s].  ETA: [17 secs]    \r"
       ]
      },
      {
       "output_type": "stream",
       "stream": "stdout",
       "text": [
        "\r",
        "  14,385,152 Bytes [45.05%] received. Rate: [1000 KB/s].  ETA: [17 secs]    \r"
       ]
      },
      {
       "output_type": "stream",
       "stream": "stdout",
       "text": [
        "\r",
        "  14,401,536 Bytes [45.10%] received. Rate: [1000 KB/s].  ETA: [17 secs]    \r"
       ]
      },
      {
       "output_type": "stream",
       "stream": "stdout",
       "text": [
        "\r",
        "  14,417,920 Bytes [45.15%] received. Rate: [1001 KB/s].  ETA: [17 secs]    \r"
       ]
      },
      {
       "output_type": "stream",
       "stream": "stdout",
       "text": [
        "\r",
        "  14,434,304 Bytes [45.20%] received. Rate: [1000 KB/s].  ETA: [17 secs]    \r"
       ]
      },
      {
       "output_type": "stream",
       "stream": "stdout",
       "text": [
        "\r",
        "  14,450,688 Bytes [45.25%] received. Rate: [1000 KB/s].  ETA: [17 secs]    \r"
       ]
      },
      {
       "output_type": "stream",
       "stream": "stdout",
       "text": [
        "\r",
        "  14,467,072 Bytes [45.30%] received. Rate: [1001 KB/s].  ETA: [17 secs]    \r"
       ]
      },
      {
       "output_type": "stream",
       "stream": "stdout",
       "text": [
        "\r",
        "  14,483,456 Bytes [45.35%] received. Rate: [1001 KB/s].  ETA: [17 secs]    \r"
       ]
      },
      {
       "output_type": "stream",
       "stream": "stdout",
       "text": [
        "\r",
        "  14,499,840 Bytes [45.41%] received. Rate: [1001 KB/s].  ETA: [17 secs]    \r"
       ]
      },
      {
       "output_type": "stream",
       "stream": "stdout",
       "text": [
        "\r",
        "  14,516,224 Bytes [45.46%] received. Rate: [1001 KB/s].  ETA: [17 secs]    \r"
       ]
      },
      {
       "output_type": "stream",
       "stream": "stdout",
       "text": [
        "\r",
        "  14,532,608 Bytes [45.51%] received. Rate: [1001 KB/s].  ETA: [17 secs]    \r"
       ]
      },
      {
       "output_type": "stream",
       "stream": "stdout",
       "text": [
        "\r",
        "  14,548,992 Bytes [45.56%] received. Rate: [1001 KB/s].  ETA: [17 secs]    \r"
       ]
      },
      {
       "output_type": "stream",
       "stream": "stdout",
       "text": [
        "\r",
        "  14,565,376 Bytes [45.61%] received. Rate: [1001 KB/s].  ETA: [17 secs]    \r"
       ]
      },
      {
       "output_type": "stream",
       "stream": "stdout",
       "text": [
        "\r",
        "  14,581,760 Bytes [45.66%] received. Rate: [1001 KB/s].  ETA: [17 secs]    \r"
       ]
      },
      {
       "output_type": "stream",
       "stream": "stdout",
       "text": [
        "\r",
        "  14,598,144 Bytes [45.71%] received. Rate: [1001 KB/s].  ETA: [17 secs]    \r"
       ]
      },
      {
       "output_type": "stream",
       "stream": "stdout",
       "text": [
        "\r",
        "  14,614,528 Bytes [45.76%] received. Rate: [1001 KB/s].  ETA: [17 secs]    \r"
       ]
      },
      {
       "output_type": "stream",
       "stream": "stdout",
       "text": [
        "\r",
        "  14,630,912 Bytes [45.82%] received. Rate: [1001 KB/s].  ETA: [17 secs]    \r"
       ]
      },
      {
       "output_type": "stream",
       "stream": "stdout",
       "text": [
        "\r",
        "  14,647,296 Bytes [45.87%] received. Rate: [1001 KB/s].  ETA: [17 secs]    \r"
       ]
      },
      {
       "output_type": "stream",
       "stream": "stdout",
       "text": [
        "\r",
        "  14,663,680 Bytes [45.92%] received. Rate: [1001 KB/s].  ETA: [17 secs]    \r"
       ]
      },
      {
       "output_type": "stream",
       "stream": "stdout",
       "text": [
        "\r",
        "  14,680,064 Bytes [45.97%] received. Rate: [1001 KB/s].  ETA: [17 secs]    \r"
       ]
      },
      {
       "output_type": "stream",
       "stream": "stdout",
       "text": [
        "\r",
        "  14,696,448 Bytes [46.02%] received. Rate: [1001 KB/s].  ETA: [17 secs]    \r"
       ]
      },
      {
       "output_type": "stream",
       "stream": "stdout",
       "text": [
        "\r",
        "  14,712,832 Bytes [46.07%] received. Rate: [1001 KB/s].  ETA: [17 secs]    \r"
       ]
      },
      {
       "output_type": "stream",
       "stream": "stdout",
       "text": [
        "\r",
        "  14,729,216 Bytes [46.12%] received. Rate: [1002 KB/s].  ETA: [17 secs]    \r"
       ]
      },
      {
       "output_type": "stream",
       "stream": "stdout",
       "text": [
        "\r",
        "  14,745,600 Bytes [46.18%] received. Rate: [1001 KB/s].  ETA: [17 secs]    \r"
       ]
      },
      {
       "output_type": "stream",
       "stream": "stdout",
       "text": [
        "\r",
        "  14,761,984 Bytes [46.23%] received. Rate: [1002 KB/s].  ETA: [17 secs]    \r"
       ]
      },
      {
       "output_type": "stream",
       "stream": "stdout",
       "text": [
        "\r",
        "  14,778,368 Bytes [46.28%] received. Rate: [1002 KB/s].  ETA: [17 secs]    \r"
       ]
      },
      {
       "output_type": "stream",
       "stream": "stdout",
       "text": [
        "\r",
        "  14,794,752 Bytes [46.33%] received. Rate: [1002 KB/s].  ETA: [17 secs]    \r"
       ]
      },
      {
       "output_type": "stream",
       "stream": "stdout",
       "text": [
        "\r",
        "  14,811,136 Bytes [46.38%] received. Rate: [1002 KB/s].  ETA: [17 secs]    \r"
       ]
      },
      {
       "output_type": "stream",
       "stream": "stdout",
       "text": [
        "\r",
        "  14,827,520 Bytes [46.43%] received. Rate: [1002 KB/s].  ETA: [17 secs]    \r"
       ]
      },
      {
       "output_type": "stream",
       "stream": "stdout",
       "text": [
        "\r",
        "  14,843,904 Bytes [46.48%] received. Rate: [1002 KB/s].  ETA: [17 secs]    \r"
       ]
      },
      {
       "output_type": "stream",
       "stream": "stdout",
       "text": [
        "\r",
        "  14,860,288 Bytes [46.53%] received. Rate: [1002 KB/s].  ETA: [17 secs]    \r"
       ]
      },
      {
       "output_type": "stream",
       "stream": "stdout",
       "text": [
        "\r",
        "  14,876,672 Bytes [46.59%] received. Rate: [1002 KB/s].  ETA: [17 secs]    \r"
       ]
      },
      {
       "output_type": "stream",
       "stream": "stdout",
       "text": [
        "\r",
        "  14,893,056 Bytes [46.64%] received. Rate: [1002 KB/s].  ETA: [17 secs]    \r"
       ]
      },
      {
       "output_type": "stream",
       "stream": "stdout",
       "text": [
        "\r",
        "  14,909,440 Bytes [46.69%] received. Rate: [1002 KB/s].  ETA: [17 secs]    \r"
       ]
      },
      {
       "output_type": "stream",
       "stream": "stdout",
       "text": [
        "\r",
        "  14,925,824 Bytes [46.74%] received. Rate: [1002 KB/s].  ETA: [17 secs]    \r"
       ]
      },
      {
       "output_type": "stream",
       "stream": "stdout",
       "text": [
        "\r",
        "  14,942,208 Bytes [46.79%] received. Rate: [1002 KB/s].  ETA: [17 secs]    \r"
       ]
      },
      {
       "output_type": "stream",
       "stream": "stdout",
       "text": [
        "\r",
        "  14,958,592 Bytes [46.84%] received. Rate: [1002 KB/s].  ETA: [17 secs]    \r"
       ]
      },
      {
       "output_type": "stream",
       "stream": "stdout",
       "text": [
        "\r",
        "  14,974,976 Bytes [46.89%] received. Rate: [1002 KB/s].  ETA: [17 secs]    \r"
       ]
      },
      {
       "output_type": "stream",
       "stream": "stdout",
       "text": [
        "\r",
        "  14,991,360 Bytes [46.94%] received. Rate: [1002 KB/s].  ETA: [17 secs]    \r"
       ]
      },
      {
       "output_type": "stream",
       "stream": "stdout",
       "text": [
        "\r",
        "  15,007,744 Bytes [47.00%] received. Rate: [1002 KB/s].  ETA: [16 secs]    \r"
       ]
      },
      {
       "output_type": "stream",
       "stream": "stdout",
       "text": [
        "\r",
        "  15,024,128 Bytes [47.05%] received. Rate: [1003 KB/s].  ETA: [16 secs]    \r"
       ]
      },
      {
       "output_type": "stream",
       "stream": "stdout",
       "text": [
        "\r",
        "  15,040,512 Bytes [47.10%] received. Rate: [1003 KB/s].  ETA: [16 secs]    \r"
       ]
      },
      {
       "output_type": "stream",
       "stream": "stdout",
       "text": [
        "\r",
        "  15,056,896 Bytes [47.15%] received. Rate: [1003 KB/s].  ETA: [16 secs]    \r"
       ]
      },
      {
       "output_type": "stream",
       "stream": "stdout",
       "text": [
        "\r",
        "  15,073,280 Bytes [47.20%] received. Rate: [1003 KB/s].  ETA: [16 secs]    \r"
       ]
      },
      {
       "output_type": "stream",
       "stream": "stdout",
       "text": [
        "\r",
        "  15,089,664 Bytes [47.25%] received. Rate: [1003 KB/s].  ETA: [16 secs]    \r"
       ]
      },
      {
       "output_type": "stream",
       "stream": "stdout",
       "text": [
        "\r",
        "  15,106,048 Bytes [47.30%] received. Rate: [1003 KB/s].  ETA: [16 secs]    \r"
       ]
      },
      {
       "output_type": "stream",
       "stream": "stdout",
       "text": [
        "\r",
        "  15,122,432 Bytes [47.36%] received. Rate: [1003 KB/s].  ETA: [16 secs]    \r"
       ]
      },
      {
       "output_type": "stream",
       "stream": "stdout",
       "text": [
        "\r",
        "  15,138,816 Bytes [47.41%] received. Rate: [1003 KB/s].  ETA: [16 secs]    \r"
       ]
      },
      {
       "output_type": "stream",
       "stream": "stdout",
       "text": [
        "\r",
        "  15,155,200 Bytes [47.46%] received. Rate: [1003 KB/s].  ETA: [16 secs]    \r"
       ]
      },
      {
       "output_type": "stream",
       "stream": "stdout",
       "text": [
        "\r",
        "  15,171,584 Bytes [47.51%] received. Rate: [1003 KB/s].  ETA: [16 secs]    \r"
       ]
      },
      {
       "output_type": "stream",
       "stream": "stdout",
       "text": [
        "\r",
        "  15,187,968 Bytes [47.56%] received. Rate: [1001 KB/s].  ETA: [16 secs]    \r"
       ]
      },
      {
       "output_type": "stream",
       "stream": "stdout",
       "text": [
        "\r",
        "  15,204,352 Bytes [47.61%] received. Rate: [1001 KB/s].  ETA: [16 secs]    \r"
       ]
      },
      {
       "output_type": "stream",
       "stream": "stdout",
       "text": [
        "\r",
        "  15,220,736 Bytes [47.66%] received. Rate: [1001 KB/s].  ETA: [16 secs]    \r"
       ]
      },
      {
       "output_type": "stream",
       "stream": "stdout",
       "text": [
        "\r",
        "  15,237,120 Bytes [47.71%] received. Rate: [ 997 KB/s].  ETA: [16 secs]    \r"
       ]
      },
      {
       "output_type": "stream",
       "stream": "stdout",
       "text": [
        "\r",
        "  15,253,504 Bytes [47.77%] received. Rate: [ 997 KB/s].  ETA: [16 secs]    \r"
       ]
      },
      {
       "output_type": "stream",
       "stream": "stdout",
       "text": [
        "\r",
        "  15,269,888 Bytes [47.82%] received. Rate: [ 998 KB/s].  ETA: [16 secs]    \r"
       ]
      },
      {
       "output_type": "stream",
       "stream": "stdout",
       "text": [
        "\r",
        "  15,286,272 Bytes [47.87%] received. Rate: [ 999 KB/s].  ETA: [16 secs]    \r"
       ]
      },
      {
       "output_type": "stream",
       "stream": "stdout",
       "text": [
        "\r",
        "  15,302,656 Bytes [47.92%] received. Rate: [1000 KB/s].  ETA: [16 secs]    \r"
       ]
      },
      {
       "output_type": "stream",
       "stream": "stdout",
       "text": [
        "\r",
        "  15,319,040 Bytes [47.97%] received. Rate: [1001 KB/s].  ETA: [16 secs]    \r"
       ]
      },
      {
       "output_type": "stream",
       "stream": "stdout",
       "text": [
        "\r",
        "  15,335,424 Bytes [48.02%] received. Rate: [ 993 KB/s].  ETA: [16 secs]    \r"
       ]
      },
      {
       "output_type": "stream",
       "stream": "stdout",
       "text": [
        "\r",
        "  15,351,808 Bytes [48.07%] received. Rate: [ 994 KB/s].  ETA: [16 secs]    \r"
       ]
      },
      {
       "output_type": "stream",
       "stream": "stdout",
       "text": [
        "\r",
        "  15,368,192 Bytes [48.12%] received. Rate: [ 995 KB/s].  ETA: [16 secs]    \r"
       ]
      },
      {
       "output_type": "stream",
       "stream": "stdout",
       "text": [
        "\r",
        "  15,384,576 Bytes [48.18%] received. Rate: [ 996 KB/s].  ETA: [16 secs]    \r"
       ]
      },
      {
       "output_type": "stream",
       "stream": "stdout",
       "text": [
        "\r",
        "  15,400,960 Bytes [48.23%] received. Rate: [ 992 KB/s].  ETA: [16 secs]    \r"
       ]
      },
      {
       "output_type": "stream",
       "stream": "stdout",
       "text": [
        "\r",
        "  15,417,344 Bytes [48.28%] received. Rate: [ 992 KB/s].  ETA: [16 secs]    \r"
       ]
      },
      {
       "output_type": "stream",
       "stream": "stdout",
       "text": [
        "\r",
        "  15,433,728 Bytes [48.33%] received. Rate: [ 993 KB/s].  ETA: [16 secs]    \r"
       ]
      },
      {
       "output_type": "stream",
       "stream": "stdout",
       "text": [
        "\r",
        "  15,450,112 Bytes [48.38%] received. Rate: [ 992 KB/s].  ETA: [16 secs]    \r"
       ]
      },
      {
       "output_type": "stream",
       "stream": "stdout",
       "text": [
        "\r",
        "  15,466,496 Bytes [48.43%] received. Rate: [ 984 KB/s].  ETA: [16 secs]    \r"
       ]
      },
      {
       "output_type": "stream",
       "stream": "stdout",
       "text": [
        "\r",
        "  15,482,880 Bytes [48.48%] received. Rate: [ 985 KB/s].  ETA: [16 secs]    \r"
       ]
      },
      {
       "output_type": "stream",
       "stream": "stdout",
       "text": [
        "\r",
        "  15,499,264 Bytes [48.54%] received. Rate: [ 986 KB/s].  ETA: [16 secs]    \r"
       ]
      },
      {
       "output_type": "stream",
       "stream": "stdout",
       "text": [
        "\r",
        "  15,515,648 Bytes [48.59%] received. Rate: [ 987 KB/s].  ETA: [16 secs]    \r"
       ]
      },
      {
       "output_type": "stream",
       "stream": "stdout",
       "text": [
        "\r",
        "  15,532,032 Bytes [48.64%] received. Rate: [ 987 KB/s].  ETA: [16 secs]    \r"
       ]
      },
      {
       "output_type": "stream",
       "stream": "stdout",
       "text": [
        "\r",
        "  15,548,416 Bytes [48.69%] received. Rate: [ 986 KB/s].  ETA: [16 secs]    \r"
       ]
      },
      {
       "output_type": "stream",
       "stream": "stdout",
       "text": [
        "\r",
        "  15,564,800 Bytes [48.74%] received. Rate: [ 986 KB/s].  ETA: [16 secs]    \r"
       ]
      },
      {
       "output_type": "stream",
       "stream": "stdout",
       "text": [
        "\r",
        "  15,581,184 Bytes [48.79%] received. Rate: [ 986 KB/s].  ETA: [16 secs]    \r"
       ]
      },
      {
       "output_type": "stream",
       "stream": "stdout",
       "text": [
        "\r",
        "  15,597,568 Bytes [48.84%] received. Rate: [ 985 KB/s].  ETA: [16 secs]    \r"
       ]
      },
      {
       "output_type": "stream",
       "stream": "stdout",
       "text": [
        "\r",
        "  15,613,952 Bytes [48.89%] received. Rate: [ 955 KB/s].  ETA: [17 secs]    \r"
       ]
      },
      {
       "output_type": "stream",
       "stream": "stdout",
       "text": [
        "\r",
        "  15,630,336 Bytes [48.95%] received. Rate: [ 954 KB/s].  ETA: [17 secs]    \r"
       ]
      },
      {
       "output_type": "stream",
       "stream": "stdout",
       "text": [
        "\r",
        "  15,646,720 Bytes [49.00%] received. Rate: [ 954 KB/s].  ETA: [17 secs]    \r"
       ]
      },
      {
       "output_type": "stream",
       "stream": "stdout",
       "text": [
        "\r",
        "  15,663,104 Bytes [49.05%] received. Rate: [ 953 KB/s].  ETA: [17 secs]    \r"
       ]
      },
      {
       "output_type": "stream",
       "stream": "stdout",
       "text": [
        "\r",
        "  15,679,488 Bytes [49.10%] received. Rate: [ 953 KB/s].  ETA: [17 secs]    \r"
       ]
      },
      {
       "output_type": "stream",
       "stream": "stdout",
       "text": [
        "\r",
        "  15,695,872 Bytes [49.15%] received. Rate: [ 953 KB/s].  ETA: [17 secs]    \r"
       ]
      },
      {
       "output_type": "stream",
       "stream": "stdout",
       "text": [
        "\r",
        "  15,712,256 Bytes [49.20%] received. Rate: [ 953 KB/s].  ETA: [17 secs]    \r"
       ]
      },
      {
       "output_type": "stream",
       "stream": "stdout",
       "text": [
        "\r",
        "  15,728,640 Bytes [49.25%] received. Rate: [ 941 KB/s].  ETA: [17 secs]    \r"
       ]
      },
      {
       "output_type": "stream",
       "stream": "stdout",
       "text": [
        "\r",
        "  15,745,024 Bytes [49.30%] received. Rate: [ 942 KB/s].  ETA: [17 secs]    \r"
       ]
      },
      {
       "output_type": "stream",
       "stream": "stdout",
       "text": [
        "\r",
        "  15,761,408 Bytes [49.36%] received. Rate: [ 942 KB/s].  ETA: [17 secs]    \r"
       ]
      },
      {
       "output_type": "stream",
       "stream": "stdout",
       "text": [
        "\r",
        "  15,777,792 Bytes [49.41%] received. Rate: [ 941 KB/s].  ETA: [17 secs]    \r"
       ]
      },
      {
       "output_type": "stream",
       "stream": "stdout",
       "text": [
        "\r",
        "  15,794,176 Bytes [49.46%] received. Rate: [ 941 KB/s].  ETA: [17 secs]    \r"
       ]
      },
      {
       "output_type": "stream",
       "stream": "stdout",
       "text": [
        "\r",
        "  15,810,560 Bytes [49.51%] received. Rate: [ 940 KB/s].  ETA: [17 secs]    \r"
       ]
      },
      {
       "output_type": "stream",
       "stream": "stdout",
       "text": [
        "\r",
        "  15,826,944 Bytes [49.56%] received. Rate: [ 930 KB/s].  ETA: [17 secs]    \r"
       ]
      },
      {
       "output_type": "stream",
       "stream": "stdout",
       "text": [
        "\r",
        "  15,843,328 Bytes [49.61%] received. Rate: [ 930 KB/s].  ETA: [17 secs]    \r"
       ]
      },
      {
       "output_type": "stream",
       "stream": "stdout",
       "text": [
        "\r",
        "  15,859,712 Bytes [49.66%] received. Rate: [ 929 KB/s].  ETA: [17 secs]    \r"
       ]
      },
      {
       "output_type": "stream",
       "stream": "stdout",
       "text": [
        "\r",
        "  15,876,096 Bytes [49.72%] received. Rate: [ 928 KB/s].  ETA: [17 secs]    \r"
       ]
      },
      {
       "output_type": "stream",
       "stream": "stdout",
       "text": [
        "\r",
        "  15,892,480 Bytes [49.77%] received. Rate: [ 927 KB/s].  ETA: [17 secs]    \r"
       ]
      },
      {
       "output_type": "stream",
       "stream": "stdout",
       "text": [
        "\r",
        "  15,908,864 Bytes [49.82%] received. Rate: [ 926 KB/s].  ETA: [17 secs]    \r"
       ]
      },
      {
       "output_type": "stream",
       "stream": "stdout",
       "text": [
        "\r",
        "  15,925,248 Bytes [49.87%] received. Rate: [ 925 KB/s].  ETA: [17 secs]    \r"
       ]
      },
      {
       "output_type": "stream",
       "stream": "stdout",
       "text": [
        "\r",
        "  15,941,632 Bytes [49.92%] received. Rate: [ 925 KB/s].  ETA: [17 secs]    \r"
       ]
      },
      {
       "output_type": "stream",
       "stream": "stdout",
       "text": [
        "\r",
        "  15,958,016 Bytes [49.97%] received. Rate: [ 924 KB/s].  ETA: [17 secs]    \r"
       ]
      },
      {
       "output_type": "stream",
       "stream": "stdout",
       "text": [
        "\r",
        "  15,974,400 Bytes [50.02%] received. Rate: [ 923 KB/s].  ETA: [17 secs]    \r"
       ]
      },
      {
       "output_type": "stream",
       "stream": "stdout",
       "text": [
        "\r",
        "  15,990,784 Bytes [50.07%] received. Rate: [ 923 KB/s].  ETA: [17 secs]    \r"
       ]
      },
      {
       "output_type": "stream",
       "stream": "stdout",
       "text": [
        "\r",
        "  16,007,168 Bytes [50.13%] received. Rate: [ 922 KB/s].  ETA: [17 secs]    \r"
       ]
      },
      {
       "output_type": "stream",
       "stream": "stdout",
       "text": [
        "\r",
        "  16,023,552 Bytes [50.18%] received. Rate: [ 921 KB/s].  ETA: [17 secs]    \r"
       ]
      },
      {
       "output_type": "stream",
       "stream": "stdout",
       "text": [
        "\r",
        "  16,039,936 Bytes [50.23%] received. Rate: [ 920 KB/s].  ETA: [17 secs]    \r"
       ]
      },
      {
       "output_type": "stream",
       "stream": "stdout",
       "text": [
        "\r",
        "  16,056,320 Bytes [50.28%] received. Rate: [ 919 KB/s].  ETA: [17 secs]    \r"
       ]
      },
      {
       "output_type": "stream",
       "stream": "stdout",
       "text": [
        "\r",
        "  16,072,704 Bytes [50.33%] received. Rate: [ 919 KB/s].  ETA: [17 secs]    \r"
       ]
      },
      {
       "output_type": "stream",
       "stream": "stdout",
       "text": [
        "\r",
        "  16,089,088 Bytes [50.38%] received. Rate: [ 919 KB/s].  ETA: [17 secs]    \r"
       ]
      },
      {
       "output_type": "stream",
       "stream": "stdout",
       "text": [
        "\r",
        "  16,105,472 Bytes [50.43%] received. Rate: [ 918 KB/s].  ETA: [17 secs]    \r"
       ]
      },
      {
       "output_type": "stream",
       "stream": "stdout",
       "text": [
        "\r",
        "  16,121,856 Bytes [50.48%] received. Rate: [ 917 KB/s].  ETA: [17 secs]    \r"
       ]
      },
      {
       "output_type": "stream",
       "stream": "stdout",
       "text": [
        "\r",
        "  16,138,240 Bytes [50.54%] received. Rate: [ 917 KB/s].  ETA: [17 secs]    \r"
       ]
      },
      {
       "output_type": "stream",
       "stream": "stdout",
       "text": [
        "\r",
        "  16,154,624 Bytes [50.59%] received. Rate: [ 916 KB/s].  ETA: [17 secs]    \r"
       ]
      },
      {
       "output_type": "stream",
       "stream": "stdout",
       "text": [
        "\r",
        "  16,171,008 Bytes [50.64%] received. Rate: [ 916 KB/s].  ETA: [17 secs]    \r"
       ]
      },
      {
       "output_type": "stream",
       "stream": "stdout",
       "text": [
        "\r",
        "  16,187,392 Bytes [50.69%] received. Rate: [ 915 KB/s].  ETA: [17 secs]    \r"
       ]
      },
      {
       "output_type": "stream",
       "stream": "stdout",
       "text": [
        "\r",
        "  16,203,776 Bytes [50.74%] received. Rate: [ 915 KB/s].  ETA: [17 secs]    \r"
       ]
      },
      {
       "output_type": "stream",
       "stream": "stdout",
       "text": [
        "\r",
        "  16,220,160 Bytes [50.79%] received. Rate: [ 915 KB/s].  ETA: [17 secs]    \r"
       ]
      },
      {
       "output_type": "stream",
       "stream": "stdout",
       "text": [
        "\r",
        "  16,236,544 Bytes [50.84%] received. Rate: [ 914 KB/s].  ETA: [17 secs]    \r"
       ]
      },
      {
       "output_type": "stream",
       "stream": "stdout",
       "text": [
        "\r",
        "  16,252,928 Bytes [50.90%] received. Rate: [ 914 KB/s].  ETA: [17 secs]    \r"
       ]
      },
      {
       "output_type": "stream",
       "stream": "stdout",
       "text": [
        "\r",
        "  16,269,312 Bytes [50.95%] received. Rate: [ 913 KB/s].  ETA: [17 secs]    \r"
       ]
      },
      {
       "output_type": "stream",
       "stream": "stdout",
       "text": [
        "\r",
        "  16,285,696 Bytes [51.00%] received. Rate: [ 913 KB/s].  ETA: [17 secs]    \r"
       ]
      },
      {
       "output_type": "stream",
       "stream": "stdout",
       "text": [
        "\r",
        "  16,302,080 Bytes [51.05%] received. Rate: [ 913 KB/s].  ETA: [17 secs]    \r"
       ]
      },
      {
       "output_type": "stream",
       "stream": "stdout",
       "text": [
        "\r",
        "  16,318,464 Bytes [51.10%] received. Rate: [ 913 KB/s].  ETA: [17 secs]    \r"
       ]
      },
      {
       "output_type": "stream",
       "stream": "stdout",
       "text": [
        "\r",
        "  16,334,848 Bytes [51.15%] received. Rate: [ 912 KB/s].  ETA: [17 secs]    \r"
       ]
      },
      {
       "output_type": "stream",
       "stream": "stdout",
       "text": [
        "\r",
        "  16,351,232 Bytes [51.20%] received. Rate: [ 912 KB/s].  ETA: [17 secs]    \r"
       ]
      },
      {
       "output_type": "stream",
       "stream": "stdout",
       "text": [
        "\r",
        "  16,367,616 Bytes [51.25%] received. Rate: [ 912 KB/s].  ETA: [17 secs]    \r"
       ]
      },
      {
       "output_type": "stream",
       "stream": "stdout",
       "text": [
        "\r",
        "  16,384,000 Bytes [51.31%] received. Rate: [ 911 KB/s].  ETA: [17 secs]    \r"
       ]
      },
      {
       "output_type": "stream",
       "stream": "stdout",
       "text": [
        "\r",
        "  16,400,384 Bytes [51.36%] received. Rate: [ 911 KB/s].  ETA: [17 secs]    \r"
       ]
      },
      {
       "output_type": "stream",
       "stream": "stdout",
       "text": [
        "\r",
        "  16,416,768 Bytes [51.41%] received. Rate: [ 911 KB/s].  ETA: [17 secs]    \r"
       ]
      },
      {
       "output_type": "stream",
       "stream": "stdout",
       "text": [
        "\r",
        "  16,433,152 Bytes [51.46%] received. Rate: [ 911 KB/s].  ETA: [17 secs]    \r"
       ]
      },
      {
       "output_type": "stream",
       "stream": "stdout",
       "text": [
        "\r",
        "  16,449,536 Bytes [51.51%] received. Rate: [ 910 KB/s].  ETA: [17 secs]    \r"
       ]
      },
      {
       "output_type": "stream",
       "stream": "stdout",
       "text": [
        "\r",
        "  16,465,920 Bytes [51.56%] received. Rate: [ 910 KB/s].  ETA: [17 secs]    \r"
       ]
      },
      {
       "output_type": "stream",
       "stream": "stdout",
       "text": [
        "\r",
        "  16,482,304 Bytes [51.61%] received. Rate: [ 910 KB/s].  ETA: [17 secs]    \r"
       ]
      },
      {
       "output_type": "stream",
       "stream": "stdout",
       "text": [
        "\r",
        "  16,498,688 Bytes [51.67%] received. Rate: [ 910 KB/s].  ETA: [17 secs]    \r"
       ]
      },
      {
       "output_type": "stream",
       "stream": "stdout",
       "text": [
        "\r",
        "  16,515,072 Bytes [51.72%] received. Rate: [ 910 KB/s].  ETA: [17 secs]    \r"
       ]
      },
      {
       "output_type": "stream",
       "stream": "stdout",
       "text": [
        "\r",
        "  16,531,456 Bytes [51.77%] received. Rate: [ 909 KB/s].  ETA: [17 secs]    \r"
       ]
      },
      {
       "output_type": "stream",
       "stream": "stdout",
       "text": [
        "\r",
        "  16,547,840 Bytes [51.82%] received. Rate: [ 909 KB/s].  ETA: [17 secs]    \r"
       ]
      },
      {
       "output_type": "stream",
       "stream": "stdout",
       "text": [
        "\r",
        "  16,564,224 Bytes [51.87%] received. Rate: [ 909 KB/s].  ETA: [17 secs]    \r"
       ]
      },
      {
       "output_type": "stream",
       "stream": "stdout",
       "text": [
        "\r",
        "  16,580,608 Bytes [51.92%] received. Rate: [ 909 KB/s].  ETA: [16 secs]    \r"
       ]
      },
      {
       "output_type": "stream",
       "stream": "stdout",
       "text": [
        "\r",
        "  16,596,992 Bytes [51.97%] received. Rate: [ 908 KB/s].  ETA: [16 secs]    \r"
       ]
      },
      {
       "output_type": "stream",
       "stream": "stdout",
       "text": [
        "\r",
        "  16,613,376 Bytes [52.02%] received. Rate: [ 909 KB/s].  ETA: [16 secs]    \r"
       ]
      },
      {
       "output_type": "stream",
       "stream": "stdout",
       "text": [
        "\r",
        "  16,629,760 Bytes [52.08%] received. Rate: [ 908 KB/s].  ETA: [16 secs]    \r"
       ]
      },
      {
       "output_type": "stream",
       "stream": "stdout",
       "text": [
        "\r",
        "  16,646,144 Bytes [52.13%] received. Rate: [ 908 KB/s].  ETA: [16 secs]    \r"
       ]
      },
      {
       "output_type": "stream",
       "stream": "stdout",
       "text": [
        "\r",
        "  16,662,528 Bytes [52.18%] received. Rate: [ 908 KB/s].  ETA: [16 secs]    \r"
       ]
      },
      {
       "output_type": "stream",
       "stream": "stdout",
       "text": [
        "\r",
        "  16,678,912 Bytes [52.23%] received. Rate: [ 908 KB/s].  ETA: [16 secs]    \r"
       ]
      },
      {
       "output_type": "stream",
       "stream": "stdout",
       "text": [
        "\r",
        "  16,695,296 Bytes [52.28%] received. Rate: [ 907 KB/s].  ETA: [16 secs]    \r"
       ]
      },
      {
       "output_type": "stream",
       "stream": "stdout",
       "text": [
        "\r",
        "  16,711,680 Bytes [52.33%] received. Rate: [ 908 KB/s].  ETA: [16 secs]    \r"
       ]
      },
      {
       "output_type": "stream",
       "stream": "stdout",
       "text": [
        "\r",
        "  16,728,064 Bytes [52.38%] received. Rate: [ 907 KB/s].  ETA: [16 secs]    \r"
       ]
      },
      {
       "output_type": "stream",
       "stream": "stdout",
       "text": [
        "\r",
        "  16,744,448 Bytes [52.43%] received. Rate: [ 907 KB/s].  ETA: [16 secs]    \r"
       ]
      },
      {
       "output_type": "stream",
       "stream": "stdout",
       "text": [
        "\r",
        "  16,760,832 Bytes [52.49%] received. Rate: [ 907 KB/s].  ETA: [16 secs]    \r"
       ]
      },
      {
       "output_type": "stream",
       "stream": "stdout",
       "text": [
        "\r",
        "  16,777,216 Bytes [52.54%] received. Rate: [ 907 KB/s].  ETA: [16 secs]    \r"
       ]
      },
      {
       "output_type": "stream",
       "stream": "stdout",
       "text": [
        "\r",
        "  16,793,600 Bytes [52.59%] received. Rate: [ 907 KB/s].  ETA: [16 secs]    \r"
       ]
      },
      {
       "output_type": "stream",
       "stream": "stdout",
       "text": [
        "\r",
        "  16,809,984 Bytes [52.64%] received. Rate: [ 907 KB/s].  ETA: [16 secs]    \r"
       ]
      },
      {
       "output_type": "stream",
       "stream": "stdout",
       "text": [
        "\r",
        "  16,826,368 Bytes [52.69%] received. Rate: [ 907 KB/s].  ETA: [16 secs]    \r"
       ]
      },
      {
       "output_type": "stream",
       "stream": "stdout",
       "text": [
        "\r",
        "  16,842,752 Bytes [52.74%] received. Rate: [ 907 KB/s].  ETA: [16 secs]    \r"
       ]
      },
      {
       "output_type": "stream",
       "stream": "stdout",
       "text": [
        "\r",
        "  16,859,136 Bytes [52.79%] received. Rate: [ 906 KB/s].  ETA: [16 secs]    \r"
       ]
      },
      {
       "output_type": "stream",
       "stream": "stdout",
       "text": [
        "\r",
        "  16,875,520 Bytes [52.85%] received. Rate: [ 906 KB/s].  ETA: [16 secs]    \r"
       ]
      },
      {
       "output_type": "stream",
       "stream": "stdout",
       "text": [
        "\r",
        "  16,891,904 Bytes [52.90%] received. Rate: [ 906 KB/s].  ETA: [16 secs]    \r"
       ]
      },
      {
       "output_type": "stream",
       "stream": "stdout",
       "text": [
        "\r",
        "  16,908,288 Bytes [52.95%] received. Rate: [ 906 KB/s].  ETA: [16 secs]    \r"
       ]
      },
      {
       "output_type": "stream",
       "stream": "stdout",
       "text": [
        "\r",
        "  16,924,672 Bytes [53.00%] received. Rate: [ 906 KB/s].  ETA: [16 secs]    \r"
       ]
      },
      {
       "output_type": "stream",
       "stream": "stdout",
       "text": [
        "\r",
        "  16,941,056 Bytes [53.05%] received. Rate: [ 906 KB/s].  ETA: [16 secs]    \r"
       ]
      },
      {
       "output_type": "stream",
       "stream": "stdout",
       "text": [
        "\r",
        "  16,957,440 Bytes [53.10%] received. Rate: [ 906 KB/s].  ETA: [16 secs]    \r"
       ]
      },
      {
       "output_type": "stream",
       "stream": "stdout",
       "text": [
        "\r",
        "  16,973,824 Bytes [53.15%] received. Rate: [ 906 KB/s].  ETA: [16 secs]    \r"
       ]
      },
      {
       "output_type": "stream",
       "stream": "stdout",
       "text": [
        "\r",
        "  16,990,208 Bytes [53.20%] received. Rate: [ 906 KB/s].  ETA: [16 secs]    \r"
       ]
      },
      {
       "output_type": "stream",
       "stream": "stdout",
       "text": [
        "\r",
        "  17,006,592 Bytes [53.26%] received. Rate: [ 906 KB/s].  ETA: [16 secs]    \r"
       ]
      },
      {
       "output_type": "stream",
       "stream": "stdout",
       "text": [
        "\r",
        "  17,022,976 Bytes [53.31%] received. Rate: [ 906 KB/s].  ETA: [16 secs]    \r"
       ]
      },
      {
       "output_type": "stream",
       "stream": "stdout",
       "text": [
        "\r",
        "  17,039,360 Bytes [53.36%] received. Rate: [ 906 KB/s].  ETA: [16 secs]    \r"
       ]
      },
      {
       "output_type": "stream",
       "stream": "stdout",
       "text": [
        "\r",
        "  17,055,744 Bytes [53.41%] received. Rate: [ 906 KB/s].  ETA: [16 secs]    \r"
       ]
      },
      {
       "output_type": "stream",
       "stream": "stdout",
       "text": [
        "\r",
        "  17,072,128 Bytes [53.46%] received. Rate: [ 906 KB/s].  ETA: [16 secs]    \r"
       ]
      },
      {
       "output_type": "stream",
       "stream": "stdout",
       "text": [
        "\r",
        "  17,088,512 Bytes [53.51%] received. Rate: [ 906 KB/s].  ETA: [16 secs]    \r"
       ]
      },
      {
       "output_type": "stream",
       "stream": "stdout",
       "text": [
        "\r",
        "  17,104,896 Bytes [53.56%] received. Rate: [ 906 KB/s].  ETA: [16 secs]    \r"
       ]
      },
      {
       "output_type": "stream",
       "stream": "stdout",
       "text": [
        "\r",
        "  17,121,280 Bytes [53.61%] received. Rate: [ 906 KB/s].  ETA: [16 secs]    \r"
       ]
      },
      {
       "output_type": "stream",
       "stream": "stdout",
       "text": [
        "\r",
        "  17,137,664 Bytes [53.67%] received. Rate: [ 906 KB/s].  ETA: [16 secs]    \r"
       ]
      },
      {
       "output_type": "stream",
       "stream": "stdout",
       "text": [
        "\r",
        "  17,154,048 Bytes [53.72%] received. Rate: [ 906 KB/s].  ETA: [16 secs]    \r"
       ]
      },
      {
       "output_type": "stream",
       "stream": "stdout",
       "text": [
        "\r",
        "  17,170,432 Bytes [53.77%] received. Rate: [ 906 KB/s].  ETA: [16 secs]    \r"
       ]
      },
      {
       "output_type": "stream",
       "stream": "stdout",
       "text": [
        "\r",
        "  17,186,816 Bytes [53.82%] received. Rate: [ 906 KB/s].  ETA: [16 secs]    \r"
       ]
      },
      {
       "output_type": "stream",
       "stream": "stdout",
       "text": [
        "\r",
        "  17,203,200 Bytes [53.87%] received. Rate: [ 906 KB/s].  ETA: [16 secs]    \r"
       ]
      },
      {
       "output_type": "stream",
       "stream": "stdout",
       "text": [
        "\r",
        "  17,219,584 Bytes [53.92%] received. Rate: [ 906 KB/s].  ETA: [16 secs]    \r"
       ]
      },
      {
       "output_type": "stream",
       "stream": "stdout",
       "text": [
        "\r",
        "  17,235,968 Bytes [53.97%] received. Rate: [ 906 KB/s].  ETA: [16 secs]    \r"
       ]
      },
      {
       "output_type": "stream",
       "stream": "stdout",
       "text": [
        "\r",
        "  17,252,352 Bytes [54.03%] received. Rate: [ 905 KB/s].  ETA: [16 secs]    \r"
       ]
      },
      {
       "output_type": "stream",
       "stream": "stdout",
       "text": [
        "\r",
        "  17,268,736 Bytes [54.08%] received. Rate: [ 906 KB/s].  ETA: [16 secs]    \r"
       ]
      },
      {
       "output_type": "stream",
       "stream": "stdout",
       "text": [
        "\r",
        "  17,285,120 Bytes [54.13%] received. Rate: [ 906 KB/s].  ETA: [16 secs]    \r"
       ]
      },
      {
       "output_type": "stream",
       "stream": "stdout",
       "text": [
        "\r",
        "  17,301,504 Bytes [54.18%] received. Rate: [ 905 KB/s].  ETA: [16 secs]    \r"
       ]
      },
      {
       "output_type": "stream",
       "stream": "stdout",
       "text": [
        "\r",
        "  17,317,888 Bytes [54.23%] received. Rate: [ 905 KB/s].  ETA: [16 secs]    \r"
       ]
      },
      {
       "output_type": "stream",
       "stream": "stdout",
       "text": [
        "\r",
        "  17,334,272 Bytes [54.28%] received. Rate: [ 906 KB/s].  ETA: [16 secs]    \r"
       ]
      },
      {
       "output_type": "stream",
       "stream": "stdout",
       "text": [
        "\r",
        "  17,350,656 Bytes [54.33%] received. Rate: [ 906 KB/s].  ETA: [16 secs]    \r"
       ]
      },
      {
       "output_type": "stream",
       "stream": "stdout",
       "text": [
        "\r",
        "  17,367,040 Bytes [54.38%] received. Rate: [ 906 KB/s].  ETA: [16 secs]    \r"
       ]
      },
      {
       "output_type": "stream",
       "stream": "stdout",
       "text": [
        "\r",
        "  17,383,424 Bytes [54.44%] received. Rate: [ 906 KB/s].  ETA: [16 secs]    \r"
       ]
      },
      {
       "output_type": "stream",
       "stream": "stdout",
       "text": [
        "\r",
        "  17,399,808 Bytes [54.49%] received. Rate: [ 906 KB/s].  ETA: [16 secs]    \r"
       ]
      },
      {
       "output_type": "stream",
       "stream": "stdout",
       "text": [
        "\r",
        "  17,416,192 Bytes [54.54%] received. Rate: [ 906 KB/s].  ETA: [16 secs]    \r"
       ]
      },
      {
       "output_type": "stream",
       "stream": "stdout",
       "text": [
        "\r",
        "  17,432,576 Bytes [54.59%] received. Rate: [ 906 KB/s].  ETA: [16 secs]    \r"
       ]
      },
      {
       "output_type": "stream",
       "stream": "stdout",
       "text": [
        "\r",
        "  17,448,960 Bytes [54.64%] received. Rate: [ 906 KB/s].  ETA: [16 secs]    \r"
       ]
      },
      {
       "output_type": "stream",
       "stream": "stdout",
       "text": [
        "\r",
        "  17,465,344 Bytes [54.69%] received. Rate: [ 906 KB/s].  ETA: [16 secs]    \r"
       ]
      },
      {
       "output_type": "stream",
       "stream": "stdout",
       "text": [
        "\r",
        "  17,481,728 Bytes [54.74%] received. Rate: [ 906 KB/s].  ETA: [16 secs]    \r"
       ]
      },
      {
       "output_type": "stream",
       "stream": "stdout",
       "text": [
        "\r",
        "  17,498,112 Bytes [54.79%] received. Rate: [ 906 KB/s].  ETA: [16 secs]    \r"
       ]
      },
      {
       "output_type": "stream",
       "stream": "stdout",
       "text": [
        "\r",
        "  17,514,496 Bytes [54.85%] received. Rate: [ 906 KB/s].  ETA: [16 secs]    \r"
       ]
      },
      {
       "output_type": "stream",
       "stream": "stdout",
       "text": [
        "\r",
        "  17,530,880 Bytes [54.90%] received. Rate: [ 906 KB/s].  ETA: [16 secs]    \r"
       ]
      },
      {
       "output_type": "stream",
       "stream": "stdout",
       "text": [
        "\r",
        "  17,547,264 Bytes [54.95%] received. Rate: [ 906 KB/s].  ETA: [16 secs]    \r"
       ]
      },
      {
       "output_type": "stream",
       "stream": "stdout",
       "text": [
        "\r",
        "  17,563,648 Bytes [55.00%] received. Rate: [ 906 KB/s].  ETA: [15 secs]    \r"
       ]
      },
      {
       "output_type": "stream",
       "stream": "stdout",
       "text": [
        "\r",
        "  17,580,032 Bytes [55.05%] received. Rate: [ 906 KB/s].  ETA: [15 secs]    \r"
       ]
      },
      {
       "output_type": "stream",
       "stream": "stdout",
       "text": [
        "\r",
        "  17,596,416 Bytes [55.10%] received. Rate: [ 906 KB/s].  ETA: [15 secs]    \r"
       ]
      },
      {
       "output_type": "stream",
       "stream": "stdout",
       "text": [
        "\r",
        "  17,612,800 Bytes [55.15%] received. Rate: [ 906 KB/s].  ETA: [15 secs]    \r"
       ]
      },
      {
       "output_type": "stream",
       "stream": "stdout",
       "text": [
        "\r",
        "  17,629,184 Bytes [55.21%] received. Rate: [ 906 KB/s].  ETA: [15 secs]    \r"
       ]
      },
      {
       "output_type": "stream",
       "stream": "stdout",
       "text": [
        "\r",
        "  17,645,568 Bytes [55.26%] received. Rate: [ 906 KB/s].  ETA: [15 secs]    \r"
       ]
      },
      {
       "output_type": "stream",
       "stream": "stdout",
       "text": [
        "\r",
        "  17,661,952 Bytes [55.31%] received. Rate: [ 906 KB/s].  ETA: [15 secs]    \r"
       ]
      },
      {
       "output_type": "stream",
       "stream": "stdout",
       "text": [
        "\r",
        "  17,678,336 Bytes [55.36%] received. Rate: [ 906 KB/s].  ETA: [15 secs]    \r"
       ]
      },
      {
       "output_type": "stream",
       "stream": "stdout",
       "text": [
        "\r",
        "  17,694,720 Bytes [55.41%] received. Rate: [ 906 KB/s].  ETA: [15 secs]    \r"
       ]
      },
      {
       "output_type": "stream",
       "stream": "stdout",
       "text": [
        "\r",
        "  17,711,104 Bytes [55.46%] received. Rate: [ 906 KB/s].  ETA: [15 secs]    \r"
       ]
      },
      {
       "output_type": "stream",
       "stream": "stdout",
       "text": [
        "\r",
        "  17,727,488 Bytes [55.51%] received. Rate: [ 906 KB/s].  ETA: [15 secs]    \r"
       ]
      },
      {
       "output_type": "stream",
       "stream": "stdout",
       "text": [
        "\r",
        "  17,743,872 Bytes [55.56%] received. Rate: [ 907 KB/s].  ETA: [15 secs]    \r"
       ]
      },
      {
       "output_type": "stream",
       "stream": "stdout",
       "text": [
        "\r",
        "  17,760,256 Bytes [55.62%] received. Rate: [ 907 KB/s].  ETA: [15 secs]    \r"
       ]
      },
      {
       "output_type": "stream",
       "stream": "stdout",
       "text": [
        "\r",
        "  17,776,640 Bytes [55.67%] received. Rate: [ 907 KB/s].  ETA: [15 secs]    \r"
       ]
      },
      {
       "output_type": "stream",
       "stream": "stdout",
       "text": [
        "\r",
        "  17,793,024 Bytes [55.72%] received. Rate: [ 907 KB/s].  ETA: [15 secs]    \r"
       ]
      },
      {
       "output_type": "stream",
       "stream": "stdout",
       "text": [
        "\r",
        "  17,809,408 Bytes [55.77%] received. Rate: [ 907 KB/s].  ETA: [15 secs]    \r"
       ]
      },
      {
       "output_type": "stream",
       "stream": "stdout",
       "text": [
        "\r",
        "  17,825,792 Bytes [55.82%] received. Rate: [ 907 KB/s].  ETA: [15 secs]    \r"
       ]
      },
      {
       "output_type": "stream",
       "stream": "stdout",
       "text": [
        "\r",
        "  17,842,176 Bytes [55.87%] received. Rate: [ 907 KB/s].  ETA: [15 secs]    \r"
       ]
      },
      {
       "output_type": "stream",
       "stream": "stdout",
       "text": [
        "\r",
        "  17,858,560 Bytes [55.92%] received. Rate: [ 907 KB/s].  ETA: [15 secs]    \r"
       ]
      },
      {
       "output_type": "stream",
       "stream": "stdout",
       "text": [
        "\r",
        "  17,874,944 Bytes [55.97%] received. Rate: [ 907 KB/s].  ETA: [15 secs]    \r"
       ]
      },
      {
       "output_type": "stream",
       "stream": "stdout",
       "text": [
        "\r",
        "  17,891,328 Bytes [56.03%] received. Rate: [ 907 KB/s].  ETA: [15 secs]    \r"
       ]
      },
      {
       "output_type": "stream",
       "stream": "stdout",
       "text": [
        "\r",
        "  17,907,712 Bytes [56.08%] received. Rate: [ 907 KB/s].  ETA: [15 secs]    \r"
       ]
      },
      {
       "output_type": "stream",
       "stream": "stdout",
       "text": [
        "\r",
        "  17,924,096 Bytes [56.13%] received. Rate: [ 907 KB/s].  ETA: [15 secs]    \r"
       ]
      },
      {
       "output_type": "stream",
       "stream": "stdout",
       "text": [
        "\r",
        "  17,940,480 Bytes [56.18%] received. Rate: [ 908 KB/s].  ETA: [15 secs]    \r"
       ]
      },
      {
       "output_type": "stream",
       "stream": "stdout",
       "text": [
        "\r",
        "  17,956,864 Bytes [56.23%] received. Rate: [ 908 KB/s].  ETA: [15 secs]    \r"
       ]
      },
      {
       "output_type": "stream",
       "stream": "stdout",
       "text": [
        "\r",
        "  17,973,248 Bytes [56.28%] received. Rate: [ 908 KB/s].  ETA: [15 secs]    \r"
       ]
      },
      {
       "output_type": "stream",
       "stream": "stdout",
       "text": [
        "\r",
        "  17,989,632 Bytes [56.33%] received. Rate: [ 908 KB/s].  ETA: [15 secs]    \r"
       ]
      },
      {
       "output_type": "stream",
       "stream": "stdout",
       "text": [
        "\r",
        "  18,006,016 Bytes [56.39%] received. Rate: [ 908 KB/s].  ETA: [15 secs]    \r"
       ]
      },
      {
       "output_type": "stream",
       "stream": "stdout",
       "text": [
        "\r",
        "  18,022,400 Bytes [56.44%] received. Rate: [ 908 KB/s].  ETA: [15 secs]    \r"
       ]
      },
      {
       "output_type": "stream",
       "stream": "stdout",
       "text": [
        "\r",
        "  18,038,784 Bytes [56.49%] received. Rate: [ 908 KB/s].  ETA: [15 secs]    \r"
       ]
      },
      {
       "output_type": "stream",
       "stream": "stdout",
       "text": [
        "\r",
        "  18,055,168 Bytes [56.54%] received. Rate: [ 908 KB/s].  ETA: [15 secs]    \r"
       ]
      },
      {
       "output_type": "stream",
       "stream": "stdout",
       "text": [
        "\r",
        "  18,071,552 Bytes [56.59%] received. Rate: [ 908 KB/s].  ETA: [15 secs]    \r"
       ]
      },
      {
       "output_type": "stream",
       "stream": "stdout",
       "text": [
        "\r",
        "  18,087,936 Bytes [56.64%] received. Rate: [ 908 KB/s].  ETA: [15 secs]    \r"
       ]
      },
      {
       "output_type": "stream",
       "stream": "stdout",
       "text": [
        "\r",
        "  18,104,320 Bytes [56.69%] received. Rate: [ 908 KB/s].  ETA: [15 secs]    \r"
       ]
      },
      {
       "output_type": "stream",
       "stream": "stdout",
       "text": [
        "\r",
        "  18,120,704 Bytes [56.74%] received. Rate: [ 908 KB/s].  ETA: [15 secs]    \r"
       ]
      },
      {
       "output_type": "stream",
       "stream": "stdout",
       "text": [
        "\r",
        "  18,137,088 Bytes [56.80%] received. Rate: [ 908 KB/s].  ETA: [15 secs]    \r"
       ]
      },
      {
       "output_type": "stream",
       "stream": "stdout",
       "text": [
        "\r",
        "  18,153,472 Bytes [56.85%] received. Rate: [ 909 KB/s].  ETA: [15 secs]    \r"
       ]
      },
      {
       "output_type": "stream",
       "stream": "stdout",
       "text": [
        "\r",
        "  18,169,856 Bytes [56.90%] received. Rate: [ 909 KB/s].  ETA: [15 secs]    \r"
       ]
      },
      {
       "output_type": "stream",
       "stream": "stdout",
       "text": [
        "\r",
        "  18,186,240 Bytes [56.95%] received. Rate: [ 909 KB/s].  ETA: [15 secs]    \r"
       ]
      },
      {
       "output_type": "stream",
       "stream": "stdout",
       "text": [
        "\r",
        "  18,202,624 Bytes [57.00%] received. Rate: [ 909 KB/s].  ETA: [15 secs]    \r"
       ]
      },
      {
       "output_type": "stream",
       "stream": "stdout",
       "text": [
        "\r",
        "  18,219,008 Bytes [57.05%] received. Rate: [ 909 KB/s].  ETA: [15 secs]    \r"
       ]
      },
      {
       "output_type": "stream",
       "stream": "stdout",
       "text": [
        "\r",
        "  18,235,392 Bytes [57.10%] received. Rate: [ 909 KB/s].  ETA: [15 secs]    \r"
       ]
      },
      {
       "output_type": "stream",
       "stream": "stdout",
       "text": [
        "\r",
        "  18,251,776 Bytes [57.15%] received. Rate: [ 909 KB/s].  ETA: [15 secs]    \r"
       ]
      },
      {
       "output_type": "stream",
       "stream": "stdout",
       "text": [
        "\r",
        "  18,268,160 Bytes [57.21%] received. Rate: [ 909 KB/s].  ETA: [15 secs]    \r"
       ]
      },
      {
       "output_type": "stream",
       "stream": "stdout",
       "text": [
        "\r",
        "  18,284,544 Bytes [57.26%] received. Rate: [ 910 KB/s].  ETA: [15 secs]    \r"
       ]
      },
      {
       "output_type": "stream",
       "stream": "stdout",
       "text": [
        "\r",
        "  18,300,928 Bytes [57.31%] received. Rate: [ 910 KB/s].  ETA: [15 secs]    \r"
       ]
      },
      {
       "output_type": "stream",
       "stream": "stdout",
       "text": [
        "\r",
        "  18,317,312 Bytes [57.36%] received. Rate: [ 910 KB/s].  ETA: [15 secs]    \r"
       ]
      },
      {
       "output_type": "stream",
       "stream": "stdout",
       "text": [
        "\r",
        "  18,333,696 Bytes [57.41%] received. Rate: [ 910 KB/s].  ETA: [15 secs]    \r"
       ]
      },
      {
       "output_type": "stream",
       "stream": "stdout",
       "text": [
        "\r",
        "  18,350,080 Bytes [57.46%] received. Rate: [ 910 KB/s].  ETA: [15 secs]    \r"
       ]
      },
      {
       "output_type": "stream",
       "stream": "stdout",
       "text": [
        "\r",
        "  18,366,464 Bytes [57.51%] received. Rate: [ 910 KB/s].  ETA: [15 secs]    \r"
       ]
      },
      {
       "output_type": "stream",
       "stream": "stdout",
       "text": [
        "\r",
        "  18,382,848 Bytes [57.57%] received. Rate: [ 910 KB/s].  ETA: [15 secs]    \r"
       ]
      },
      {
       "output_type": "stream",
       "stream": "stdout",
       "text": [
        "\r",
        "  18,399,232 Bytes [57.62%] received. Rate: [ 910 KB/s].  ETA: [15 secs]    \r"
       ]
      },
      {
       "output_type": "stream",
       "stream": "stdout",
       "text": [
        "\r",
        "  18,415,616 Bytes [57.67%] received. Rate: [ 910 KB/s].  ETA: [15 secs]    \r"
       ]
      },
      {
       "output_type": "stream",
       "stream": "stdout",
       "text": [
        "\r",
        "  18,432,000 Bytes [57.72%] received. Rate: [ 910 KB/s].  ETA: [14 secs]    \r"
       ]
      },
      {
       "output_type": "stream",
       "stream": "stdout",
       "text": [
        "\r",
        "  18,448,384 Bytes [57.77%] received. Rate: [ 911 KB/s].  ETA: [14 secs]    \r"
       ]
      },
      {
       "output_type": "stream",
       "stream": "stdout",
       "text": [
        "\r",
        "  18,464,768 Bytes [57.82%] received. Rate: [ 911 KB/s].  ETA: [14 secs]    \r"
       ]
      },
      {
       "output_type": "stream",
       "stream": "stdout",
       "text": [
        "\r",
        "  18,481,152 Bytes [57.87%] received. Rate: [ 911 KB/s].  ETA: [14 secs]    \r"
       ]
      },
      {
       "output_type": "stream",
       "stream": "stdout",
       "text": [
        "\r",
        "  18,497,536 Bytes [57.92%] received. Rate: [ 911 KB/s].  ETA: [14 secs]    \r"
       ]
      },
      {
       "output_type": "stream",
       "stream": "stdout",
       "text": [
        "\r",
        "  18,513,920 Bytes [57.98%] received. Rate: [ 911 KB/s].  ETA: [14 secs]    \r"
       ]
      },
      {
       "output_type": "stream",
       "stream": "stdout",
       "text": [
        "\r",
        "  18,530,304 Bytes [58.03%] received. Rate: [ 911 KB/s].  ETA: [14 secs]    \r"
       ]
      },
      {
       "output_type": "stream",
       "stream": "stdout",
       "text": [
        "\r",
        "  18,546,688 Bytes [58.08%] received. Rate: [ 911 KB/s].  ETA: [14 secs]    \r"
       ]
      },
      {
       "output_type": "stream",
       "stream": "stdout",
       "text": [
        "\r",
        "  18,563,072 Bytes [58.13%] received. Rate: [ 911 KB/s].  ETA: [14 secs]    \r"
       ]
      },
      {
       "output_type": "stream",
       "stream": "stdout",
       "text": [
        "\r",
        "  18,579,456 Bytes [58.18%] received. Rate: [ 912 KB/s].  ETA: [14 secs]    \r"
       ]
      },
      {
       "output_type": "stream",
       "stream": "stdout",
       "text": [
        "\r",
        "  18,595,840 Bytes [58.23%] received. Rate: [ 912 KB/s].  ETA: [14 secs]    \r"
       ]
      },
      {
       "output_type": "stream",
       "stream": "stdout",
       "text": [
        "\r",
        "  18,612,224 Bytes [58.28%] received. Rate: [ 912 KB/s].  ETA: [14 secs]    \r"
       ]
      },
      {
       "output_type": "stream",
       "stream": "stdout",
       "text": [
        "\r",
        "  18,628,608 Bytes [58.33%] received. Rate: [ 912 KB/s].  ETA: [14 secs]    \r"
       ]
      },
      {
       "output_type": "stream",
       "stream": "stdout",
       "text": [
        "\r",
        "  18,644,992 Bytes [58.39%] received. Rate: [ 912 KB/s].  ETA: [14 secs]    \r"
       ]
      },
      {
       "output_type": "stream",
       "stream": "stdout",
       "text": [
        "\r",
        "  18,661,376 Bytes [58.44%] received. Rate: [ 912 KB/s].  ETA: [14 secs]    \r"
       ]
      },
      {
       "output_type": "stream",
       "stream": "stdout",
       "text": [
        "\r",
        "  18,677,760 Bytes [58.49%] received. Rate: [ 912 KB/s].  ETA: [14 secs]    \r"
       ]
      },
      {
       "output_type": "stream",
       "stream": "stdout",
       "text": [
        "\r",
        "  18,694,144 Bytes [58.54%] received. Rate: [ 912 KB/s].  ETA: [14 secs]    \r"
       ]
      },
      {
       "output_type": "stream",
       "stream": "stdout",
       "text": [
        "\r",
        "  18,710,528 Bytes [58.59%] received. Rate: [ 912 KB/s].  ETA: [14 secs]    \r"
       ]
      },
      {
       "output_type": "stream",
       "stream": "stdout",
       "text": [
        "\r",
        "  18,726,912 Bytes [58.64%] received. Rate: [ 912 KB/s].  ETA: [14 secs]    \r"
       ]
      },
      {
       "output_type": "stream",
       "stream": "stdout",
       "text": [
        "\r",
        "  18,743,296 Bytes [58.69%] received. Rate: [ 912 KB/s].  ETA: [14 secs]    \r"
       ]
      },
      {
       "output_type": "stream",
       "stream": "stdout",
       "text": [
        "\r",
        "  18,759,680 Bytes [58.75%] received. Rate: [ 913 KB/s].  ETA: [14 secs]    \r"
       ]
      },
      {
       "output_type": "stream",
       "stream": "stdout",
       "text": [
        "\r",
        "  18,776,064 Bytes [58.80%] received. Rate: [ 913 KB/s].  ETA: [14 secs]    \r"
       ]
      },
      {
       "output_type": "stream",
       "stream": "stdout",
       "text": [
        "\r",
        "  18,792,448 Bytes [58.85%] received. Rate: [ 913 KB/s].  ETA: [14 secs]    \r"
       ]
      },
      {
       "output_type": "stream",
       "stream": "stdout",
       "text": [
        "\r",
        "  18,808,832 Bytes [58.90%] received. Rate: [ 913 KB/s].  ETA: [14 secs]    \r"
       ]
      },
      {
       "output_type": "stream",
       "stream": "stdout",
       "text": [
        "\r",
        "  18,825,216 Bytes [58.95%] received. Rate: [ 913 KB/s].  ETA: [14 secs]    \r"
       ]
      },
      {
       "output_type": "stream",
       "stream": "stdout",
       "text": [
        "\r",
        "  18,841,600 Bytes [59.00%] received. Rate: [ 913 KB/s].  ETA: [14 secs]    \r"
       ]
      },
      {
       "output_type": "stream",
       "stream": "stdout",
       "text": [
        "\r",
        "  18,857,984 Bytes [59.05%] received. Rate: [ 913 KB/s].  ETA: [14 secs]    \r"
       ]
      },
      {
       "output_type": "stream",
       "stream": "stdout",
       "text": [
        "\r",
        "  18,874,368 Bytes [59.10%] received. Rate: [ 913 KB/s].  ETA: [14 secs]    \r"
       ]
      },
      {
       "output_type": "stream",
       "stream": "stdout",
       "text": [
        "\r",
        "  18,890,752 Bytes [59.16%] received. Rate: [ 913 KB/s].  ETA: [14 secs]    \r"
       ]
      },
      {
       "output_type": "stream",
       "stream": "stdout",
       "text": [
        "\r",
        "  18,907,136 Bytes [59.21%] received. Rate: [ 914 KB/s].  ETA: [14 secs]    \r"
       ]
      },
      {
       "output_type": "stream",
       "stream": "stdout",
       "text": [
        "\r",
        "  18,923,520 Bytes [59.26%] received. Rate: [ 914 KB/s].  ETA: [14 secs]    \r"
       ]
      },
      {
       "output_type": "stream",
       "stream": "stdout",
       "text": [
        "\r",
        "  18,939,904 Bytes [59.31%] received. Rate: [ 914 KB/s].  ETA: [14 secs]    \r"
       ]
      },
      {
       "output_type": "stream",
       "stream": "stdout",
       "text": [
        "\r",
        "  18,956,288 Bytes [59.36%] received. Rate: [ 914 KB/s].  ETA: [14 secs]    \r"
       ]
      },
      {
       "output_type": "stream",
       "stream": "stdout",
       "text": [
        "\r",
        "  18,972,672 Bytes [59.41%] received. Rate: [ 914 KB/s].  ETA: [14 secs]    \r"
       ]
      },
      {
       "output_type": "stream",
       "stream": "stdout",
       "text": [
        "\r",
        "  18,989,056 Bytes [59.46%] received. Rate: [ 914 KB/s].  ETA: [14 secs]    \r"
       ]
      },
      {
       "output_type": "stream",
       "stream": "stdout",
       "text": [
        "\r",
        "  19,005,440 Bytes [59.51%] received. Rate: [ 914 KB/s].  ETA: [14 secs]    \r"
       ]
      },
      {
       "output_type": "stream",
       "stream": "stdout",
       "text": [
        "\r",
        "  19,021,824 Bytes [59.57%] received. Rate: [ 914 KB/s].  ETA: [14 secs]    \r"
       ]
      },
      {
       "output_type": "stream",
       "stream": "stdout",
       "text": [
        "\r",
        "  19,038,208 Bytes [59.62%] received. Rate: [ 914 KB/s].  ETA: [14 secs]    \r"
       ]
      },
      {
       "output_type": "stream",
       "stream": "stdout",
       "text": [
        "\r",
        "  19,054,592 Bytes [59.67%] received. Rate: [ 914 KB/s].  ETA: [14 secs]    \r"
       ]
      },
      {
       "output_type": "stream",
       "stream": "stdout",
       "text": [
        "\r",
        "  19,070,976 Bytes [59.72%] received. Rate: [ 914 KB/s].  ETA: [14 secs]    \r"
       ]
      },
      {
       "output_type": "stream",
       "stream": "stdout",
       "text": [
        "\r",
        "  19,087,360 Bytes [59.77%] received. Rate: [ 915 KB/s].  ETA: [14 secs]    \r"
       ]
      },
      {
       "output_type": "stream",
       "stream": "stdout",
       "text": [
        "\r",
        "  19,103,744 Bytes [59.82%] received. Rate: [ 915 KB/s].  ETA: [14 secs]    \r"
       ]
      },
      {
       "output_type": "stream",
       "stream": "stdout",
       "text": [
        "\r",
        "  19,120,128 Bytes [59.87%] received. Rate: [ 915 KB/s].  ETA: [14 secs]    \r"
       ]
      },
      {
       "output_type": "stream",
       "stream": "stdout",
       "text": [
        "\r",
        "  19,136,512 Bytes [59.93%] received. Rate: [ 915 KB/s].  ETA: [14 secs]    \r"
       ]
      },
      {
       "output_type": "stream",
       "stream": "stdout",
       "text": [
        "\r",
        "  19,152,896 Bytes [59.98%] received. Rate: [ 915 KB/s].  ETA: [14 secs]    \r"
       ]
      },
      {
       "output_type": "stream",
       "stream": "stdout",
       "text": [
        "\r",
        "  19,169,280 Bytes [60.03%] received. Rate: [ 915 KB/s].  ETA: [14 secs]    \r"
       ]
      },
      {
       "output_type": "stream",
       "stream": "stdout",
       "text": [
        "\r",
        "  19,185,664 Bytes [60.08%] received. Rate: [ 915 KB/s].  ETA: [14 secs]    \r"
       ]
      },
      {
       "output_type": "stream",
       "stream": "stdout",
       "text": [
        "\r",
        "  19,202,048 Bytes [60.13%] received. Rate: [ 915 KB/s].  ETA: [14 secs]    \r"
       ]
      },
      {
       "output_type": "stream",
       "stream": "stdout",
       "text": [
        "\r",
        "  19,218,432 Bytes [60.18%] received. Rate: [ 915 KB/s].  ETA: [14 secs]    \r"
       ]
      },
      {
       "output_type": "stream",
       "stream": "stdout",
       "text": [
        "\r",
        "  19,234,816 Bytes [60.23%] received. Rate: [ 916 KB/s].  ETA: [14 secs]    \r"
       ]
      },
      {
       "output_type": "stream",
       "stream": "stdout",
       "text": [
        "\r",
        "  19,251,200 Bytes [60.28%] received. Rate: [ 916 KB/s].  ETA: [14 secs]    \r"
       ]
      },
      {
       "output_type": "stream",
       "stream": "stdout",
       "text": [
        "\r",
        "  19,267,584 Bytes [60.34%] received. Rate: [ 916 KB/s].  ETA: [14 secs]    \r"
       ]
      },
      {
       "output_type": "stream",
       "stream": "stdout",
       "text": [
        "\r",
        "  19,283,968 Bytes [60.39%] received. Rate: [ 916 KB/s].  ETA: [13 secs]    \r"
       ]
      },
      {
       "output_type": "stream",
       "stream": "stdout",
       "text": [
        "\r",
        "  19,300,352 Bytes [60.44%] received. Rate: [ 916 KB/s].  ETA: [13 secs]    \r"
       ]
      },
      {
       "output_type": "stream",
       "stream": "stdout",
       "text": [
        "\r",
        "  19,316,736 Bytes [60.49%] received. Rate: [ 916 KB/s].  ETA: [13 secs]    \r"
       ]
      },
      {
       "output_type": "stream",
       "stream": "stdout",
       "text": [
        "\r",
        "  19,333,120 Bytes [60.54%] received. Rate: [ 916 KB/s].  ETA: [13 secs]    \r"
       ]
      },
      {
       "output_type": "stream",
       "stream": "stdout",
       "text": [
        "\r",
        "  19,349,504 Bytes [60.59%] received. Rate: [ 916 KB/s].  ETA: [13 secs]    \r"
       ]
      },
      {
       "output_type": "stream",
       "stream": "stdout",
       "text": [
        "\r",
        "  19,365,888 Bytes [60.64%] received. Rate: [ 916 KB/s].  ETA: [13 secs]    \r"
       ]
      },
      {
       "output_type": "stream",
       "stream": "stdout",
       "text": [
        "\r",
        "  19,382,272 Bytes [60.69%] received. Rate: [ 916 KB/s].  ETA: [13 secs]    \r"
       ]
      },
      {
       "output_type": "stream",
       "stream": "stdout",
       "text": [
        "\r",
        "  19,398,656 Bytes [60.75%] received. Rate: [ 917 KB/s].  ETA: [13 secs]    \r"
       ]
      },
      {
       "output_type": "stream",
       "stream": "stdout",
       "text": [
        "\r",
        "  19,415,040 Bytes [60.80%] received. Rate: [ 917 KB/s].  ETA: [13 secs]    \r"
       ]
      },
      {
       "output_type": "stream",
       "stream": "stdout",
       "text": [
        "\r",
        "  19,431,424 Bytes [60.85%] received. Rate: [ 917 KB/s].  ETA: [13 secs]    \r"
       ]
      },
      {
       "output_type": "stream",
       "stream": "stdout",
       "text": [
        "\r",
        "  19,447,808 Bytes [60.90%] received. Rate: [ 917 KB/s].  ETA: [13 secs]    \r"
       ]
      },
      {
       "output_type": "stream",
       "stream": "stdout",
       "text": [
        "\r",
        "  19,464,192 Bytes [60.95%] received. Rate: [ 917 KB/s].  ETA: [13 secs]    \r"
       ]
      },
      {
       "output_type": "stream",
       "stream": "stdout",
       "text": [
        "\r",
        "  19,480,576 Bytes [61.00%] received. Rate: [ 917 KB/s].  ETA: [13 secs]    \r"
       ]
      },
      {
       "output_type": "stream",
       "stream": "stdout",
       "text": [
        "\r",
        "  19,496,960 Bytes [61.05%] received. Rate: [ 917 KB/s].  ETA: [13 secs]    \r"
       ]
      },
      {
       "output_type": "stream",
       "stream": "stdout",
       "text": [
        "\r",
        "  19,513,344 Bytes [61.11%] received. Rate: [ 917 KB/s].  ETA: [13 secs]    \r"
       ]
      },
      {
       "output_type": "stream",
       "stream": "stdout",
       "text": [
        "\r",
        "  19,529,728 Bytes [61.16%] received. Rate: [ 917 KB/s].  ETA: [13 secs]    \r"
       ]
      },
      {
       "output_type": "stream",
       "stream": "stdout",
       "text": [
        "\r",
        "  19,546,112 Bytes [61.21%] received. Rate: [ 918 KB/s].  ETA: [13 secs]    \r"
       ]
      },
      {
       "output_type": "stream",
       "stream": "stdout",
       "text": [
        "\r",
        "  19,562,496 Bytes [61.26%] received. Rate: [ 918 KB/s].  ETA: [13 secs]    \r"
       ]
      },
      {
       "output_type": "stream",
       "stream": "stdout",
       "text": [
        "\r",
        "  19,578,880 Bytes [61.31%] received. Rate: [ 918 KB/s].  ETA: [13 secs]    \r"
       ]
      },
      {
       "output_type": "stream",
       "stream": "stdout",
       "text": [
        "\r",
        "  19,595,264 Bytes [61.36%] received. Rate: [ 918 KB/s].  ETA: [13 secs]    \r"
       ]
      },
      {
       "output_type": "stream",
       "stream": "stdout",
       "text": [
        "\r",
        "  19,611,648 Bytes [61.41%] received. Rate: [ 918 KB/s].  ETA: [13 secs]    \r"
       ]
      },
      {
       "output_type": "stream",
       "stream": "stdout",
       "text": [
        "\r",
        "  19,628,032 Bytes [61.46%] received. Rate: [ 918 KB/s].  ETA: [13 secs]    \r"
       ]
      },
      {
       "output_type": "stream",
       "stream": "stdout",
       "text": [
        "\r",
        "  19,644,416 Bytes [61.52%] received. Rate: [ 918 KB/s].  ETA: [13 secs]    \r"
       ]
      },
      {
       "output_type": "stream",
       "stream": "stdout",
       "text": [
        "\r",
        "  19,660,800 Bytes [61.57%] received. Rate: [ 918 KB/s].  ETA: [13 secs]    \r"
       ]
      },
      {
       "output_type": "stream",
       "stream": "stdout",
       "text": [
        "\r",
        "  19,677,184 Bytes [61.62%] received. Rate: [ 918 KB/s].  ETA: [13 secs]    \r"
       ]
      },
      {
       "output_type": "stream",
       "stream": "stdout",
       "text": [
        "\r",
        "  19,693,568 Bytes [61.67%] received. Rate: [ 918 KB/s].  ETA: [13 secs]    \r"
       ]
      },
      {
       "output_type": "stream",
       "stream": "stdout",
       "text": [
        "\r",
        "  19,709,952 Bytes [61.72%] received. Rate: [ 918 KB/s].  ETA: [13 secs]    \r"
       ]
      },
      {
       "output_type": "stream",
       "stream": "stdout",
       "text": [
        "\r",
        "  19,726,336 Bytes [61.77%] received. Rate: [ 919 KB/s].  ETA: [13 secs]    \r"
       ]
      },
      {
       "output_type": "stream",
       "stream": "stdout",
       "text": [
        "\r",
        "  19,742,720 Bytes [61.82%] received. Rate: [ 919 KB/s].  ETA: [13 secs]    \r"
       ]
      },
      {
       "output_type": "stream",
       "stream": "stdout",
       "text": [
        "\r",
        "  19,759,104 Bytes [61.87%] received. Rate: [ 919 KB/s].  ETA: [13 secs]    \r"
       ]
      },
      {
       "output_type": "stream",
       "stream": "stdout",
       "text": [
        "\r",
        "  19,775,488 Bytes [61.93%] received. Rate: [ 919 KB/s].  ETA: [13 secs]    \r"
       ]
      },
      {
       "output_type": "stream",
       "stream": "stdout",
       "text": [
        "\r",
        "  19,791,872 Bytes [61.98%] received. Rate: [ 919 KB/s].  ETA: [13 secs]    \r"
       ]
      },
      {
       "output_type": "stream",
       "stream": "stdout",
       "text": [
        "\r",
        "  19,808,256 Bytes [62.03%] received. Rate: [ 919 KB/s].  ETA: [13 secs]    \r"
       ]
      },
      {
       "output_type": "stream",
       "stream": "stdout",
       "text": [
        "\r",
        "  19,824,640 Bytes [62.08%] received. Rate: [ 919 KB/s].  ETA: [13 secs]    \r"
       ]
      },
      {
       "output_type": "stream",
       "stream": "stdout",
       "text": [
        "\r",
        "  19,841,024 Bytes [62.13%] received. Rate: [ 919 KB/s].  ETA: [13 secs]    \r"
       ]
      },
      {
       "output_type": "stream",
       "stream": "stdout",
       "text": [
        "\r",
        "  19,857,408 Bytes [62.18%] received. Rate: [ 919 KB/s].  ETA: [13 secs]    \r"
       ]
      },
      {
       "output_type": "stream",
       "stream": "stdout",
       "text": [
        "\r",
        "  19,873,792 Bytes [62.23%] received. Rate: [ 920 KB/s].  ETA: [13 secs]    \r"
       ]
      },
      {
       "output_type": "stream",
       "stream": "stdout",
       "text": [
        "\r",
        "  19,890,176 Bytes [62.29%] received. Rate: [ 920 KB/s].  ETA: [13 secs]    \r"
       ]
      },
      {
       "output_type": "stream",
       "stream": "stdout",
       "text": [
        "\r",
        "  19,906,560 Bytes [62.34%] received. Rate: [ 920 KB/s].  ETA: [13 secs]    \r"
       ]
      },
      {
       "output_type": "stream",
       "stream": "stdout",
       "text": [
        "\r",
        "  19,922,944 Bytes [62.39%] received. Rate: [ 920 KB/s].  ETA: [13 secs]    \r"
       ]
      },
      {
       "output_type": "stream",
       "stream": "stdout",
       "text": [
        "\r",
        "  19,939,328 Bytes [62.44%] received. Rate: [ 920 KB/s].  ETA: [13 secs]    \r"
       ]
      },
      {
       "output_type": "stream",
       "stream": "stdout",
       "text": [
        "\r",
        "  19,955,712 Bytes [62.49%] received. Rate: [ 920 KB/s].  ETA: [13 secs]    \r"
       ]
      },
      {
       "output_type": "stream",
       "stream": "stdout",
       "text": [
        "\r",
        "  19,972,096 Bytes [62.54%] received. Rate: [ 920 KB/s].  ETA: [13 secs]    \r"
       ]
      },
      {
       "output_type": "stream",
       "stream": "stdout",
       "text": [
        "\r",
        "  19,988,480 Bytes [62.59%] received. Rate: [ 920 KB/s].  ETA: [13 secs]    \r"
       ]
      },
      {
       "output_type": "stream",
       "stream": "stdout",
       "text": [
        "\r",
        "  20,004,864 Bytes [62.64%] received. Rate: [ 920 KB/s].  ETA: [13 secs]    \r"
       ]
      },
      {
       "output_type": "stream",
       "stream": "stdout",
       "text": [
        "\r",
        "  20,021,248 Bytes [62.70%] received. Rate: [ 920 KB/s].  ETA: [13 secs]    \r"
       ]
      },
      {
       "output_type": "stream",
       "stream": "stdout",
       "text": [
        "\r",
        "  20,037,632 Bytes [62.75%] received. Rate: [ 920 KB/s].  ETA: [13 secs]    \r"
       ]
      },
      {
       "output_type": "stream",
       "stream": "stdout",
       "text": [
        "\r",
        "  20,054,016 Bytes [62.80%] received. Rate: [ 921 KB/s].  ETA: [13 secs]    \r"
       ]
      },
      {
       "output_type": "stream",
       "stream": "stdout",
       "text": [
        "\r",
        "  20,070,400 Bytes [62.85%] received. Rate: [ 921 KB/s].  ETA: [13 secs]    \r"
       ]
      },
      {
       "output_type": "stream",
       "stream": "stdout",
       "text": [
        "\r",
        "  20,086,784 Bytes [62.90%] received. Rate: [ 921 KB/s].  ETA: [13 secs]    \r"
       ]
      },
      {
       "output_type": "stream",
       "stream": "stdout",
       "text": [
        "\r",
        "  20,103,168 Bytes [62.95%] received. Rate: [ 921 KB/s].  ETA: [13 secs]    \r"
       ]
      },
      {
       "output_type": "stream",
       "stream": "stdout",
       "text": [
        "\r",
        "  20,119,552 Bytes [63.00%] received. Rate: [ 921 KB/s].  ETA: [13 secs]    \r"
       ]
      },
      {
       "output_type": "stream",
       "stream": "stdout",
       "text": [
        "\r",
        "  20,135,936 Bytes [63.05%] received. Rate: [ 921 KB/s].  ETA: [13 secs]    \r"
       ]
      },
      {
       "output_type": "stream",
       "stream": "stdout",
       "text": [
        "\r",
        "  20,152,320 Bytes [63.11%] received. Rate: [ 921 KB/s].  ETA: [12 secs]    \r"
       ]
      },
      {
       "output_type": "stream",
       "stream": "stdout",
       "text": [
        "\r",
        "  20,168,704 Bytes [63.16%] received. Rate: [ 921 KB/s].  ETA: [12 secs]    \r"
       ]
      },
      {
       "output_type": "stream",
       "stream": "stdout",
       "text": [
        "\r",
        "  20,185,088 Bytes [63.21%] received. Rate: [ 921 KB/s].  ETA: [12 secs]    \r"
       ]
      },
      {
       "output_type": "stream",
       "stream": "stdout",
       "text": [
        "\r",
        "  20,201,472 Bytes [63.26%] received. Rate: [ 921 KB/s].  ETA: [12 secs]    \r"
       ]
      },
      {
       "output_type": "stream",
       "stream": "stdout",
       "text": [
        "\r",
        "  20,217,856 Bytes [63.31%] received. Rate: [ 921 KB/s].  ETA: [12 secs]    \r"
       ]
      },
      {
       "output_type": "stream",
       "stream": "stdout",
       "text": [
        "\r",
        "  20,234,240 Bytes [63.36%] received. Rate: [ 922 KB/s].  ETA: [12 secs]    \r"
       ]
      },
      {
       "output_type": "stream",
       "stream": "stdout",
       "text": [
        "\r",
        "  20,250,624 Bytes [63.41%] received. Rate: [ 922 KB/s].  ETA: [12 secs]    \r"
       ]
      },
      {
       "output_type": "stream",
       "stream": "stdout",
       "text": [
        "\r",
        "  20,267,008 Bytes [63.47%] received. Rate: [ 922 KB/s].  ETA: [12 secs]    \r"
       ]
      },
      {
       "output_type": "stream",
       "stream": "stdout",
       "text": [
        "\r",
        "  20,283,392 Bytes [63.52%] received. Rate: [ 922 KB/s].  ETA: [12 secs]    \r"
       ]
      },
      {
       "output_type": "stream",
       "stream": "stdout",
       "text": [
        "\r",
        "  20,299,776 Bytes [63.57%] received. Rate: [ 922 KB/s].  ETA: [12 secs]    \r"
       ]
      },
      {
       "output_type": "stream",
       "stream": "stdout",
       "text": [
        "\r",
        "  20,316,160 Bytes [63.62%] received. Rate: [ 922 KB/s].  ETA: [12 secs]    \r"
       ]
      },
      {
       "output_type": "stream",
       "stream": "stdout",
       "text": [
        "\r",
        "  20,332,544 Bytes [63.67%] received. Rate: [ 921 KB/s].  ETA: [12 secs]    \r"
       ]
      },
      {
       "output_type": "stream",
       "stream": "stdout",
       "text": [
        "\r",
        "  20,348,928 Bytes [63.72%] received. Rate: [ 922 KB/s].  ETA: [12 secs]    \r"
       ]
      },
      {
       "output_type": "stream",
       "stream": "stdout",
       "text": [
        "\r",
        "  20,365,312 Bytes [63.77%] received. Rate: [ 922 KB/s].  ETA: [12 secs]    \r"
       ]
      },
      {
       "output_type": "stream",
       "stream": "stdout",
       "text": [
        "\r",
        "  20,381,696 Bytes [63.82%] received. Rate: [ 922 KB/s].  ETA: [12 secs]    \r"
       ]
      },
      {
       "output_type": "stream",
       "stream": "stdout",
       "text": [
        "\r",
        "  20,398,080 Bytes [63.88%] received. Rate: [ 921 KB/s].  ETA: [12 secs]    \r"
       ]
      },
      {
       "output_type": "stream",
       "stream": "stdout",
       "text": [
        "\r",
        "  20,414,464 Bytes [63.93%] received. Rate: [ 921 KB/s].  ETA: [12 secs]    \r"
       ]
      },
      {
       "output_type": "stream",
       "stream": "stdout",
       "text": [
        "\r",
        "  20,430,848 Bytes [63.98%] received. Rate: [ 921 KB/s].  ETA: [12 secs]    \r"
       ]
      },
      {
       "output_type": "stream",
       "stream": "stdout",
       "text": [
        "\r",
        "  20,447,232 Bytes [64.03%] received. Rate: [ 921 KB/s].  ETA: [12 secs]    \r"
       ]
      },
      {
       "output_type": "stream",
       "stream": "stdout",
       "text": [
        "\r",
        "  20,463,616 Bytes [64.08%] received. Rate: [ 921 KB/s].  ETA: [12 secs]    \r"
       ]
      },
      {
       "output_type": "stream",
       "stream": "stdout",
       "text": [
        "\r",
        "  20,480,000 Bytes [64.13%] received. Rate: [ 921 KB/s].  ETA: [12 secs]    \r"
       ]
      },
      {
       "output_type": "stream",
       "stream": "stdout",
       "text": [
        "\r",
        "  20,496,384 Bytes [64.18%] received. Rate: [ 921 KB/s].  ETA: [12 secs]    \r"
       ]
      },
      {
       "output_type": "stream",
       "stream": "stdout",
       "text": [
        "\r",
        "  20,512,768 Bytes [64.23%] received. Rate: [ 921 KB/s].  ETA: [12 secs]    \r"
       ]
      },
      {
       "output_type": "stream",
       "stream": "stdout",
       "text": [
        "\r",
        "  20,529,152 Bytes [64.29%] received. Rate: [ 921 KB/s].  ETA: [12 secs]    \r"
       ]
      },
      {
       "output_type": "stream",
       "stream": "stdout",
       "text": [
        "\r",
        "  20,545,536 Bytes [64.34%] received. Rate: [ 921 KB/s].  ETA: [12 secs]    \r"
       ]
      },
      {
       "output_type": "stream",
       "stream": "stdout",
       "text": [
        "\r",
        "  20,561,920 Bytes [64.39%] received. Rate: [ 921 KB/s].  ETA: [12 secs]    \r"
       ]
      },
      {
       "output_type": "stream",
       "stream": "stdout",
       "text": [
        "\r",
        "  20,578,304 Bytes [64.44%] received. Rate: [ 921 KB/s].  ETA: [12 secs]    \r"
       ]
      },
      {
       "output_type": "stream",
       "stream": "stdout",
       "text": [
        "\r",
        "  20,594,688 Bytes [64.49%] received. Rate: [ 921 KB/s].  ETA: [12 secs]    \r"
       ]
      },
      {
       "output_type": "stream",
       "stream": "stdout",
       "text": [
        "\r",
        "  20,611,072 Bytes [64.54%] received. Rate: [ 921 KB/s].  ETA: [12 secs]    \r"
       ]
      },
      {
       "output_type": "stream",
       "stream": "stdout",
       "text": [
        "\r",
        "  20,627,456 Bytes [64.59%] received. Rate: [ 922 KB/s].  ETA: [12 secs]    \r"
       ]
      },
      {
       "output_type": "stream",
       "stream": "stdout",
       "text": [
        "\r",
        "  20,643,840 Bytes [64.65%] received. Rate: [ 922 KB/s].  ETA: [12 secs]    \r"
       ]
      },
      {
       "output_type": "stream",
       "stream": "stdout",
       "text": [
        "\r",
        "  20,660,224 Bytes [64.70%] received. Rate: [ 922 KB/s].  ETA: [12 secs]    \r"
       ]
      },
      {
       "output_type": "stream",
       "stream": "stdout",
       "text": [
        "\r",
        "  20,676,608 Bytes [64.75%] received. Rate: [ 922 KB/s].  ETA: [12 secs]    \r"
       ]
      },
      {
       "output_type": "stream",
       "stream": "stdout",
       "text": [
        "\r",
        "  20,692,992 Bytes [64.80%] received. Rate: [ 922 KB/s].  ETA: [12 secs]    \r"
       ]
      },
      {
       "output_type": "stream",
       "stream": "stdout",
       "text": [
        "\r",
        "  20,709,376 Bytes [64.85%] received. Rate: [ 922 KB/s].  ETA: [12 secs]    \r"
       ]
      },
      {
       "output_type": "stream",
       "stream": "stdout",
       "text": [
        "\r",
        "  20,725,760 Bytes [64.90%] received. Rate: [ 922 KB/s].  ETA: [12 secs]    \r"
       ]
      },
      {
       "output_type": "stream",
       "stream": "stdout",
       "text": [
        "\r",
        "  20,742,144 Bytes [64.95%] received. Rate: [ 920 KB/s].  ETA: [12 secs]    \r"
       ]
      },
      {
       "output_type": "stream",
       "stream": "stdout",
       "text": [
        "\r",
        "  20,758,528 Bytes [65.00%] received. Rate: [ 921 KB/s].  ETA: [12 secs]    \r"
       ]
      },
      {
       "output_type": "stream",
       "stream": "stdout",
       "text": [
        "\r",
        "  20,774,912 Bytes [65.06%] received. Rate: [ 921 KB/s].  ETA: [12 secs]    \r"
       ]
      },
      {
       "output_type": "stream",
       "stream": "stdout",
       "text": [
        "\r",
        "  20,791,296 Bytes [65.11%] received. Rate: [ 922 KB/s].  ETA: [12 secs]    \r"
       ]
      },
      {
       "output_type": "stream",
       "stream": "stdout",
       "text": [
        "\r",
        "  20,807,680 Bytes [65.16%] received. Rate: [ 922 KB/s].  ETA: [12 secs]    \r"
       ]
      },
      {
       "output_type": "stream",
       "stream": "stdout",
       "text": [
        "\r",
        "  20,824,064 Bytes [65.21%] received. Rate: [ 922 KB/s].  ETA: [12 secs]    \r"
       ]
      },
      {
       "output_type": "stream",
       "stream": "stdout",
       "text": [
        "\r",
        "  20,840,448 Bytes [65.26%] received. Rate: [ 922 KB/s].  ETA: [12 secs]    \r"
       ]
      },
      {
       "output_type": "stream",
       "stream": "stdout",
       "text": [
        "\r",
        "  20,856,832 Bytes [65.31%] received. Rate: [ 922 KB/s].  ETA: [12 secs]    \r"
       ]
      },
      {
       "output_type": "stream",
       "stream": "stdout",
       "text": [
        "\r",
        "  20,873,216 Bytes [65.36%] received. Rate: [ 922 KB/s].  ETA: [12 secs]    \r"
       ]
      },
      {
       "output_type": "stream",
       "stream": "stdout",
       "text": [
        "\r",
        "  20,889,600 Bytes [65.42%] received. Rate: [ 922 KB/s].  ETA: [12 secs]    \r"
       ]
      },
      {
       "output_type": "stream",
       "stream": "stdout",
       "text": [
        "\r",
        "  20,905,984 Bytes [65.47%] received. Rate: [ 922 KB/s].  ETA: [12 secs]    \r"
       ]
      },
      {
       "output_type": "stream",
       "stream": "stdout",
       "text": [
        "\r",
        "  20,922,368 Bytes [65.52%] received. Rate: [ 922 KB/s].  ETA: [12 secs]    \r"
       ]
      },
      {
       "output_type": "stream",
       "stream": "stdout",
       "text": [
        "\r",
        "  20,938,752 Bytes [65.57%] received. Rate: [ 923 KB/s].  ETA: [12 secs]    \r"
       ]
      },
      {
       "output_type": "stream",
       "stream": "stdout",
       "text": [
        "\r",
        "  20,955,136 Bytes [65.62%] received. Rate: [ 923 KB/s].  ETA: [12 secs]    \r"
       ]
      },
      {
       "output_type": "stream",
       "stream": "stdout",
       "text": [
        "\r",
        "  20,971,520 Bytes [65.67%] received. Rate: [ 923 KB/s].  ETA: [12 secs]    \r"
       ]
      },
      {
       "output_type": "stream",
       "stream": "stdout",
       "text": [
        "\r",
        "  20,987,904 Bytes [65.72%] received. Rate: [ 923 KB/s].  ETA: [12 secs]    \r"
       ]
      },
      {
       "output_type": "stream",
       "stream": "stdout",
       "text": [
        "\r",
        "  21,004,288 Bytes [65.77%] received. Rate: [ 923 KB/s].  ETA: [12 secs]    \r"
       ]
      },
      {
       "output_type": "stream",
       "stream": "stdout",
       "text": [
        "\r",
        "  21,020,672 Bytes [65.83%] received. Rate: [ 923 KB/s].  ETA: [12 secs]    \r"
       ]
      },
      {
       "output_type": "stream",
       "stream": "stdout",
       "text": [
        "\r",
        "  21,037,056 Bytes [65.88%] received. Rate: [ 923 KB/s].  ETA: [12 secs]    \r"
       ]
      },
      {
       "output_type": "stream",
       "stream": "stdout",
       "text": [
        "\r",
        "  21,053,440 Bytes [65.93%] received. Rate: [ 923 KB/s].  ETA: [12 secs]    \r"
       ]
      },
      {
       "output_type": "stream",
       "stream": "stdout",
       "text": [
        "\r",
        "  21,069,824 Bytes [65.98%] received. Rate: [ 923 KB/s].  ETA: [11 secs]    \r"
       ]
      },
      {
       "output_type": "stream",
       "stream": "stdout",
       "text": [
        "\r",
        "  21,086,208 Bytes [66.03%] received. Rate: [ 923 KB/s].  ETA: [11 secs]    \r"
       ]
      },
      {
       "output_type": "stream",
       "stream": "stdout",
       "text": [
        "\r",
        "  21,102,592 Bytes [66.08%] received. Rate: [ 923 KB/s].  ETA: [11 secs]    \r"
       ]
      },
      {
       "output_type": "stream",
       "stream": "stdout",
       "text": [
        "\r",
        "  21,118,976 Bytes [66.13%] received. Rate: [ 924 KB/s].  ETA: [11 secs]    \r"
       ]
      },
      {
       "output_type": "stream",
       "stream": "stdout",
       "text": [
        "\r",
        "  21,135,360 Bytes [66.18%] received. Rate: [ 924 KB/s].  ETA: [11 secs]    \r"
       ]
      },
      {
       "output_type": "stream",
       "stream": "stdout",
       "text": [
        "\r",
        "  21,151,744 Bytes [66.24%] received. Rate: [ 924 KB/s].  ETA: [11 secs]    \r"
       ]
      },
      {
       "output_type": "stream",
       "stream": "stdout",
       "text": [
        "\r",
        "  21,168,128 Bytes [66.29%] received. Rate: [ 924 KB/s].  ETA: [11 secs]    \r"
       ]
      },
      {
       "output_type": "stream",
       "stream": "stdout",
       "text": [
        "\r",
        "  21,184,512 Bytes [66.34%] received. Rate: [ 924 KB/s].  ETA: [11 secs]    \r"
       ]
      },
      {
       "output_type": "stream",
       "stream": "stdout",
       "text": [
        "\r",
        "  21,200,896 Bytes [66.39%] received. Rate: [ 924 KB/s].  ETA: [11 secs]    \r"
       ]
      },
      {
       "output_type": "stream",
       "stream": "stdout",
       "text": [
        "\r",
        "  21,217,280 Bytes [66.44%] received. Rate: [ 924 KB/s].  ETA: [11 secs]    \r"
       ]
      },
      {
       "output_type": "stream",
       "stream": "stdout",
       "text": [
        "\r",
        "  21,233,664 Bytes [66.49%] received. Rate: [ 924 KB/s].  ETA: [11 secs]    \r"
       ]
      },
      {
       "output_type": "stream",
       "stream": "stdout",
       "text": [
        "\r",
        "  21,250,048 Bytes [66.54%] received. Rate: [ 924 KB/s].  ETA: [11 secs]    \r"
       ]
      },
      {
       "output_type": "stream",
       "stream": "stdout",
       "text": [
        "\r",
        "  21,266,432 Bytes [66.60%] received. Rate: [ 924 KB/s].  ETA: [11 secs]    \r"
       ]
      },
      {
       "output_type": "stream",
       "stream": "stdout",
       "text": [
        "\r",
        "  21,282,816 Bytes [66.65%] received. Rate: [ 924 KB/s].  ETA: [11 secs]    \r"
       ]
      },
      {
       "output_type": "stream",
       "stream": "stdout",
       "text": [
        "\r",
        "  21,299,200 Bytes [66.70%] received. Rate: [ 924 KB/s].  ETA: [11 secs]    \r"
       ]
      },
      {
       "output_type": "stream",
       "stream": "stdout",
       "text": [
        "\r",
        "  21,315,584 Bytes [66.75%] received. Rate: [ 925 KB/s].  ETA: [11 secs]    \r"
       ]
      },
      {
       "output_type": "stream",
       "stream": "stdout",
       "text": [
        "\r",
        "  21,331,968 Bytes [66.80%] received. Rate: [ 925 KB/s].  ETA: [11 secs]    \r"
       ]
      },
      {
       "output_type": "stream",
       "stream": "stdout",
       "text": [
        "\r",
        "  21,348,352 Bytes [66.85%] received. Rate: [ 925 KB/s].  ETA: [11 secs]    \r"
       ]
      },
      {
       "output_type": "stream",
       "stream": "stdout",
       "text": [
        "\r",
        "  21,364,736 Bytes [66.90%] received. Rate: [ 925 KB/s].  ETA: [11 secs]    \r"
       ]
      },
      {
       "output_type": "stream",
       "stream": "stdout",
       "text": [
        "\r",
        "  21,381,120 Bytes [66.95%] received. Rate: [ 925 KB/s].  ETA: [11 secs]    \r"
       ]
      },
      {
       "output_type": "stream",
       "stream": "stdout",
       "text": [
        "\r",
        "  21,397,504 Bytes [67.01%] received. Rate: [ 925 KB/s].  ETA: [11 secs]    \r"
       ]
      },
      {
       "output_type": "stream",
       "stream": "stdout",
       "text": [
        "\r",
        "  21,413,888 Bytes [67.06%] received. Rate: [ 925 KB/s].  ETA: [11 secs]    \r"
       ]
      },
      {
       "output_type": "stream",
       "stream": "stdout",
       "text": [
        "\r",
        "  21,430,272 Bytes [67.11%] received. Rate: [ 925 KB/s].  ETA: [11 secs]    \r"
       ]
      },
      {
       "output_type": "stream",
       "stream": "stdout",
       "text": [
        "\r",
        "  21,446,656 Bytes [67.16%] received. Rate: [ 925 KB/s].  ETA: [11 secs]    \r"
       ]
      },
      {
       "output_type": "stream",
       "stream": "stdout",
       "text": [
        "\r",
        "  21,463,040 Bytes [67.21%] received. Rate: [ 925 KB/s].  ETA: [11 secs]    \r"
       ]
      },
      {
       "output_type": "stream",
       "stream": "stdout",
       "text": [
        "\r",
        "  21,479,424 Bytes [67.26%] received. Rate: [ 925 KB/s].  ETA: [11 secs]    \r"
       ]
      },
      {
       "output_type": "stream",
       "stream": "stdout",
       "text": [
        "\r",
        "  21,495,808 Bytes [67.31%] received. Rate: [ 926 KB/s].  ETA: [11 secs]    \r"
       ]
      },
      {
       "output_type": "stream",
       "stream": "stdout",
       "text": [
        "\r",
        "  21,512,192 Bytes [67.36%] received. Rate: [ 926 KB/s].  ETA: [11 secs]    \r"
       ]
      },
      {
       "output_type": "stream",
       "stream": "stdout",
       "text": [
        "\r",
        "  21,528,576 Bytes [67.42%] received. Rate: [ 926 KB/s].  ETA: [11 secs]    \r"
       ]
      },
      {
       "output_type": "stream",
       "stream": "stdout",
       "text": [
        "\r",
        "  21,544,960 Bytes [67.47%] received. Rate: [ 926 KB/s].  ETA: [11 secs]    \r"
       ]
      },
      {
       "output_type": "stream",
       "stream": "stdout",
       "text": [
        "\r",
        "  21,561,344 Bytes [67.52%] received. Rate: [ 926 KB/s].  ETA: [11 secs]    \r"
       ]
      },
      {
       "output_type": "stream",
       "stream": "stdout",
       "text": [
        "\r",
        "  21,577,728 Bytes [67.57%] received. Rate: [ 926 KB/s].  ETA: [11 secs]    \r"
       ]
      },
      {
       "output_type": "stream",
       "stream": "stdout",
       "text": [
        "\r",
        "  21,594,112 Bytes [67.62%] received. Rate: [ 926 KB/s].  ETA: [11 secs]    \r"
       ]
      },
      {
       "output_type": "stream",
       "stream": "stdout",
       "text": [
        "\r",
        "  21,610,496 Bytes [67.67%] received. Rate: [ 926 KB/s].  ETA: [11 secs]    \r"
       ]
      },
      {
       "output_type": "stream",
       "stream": "stdout",
       "text": [
        "\r",
        "  21,626,880 Bytes [67.72%] received. Rate: [ 926 KB/s].  ETA: [11 secs]    \r"
       ]
      },
      {
       "output_type": "stream",
       "stream": "stdout",
       "text": [
        "\r",
        "  21,643,264 Bytes [67.78%] received. Rate: [ 926 KB/s].  ETA: [11 secs]    \r"
       ]
      },
      {
       "output_type": "stream",
       "stream": "stdout",
       "text": [
        "\r",
        "  21,659,648 Bytes [67.83%] received. Rate: [ 926 KB/s].  ETA: [11 secs]    \r"
       ]
      },
      {
       "output_type": "stream",
       "stream": "stdout",
       "text": [
        "\r",
        "  21,676,032 Bytes [67.88%] received. Rate: [ 926 KB/s].  ETA: [11 secs]    \r"
       ]
      },
      {
       "output_type": "stream",
       "stream": "stdout",
       "text": [
        "\r",
        "  21,692,416 Bytes [67.93%] received. Rate: [ 926 KB/s].  ETA: [11 secs]    \r"
       ]
      },
      {
       "output_type": "stream",
       "stream": "stdout",
       "text": [
        "\r",
        "  21,708,800 Bytes [67.98%] received. Rate: [ 926 KB/s].  ETA: [11 secs]    \r"
       ]
      },
      {
       "output_type": "stream",
       "stream": "stdout",
       "text": [
        "\r",
        "  21,725,184 Bytes [68.03%] received. Rate: [ 926 KB/s].  ETA: [11 secs]    \r"
       ]
      },
      {
       "output_type": "stream",
       "stream": "stdout",
       "text": [
        "\r",
        "  21,741,568 Bytes [68.08%] received. Rate: [ 927 KB/s].  ETA: [11 secs]    \r"
       ]
      },
      {
       "output_type": "stream",
       "stream": "stdout",
       "text": [
        "\r",
        "  21,757,952 Bytes [68.13%] received. Rate: [ 926 KB/s].  ETA: [11 secs]    \r"
       ]
      },
      {
       "output_type": "stream",
       "stream": "stdout",
       "text": [
        "\r",
        "  21,774,336 Bytes [68.19%] received. Rate: [ 927 KB/s].  ETA: [11 secs]    \r"
       ]
      },
      {
       "output_type": "stream",
       "stream": "stdout",
       "text": [
        "\r",
        "  21,790,720 Bytes [68.24%] received. Rate: [ 927 KB/s].  ETA: [11 secs]    \r"
       ]
      },
      {
       "output_type": "stream",
       "stream": "stdout",
       "text": [
        "\r",
        "  21,807,104 Bytes [68.29%] received. Rate: [ 927 KB/s].  ETA: [11 secs]    \r"
       ]
      },
      {
       "output_type": "stream",
       "stream": "stdout",
       "text": [
        "\r",
        "  21,823,488 Bytes [68.34%] received. Rate: [ 927 KB/s].  ETA: [11 secs]    \r"
       ]
      },
      {
       "output_type": "stream",
       "stream": "stdout",
       "text": [
        "\r",
        "  21,839,872 Bytes [68.39%] received. Rate: [ 927 KB/s].  ETA: [11 secs]    \r"
       ]
      },
      {
       "output_type": "stream",
       "stream": "stdout",
       "text": [
        "\r",
        "  21,856,256 Bytes [68.44%] received. Rate: [ 927 KB/s].  ETA: [11 secs]    \r"
       ]
      },
      {
       "output_type": "stream",
       "stream": "stdout",
       "text": [
        "\r",
        "  21,872,640 Bytes [68.49%] received. Rate: [ 927 KB/s].  ETA: [11 secs]    \r"
       ]
      },
      {
       "output_type": "stream",
       "stream": "stdout",
       "text": [
        "\r",
        "  21,889,024 Bytes [68.54%] received. Rate: [ 927 KB/s].  ETA: [11 secs]    \r"
       ]
      },
      {
       "output_type": "stream",
       "stream": "stdout",
       "text": [
        "\r",
        "  21,905,408 Bytes [68.60%] received. Rate: [ 927 KB/s].  ETA: [11 secs]    \r"
       ]
      },
      {
       "output_type": "stream",
       "stream": "stdout",
       "text": [
        "\r",
        "  21,921,792 Bytes [68.65%] received. Rate: [ 927 KB/s].  ETA: [11 secs]    \r"
       ]
      },
      {
       "output_type": "stream",
       "stream": "stdout",
       "text": [
        "\r",
        "  21,938,176 Bytes [68.70%] received. Rate: [ 927 KB/s].  ETA: [11 secs]    \r"
       ]
      },
      {
       "output_type": "stream",
       "stream": "stdout",
       "text": [
        "\r",
        "  21,954,560 Bytes [68.75%] received. Rate: [ 928 KB/s].  ETA: [11 secs]    \r"
       ]
      },
      {
       "output_type": "stream",
       "stream": "stdout",
       "text": [
        "\r",
        "  21,970,944 Bytes [68.80%] received. Rate: [ 928 KB/s].  ETA: [10 secs]    \r"
       ]
      },
      {
       "output_type": "stream",
       "stream": "stdout",
       "text": [
        "\r",
        "  21,987,328 Bytes [68.85%] received. Rate: [ 928 KB/s].  ETA: [10 secs]    \r"
       ]
      },
      {
       "output_type": "stream",
       "stream": "stdout",
       "text": [
        "\r",
        "  22,003,712 Bytes [68.90%] received. Rate: [ 928 KB/s].  ETA: [10 secs]    \r"
       ]
      },
      {
       "output_type": "stream",
       "stream": "stdout",
       "text": [
        "\r",
        "  22,020,096 Bytes [68.96%] received. Rate: [ 928 KB/s].  ETA: [10 secs]    \r"
       ]
      },
      {
       "output_type": "stream",
       "stream": "stdout",
       "text": [
        "\r",
        "  22,036,480 Bytes [69.01%] received. Rate: [ 928 KB/s].  ETA: [10 secs]    \r"
       ]
      },
      {
       "output_type": "stream",
       "stream": "stdout",
       "text": [
        "\r",
        "  22,052,864 Bytes [69.06%] received. Rate: [ 928 KB/s].  ETA: [10 secs]    \r"
       ]
      },
      {
       "output_type": "stream",
       "stream": "stdout",
       "text": [
        "\r",
        "  22,069,248 Bytes [69.11%] received. Rate: [ 928 KB/s].  ETA: [10 secs]    \r"
       ]
      },
      {
       "output_type": "stream",
       "stream": "stdout",
       "text": [
        "\r",
        "  22,085,632 Bytes [69.16%] received. Rate: [ 928 KB/s].  ETA: [10 secs]    \r"
       ]
      },
      {
       "output_type": "stream",
       "stream": "stdout",
       "text": [
        "\r",
        "  22,102,016 Bytes [69.21%] received. Rate: [ 928 KB/s].  ETA: [10 secs]    \r"
       ]
      },
      {
       "output_type": "stream",
       "stream": "stdout",
       "text": [
        "\r",
        "  22,118,400 Bytes [69.26%] received. Rate: [ 928 KB/s].  ETA: [10 secs]    \r"
       ]
      },
      {
       "output_type": "stream",
       "stream": "stdout",
       "text": [
        "\r",
        "  22,134,784 Bytes [69.31%] received. Rate: [ 928 KB/s].  ETA: [10 secs]    \r"
       ]
      },
      {
       "output_type": "stream",
       "stream": "stdout",
       "text": [
        "\r",
        "  22,151,168 Bytes [69.37%] received. Rate: [ 929 KB/s].  ETA: [10 secs]    \r"
       ]
      },
      {
       "output_type": "stream",
       "stream": "stdout",
       "text": [
        "\r",
        "  22,167,552 Bytes [69.42%] received. Rate: [ 929 KB/s].  ETA: [10 secs]    \r"
       ]
      },
      {
       "output_type": "stream",
       "stream": "stdout",
       "text": [
        "\r",
        "  22,183,936 Bytes [69.47%] received. Rate: [ 929 KB/s].  ETA: [10 secs]    \r"
       ]
      },
      {
       "output_type": "stream",
       "stream": "stdout",
       "text": [
        "\r",
        "  22,200,320 Bytes [69.52%] received. Rate: [ 929 KB/s].  ETA: [10 secs]    \r"
       ]
      },
      {
       "output_type": "stream",
       "stream": "stdout",
       "text": [
        "\r",
        "  22,216,704 Bytes [69.57%] received. Rate: [ 929 KB/s].  ETA: [10 secs]    \r"
       ]
      },
      {
       "output_type": "stream",
       "stream": "stdout",
       "text": [
        "\r",
        "  22,233,088 Bytes [69.62%] received. Rate: [ 929 KB/s].  ETA: [10 secs]    \r"
       ]
      },
      {
       "output_type": "stream",
       "stream": "stdout",
       "text": [
        "\r",
        "  22,249,472 Bytes [69.67%] received. Rate: [ 929 KB/s].  ETA: [10 secs]    \r"
       ]
      },
      {
       "output_type": "stream",
       "stream": "stdout",
       "text": [
        "\r",
        "  22,265,856 Bytes [69.72%] received. Rate: [ 929 KB/s].  ETA: [10 secs]    \r"
       ]
      },
      {
       "output_type": "stream",
       "stream": "stdout",
       "text": [
        "\r",
        "  22,282,240 Bytes [69.78%] received. Rate: [ 929 KB/s].  ETA: [10 secs]    \r"
       ]
      },
      {
       "output_type": "stream",
       "stream": "stdout",
       "text": [
        "\r",
        "  22,298,624 Bytes [69.83%] received. Rate: [ 929 KB/s].  ETA: [10 secs]    \r"
       ]
      },
      {
       "output_type": "stream",
       "stream": "stdout",
       "text": [
        "\r",
        "  22,315,008 Bytes [69.88%] received. Rate: [ 929 KB/s].  ETA: [10 secs]    \r"
       ]
      },
      {
       "output_type": "stream",
       "stream": "stdout",
       "text": [
        "\r",
        "  22,331,392 Bytes [69.93%] received. Rate: [ 929 KB/s].  ETA: [10 secs]    \r"
       ]
      },
      {
       "output_type": "stream",
       "stream": "stdout",
       "text": [
        "\r",
        "  22,347,776 Bytes [69.98%] received. Rate: [ 929 KB/s].  ETA: [10 secs]    \r"
       ]
      },
      {
       "output_type": "stream",
       "stream": "stdout",
       "text": [
        "\r",
        "  22,364,160 Bytes [70.03%] received. Rate: [ 930 KB/s].  ETA: [10 secs]    \r"
       ]
      },
      {
       "output_type": "stream",
       "stream": "stdout",
       "text": [
        "\r",
        "  22,380,544 Bytes [70.08%] received. Rate: [ 930 KB/s].  ETA: [10 secs]    \r"
       ]
      },
      {
       "output_type": "stream",
       "stream": "stdout",
       "text": [
        "\r",
        "  22,396,928 Bytes [70.14%] received. Rate: [ 930 KB/s].  ETA: [10 secs]    \r"
       ]
      },
      {
       "output_type": "stream",
       "stream": "stdout",
       "text": [
        "\r",
        "  22,413,312 Bytes [70.19%] received. Rate: [ 930 KB/s].  ETA: [10 secs]    \r"
       ]
      },
      {
       "output_type": "stream",
       "stream": "stdout",
       "text": [
        "\r",
        "  22,429,696 Bytes [70.24%] received. Rate: [ 930 KB/s].  ETA: [10 secs]    \r"
       ]
      },
      {
       "output_type": "stream",
       "stream": "stdout",
       "text": [
        "\r",
        "  22,446,080 Bytes [70.29%] received. Rate: [ 930 KB/s].  ETA: [10 secs]    \r"
       ]
      },
      {
       "output_type": "stream",
       "stream": "stdout",
       "text": [
        "\r",
        "  22,462,464 Bytes [70.34%] received. Rate: [ 930 KB/s].  ETA: [10 secs]    \r"
       ]
      },
      {
       "output_type": "stream",
       "stream": "stdout",
       "text": [
        "\r",
        "  22,478,848 Bytes [70.39%] received. Rate: [ 930 KB/s].  ETA: [10 secs]    \r"
       ]
      },
      {
       "output_type": "stream",
       "stream": "stdout",
       "text": [
        "\r",
        "  22,495,232 Bytes [70.44%] received. Rate: [ 930 KB/s].  ETA: [10 secs]    \r"
       ]
      },
      {
       "output_type": "stream",
       "stream": "stdout",
       "text": [
        "\r",
        "  22,511,616 Bytes [70.49%] received. Rate: [ 930 KB/s].  ETA: [10 secs]    \r"
       ]
      },
      {
       "output_type": "stream",
       "stream": "stdout",
       "text": [
        "\r",
        "  22,528,000 Bytes [70.55%] received. Rate: [ 930 KB/s].  ETA: [10 secs]    \r"
       ]
      },
      {
       "output_type": "stream",
       "stream": "stdout",
       "text": [
        "\r",
        "  22,544,384 Bytes [70.60%] received. Rate: [ 931 KB/s].  ETA: [10 secs]    \r"
       ]
      },
      {
       "output_type": "stream",
       "stream": "stdout",
       "text": [
        "\r",
        "  22,560,768 Bytes [70.65%] received. Rate: [ 931 KB/s].  ETA: [10 secs]    \r"
       ]
      },
      {
       "output_type": "stream",
       "stream": "stdout",
       "text": [
        "\r",
        "  22,577,152 Bytes [70.70%] received. Rate: [ 931 KB/s].  ETA: [10 secs]    \r"
       ]
      },
      {
       "output_type": "stream",
       "stream": "stdout",
       "text": [
        "\r",
        "  22,593,536 Bytes [70.75%] received. Rate: [ 931 KB/s].  ETA: [10 secs]    \r"
       ]
      },
      {
       "output_type": "stream",
       "stream": "stdout",
       "text": [
        "\r",
        "  22,609,920 Bytes [70.80%] received. Rate: [ 931 KB/s].  ETA: [10 secs]    \r"
       ]
      },
      {
       "output_type": "stream",
       "stream": "stdout",
       "text": [
        "\r",
        "  22,626,304 Bytes [70.85%] received. Rate: [ 931 KB/s].  ETA: [10 secs]    \r"
       ]
      },
      {
       "output_type": "stream",
       "stream": "stdout",
       "text": [
        "\r",
        "  22,642,688 Bytes [70.90%] received. Rate: [ 931 KB/s].  ETA: [10 secs]    \r"
       ]
      },
      {
       "output_type": "stream",
       "stream": "stdout",
       "text": [
        "\r",
        "  22,659,072 Bytes [70.96%] received. Rate: [ 931 KB/s].  ETA: [10 secs]    \r"
       ]
      },
      {
       "output_type": "stream",
       "stream": "stdout",
       "text": [
        "\r",
        "  22,675,456 Bytes [71.01%] received. Rate: [ 931 KB/s].  ETA: [10 secs]    \r"
       ]
      },
      {
       "output_type": "stream",
       "stream": "stdout",
       "text": [
        "\r",
        "  22,691,840 Bytes [71.06%] received. Rate: [ 931 KB/s].  ETA: [10 secs]    \r"
       ]
      },
      {
       "output_type": "stream",
       "stream": "stdout",
       "text": [
        "\r",
        "  22,708,224 Bytes [71.11%] received. Rate: [ 931 KB/s].  ETA: [10 secs]    \r"
       ]
      },
      {
       "output_type": "stream",
       "stream": "stdout",
       "text": [
        "\r",
        "  22,724,608 Bytes [71.16%] received. Rate: [ 931 KB/s].  ETA: [10 secs]    \r"
       ]
      },
      {
       "output_type": "stream",
       "stream": "stdout",
       "text": [
        "\r",
        "  22,740,992 Bytes [71.21%] received. Rate: [ 932 KB/s].  ETA: [10 secs]    \r"
       ]
      },
      {
       "output_type": "stream",
       "stream": "stdout",
       "text": [
        "\r",
        "  22,757,376 Bytes [71.26%] received. Rate: [ 932 KB/s].  ETA: [10 secs]    \r"
       ]
      },
      {
       "output_type": "stream",
       "stream": "stdout",
       "text": [
        "\r",
        "  22,773,760 Bytes [71.32%] received. Rate: [ 932 KB/s].  ETA: [10 secs]    \r"
       ]
      },
      {
       "output_type": "stream",
       "stream": "stdout",
       "text": [
        "\r",
        "  22,790,144 Bytes [71.37%] received. Rate: [ 932 KB/s].  ETA: [10 secs]    \r"
       ]
      },
      {
       "output_type": "stream",
       "stream": "stdout",
       "text": [
        "\r",
        "  22,806,528 Bytes [71.42%] received. Rate: [ 932 KB/s].  ETA: [10 secs]    \r"
       ]
      },
      {
       "output_type": "stream",
       "stream": "stdout",
       "text": [
        "\r",
        "  22,822,912 Bytes [71.47%] received. Rate: [ 932 KB/s].  ETA: [10 secs]    \r"
       ]
      },
      {
       "output_type": "stream",
       "stream": "stdout",
       "text": [
        "\r",
        "  22,839,296 Bytes [71.52%] received. Rate: [ 932 KB/s].  ETA: [10 secs]    \r"
       ]
      },
      {
       "output_type": "stream",
       "stream": "stdout",
       "text": [
        "\r",
        "  22,855,680 Bytes [71.57%] received. Rate: [ 932 KB/s].  ETA: [10 secs]    \r"
       ]
      },
      {
       "output_type": "stream",
       "stream": "stdout",
       "text": [
        "\r",
        "  22,872,064 Bytes [71.62%] received. Rate: [ 932 KB/s].  ETA: [9 secs]    \r"
       ]
      },
      {
       "output_type": "stream",
       "stream": "stdout",
       "text": [
        "\r",
        "  22,888,448 Bytes [71.67%] received. Rate: [ 932 KB/s].  ETA: [9 secs]    \r"
       ]
      },
      {
       "output_type": "stream",
       "stream": "stdout",
       "text": [
        "\r",
        "  22,904,832 Bytes [71.73%] received. Rate: [ 932 KB/s].  ETA: [9 secs]    \r"
       ]
      },
      {
       "output_type": "stream",
       "stream": "stdout",
       "text": [
        "\r",
        "  22,921,216 Bytes [71.78%] received. Rate: [ 932 KB/s].  ETA: [9 secs]    \r"
       ]
      },
      {
       "output_type": "stream",
       "stream": "stdout",
       "text": [
        "\r",
        "  22,937,600 Bytes [71.83%] received. Rate: [ 932 KB/s].  ETA: [9 secs]    \r"
       ]
      },
      {
       "output_type": "stream",
       "stream": "stdout",
       "text": [
        "\r",
        "  22,953,984 Bytes [71.88%] received. Rate: [ 933 KB/s].  ETA: [9 secs]    \r"
       ]
      },
      {
       "output_type": "stream",
       "stream": "stdout",
       "text": [
        "\r",
        "  22,970,368 Bytes [71.93%] received. Rate: [ 933 KB/s].  ETA: [9 secs]    \r"
       ]
      },
      {
       "output_type": "stream",
       "stream": "stdout",
       "text": [
        "\r",
        "  22,986,752 Bytes [71.98%] received. Rate: [ 933 KB/s].  ETA: [9 secs]    \r"
       ]
      },
      {
       "output_type": "stream",
       "stream": "stdout",
       "text": [
        "\r",
        "  23,003,136 Bytes [72.03%] received. Rate: [ 933 KB/s].  ETA: [9 secs]    \r"
       ]
      },
      {
       "output_type": "stream",
       "stream": "stdout",
       "text": [
        "\r",
        "  23,019,520 Bytes [72.08%] received. Rate: [ 933 KB/s].  ETA: [9 secs]    \r"
       ]
      },
      {
       "output_type": "stream",
       "stream": "stdout",
       "text": [
        "\r",
        "  23,035,904 Bytes [72.14%] received. Rate: [ 933 KB/s].  ETA: [9 secs]    \r"
       ]
      },
      {
       "output_type": "stream",
       "stream": "stdout",
       "text": [
        "\r",
        "  23,052,288 Bytes [72.19%] received. Rate: [ 933 KB/s].  ETA: [9 secs]    \r"
       ]
      },
      {
       "output_type": "stream",
       "stream": "stdout",
       "text": [
        "\r",
        "  23,068,672 Bytes [72.24%] received. Rate: [ 933 KB/s].  ETA: [9 secs]    \r"
       ]
      },
      {
       "output_type": "stream",
       "stream": "stdout",
       "text": [
        "\r",
        "  23,085,056 Bytes [72.29%] received. Rate: [ 933 KB/s].  ETA: [9 secs]    \r"
       ]
      },
      {
       "output_type": "stream",
       "stream": "stdout",
       "text": [
        "\r",
        "  23,101,440 Bytes [72.34%] received. Rate: [ 933 KB/s].  ETA: [9 secs]    \r"
       ]
      },
      {
       "output_type": "stream",
       "stream": "stdout",
       "text": [
        "\r",
        "  23,117,824 Bytes [72.39%] received. Rate: [ 933 KB/s].  ETA: [9 secs]    \r"
       ]
      },
      {
       "output_type": "stream",
       "stream": "stdout",
       "text": [
        "\r",
        "  23,134,208 Bytes [72.44%] received. Rate: [ 933 KB/s].  ETA: [9 secs]    \r"
       ]
      },
      {
       "output_type": "stream",
       "stream": "stdout",
       "text": [
        "\r",
        "  23,150,592 Bytes [72.50%] received. Rate: [ 933 KB/s].  ETA: [9 secs]    \r"
       ]
      },
      {
       "output_type": "stream",
       "stream": "stdout",
       "text": [
        "\r",
        "  23,166,976 Bytes [72.55%] received. Rate: [ 933 KB/s].  ETA: [9 secs]    \r"
       ]
      },
      {
       "output_type": "stream",
       "stream": "stdout",
       "text": [
        "\r",
        "  23,183,360 Bytes [72.60%] received. Rate: [ 934 KB/s].  ETA: [9 secs]    \r"
       ]
      },
      {
       "output_type": "stream",
       "stream": "stdout",
       "text": [
        "\r",
        "  23,199,744 Bytes [72.65%] received. Rate: [ 934 KB/s].  ETA: [9 secs]    \r"
       ]
      },
      {
       "output_type": "stream",
       "stream": "stdout",
       "text": [
        "\r",
        "  23,216,128 Bytes [72.70%] received. Rate: [ 934 KB/s].  ETA: [9 secs]    \r"
       ]
      },
      {
       "output_type": "stream",
       "stream": "stdout",
       "text": [
        "\r",
        "  23,232,512 Bytes [72.75%] received. Rate: [ 934 KB/s].  ETA: [9 secs]    \r"
       ]
      },
      {
       "output_type": "stream",
       "stream": "stdout",
       "text": [
        "\r",
        "  23,248,896 Bytes [72.80%] received. Rate: [ 934 KB/s].  ETA: [9 secs]    \r"
       ]
      },
      {
       "output_type": "stream",
       "stream": "stdout",
       "text": [
        "\r",
        "  23,265,280 Bytes [72.85%] received. Rate: [ 934 KB/s].  ETA: [9 secs]    \r"
       ]
      },
      {
       "output_type": "stream",
       "stream": "stdout",
       "text": [
        "\r",
        "  23,281,664 Bytes [72.91%] received. Rate: [ 934 KB/s].  ETA: [9 secs]    \r"
       ]
      },
      {
       "output_type": "stream",
       "stream": "stdout",
       "text": [
        "\r",
        "  23,298,048 Bytes [72.96%] received. Rate: [ 934 KB/s].  ETA: [9 secs]    \r"
       ]
      },
      {
       "output_type": "stream",
       "stream": "stdout",
       "text": [
        "\r",
        "  23,314,432 Bytes [73.01%] received. Rate: [ 934 KB/s].  ETA: [9 secs]    \r"
       ]
      },
      {
       "output_type": "stream",
       "stream": "stdout",
       "text": [
        "\r",
        "  23,330,816 Bytes [73.06%] received. Rate: [ 934 KB/s].  ETA: [9 secs]    \r"
       ]
      },
      {
       "output_type": "stream",
       "stream": "stdout",
       "text": [
        "\r",
        "  23,347,200 Bytes [73.11%] received. Rate: [ 934 KB/s].  ETA: [9 secs]    \r"
       ]
      },
      {
       "output_type": "stream",
       "stream": "stdout",
       "text": [
        "\r",
        "  23,363,584 Bytes [73.16%] received. Rate: [ 935 KB/s].  ETA: [9 secs]    \r"
       ]
      },
      {
       "output_type": "stream",
       "stream": "stdout",
       "text": [
        "\r",
        "  23,379,968 Bytes [73.21%] received. Rate: [ 934 KB/s].  ETA: [9 secs]    \r"
       ]
      },
      {
       "output_type": "stream",
       "stream": "stdout",
       "text": [
        "\r",
        "  23,396,352 Bytes [73.26%] received. Rate: [ 935 KB/s].  ETA: [9 secs]    \r"
       ]
      },
      {
       "output_type": "stream",
       "stream": "stdout",
       "text": [
        "\r",
        "  23,412,736 Bytes [73.32%] received. Rate: [ 935 KB/s].  ETA: [9 secs]    \r"
       ]
      },
      {
       "output_type": "stream",
       "stream": "stdout",
       "text": [
        "\r",
        "  23,429,120 Bytes [73.37%] received. Rate: [ 935 KB/s].  ETA: [9 secs]    \r"
       ]
      },
      {
       "output_type": "stream",
       "stream": "stdout",
       "text": [
        "\r",
        "  23,445,504 Bytes [73.42%] received. Rate: [ 935 KB/s].  ETA: [9 secs]    \r"
       ]
      },
      {
       "output_type": "stream",
       "stream": "stdout",
       "text": [
        "\r",
        "  23,461,888 Bytes [73.47%] received. Rate: [ 935 KB/s].  ETA: [9 secs]    \r"
       ]
      },
      {
       "output_type": "stream",
       "stream": "stdout",
       "text": [
        "\r",
        "  23,478,272 Bytes [73.52%] received. Rate: [ 935 KB/s].  ETA: [9 secs]    \r"
       ]
      },
      {
       "output_type": "stream",
       "stream": "stdout",
       "text": [
        "\r",
        "  23,494,656 Bytes [73.57%] received. Rate: [ 935 KB/s].  ETA: [9 secs]    \r"
       ]
      },
      {
       "output_type": "stream",
       "stream": "stdout",
       "text": [
        "\r",
        "  23,511,040 Bytes [73.62%] received. Rate: [ 935 KB/s].  ETA: [9 secs]    \r"
       ]
      },
      {
       "output_type": "stream",
       "stream": "stdout",
       "text": [
        "\r",
        "  23,527,424 Bytes [73.68%] received. Rate: [ 935 KB/s].  ETA: [9 secs]    \r"
       ]
      },
      {
       "output_type": "stream",
       "stream": "stdout",
       "text": [
        "\r",
        "  23,543,808 Bytes [73.73%] received. Rate: [ 935 KB/s].  ETA: [9 secs]    \r"
       ]
      },
      {
       "output_type": "stream",
       "stream": "stdout",
       "text": [
        "\r",
        "  23,560,192 Bytes [73.78%] received. Rate: [ 935 KB/s].  ETA: [9 secs]    \r"
       ]
      },
      {
       "output_type": "stream",
       "stream": "stdout",
       "text": [
        "\r",
        "  23,576,576 Bytes [73.83%] received. Rate: [ 935 KB/s].  ETA: [9 secs]    \r"
       ]
      },
      {
       "output_type": "stream",
       "stream": "stdout",
       "text": [
        "\r",
        "  23,592,960 Bytes [73.88%] received. Rate: [ 935 KB/s].  ETA: [9 secs]    \r"
       ]
      },
      {
       "output_type": "stream",
       "stream": "stdout",
       "text": [
        "\r",
        "  23,609,344 Bytes [73.93%] received. Rate: [ 936 KB/s].  ETA: [9 secs]    \r"
       ]
      },
      {
       "output_type": "stream",
       "stream": "stdout",
       "text": [
        "\r",
        "  23,625,728 Bytes [73.98%] received. Rate: [ 936 KB/s].  ETA: [9 secs]    \r"
       ]
      },
      {
       "output_type": "stream",
       "stream": "stdout",
       "text": [
        "\r",
        "  23,642,112 Bytes [74.03%] received. Rate: [ 936 KB/s].  ETA: [9 secs]    \r"
       ]
      },
      {
       "output_type": "stream",
       "stream": "stdout",
       "text": [
        "\r",
        "  23,658,496 Bytes [74.09%] received. Rate: [ 936 KB/s].  ETA: [9 secs]    \r"
       ]
      },
      {
       "output_type": "stream",
       "stream": "stdout",
       "text": [
        "\r",
        "  23,674,880 Bytes [74.14%] received. Rate: [ 936 KB/s].  ETA: [9 secs]    \r"
       ]
      },
      {
       "output_type": "stream",
       "stream": "stdout",
       "text": [
        "\r",
        "  23,691,264 Bytes [74.19%] received. Rate: [ 936 KB/s].  ETA: [9 secs]    \r"
       ]
      },
      {
       "output_type": "stream",
       "stream": "stdout",
       "text": [
        "\r",
        "  23,707,648 Bytes [74.24%] received. Rate: [ 936 KB/s].  ETA: [9 secs]    \r"
       ]
      },
      {
       "output_type": "stream",
       "stream": "stdout",
       "text": [
        "\r",
        "  23,724,032 Bytes [74.29%] received. Rate: [ 936 KB/s].  ETA: [9 secs]    \r"
       ]
      },
      {
       "output_type": "stream",
       "stream": "stdout",
       "text": [
        "\r",
        "  23,740,416 Bytes [74.34%] received. Rate: [ 936 KB/s].  ETA: [9 secs]    \r"
       ]
      },
      {
       "output_type": "stream",
       "stream": "stdout",
       "text": [
        "\r",
        "  23,756,800 Bytes [74.39%] received. Rate: [ 936 KB/s].  ETA: [9 secs]    \r"
       ]
      },
      {
       "output_type": "stream",
       "stream": "stdout",
       "text": [
        "\r",
        "  23,773,184 Bytes [74.44%] received. Rate: [ 936 KB/s].  ETA: [9 secs]    \r"
       ]
      },
      {
       "output_type": "stream",
       "stream": "stdout",
       "text": [
        "\r",
        "  23,789,568 Bytes [74.50%] received. Rate: [ 936 KB/s].  ETA: [8 secs]    \r"
       ]
      },
      {
       "output_type": "stream",
       "stream": "stdout",
       "text": [
        "\r",
        "  23,805,952 Bytes [74.55%] received. Rate: [ 936 KB/s].  ETA: [8 secs]    \r"
       ]
      },
      {
       "output_type": "stream",
       "stream": "stdout",
       "text": [
        "\r",
        "  23,822,336 Bytes [74.60%] received. Rate: [ 937 KB/s].  ETA: [8 secs]    \r"
       ]
      },
      {
       "output_type": "stream",
       "stream": "stdout",
       "text": [
        "\r",
        "  23,838,720 Bytes [74.65%] received. Rate: [ 936 KB/s].  ETA: [8 secs]    \r"
       ]
      },
      {
       "output_type": "stream",
       "stream": "stdout",
       "text": [
        "\r",
        "  23,855,104 Bytes [74.70%] received. Rate: [ 937 KB/s].  ETA: [8 secs]    \r"
       ]
      },
      {
       "output_type": "stream",
       "stream": "stdout",
       "text": [
        "\r",
        "  23,871,488 Bytes [74.75%] received. Rate: [ 937 KB/s].  ETA: [8 secs]    \r"
       ]
      },
      {
       "output_type": "stream",
       "stream": "stdout",
       "text": [
        "\r",
        "  23,887,872 Bytes [74.80%] received. Rate: [ 937 KB/s].  ETA: [8 secs]    \r"
       ]
      },
      {
       "output_type": "stream",
       "stream": "stdout",
       "text": [
        "\r",
        "  23,904,256 Bytes [74.86%] received. Rate: [ 937 KB/s].  ETA: [8 secs]    \r"
       ]
      },
      {
       "output_type": "stream",
       "stream": "stdout",
       "text": [
        "\r",
        "  23,920,640 Bytes [74.91%] received. Rate: [ 937 KB/s].  ETA: [8 secs]    \r"
       ]
      },
      {
       "output_type": "stream",
       "stream": "stdout",
       "text": [
        "\r",
        "  23,937,024 Bytes [74.96%] received. Rate: [ 937 KB/s].  ETA: [8 secs]    \r"
       ]
      },
      {
       "output_type": "stream",
       "stream": "stdout",
       "text": [
        "\r",
        "  23,953,408 Bytes [75.01%] received. Rate: [ 937 KB/s].  ETA: [8 secs]    \r"
       ]
      },
      {
       "output_type": "stream",
       "stream": "stdout",
       "text": [
        "\r",
        "  23,969,792 Bytes [75.06%] received. Rate: [ 937 KB/s].  ETA: [8 secs]    \r"
       ]
      },
      {
       "output_type": "stream",
       "stream": "stdout",
       "text": [
        "\r",
        "  23,986,176 Bytes [75.11%] received. Rate: [ 937 KB/s].  ETA: [8 secs]    \r"
       ]
      },
      {
       "output_type": "stream",
       "stream": "stdout",
       "text": [
        "\r",
        "  24,002,560 Bytes [75.16%] received. Rate: [ 937 KB/s].  ETA: [8 secs]    \r"
       ]
      },
      {
       "output_type": "stream",
       "stream": "stdout",
       "text": [
        "\r",
        "  24,018,944 Bytes [75.21%] received. Rate: [ 937 KB/s].  ETA: [8 secs]    \r"
       ]
      },
      {
       "output_type": "stream",
       "stream": "stdout",
       "text": [
        "\r",
        "  24,035,328 Bytes [75.27%] received. Rate: [ 938 KB/s].  ETA: [8 secs]    \r"
       ]
      },
      {
       "output_type": "stream",
       "stream": "stdout",
       "text": [
        "\r",
        "  24,051,712 Bytes [75.32%] received. Rate: [ 938 KB/s].  ETA: [8 secs]    \r"
       ]
      },
      {
       "output_type": "stream",
       "stream": "stdout",
       "text": [
        "\r",
        "  24,068,096 Bytes [75.37%] received. Rate: [ 938 KB/s].  ETA: [8 secs]    \r"
       ]
      },
      {
       "output_type": "stream",
       "stream": "stdout",
       "text": [
        "\r",
        "  24,084,480 Bytes [75.42%] received. Rate: [ 938 KB/s].  ETA: [8 secs]    \r"
       ]
      },
      {
       "output_type": "stream",
       "stream": "stdout",
       "text": [
        "\r",
        "  24,100,864 Bytes [75.47%] received. Rate: [ 938 KB/s].  ETA: [8 secs]    \r"
       ]
      },
      {
       "output_type": "stream",
       "stream": "stdout",
       "text": [
        "\r",
        "  24,117,248 Bytes [75.52%] received. Rate: [ 938 KB/s].  ETA: [8 secs]    \r"
       ]
      },
      {
       "output_type": "stream",
       "stream": "stdout",
       "text": [
        "\r",
        "  24,133,632 Bytes [75.57%] received. Rate: [ 938 KB/s].  ETA: [8 secs]    \r"
       ]
      },
      {
       "output_type": "stream",
       "stream": "stdout",
       "text": [
        "\r",
        "  24,150,016 Bytes [75.62%] received. Rate: [ 938 KB/s].  ETA: [8 secs]    \r"
       ]
      },
      {
       "output_type": "stream",
       "stream": "stdout",
       "text": [
        "\r",
        "  24,166,400 Bytes [75.68%] received. Rate: [ 938 KB/s].  ETA: [8 secs]    \r"
       ]
      },
      {
       "output_type": "stream",
       "stream": "stdout",
       "text": [
        "\r",
        "  24,182,784 Bytes [75.73%] received. Rate: [ 938 KB/s].  ETA: [8 secs]    \r"
       ]
      },
      {
       "output_type": "stream",
       "stream": "stdout",
       "text": [
        "\r",
        "  24,199,168 Bytes [75.78%] received. Rate: [ 938 KB/s].  ETA: [8 secs]    \r"
       ]
      },
      {
       "output_type": "stream",
       "stream": "stdout",
       "text": [
        "\r",
        "  24,215,552 Bytes [75.83%] received. Rate: [ 938 KB/s].  ETA: [8 secs]    \r"
       ]
      },
      {
       "output_type": "stream",
       "stream": "stdout",
       "text": [
        "\r",
        "  24,231,936 Bytes [75.88%] received. Rate: [ 938 KB/s].  ETA: [8 secs]    \r"
       ]
      },
      {
       "output_type": "stream",
       "stream": "stdout",
       "text": [
        "\r",
        "  24,248,320 Bytes [75.93%] received. Rate: [ 938 KB/s].  ETA: [8 secs]    \r"
       ]
      },
      {
       "output_type": "stream",
       "stream": "stdout",
       "text": [
        "\r",
        "  24,264,704 Bytes [75.98%] received. Rate: [ 938 KB/s].  ETA: [8 secs]    \r"
       ]
      },
      {
       "output_type": "stream",
       "stream": "stdout",
       "text": [
        "\r",
        "  24,281,088 Bytes [76.04%] received. Rate: [ 939 KB/s].  ETA: [8 secs]    \r"
       ]
      },
      {
       "output_type": "stream",
       "stream": "stdout",
       "text": [
        "\r",
        "  24,297,472 Bytes [76.09%] received. Rate: [ 939 KB/s].  ETA: [8 secs]    \r"
       ]
      },
      {
       "output_type": "stream",
       "stream": "stdout",
       "text": [
        "\r",
        "  24,313,856 Bytes [76.14%] received. Rate: [ 939 KB/s].  ETA: [8 secs]    \r"
       ]
      },
      {
       "output_type": "stream",
       "stream": "stdout",
       "text": [
        "\r",
        "  24,330,240 Bytes [76.19%] received. Rate: [ 939 KB/s].  ETA: [8 secs]    \r"
       ]
      },
      {
       "output_type": "stream",
       "stream": "stdout",
       "text": [
        "\r",
        "  24,346,624 Bytes [76.24%] received. Rate: [ 939 KB/s].  ETA: [8 secs]    \r"
       ]
      },
      {
       "output_type": "stream",
       "stream": "stdout",
       "text": [
        "\r",
        "  24,363,008 Bytes [76.29%] received. Rate: [ 939 KB/s].  ETA: [8 secs]    \r"
       ]
      },
      {
       "output_type": "stream",
       "stream": "stdout",
       "text": [
        "\r",
        "  24,379,392 Bytes [76.34%] received. Rate: [ 939 KB/s].  ETA: [8 secs]    \r"
       ]
      },
      {
       "output_type": "stream",
       "stream": "stdout",
       "text": [
        "\r",
        "  24,395,776 Bytes [76.39%] received. Rate: [ 939 KB/s].  ETA: [8 secs]    \r"
       ]
      },
      {
       "output_type": "stream",
       "stream": "stdout",
       "text": [
        "\r",
        "  24,412,160 Bytes [76.45%] received. Rate: [ 939 KB/s].  ETA: [8 secs]    \r"
       ]
      },
      {
       "output_type": "stream",
       "stream": "stdout",
       "text": [
        "\r",
        "  24,428,544 Bytes [76.50%] received. Rate: [ 939 KB/s].  ETA: [8 secs]    \r"
       ]
      },
      {
       "output_type": "stream",
       "stream": "stdout",
       "text": [
        "\r",
        "  24,444,928 Bytes [76.55%] received. Rate: [ 939 KB/s].  ETA: [8 secs]    \r"
       ]
      },
      {
       "output_type": "stream",
       "stream": "stdout",
       "text": [
        "\r",
        "  24,461,312 Bytes [76.60%] received. Rate: [ 939 KB/s].  ETA: [8 secs]    \r"
       ]
      },
      {
       "output_type": "stream",
       "stream": "stdout",
       "text": [
        "\r",
        "  24,477,696 Bytes [76.65%] received. Rate: [ 939 KB/s].  ETA: [8 secs]    \r"
       ]
      },
      {
       "output_type": "stream",
       "stream": "stdout",
       "text": [
        "\r",
        "  24,494,080 Bytes [76.70%] received. Rate: [ 940 KB/s].  ETA: [8 secs]    \r"
       ]
      },
      {
       "output_type": "stream",
       "stream": "stdout",
       "text": [
        "\r",
        "  24,510,464 Bytes [76.75%] received. Rate: [ 940 KB/s].  ETA: [8 secs]    \r"
       ]
      },
      {
       "output_type": "stream",
       "stream": "stdout",
       "text": [
        "\r",
        "  24,526,848 Bytes [76.80%] received. Rate: [ 940 KB/s].  ETA: [8 secs]    \r"
       ]
      },
      {
       "output_type": "stream",
       "stream": "stdout",
       "text": [
        "\r",
        "  24,543,232 Bytes [76.86%] received. Rate: [ 940 KB/s].  ETA: [8 secs]    \r"
       ]
      },
      {
       "output_type": "stream",
       "stream": "stdout",
       "text": [
        "\r",
        "  24,559,616 Bytes [76.91%] received. Rate: [ 940 KB/s].  ETA: [8 secs]    \r"
       ]
      },
      {
       "output_type": "stream",
       "stream": "stdout",
       "text": [
        "\r",
        "  24,576,000 Bytes [76.96%] received. Rate: [ 940 KB/s].  ETA: [8 secs]    \r"
       ]
      },
      {
       "output_type": "stream",
       "stream": "stdout",
       "text": [
        "\r",
        "  24,592,384 Bytes [77.01%] received. Rate: [ 940 KB/s].  ETA: [8 secs]    \r"
       ]
      },
      {
       "output_type": "stream",
       "stream": "stdout",
       "text": [
        "\r",
        "  24,608,768 Bytes [77.06%] received. Rate: [ 940 KB/s].  ETA: [8 secs]    \r"
       ]
      },
      {
       "output_type": "stream",
       "stream": "stdout",
       "text": [
        "\r",
        "  24,625,152 Bytes [77.11%] received. Rate: [ 940 KB/s].  ETA: [8 secs]    \r"
       ]
      },
      {
       "output_type": "stream",
       "stream": "stdout",
       "text": [
        "\r",
        "  24,641,536 Bytes [77.16%] received. Rate: [ 940 KB/s].  ETA: [8 secs]    \r"
       ]
      },
      {
       "output_type": "stream",
       "stream": "stdout",
       "text": [
        "\r",
        "  24,657,920 Bytes [77.22%] received. Rate: [ 940 KB/s].  ETA: [8 secs]    \r"
       ]
      },
      {
       "output_type": "stream",
       "stream": "stdout",
       "text": [
        "\r",
        "  24,674,304 Bytes [77.27%] received. Rate: [ 940 KB/s].  ETA: [8 secs]    \r"
       ]
      },
      {
       "output_type": "stream",
       "stream": "stdout",
       "text": [
        "\r",
        "  24,690,688 Bytes [77.32%] received. Rate: [ 940 KB/s].  ETA: [8 secs]    \r"
       ]
      },
      {
       "output_type": "stream",
       "stream": "stdout",
       "text": [
        "\r",
        "  24,707,072 Bytes [77.37%] received. Rate: [ 940 KB/s].  ETA: [8 secs]    \r"
       ]
      },
      {
       "output_type": "stream",
       "stream": "stdout",
       "text": [
        "\r",
        "  24,723,456 Bytes [77.42%] received. Rate: [ 940 KB/s].  ETA: [7 secs]    \r"
       ]
      },
      {
       "output_type": "stream",
       "stream": "stdout",
       "text": [
        "\r",
        "  24,739,840 Bytes [77.47%] received. Rate: [ 941 KB/s].  ETA: [7 secs]    \r"
       ]
      },
      {
       "output_type": "stream",
       "stream": "stdout",
       "text": [
        "\r",
        "  24,756,224 Bytes [77.52%] received. Rate: [ 941 KB/s].  ETA: [7 secs]    \r"
       ]
      },
      {
       "output_type": "stream",
       "stream": "stdout",
       "text": [
        "\r",
        "  24,772,608 Bytes [77.57%] received. Rate: [ 941 KB/s].  ETA: [7 secs]    \r"
       ]
      },
      {
       "output_type": "stream",
       "stream": "stdout",
       "text": [
        "\r",
        "  24,788,992 Bytes [77.63%] received. Rate: [ 941 KB/s].  ETA: [7 secs]    \r"
       ]
      },
      {
       "output_type": "stream",
       "stream": "stdout",
       "text": [
        "\r",
        "  24,805,376 Bytes [77.68%] received. Rate: [ 941 KB/s].  ETA: [7 secs]    \r"
       ]
      },
      {
       "output_type": "stream",
       "stream": "stdout",
       "text": [
        "\r",
        "  24,821,760 Bytes [77.73%] received. Rate: [ 941 KB/s].  ETA: [7 secs]    \r"
       ]
      },
      {
       "output_type": "stream",
       "stream": "stdout",
       "text": [
        "\r",
        "  24,838,144 Bytes [77.78%] received. Rate: [ 941 KB/s].  ETA: [7 secs]    \r"
       ]
      },
      {
       "output_type": "stream",
       "stream": "stdout",
       "text": [
        "\r",
        "  24,854,528 Bytes [77.83%] received. Rate: [ 941 KB/s].  ETA: [7 secs]    \r"
       ]
      },
      {
       "output_type": "stream",
       "stream": "stdout",
       "text": [
        "\r",
        "  24,870,912 Bytes [77.88%] received. Rate: [ 941 KB/s].  ETA: [7 secs]    \r"
       ]
      },
      {
       "output_type": "stream",
       "stream": "stdout",
       "text": [
        "\r",
        "  24,887,296 Bytes [77.93%] received. Rate: [ 941 KB/s].  ETA: [7 secs]    \r"
       ]
      },
      {
       "output_type": "stream",
       "stream": "stdout",
       "text": [
        "\r",
        "  24,903,680 Bytes [77.98%] received. Rate: [ 941 KB/s].  ETA: [7 secs]    \r"
       ]
      },
      {
       "output_type": "stream",
       "stream": "stdout",
       "text": [
        "\r",
        "  24,920,064 Bytes [78.04%] received. Rate: [ 941 KB/s].  ETA: [7 secs]    \r"
       ]
      },
      {
       "output_type": "stream",
       "stream": "stdout",
       "text": [
        "\r",
        "  24,936,448 Bytes [78.09%] received. Rate: [ 941 KB/s].  ETA: [7 secs]    \r"
       ]
      },
      {
       "output_type": "stream",
       "stream": "stdout",
       "text": [
        "\r",
        "  24,952,832 Bytes [78.14%] received. Rate: [ 941 KB/s].  ETA: [7 secs]    \r"
       ]
      },
      {
       "output_type": "stream",
       "stream": "stdout",
       "text": [
        "\r",
        "  24,969,216 Bytes [78.19%] received. Rate: [ 942 KB/s].  ETA: [7 secs]    \r"
       ]
      },
      {
       "output_type": "stream",
       "stream": "stdout",
       "text": [
        "\r",
        "  24,985,600 Bytes [78.24%] received. Rate: [ 942 KB/s].  ETA: [7 secs]    \r"
       ]
      },
      {
       "output_type": "stream",
       "stream": "stdout",
       "text": [
        "\r",
        "  25,001,984 Bytes [78.29%] received. Rate: [ 942 KB/s].  ETA: [7 secs]    \r"
       ]
      },
      {
       "output_type": "stream",
       "stream": "stdout",
       "text": [
        "\r",
        "  25,018,368 Bytes [78.34%] received. Rate: [ 942 KB/s].  ETA: [7 secs]    \r"
       ]
      },
      {
       "output_type": "stream",
       "stream": "stdout",
       "text": [
        "\r",
        "  25,034,752 Bytes [78.40%] received. Rate: [ 942 KB/s].  ETA: [7 secs]    \r"
       ]
      },
      {
       "output_type": "stream",
       "stream": "stdout",
       "text": [
        "\r",
        "  25,051,136 Bytes [78.45%] received. Rate: [ 942 KB/s].  ETA: [7 secs]    \r"
       ]
      },
      {
       "output_type": "stream",
       "stream": "stdout",
       "text": [
        "\r",
        "  25,067,520 Bytes [78.50%] received. Rate: [ 942 KB/s].  ETA: [7 secs]    \r"
       ]
      },
      {
       "output_type": "stream",
       "stream": "stdout",
       "text": [
        "\r",
        "  25,083,904 Bytes [78.55%] received. Rate: [ 942 KB/s].  ETA: [7 secs]    \r"
       ]
      },
      {
       "output_type": "stream",
       "stream": "stdout",
       "text": [
        "\r",
        "  25,100,288 Bytes [78.60%] received. Rate: [ 942 KB/s].  ETA: [7 secs]    \r"
       ]
      },
      {
       "output_type": "stream",
       "stream": "stdout",
       "text": [
        "\r",
        "  25,116,672 Bytes [78.65%] received. Rate: [ 942 KB/s].  ETA: [7 secs]    \r"
       ]
      },
      {
       "output_type": "stream",
       "stream": "stdout",
       "text": [
        "\r",
        "  25,133,056 Bytes [78.70%] received. Rate: [ 942 KB/s].  ETA: [7 secs]    \r"
       ]
      },
      {
       "output_type": "stream",
       "stream": "stdout",
       "text": [
        "\r",
        "  25,149,440 Bytes [78.75%] received. Rate: [ 942 KB/s].  ETA: [7 secs]    \r"
       ]
      },
      {
       "output_type": "stream",
       "stream": "stdout",
       "text": [
        "\r",
        "  25,165,824 Bytes [78.81%] received. Rate: [ 942 KB/s].  ETA: [7 secs]    \r"
       ]
      },
      {
       "output_type": "stream",
       "stream": "stdout",
       "text": [
        "\r",
        "  25,182,208 Bytes [78.86%] received. Rate: [ 942 KB/s].  ETA: [7 secs]    \r"
       ]
      },
      {
       "output_type": "stream",
       "stream": "stdout",
       "text": [
        "\r",
        "  25,198,592 Bytes [78.91%] received. Rate: [ 942 KB/s].  ETA: [7 secs]    \r"
       ]
      },
      {
       "output_type": "stream",
       "stream": "stdout",
       "text": [
        "\r",
        "  25,214,976 Bytes [78.96%] received. Rate: [ 943 KB/s].  ETA: [7 secs]    \r"
       ]
      },
      {
       "output_type": "stream",
       "stream": "stdout",
       "text": [
        "\r",
        "  25,231,360 Bytes [79.01%] received. Rate: [ 943 KB/s].  ETA: [7 secs]    \r"
       ]
      },
      {
       "output_type": "stream",
       "stream": "stdout",
       "text": [
        "\r",
        "  25,247,744 Bytes [79.06%] received. Rate: [ 943 KB/s].  ETA: [7 secs]    \r"
       ]
      },
      {
       "output_type": "stream",
       "stream": "stdout",
       "text": [
        "\r",
        "  25,264,128 Bytes [79.11%] received. Rate: [ 943 KB/s].  ETA: [7 secs]    \r"
       ]
      },
      {
       "output_type": "stream",
       "stream": "stdout",
       "text": [
        "\r",
        "  25,280,512 Bytes [79.16%] received. Rate: [ 943 KB/s].  ETA: [7 secs]    \r"
       ]
      },
      {
       "output_type": "stream",
       "stream": "stdout",
       "text": [
        "\r",
        "  25,296,896 Bytes [79.22%] received. Rate: [ 943 KB/s].  ETA: [7 secs]    \r"
       ]
      },
      {
       "output_type": "stream",
       "stream": "stdout",
       "text": [
        "\r",
        "  25,313,280 Bytes [79.27%] received. Rate: [ 943 KB/s].  ETA: [7 secs]    \r"
       ]
      },
      {
       "output_type": "stream",
       "stream": "stdout",
       "text": [
        "\r",
        "  25,329,664 Bytes [79.32%] received. Rate: [ 943 KB/s].  ETA: [7 secs]    \r"
       ]
      },
      {
       "output_type": "stream",
       "stream": "stdout",
       "text": [
        "\r",
        "  25,346,048 Bytes [79.37%] received. Rate: [ 943 KB/s].  ETA: [7 secs]    \r"
       ]
      },
      {
       "output_type": "stream",
       "stream": "stdout",
       "text": [
        "\r",
        "  25,362,432 Bytes [79.42%] received. Rate: [ 943 KB/s].  ETA: [7 secs]    \r"
       ]
      },
      {
       "output_type": "stream",
       "stream": "stdout",
       "text": [
        "\r",
        "  25,378,816 Bytes [79.47%] received. Rate: [ 943 KB/s].  ETA: [7 secs]    \r"
       ]
      },
      {
       "output_type": "stream",
       "stream": "stdout",
       "text": [
        "\r",
        "  25,395,200 Bytes [79.52%] received. Rate: [ 943 KB/s].  ETA: [7 secs]    \r"
       ]
      },
      {
       "output_type": "stream",
       "stream": "stdout",
       "text": [
        "\r",
        "  25,411,584 Bytes [79.58%] received. Rate: [ 943 KB/s].  ETA: [7 secs]    \r"
       ]
      },
      {
       "output_type": "stream",
       "stream": "stdout",
       "text": [
        "\r",
        "  25,427,968 Bytes [79.63%] received. Rate: [ 943 KB/s].  ETA: [7 secs]    \r"
       ]
      },
      {
       "output_type": "stream",
       "stream": "stdout",
       "text": [
        "\r",
        "  25,444,352 Bytes [79.68%] received. Rate: [ 943 KB/s].  ETA: [7 secs]    \r"
       ]
      },
      {
       "output_type": "stream",
       "stream": "stdout",
       "text": [
        "\r",
        "  25,460,736 Bytes [79.73%] received. Rate: [ 943 KB/s].  ETA: [7 secs]    \r"
       ]
      },
      {
       "output_type": "stream",
       "stream": "stdout",
       "text": [
        "\r",
        "  25,477,120 Bytes [79.78%] received. Rate: [ 944 KB/s].  ETA: [7 secs]    \r"
       ]
      },
      {
       "output_type": "stream",
       "stream": "stdout",
       "text": [
        "\r",
        "  25,493,504 Bytes [79.83%] received. Rate: [ 944 KB/s].  ETA: [7 secs]    \r"
       ]
      },
      {
       "output_type": "stream",
       "stream": "stdout",
       "text": [
        "\r",
        "  25,509,888 Bytes [79.88%] received. Rate: [ 944 KB/s].  ETA: [7 secs]    \r"
       ]
      },
      {
       "output_type": "stream",
       "stream": "stdout",
       "text": [
        "\r",
        "  25,526,272 Bytes [79.93%] received. Rate: [ 944 KB/s].  ETA: [7 secs]    \r"
       ]
      },
      {
       "output_type": "stream",
       "stream": "stdout",
       "text": [
        "\r",
        "  25,542,656 Bytes [79.99%] received. Rate: [ 944 KB/s].  ETA: [7 secs]    \r"
       ]
      },
      {
       "output_type": "stream",
       "stream": "stdout",
       "text": [
        "\r",
        "  25,559,040 Bytes [80.04%] received. Rate: [ 944 KB/s].  ETA: [7 secs]    \r"
       ]
      },
      {
       "output_type": "stream",
       "stream": "stdout",
       "text": [
        "\r",
        "  25,575,424 Bytes [80.09%] received. Rate: [ 944 KB/s].  ETA: [7 secs]    \r"
       ]
      },
      {
       "output_type": "stream",
       "stream": "stdout",
       "text": [
        "\r",
        "  25,591,808 Bytes [80.14%] received. Rate: [ 944 KB/s].  ETA: [7 secs]    \r"
       ]
      },
      {
       "output_type": "stream",
       "stream": "stdout",
       "text": [
        "\r",
        "  25,608,192 Bytes [80.19%] received. Rate: [ 944 KB/s].  ETA: [7 secs]    \r"
       ]
      },
      {
       "output_type": "stream",
       "stream": "stdout",
       "text": [
        "\r",
        "  25,624,576 Bytes [80.24%] received. Rate: [ 944 KB/s].  ETA: [7 secs]    \r"
       ]
      },
      {
       "output_type": "stream",
       "stream": "stdout",
       "text": [
        "\r",
        "  25,640,960 Bytes [80.29%] received. Rate: [ 944 KB/s].  ETA: [7 secs]    \r"
       ]
      },
      {
       "output_type": "stream",
       "stream": "stdout",
       "text": [
        "\r",
        "  25,657,344 Bytes [80.35%] received. Rate: [ 944 KB/s].  ETA: [6 secs]    \r"
       ]
      },
      {
       "output_type": "stream",
       "stream": "stdout",
       "text": [
        "\r",
        "  25,673,728 Bytes [80.40%] received. Rate: [ 944 KB/s].  ETA: [6 secs]    \r"
       ]
      },
      {
       "output_type": "stream",
       "stream": "stdout",
       "text": [
        "\r",
        "  25,690,112 Bytes [80.45%] received. Rate: [ 944 KB/s].  ETA: [6 secs]    \r"
       ]
      },
      {
       "output_type": "stream",
       "stream": "stdout",
       "text": [
        "\r",
        "  25,706,496 Bytes [80.50%] received. Rate: [ 944 KB/s].  ETA: [6 secs]    \r"
       ]
      },
      {
       "output_type": "stream",
       "stream": "stdout",
       "text": [
        "\r",
        "  25,722,880 Bytes [80.55%] received. Rate: [ 945 KB/s].  ETA: [6 secs]    \r"
       ]
      },
      {
       "output_type": "stream",
       "stream": "stdout",
       "text": [
        "\r",
        "  25,739,264 Bytes [80.60%] received. Rate: [ 944 KB/s].  ETA: [6 secs]    \r"
       ]
      },
      {
       "output_type": "stream",
       "stream": "stdout",
       "text": [
        "\r",
        "  25,755,648 Bytes [80.65%] received. Rate: [ 945 KB/s].  ETA: [6 secs]    \r"
       ]
      },
      {
       "output_type": "stream",
       "stream": "stdout",
       "text": [
        "\r",
        "  25,772,032 Bytes [80.70%] received. Rate: [ 945 KB/s].  ETA: [6 secs]    \r"
       ]
      },
      {
       "output_type": "stream",
       "stream": "stdout",
       "text": [
        "\r",
        "  25,788,416 Bytes [80.76%] received. Rate: [ 945 KB/s].  ETA: [6 secs]    \r"
       ]
      },
      {
       "output_type": "stream",
       "stream": "stdout",
       "text": [
        "\r",
        "  25,804,800 Bytes [80.81%] received. Rate: [ 945 KB/s].  ETA: [6 secs]    \r"
       ]
      },
      {
       "output_type": "stream",
       "stream": "stdout",
       "text": [
        "\r",
        "  25,821,184 Bytes [80.86%] received. Rate: [ 945 KB/s].  ETA: [6 secs]    \r"
       ]
      },
      {
       "output_type": "stream",
       "stream": "stdout",
       "text": [
        "\r",
        "  25,837,568 Bytes [80.91%] received. Rate: [ 945 KB/s].  ETA: [6 secs]    \r"
       ]
      },
      {
       "output_type": "stream",
       "stream": "stdout",
       "text": [
        "\r",
        "  25,853,952 Bytes [80.96%] received. Rate: [ 944 KB/s].  ETA: [6 secs]    \r"
       ]
      },
      {
       "output_type": "stream",
       "stream": "stdout",
       "text": [
        "\r",
        "  25,870,336 Bytes [81.01%] received. Rate: [ 945 KB/s].  ETA: [6 secs]    \r"
       ]
      },
      {
       "output_type": "stream",
       "stream": "stdout",
       "text": [
        "\r",
        "  25,886,720 Bytes [81.06%] received. Rate: [ 945 KB/s].  ETA: [6 secs]    \r"
       ]
      },
      {
       "output_type": "stream",
       "stream": "stdout",
       "text": [
        "\r",
        "  25,903,104 Bytes [81.11%] received. Rate: [ 945 KB/s].  ETA: [6 secs]    \r"
       ]
      },
      {
       "output_type": "stream",
       "stream": "stdout",
       "text": [
        "\r",
        "  25,919,488 Bytes [81.17%] received. Rate: [ 945 KB/s].  ETA: [6 secs]    \r"
       ]
      },
      {
       "output_type": "stream",
       "stream": "stdout",
       "text": [
        "\r",
        "  25,935,872 Bytes [81.22%] received. Rate: [ 945 KB/s].  ETA: [6 secs]    \r"
       ]
      },
      {
       "output_type": "stream",
       "stream": "stdout",
       "text": [
        "\r",
        "  25,952,256 Bytes [81.27%] received. Rate: [ 945 KB/s].  ETA: [6 secs]    \r"
       ]
      },
      {
       "output_type": "stream",
       "stream": "stdout",
       "text": [
        "\r",
        "  25,968,640 Bytes [81.32%] received. Rate: [ 945 KB/s].  ETA: [6 secs]    \r"
       ]
      },
      {
       "output_type": "stream",
       "stream": "stdout",
       "text": [
        "\r",
        "  25,985,024 Bytes [81.37%] received. Rate: [ 945 KB/s].  ETA: [6 secs]    \r"
       ]
      },
      {
       "output_type": "stream",
       "stream": "stdout",
       "text": [
        "\r",
        "  26,001,408 Bytes [81.42%] received. Rate: [ 945 KB/s].  ETA: [6 secs]    \r"
       ]
      },
      {
       "output_type": "stream",
       "stream": "stdout",
       "text": [
        "\r",
        "  26,017,792 Bytes [81.47%] received. Rate: [ 945 KB/s].  ETA: [6 secs]    \r"
       ]
      },
      {
       "output_type": "stream",
       "stream": "stdout",
       "text": [
        "\r",
        "  26,034,176 Bytes [81.53%] received. Rate: [ 945 KB/s].  ETA: [6 secs]    \r"
       ]
      },
      {
       "output_type": "stream",
       "stream": "stdout",
       "text": [
        "\r",
        "  26,050,560 Bytes [81.58%] received. Rate: [ 945 KB/s].  ETA: [6 secs]    \r"
       ]
      },
      {
       "output_type": "stream",
       "stream": "stdout",
       "text": [
        "\r",
        "  26,066,944 Bytes [81.63%] received. Rate: [ 945 KB/s].  ETA: [6 secs]    \r"
       ]
      },
      {
       "output_type": "stream",
       "stream": "stdout",
       "text": [
        "\r",
        "  26,083,328 Bytes [81.68%] received. Rate: [ 945 KB/s].  ETA: [6 secs]    \r"
       ]
      },
      {
       "output_type": "stream",
       "stream": "stdout",
       "text": [
        "\r",
        "  26,099,712 Bytes [81.73%] received. Rate: [ 945 KB/s].  ETA: [6 secs]    \r"
       ]
      },
      {
       "output_type": "stream",
       "stream": "stdout",
       "text": [
        "\r",
        "  26,116,096 Bytes [81.78%] received. Rate: [ 945 KB/s].  ETA: [6 secs]    \r"
       ]
      },
      {
       "output_type": "stream",
       "stream": "stdout",
       "text": [
        "\r",
        "  26,132,480 Bytes [81.83%] received. Rate: [ 945 KB/s].  ETA: [6 secs]    \r"
       ]
      },
      {
       "output_type": "stream",
       "stream": "stdout",
       "text": [
        "\r",
        "  26,148,864 Bytes [81.88%] received. Rate: [ 945 KB/s].  ETA: [6 secs]    \r"
       ]
      },
      {
       "output_type": "stream",
       "stream": "stdout",
       "text": [
        "\r",
        "  26,165,248 Bytes [81.94%] received. Rate: [ 945 KB/s].  ETA: [6 secs]    \r"
       ]
      },
      {
       "output_type": "stream",
       "stream": "stdout",
       "text": [
        "\r",
        "  26,181,632 Bytes [81.99%] received. Rate: [ 945 KB/s].  ETA: [6 secs]    \r"
       ]
      },
      {
       "output_type": "stream",
       "stream": "stdout",
       "text": [
        "\r",
        "  26,198,016 Bytes [82.04%] received. Rate: [ 945 KB/s].  ETA: [6 secs]    \r"
       ]
      },
      {
       "output_type": "stream",
       "stream": "stdout",
       "text": [
        "\r",
        "  26,214,400 Bytes [82.09%] received. Rate: [ 946 KB/s].  ETA: [6 secs]    \r"
       ]
      },
      {
       "output_type": "stream",
       "stream": "stdout",
       "text": [
        "\r",
        "  26,230,784 Bytes [82.14%] received. Rate: [ 946 KB/s].  ETA: [6 secs]    \r"
       ]
      },
      {
       "output_type": "stream",
       "stream": "stdout",
       "text": [
        "\r",
        "  26,247,168 Bytes [82.19%] received. Rate: [ 946 KB/s].  ETA: [6 secs]    \r"
       ]
      },
      {
       "output_type": "stream",
       "stream": "stdout",
       "text": [
        "\r",
        "  26,263,552 Bytes [82.24%] received. Rate: [ 946 KB/s].  ETA: [6 secs]    \r"
       ]
      },
      {
       "output_type": "stream",
       "stream": "stdout",
       "text": [
        "\r",
        "  26,279,936 Bytes [82.29%] received. Rate: [ 946 KB/s].  ETA: [6 secs]    \r"
       ]
      },
      {
       "output_type": "stream",
       "stream": "stdout",
       "text": [
        "\r",
        "  26,296,320 Bytes [82.35%] received. Rate: [ 946 KB/s].  ETA: [6 secs]    \r"
       ]
      },
      {
       "output_type": "stream",
       "stream": "stdout",
       "text": [
        "\r",
        "  26,312,704 Bytes [82.40%] received. Rate: [ 946 KB/s].  ETA: [6 secs]    \r"
       ]
      },
      {
       "output_type": "stream",
       "stream": "stdout",
       "text": [
        "\r",
        "  26,329,088 Bytes [82.45%] received. Rate: [ 946 KB/s].  ETA: [6 secs]    \r"
       ]
      },
      {
       "output_type": "stream",
       "stream": "stdout",
       "text": [
        "\r",
        "  26,345,472 Bytes [82.50%] received. Rate: [ 946 KB/s].  ETA: [6 secs]    \r"
       ]
      },
      {
       "output_type": "stream",
       "stream": "stdout",
       "text": [
        "\r",
        "  26,361,856 Bytes [82.55%] received. Rate: [ 946 KB/s].  ETA: [6 secs]    \r"
       ]
      },
      {
       "output_type": "stream",
       "stream": "stdout",
       "text": [
        "\r",
        "  26,378,240 Bytes [82.60%] received. Rate: [ 946 KB/s].  ETA: [6 secs]    \r"
       ]
      },
      {
       "output_type": "stream",
       "stream": "stdout",
       "text": [
        "\r",
        "  26,394,624 Bytes [82.65%] received. Rate: [ 946 KB/s].  ETA: [6 secs]    \r"
       ]
      },
      {
       "output_type": "stream",
       "stream": "stdout",
       "text": [
        "\r",
        "  26,411,008 Bytes [82.71%] received. Rate: [ 946 KB/s].  ETA: [6 secs]    \r"
       ]
      },
      {
       "output_type": "stream",
       "stream": "stdout",
       "text": [
        "\r",
        "  26,427,392 Bytes [82.76%] received. Rate: [ 946 KB/s].  ETA: [6 secs]    \r"
       ]
      },
      {
       "output_type": "stream",
       "stream": "stdout",
       "text": [
        "\r",
        "  26,443,776 Bytes [82.81%] received. Rate: [ 946 KB/s].  ETA: [6 secs]    \r"
       ]
      },
      {
       "output_type": "stream",
       "stream": "stdout",
       "text": [
        "\r",
        "  26,460,160 Bytes [82.86%] received. Rate: [ 946 KB/s].  ETA: [6 secs]    \r"
       ]
      },
      {
       "output_type": "stream",
       "stream": "stdout",
       "text": [
        "\r",
        "  26,476,544 Bytes [82.91%] received. Rate: [ 947 KB/s].  ETA: [6 secs]    \r"
       ]
      },
      {
       "output_type": "stream",
       "stream": "stdout",
       "text": [
        "\r",
        "  26,492,928 Bytes [82.96%] received. Rate: [ 947 KB/s].  ETA: [6 secs]    \r"
       ]
      },
      {
       "output_type": "stream",
       "stream": "stdout",
       "text": [
        "\r",
        "  26,509,312 Bytes [83.01%] received. Rate: [ 947 KB/s].  ETA: [6 secs]    \r"
       ]
      },
      {
       "output_type": "stream",
       "stream": "stdout",
       "text": [
        "\r",
        "  26,525,696 Bytes [83.06%] received. Rate: [ 947 KB/s].  ETA: [6 secs]    \r"
       ]
      },
      {
       "output_type": "stream",
       "stream": "stdout",
       "text": [
        "\r",
        "  26,542,080 Bytes [83.12%] received. Rate: [ 947 KB/s].  ETA: [6 secs]    \r"
       ]
      },
      {
       "output_type": "stream",
       "stream": "stdout",
       "text": [
        "\r",
        "  26,558,464 Bytes [83.17%] received. Rate: [ 947 KB/s].  ETA: [6 secs]    \r"
       ]
      },
      {
       "output_type": "stream",
       "stream": "stdout",
       "text": [
        "\r",
        "  26,574,848 Bytes [83.22%] received. Rate: [ 947 KB/s].  ETA: [6 secs]    \r"
       ]
      },
      {
       "output_type": "stream",
       "stream": "stdout",
       "text": [
        "\r",
        "  26,591,232 Bytes [83.27%] received. Rate: [ 947 KB/s].  ETA: [6 secs]    \r"
       ]
      },
      {
       "output_type": "stream",
       "stream": "stdout",
       "text": [
        "\r",
        "  26,607,616 Bytes [83.32%] received. Rate: [ 947 KB/s].  ETA: [5 secs]    \r"
       ]
      },
      {
       "output_type": "stream",
       "stream": "stdout",
       "text": [
        "\r",
        "  26,624,000 Bytes [83.37%] received. Rate: [ 947 KB/s].  ETA: [5 secs]    \r"
       ]
      },
      {
       "output_type": "stream",
       "stream": "stdout",
       "text": [
        "\r",
        "  26,640,384 Bytes [83.42%] received. Rate: [ 947 KB/s].  ETA: [5 secs]    \r"
       ]
      },
      {
       "output_type": "stream",
       "stream": "stdout",
       "text": [
        "\r",
        "  26,656,768 Bytes [83.47%] received. Rate: [ 947 KB/s].  ETA: [5 secs]    \r"
       ]
      },
      {
       "output_type": "stream",
       "stream": "stdout",
       "text": [
        "\r",
        "  26,673,152 Bytes [83.53%] received. Rate: [ 947 KB/s].  ETA: [5 secs]    \r"
       ]
      },
      {
       "output_type": "stream",
       "stream": "stdout",
       "text": [
        "\r",
        "  26,689,536 Bytes [83.58%] received. Rate: [ 947 KB/s].  ETA: [5 secs]    \r"
       ]
      },
      {
       "output_type": "stream",
       "stream": "stdout",
       "text": [
        "\r",
        "  26,705,920 Bytes [83.63%] received. Rate: [ 947 KB/s].  ETA: [5 secs]    \r"
       ]
      },
      {
       "output_type": "stream",
       "stream": "stdout",
       "text": [
        "\r",
        "  26,722,304 Bytes [83.68%] received. Rate: [ 947 KB/s].  ETA: [5 secs]    \r"
       ]
      },
      {
       "output_type": "stream",
       "stream": "stdout",
       "text": [
        "\r",
        "  26,738,688 Bytes [83.73%] received. Rate: [ 948 KB/s].  ETA: [5 secs]    \r"
       ]
      },
      {
       "output_type": "stream",
       "stream": "stdout",
       "text": [
        "\r",
        "  26,755,072 Bytes [83.78%] received. Rate: [ 948 KB/s].  ETA: [5 secs]    \r"
       ]
      },
      {
       "output_type": "stream",
       "stream": "stdout",
       "text": [
        "\r",
        "  26,771,456 Bytes [83.83%] received. Rate: [ 948 KB/s].  ETA: [5 secs]    \r"
       ]
      },
      {
       "output_type": "stream",
       "stream": "stdout",
       "text": [
        "\r",
        "  26,787,840 Bytes [83.89%] received. Rate: [ 948 KB/s].  ETA: [5 secs]    \r"
       ]
      },
      {
       "output_type": "stream",
       "stream": "stdout",
       "text": [
        "\r",
        "  26,804,224 Bytes [83.94%] received. Rate: [ 948 KB/s].  ETA: [5 secs]    \r"
       ]
      },
      {
       "output_type": "stream",
       "stream": "stdout",
       "text": [
        "\r",
        "  26,820,608 Bytes [83.99%] received. Rate: [ 948 KB/s].  ETA: [5 secs]    \r"
       ]
      },
      {
       "output_type": "stream",
       "stream": "stdout",
       "text": [
        "\r",
        "  26,836,992 Bytes [84.04%] received. Rate: [ 948 KB/s].  ETA: [5 secs]    \r"
       ]
      },
      {
       "output_type": "stream",
       "stream": "stdout",
       "text": [
        "\r",
        "  26,853,376 Bytes [84.09%] received. Rate: [ 948 KB/s].  ETA: [5 secs]    \r"
       ]
      },
      {
       "output_type": "stream",
       "stream": "stdout",
       "text": [
        "\r",
        "  26,869,760 Bytes [84.14%] received. Rate: [ 948 KB/s].  ETA: [5 secs]    \r"
       ]
      },
      {
       "output_type": "stream",
       "stream": "stdout",
       "text": [
        "\r",
        "  26,886,144 Bytes [84.19%] received. Rate: [ 948 KB/s].  ETA: [5 secs]    \r"
       ]
      },
      {
       "output_type": "stream",
       "stream": "stdout",
       "text": [
        "\r",
        "  26,902,528 Bytes [84.24%] received. Rate: [ 948 KB/s].  ETA: [5 secs]    \r"
       ]
      },
      {
       "output_type": "stream",
       "stream": "stdout",
       "text": [
        "\r",
        "  26,918,912 Bytes [84.30%] received. Rate: [ 948 KB/s].  ETA: [5 secs]    \r"
       ]
      },
      {
       "output_type": "stream",
       "stream": "stdout",
       "text": [
        "\r",
        "  26,935,296 Bytes [84.35%] received. Rate: [ 948 KB/s].  ETA: [5 secs]    \r"
       ]
      },
      {
       "output_type": "stream",
       "stream": "stdout",
       "text": [
        "\r",
        "  26,951,680 Bytes [84.40%] received. Rate: [ 948 KB/s].  ETA: [5 secs]    \r"
       ]
      },
      {
       "output_type": "stream",
       "stream": "stdout",
       "text": [
        "\r",
        "  26,968,064 Bytes [84.45%] received. Rate: [ 948 KB/s].  ETA: [5 secs]    \r"
       ]
      },
      {
       "output_type": "stream",
       "stream": "stdout",
       "text": [
        "\r",
        "  26,984,448 Bytes [84.50%] received. Rate: [ 948 KB/s].  ETA: [5 secs]    \r"
       ]
      },
      {
       "output_type": "stream",
       "stream": "stdout",
       "text": [
        "\r",
        "  27,000,832 Bytes [84.55%] received. Rate: [ 949 KB/s].  ETA: [5 secs]    \r"
       ]
      },
      {
       "output_type": "stream",
       "stream": "stdout",
       "text": [
        "\r",
        "  27,017,216 Bytes [84.60%] received. Rate: [ 949 KB/s].  ETA: [5 secs]    \r"
       ]
      },
      {
       "output_type": "stream",
       "stream": "stdout",
       "text": [
        "\r",
        "  27,033,600 Bytes [84.65%] received. Rate: [ 949 KB/s].  ETA: [5 secs]    \r"
       ]
      },
      {
       "output_type": "stream",
       "stream": "stdout",
       "text": [
        "\r",
        "  27,049,984 Bytes [84.71%] received. Rate: [ 949 KB/s].  ETA: [5 secs]    \r"
       ]
      },
      {
       "output_type": "stream",
       "stream": "stdout",
       "text": [
        "\r",
        "  27,066,368 Bytes [84.76%] received. Rate: [ 949 KB/s].  ETA: [5 secs]    \r"
       ]
      },
      {
       "output_type": "stream",
       "stream": "stdout",
       "text": [
        "\r",
        "  27,082,752 Bytes [84.81%] received. Rate: [ 949 KB/s].  ETA: [5 secs]    \r"
       ]
      },
      {
       "output_type": "stream",
       "stream": "stdout",
       "text": [
        "\r",
        "  27,099,136 Bytes [84.86%] received. Rate: [ 949 KB/s].  ETA: [5 secs]    \r"
       ]
      },
      {
       "output_type": "stream",
       "stream": "stdout",
       "text": [
        "\r",
        "  27,115,520 Bytes [84.91%] received. Rate: [ 949 KB/s].  ETA: [5 secs]    \r"
       ]
      },
      {
       "output_type": "stream",
       "stream": "stdout",
       "text": [
        "\r",
        "  27,131,904 Bytes [84.96%] received. Rate: [ 949 KB/s].  ETA: [5 secs]    \r"
       ]
      },
      {
       "output_type": "stream",
       "stream": "stdout",
       "text": [
        "\r",
        "  27,148,288 Bytes [85.01%] received. Rate: [ 949 KB/s].  ETA: [5 secs]    \r"
       ]
      },
      {
       "output_type": "stream",
       "stream": "stdout",
       "text": [
        "\r",
        "  27,164,672 Bytes [85.07%] received. Rate: [ 949 KB/s].  ETA: [5 secs]    \r"
       ]
      },
      {
       "output_type": "stream",
       "stream": "stdout",
       "text": [
        "\r",
        "  27,181,056 Bytes [85.12%] received. Rate: [ 949 KB/s].  ETA: [5 secs]    \r"
       ]
      },
      {
       "output_type": "stream",
       "stream": "stdout",
       "text": [
        "\r",
        "  27,197,440 Bytes [85.17%] received. Rate: [ 949 KB/s].  ETA: [5 secs]    \r"
       ]
      },
      {
       "output_type": "stream",
       "stream": "stdout",
       "text": [
        "\r",
        "  27,213,824 Bytes [85.22%] received. Rate: [ 949 KB/s].  ETA: [5 secs]    \r"
       ]
      },
      {
       "output_type": "stream",
       "stream": "stdout",
       "text": [
        "\r",
        "  27,230,208 Bytes [85.27%] received. Rate: [ 949 KB/s].  ETA: [5 secs]    \r"
       ]
      },
      {
       "output_type": "stream",
       "stream": "stdout",
       "text": [
        "\r",
        "  27,246,592 Bytes [85.32%] received. Rate: [ 949 KB/s].  ETA: [5 secs]    \r"
       ]
      },
      {
       "output_type": "stream",
       "stream": "stdout",
       "text": [
        "\r",
        "  27,262,976 Bytes [85.37%] received. Rate: [ 949 KB/s].  ETA: [5 secs]    \r"
       ]
      },
      {
       "output_type": "stream",
       "stream": "stdout",
       "text": [
        "\r",
        "  27,279,360 Bytes [85.42%] received. Rate: [ 949 KB/s].  ETA: [5 secs]    \r"
       ]
      },
      {
       "output_type": "stream",
       "stream": "stdout",
       "text": [
        "\r",
        "  27,295,744 Bytes [85.48%] received. Rate: [ 950 KB/s].  ETA: [5 secs]    \r"
       ]
      },
      {
       "output_type": "stream",
       "stream": "stdout",
       "text": [
        "\r",
        "  27,312,128 Bytes [85.53%] received. Rate: [ 950 KB/s].  ETA: [5 secs]    \r"
       ]
      },
      {
       "output_type": "stream",
       "stream": "stdout",
       "text": [
        "\r",
        "  27,328,512 Bytes [85.58%] received. Rate: [ 950 KB/s].  ETA: [5 secs]    \r"
       ]
      },
      {
       "output_type": "stream",
       "stream": "stdout",
       "text": [
        "\r",
        "  27,344,896 Bytes [85.63%] received. Rate: [ 950 KB/s].  ETA: [5 secs]    \r"
       ]
      },
      {
       "output_type": "stream",
       "stream": "stdout",
       "text": [
        "\r",
        "  27,361,280 Bytes [85.68%] received. Rate: [ 950 KB/s].  ETA: [5 secs]    \r"
       ]
      },
      {
       "output_type": "stream",
       "stream": "stdout",
       "text": [
        "\r",
        "  27,377,664 Bytes [85.73%] received. Rate: [ 950 KB/s].  ETA: [5 secs]    \r"
       ]
      },
      {
       "output_type": "stream",
       "stream": "stdout",
       "text": [
        "\r",
        "  27,394,048 Bytes [85.78%] received. Rate: [ 950 KB/s].  ETA: [5 secs]    \r"
       ]
      },
      {
       "output_type": "stream",
       "stream": "stdout",
       "text": [
        "\r",
        "  27,410,432 Bytes [85.83%] received. Rate: [ 950 KB/s].  ETA: [5 secs]    \r"
       ]
      },
      {
       "output_type": "stream",
       "stream": "stdout",
       "text": [
        "\r",
        "  27,426,816 Bytes [85.89%] received. Rate: [ 950 KB/s].  ETA: [5 secs]    \r"
       ]
      },
      {
       "output_type": "stream",
       "stream": "stdout",
       "text": [
        "\r",
        "  27,443,200 Bytes [85.94%] received. Rate: [ 950 KB/s].  ETA: [5 secs]    \r"
       ]
      },
      {
       "output_type": "stream",
       "stream": "stdout",
       "text": [
        "\r",
        "  27,459,584 Bytes [85.99%] received. Rate: [ 950 KB/s].  ETA: [5 secs]    \r"
       ]
      },
      {
       "output_type": "stream",
       "stream": "stdout",
       "text": [
        "\r",
        "  27,475,968 Bytes [86.04%] received. Rate: [ 950 KB/s].  ETA: [5 secs]    \r"
       ]
      },
      {
       "output_type": "stream",
       "stream": "stdout",
       "text": [
        "\r",
        "  27,492,352 Bytes [86.09%] received. Rate: [ 950 KB/s].  ETA: [5 secs]    \r"
       ]
      },
      {
       "output_type": "stream",
       "stream": "stdout",
       "text": [
        "\r",
        "  27,508,736 Bytes [86.14%] received. Rate: [ 950 KB/s].  ETA: [5 secs]    \r"
       ]
      },
      {
       "output_type": "stream",
       "stream": "stdout",
       "text": [
        "\r",
        "  27,525,120 Bytes [86.19%] received. Rate: [ 950 KB/s].  ETA: [5 secs]    \r"
       ]
      },
      {
       "output_type": "stream",
       "stream": "stdout",
       "text": [
        "\r",
        "  27,541,504 Bytes [86.25%] received. Rate: [ 950 KB/s].  ETA: [5 secs]    \r"
       ]
      },
      {
       "output_type": "stream",
       "stream": "stdout",
       "text": [
        "\r",
        "  27,557,888 Bytes [86.30%] received. Rate: [ 950 KB/s].  ETA: [4 secs]    \r"
       ]
      },
      {
       "output_type": "stream",
       "stream": "stdout",
       "text": [
        "\r",
        "  27,574,272 Bytes [86.35%] received. Rate: [ 950 KB/s].  ETA: [4 secs]    \r"
       ]
      },
      {
       "output_type": "stream",
       "stream": "stdout",
       "text": [
        "\r",
        "  27,590,656 Bytes [86.40%] received. Rate: [ 950 KB/s].  ETA: [4 secs]    \r"
       ]
      },
      {
       "output_type": "stream",
       "stream": "stdout",
       "text": [
        "\r",
        "  27,607,040 Bytes [86.45%] received. Rate: [ 951 KB/s].  ETA: [4 secs]    \r"
       ]
      },
      {
       "output_type": "stream",
       "stream": "stdout",
       "text": [
        "\r",
        "  27,623,424 Bytes [86.50%] received. Rate: [ 951 KB/s].  ETA: [4 secs]    \r"
       ]
      },
      {
       "output_type": "stream",
       "stream": "stdout",
       "text": [
        "\r",
        "  27,639,808 Bytes [86.55%] received. Rate: [ 951 KB/s].  ETA: [4 secs]    \r"
       ]
      },
      {
       "output_type": "stream",
       "stream": "stdout",
       "text": [
        "\r",
        "  27,656,192 Bytes [86.60%] received. Rate: [ 951 KB/s].  ETA: [4 secs]    \r"
       ]
      },
      {
       "output_type": "stream",
       "stream": "stdout",
       "text": [
        "\r",
        "  27,672,576 Bytes [86.66%] received. Rate: [ 951 KB/s].  ETA: [4 secs]    \r"
       ]
      },
      {
       "output_type": "stream",
       "stream": "stdout",
       "text": [
        "\r",
        "  27,688,960 Bytes [86.71%] received. Rate: [ 951 KB/s].  ETA: [4 secs]    \r"
       ]
      },
      {
       "output_type": "stream",
       "stream": "stdout",
       "text": [
        "\r",
        "  27,705,344 Bytes [86.76%] received. Rate: [ 951 KB/s].  ETA: [4 secs]    \r"
       ]
      },
      {
       "output_type": "stream",
       "stream": "stdout",
       "text": [
        "\r",
        "  27,721,728 Bytes [86.81%] received. Rate: [ 948 KB/s].  ETA: [4 secs]    \r"
       ]
      },
      {
       "output_type": "stream",
       "stream": "stdout",
       "text": [
        "\r",
        "  27,738,112 Bytes [86.86%] received. Rate: [ 948 KB/s].  ETA: [4 secs]    \r"
       ]
      },
      {
       "output_type": "stream",
       "stream": "stdout",
       "text": [
        "\r",
        "  27,754,496 Bytes [86.91%] received. Rate: [ 949 KB/s].  ETA: [4 secs]    \r"
       ]
      },
      {
       "output_type": "stream",
       "stream": "stdout",
       "text": [
        "\r",
        "  27,770,880 Bytes [86.96%] received. Rate: [ 949 KB/s].  ETA: [4 secs]    \r"
       ]
      },
      {
       "output_type": "stream",
       "stream": "stdout",
       "text": [
        "\r",
        "  27,787,264 Bytes [87.01%] received. Rate: [ 950 KB/s].  ETA: [4 secs]    \r"
       ]
      },
      {
       "output_type": "stream",
       "stream": "stdout",
       "text": [
        "\r",
        "  27,803,648 Bytes [87.07%] received. Rate: [ 951 KB/s].  ETA: [4 secs]    \r"
       ]
      },
      {
       "output_type": "stream",
       "stream": "stdout",
       "text": [
        "\r",
        "  27,820,032 Bytes [87.12%] received. Rate: [ 950 KB/s].  ETA: [4 secs]    \r"
       ]
      },
      {
       "output_type": "stream",
       "stream": "stdout",
       "text": [
        "\r",
        "  27,836,416 Bytes [87.17%] received. Rate: [ 950 KB/s].  ETA: [4 secs]    \r"
       ]
      },
      {
       "output_type": "stream",
       "stream": "stdout",
       "text": [
        "\r",
        "  27,852,800 Bytes [87.22%] received. Rate: [ 950 KB/s].  ETA: [4 secs]    \r"
       ]
      },
      {
       "output_type": "stream",
       "stream": "stdout",
       "text": [
        "\r",
        "  27,869,184 Bytes [87.27%] received. Rate: [ 950 KB/s].  ETA: [4 secs]    \r"
       ]
      },
      {
       "output_type": "stream",
       "stream": "stdout",
       "text": [
        "\r",
        "  27,885,568 Bytes [87.32%] received. Rate: [ 950 KB/s].  ETA: [4 secs]    \r"
       ]
      },
      {
       "output_type": "stream",
       "stream": "stdout",
       "text": [
        "\r",
        "  27,901,952 Bytes [87.37%] received. Rate: [ 950 KB/s].  ETA: [4 secs]    \r"
       ]
      },
      {
       "output_type": "stream",
       "stream": "stdout",
       "text": [
        "\r",
        "  27,918,336 Bytes [87.43%] received. Rate: [ 950 KB/s].  ETA: [4 secs]    \r"
       ]
      },
      {
       "output_type": "stream",
       "stream": "stdout",
       "text": [
        "\r",
        "  27,934,720 Bytes [87.48%] received. Rate: [ 950 KB/s].  ETA: [4 secs]    \r"
       ]
      },
      {
       "output_type": "stream",
       "stream": "stdout",
       "text": [
        "\r",
        "  27,951,104 Bytes [87.53%] received. Rate: [ 950 KB/s].  ETA: [4 secs]    \r"
       ]
      },
      {
       "output_type": "stream",
       "stream": "stdout",
       "text": [
        "\r",
        "  27,967,488 Bytes [87.58%] received. Rate: [ 950 KB/s].  ETA: [4 secs]    \r"
       ]
      },
      {
       "output_type": "stream",
       "stream": "stdout",
       "text": [
        "\r",
        "  27,983,872 Bytes [87.63%] received. Rate: [ 950 KB/s].  ETA: [4 secs]    \r"
       ]
      },
      {
       "output_type": "stream",
       "stream": "stdout",
       "text": [
        "\r",
        "  28,000,256 Bytes [87.68%] received. Rate: [ 950 KB/s].  ETA: [4 secs]    \r"
       ]
      },
      {
       "output_type": "stream",
       "stream": "stdout",
       "text": [
        "\r",
        "  28,016,640 Bytes [87.73%] received. Rate: [ 950 KB/s].  ETA: [4 secs]    \r"
       ]
      },
      {
       "output_type": "stream",
       "stream": "stdout",
       "text": [
        "\r",
        "  28,033,024 Bytes [87.78%] received. Rate: [ 950 KB/s].  ETA: [4 secs]    \r"
       ]
      },
      {
       "output_type": "stream",
       "stream": "stdout",
       "text": [
        "\r",
        "  28,049,408 Bytes [87.84%] received. Rate: [ 951 KB/s].  ETA: [4 secs]    \r"
       ]
      },
      {
       "output_type": "stream",
       "stream": "stdout",
       "text": [
        "\r",
        "  28,065,792 Bytes [87.89%] received. Rate: [ 951 KB/s].  ETA: [4 secs]    \r"
       ]
      },
      {
       "output_type": "stream",
       "stream": "stdout",
       "text": [
        "\r",
        "  28,082,176 Bytes [87.94%] received. Rate: [ 951 KB/s].  ETA: [4 secs]    \r"
       ]
      },
      {
       "output_type": "stream",
       "stream": "stdout",
       "text": [
        "\r",
        "  28,098,560 Bytes [87.99%] received. Rate: [ 951 KB/s].  ETA: [4 secs]    \r"
       ]
      },
      {
       "output_type": "stream",
       "stream": "stdout",
       "text": [
        "\r",
        "  28,114,944 Bytes [88.04%] received. Rate: [ 951 KB/s].  ETA: [4 secs]    \r"
       ]
      },
      {
       "output_type": "stream",
       "stream": "stdout",
       "text": [
        "\r",
        "  28,131,328 Bytes [88.09%] received. Rate: [ 951 KB/s].  ETA: [4 secs]    \r"
       ]
      },
      {
       "output_type": "stream",
       "stream": "stdout",
       "text": [
        "\r",
        "  28,147,712 Bytes [88.14%] received. Rate: [ 951 KB/s].  ETA: [4 secs]    \r"
       ]
      },
      {
       "output_type": "stream",
       "stream": "stdout",
       "text": [
        "\r",
        "  28,164,096 Bytes [88.19%] received. Rate: [ 951 KB/s].  ETA: [4 secs]    \r"
       ]
      },
      {
       "output_type": "stream",
       "stream": "stdout",
       "text": [
        "\r",
        "  28,180,480 Bytes [88.25%] received. Rate: [ 951 KB/s].  ETA: [4 secs]    \r"
       ]
      },
      {
       "output_type": "stream",
       "stream": "stdout",
       "text": [
        "\r",
        "  28,196,864 Bytes [88.30%] received. Rate: [ 951 KB/s].  ETA: [4 secs]    \r"
       ]
      },
      {
       "output_type": "stream",
       "stream": "stdout",
       "text": [
        "\r",
        "  28,213,248 Bytes [88.35%] received. Rate: [ 951 KB/s].  ETA: [4 secs]    \r"
       ]
      },
      {
       "output_type": "stream",
       "stream": "stdout",
       "text": [
        "\r",
        "  28,229,632 Bytes [88.40%] received. Rate: [ 951 KB/s].  ETA: [4 secs]    \r"
       ]
      },
      {
       "output_type": "stream",
       "stream": "stdout",
       "text": [
        "\r",
        "  28,246,016 Bytes [88.45%] received. Rate: [ 951 KB/s].  ETA: [4 secs]    \r"
       ]
      },
      {
       "output_type": "stream",
       "stream": "stdout",
       "text": [
        "\r",
        "  28,262,400 Bytes [88.50%] received. Rate: [ 951 KB/s].  ETA: [4 secs]    \r"
       ]
      },
      {
       "output_type": "stream",
       "stream": "stdout",
       "text": [
        "\r",
        "  28,278,784 Bytes [88.55%] received. Rate: [ 951 KB/s].  ETA: [4 secs]    \r"
       ]
      },
      {
       "output_type": "stream",
       "stream": "stdout",
       "text": [
        "\r",
        "  28,295,168 Bytes [88.61%] received. Rate: [ 951 KB/s].  ETA: [4 secs]    \r"
       ]
      },
      {
       "output_type": "stream",
       "stream": "stdout",
       "text": [
        "\r",
        "  28,311,552 Bytes [88.66%] received. Rate: [ 951 KB/s].  ETA: [4 secs]    \r"
       ]
      },
      {
       "output_type": "stream",
       "stream": "stdout",
       "text": [
        "\r",
        "  28,327,936 Bytes [88.71%] received. Rate: [ 951 KB/s].  ETA: [4 secs]    \r"
       ]
      },
      {
       "output_type": "stream",
       "stream": "stdout",
       "text": [
        "\r",
        "  28,344,320 Bytes [88.76%] received. Rate: [ 951 KB/s].  ETA: [4 secs]    \r"
       ]
      },
      {
       "output_type": "stream",
       "stream": "stdout",
       "text": [
        "\r",
        "  28,360,704 Bytes [88.81%] received. Rate: [ 951 KB/s].  ETA: [4 secs]    \r"
       ]
      },
      {
       "output_type": "stream",
       "stream": "stdout",
       "text": [
        "\r",
        "  28,377,088 Bytes [88.86%] received. Rate: [ 951 KB/s].  ETA: [4 secs]    \r"
       ]
      },
      {
       "output_type": "stream",
       "stream": "stdout",
       "text": [
        "\r",
        "  28,393,472 Bytes [88.91%] received. Rate: [ 951 KB/s].  ETA: [4 secs]    \r"
       ]
      },
      {
       "output_type": "stream",
       "stream": "stdout",
       "text": [
        "\r",
        "  28,409,856 Bytes [88.96%] received. Rate: [ 951 KB/s].  ETA: [4 secs]    \r"
       ]
      },
      {
       "output_type": "stream",
       "stream": "stdout",
       "text": [
        "\r",
        "  28,426,240 Bytes [89.02%] received. Rate: [ 951 KB/s].  ETA: [4 secs]    \r"
       ]
      },
      {
       "output_type": "stream",
       "stream": "stdout",
       "text": [
        "\r",
        "  28,442,624 Bytes [89.07%] received. Rate: [ 952 KB/s].  ETA: [4 secs]    \r"
       ]
      },
      {
       "output_type": "stream",
       "stream": "stdout",
       "text": [
        "\r",
        "  28,459,008 Bytes [89.12%] received. Rate: [ 952 KB/s].  ETA: [4 secs]    \r"
       ]
      },
      {
       "output_type": "stream",
       "stream": "stdout",
       "text": [
        "\r",
        "  28,475,392 Bytes [89.17%] received. Rate: [ 952 KB/s].  ETA: [4 secs]    \r"
       ]
      },
      {
       "output_type": "stream",
       "stream": "stdout",
       "text": [
        "\r",
        "  28,491,776 Bytes [89.22%] received. Rate: [ 952 KB/s].  ETA: [4 secs]    \r"
       ]
      },
      {
       "output_type": "stream",
       "stream": "stdout",
       "text": [
        "\r",
        "  28,508,160 Bytes [89.27%] received. Rate: [ 952 KB/s].  ETA: [4 secs]    \r"
       ]
      },
      {
       "output_type": "stream",
       "stream": "stdout",
       "text": [
        "\r",
        "  28,524,544 Bytes [89.32%] received. Rate: [ 952 KB/s].  ETA: [3 secs]    \r"
       ]
      },
      {
       "output_type": "stream",
       "stream": "stdout",
       "text": [
        "\r",
        "  28,540,928 Bytes [89.37%] received. Rate: [ 952 KB/s].  ETA: [3 secs]    \r"
       ]
      },
      {
       "output_type": "stream",
       "stream": "stdout",
       "text": [
        "\r",
        "  28,557,312 Bytes [89.43%] received. Rate: [ 952 KB/s].  ETA: [3 secs]    \r"
       ]
      },
      {
       "output_type": "stream",
       "stream": "stdout",
       "text": [
        "\r",
        "  28,573,696 Bytes [89.48%] received. Rate: [ 952 KB/s].  ETA: [3 secs]    \r"
       ]
      },
      {
       "output_type": "stream",
       "stream": "stdout",
       "text": [
        "\r",
        "  28,590,080 Bytes [89.53%] received. Rate: [ 952 KB/s].  ETA: [3 secs]    \r"
       ]
      },
      {
       "output_type": "stream",
       "stream": "stdout",
       "text": [
        "\r",
        "  28,606,464 Bytes [89.58%] received. Rate: [ 952 KB/s].  ETA: [3 secs]    \r"
       ]
      },
      {
       "output_type": "stream",
       "stream": "stdout",
       "text": [
        "\r",
        "  28,622,848 Bytes [89.63%] received. Rate: [ 952 KB/s].  ETA: [3 secs]    \r"
       ]
      },
      {
       "output_type": "stream",
       "stream": "stdout",
       "text": [
        "\r",
        "  28,639,232 Bytes [89.68%] received. Rate: [ 952 KB/s].  ETA: [3 secs]    \r"
       ]
      },
      {
       "output_type": "stream",
       "stream": "stdout",
       "text": [
        "\r",
        "  28,655,616 Bytes [89.73%] received. Rate: [ 952 KB/s].  ETA: [3 secs]    \r"
       ]
      },
      {
       "output_type": "stream",
       "stream": "stdout",
       "text": [
        "\r",
        "  28,672,000 Bytes [89.79%] received. Rate: [ 952 KB/s].  ETA: [3 secs]    \r"
       ]
      },
      {
       "output_type": "stream",
       "stream": "stdout",
       "text": [
        "\r",
        "  28,688,384 Bytes [89.84%] received. Rate: [ 952 KB/s].  ETA: [3 secs]    \r"
       ]
      },
      {
       "output_type": "stream",
       "stream": "stdout",
       "text": [
        "\r",
        "  28,704,768 Bytes [89.89%] received. Rate: [ 952 KB/s].  ETA: [3 secs]    \r"
       ]
      },
      {
       "output_type": "stream",
       "stream": "stdout",
       "text": [
        "\r",
        "  28,721,152 Bytes [89.94%] received. Rate: [ 952 KB/s].  ETA: [3 secs]    \r"
       ]
      },
      {
       "output_type": "stream",
       "stream": "stdout",
       "text": [
        "\r",
        "  28,737,536 Bytes [89.99%] received. Rate: [ 953 KB/s].  ETA: [3 secs]    \r"
       ]
      },
      {
       "output_type": "stream",
       "stream": "stdout",
       "text": [
        "\r",
        "  28,753,920 Bytes [90.04%] received. Rate: [ 952 KB/s].  ETA: [3 secs]    \r"
       ]
      },
      {
       "output_type": "stream",
       "stream": "stdout",
       "text": [
        "\r",
        "  28,770,304 Bytes [90.09%] received. Rate: [ 953 KB/s].  ETA: [3 secs]    \r"
       ]
      },
      {
       "output_type": "stream",
       "stream": "stdout",
       "text": [
        "\r",
        "  28,786,688 Bytes [90.14%] received. Rate: [ 953 KB/s].  ETA: [3 secs]    \r"
       ]
      },
      {
       "output_type": "stream",
       "stream": "stdout",
       "text": [
        "\r",
        "  28,803,072 Bytes [90.20%] received. Rate: [ 953 KB/s].  ETA: [3 secs]    \r"
       ]
      },
      {
       "output_type": "stream",
       "stream": "stdout",
       "text": [
        "\r",
        "  28,819,456 Bytes [90.25%] received. Rate: [ 953 KB/s].  ETA: [3 secs]    \r"
       ]
      },
      {
       "output_type": "stream",
       "stream": "stdout",
       "text": [
        "\r",
        "  28,835,840 Bytes [90.30%] received. Rate: [ 953 KB/s].  ETA: [3 secs]    \r"
       ]
      },
      {
       "output_type": "stream",
       "stream": "stdout",
       "text": [
        "\r",
        "  28,852,224 Bytes [90.35%] received. Rate: [ 953 KB/s].  ETA: [3 secs]    \r"
       ]
      },
      {
       "output_type": "stream",
       "stream": "stdout",
       "text": [
        "\r",
        "  28,868,608 Bytes [90.40%] received. Rate: [ 953 KB/s].  ETA: [3 secs]    \r"
       ]
      },
      {
       "output_type": "stream",
       "stream": "stdout",
       "text": [
        "\r",
        "  28,884,992 Bytes [90.45%] received. Rate: [ 953 KB/s].  ETA: [3 secs]    \r"
       ]
      },
      {
       "output_type": "stream",
       "stream": "stdout",
       "text": [
        "\r",
        "  28,901,376 Bytes [90.50%] received. Rate: [ 953 KB/s].  ETA: [3 secs]    \r"
       ]
      },
      {
       "output_type": "stream",
       "stream": "stdout",
       "text": [
        "\r",
        "  28,917,760 Bytes [90.55%] received. Rate: [ 953 KB/s].  ETA: [3 secs]    \r"
       ]
      },
      {
       "output_type": "stream",
       "stream": "stdout",
       "text": [
        "\r",
        "  28,934,144 Bytes [90.61%] received. Rate: [ 953 KB/s].  ETA: [3 secs]    \r"
       ]
      },
      {
       "output_type": "stream",
       "stream": "stdout",
       "text": [
        "\r",
        "  28,950,528 Bytes [90.66%] received. Rate: [ 953 KB/s].  ETA: [3 secs]    \r"
       ]
      },
      {
       "output_type": "stream",
       "stream": "stdout",
       "text": [
        "\r",
        "  28,966,912 Bytes [90.71%] received. Rate: [ 953 KB/s].  ETA: [3 secs]    \r"
       ]
      },
      {
       "output_type": "stream",
       "stream": "stdout",
       "text": [
        "\r",
        "  28,983,296 Bytes [90.76%] received. Rate: [ 953 KB/s].  ETA: [3 secs]    \r"
       ]
      },
      {
       "output_type": "stream",
       "stream": "stdout",
       "text": [
        "\r",
        "  28,999,680 Bytes [90.81%] received. Rate: [ 953 KB/s].  ETA: [3 secs]    \r"
       ]
      },
      {
       "output_type": "stream",
       "stream": "stdout",
       "text": [
        "\r",
        "  29,016,064 Bytes [90.86%] received. Rate: [ 953 KB/s].  ETA: [3 secs]    \r"
       ]
      },
      {
       "output_type": "stream",
       "stream": "stdout",
       "text": [
        "\r",
        "  29,032,448 Bytes [90.91%] received. Rate: [ 953 KB/s].  ETA: [3 secs]    \r"
       ]
      },
      {
       "output_type": "stream",
       "stream": "stdout",
       "text": [
        "\r",
        "  29,048,832 Bytes [90.97%] received. Rate: [ 953 KB/s].  ETA: [3 secs]    \r"
       ]
      },
      {
       "output_type": "stream",
       "stream": "stdout",
       "text": [
        "\r",
        "  29,065,216 Bytes [91.02%] received. Rate: [ 954 KB/s].  ETA: [3 secs]    \r"
       ]
      },
      {
       "output_type": "stream",
       "stream": "stdout",
       "text": [
        "\r",
        "  29,081,600 Bytes [91.07%] received. Rate: [ 954 KB/s].  ETA: [3 secs]    \r"
       ]
      },
      {
       "output_type": "stream",
       "stream": "stdout",
       "text": [
        "\r",
        "  29,097,984 Bytes [91.12%] received. Rate: [ 954 KB/s].  ETA: [3 secs]    \r"
       ]
      },
      {
       "output_type": "stream",
       "stream": "stdout",
       "text": [
        "\r",
        "  29,114,368 Bytes [91.17%] received. Rate: [ 954 KB/s].  ETA: [3 secs]    \r"
       ]
      },
      {
       "output_type": "stream",
       "stream": "stdout",
       "text": [
        "\r",
        "  29,130,752 Bytes [91.22%] received. Rate: [ 954 KB/s].  ETA: [3 secs]    \r"
       ]
      },
      {
       "output_type": "stream",
       "stream": "stdout",
       "text": [
        "\r",
        "  29,147,136 Bytes [91.27%] received. Rate: [ 954 KB/s].  ETA: [3 secs]    \r"
       ]
      },
      {
       "output_type": "stream",
       "stream": "stdout",
       "text": [
        "\r",
        "  29,163,520 Bytes [91.32%] received. Rate: [ 954 KB/s].  ETA: [3 secs]    \r"
       ]
      },
      {
       "output_type": "stream",
       "stream": "stdout",
       "text": [
        "\r",
        "  29,179,904 Bytes [91.38%] received. Rate: [ 954 KB/s].  ETA: [3 secs]    \r"
       ]
      },
      {
       "output_type": "stream",
       "stream": "stdout",
       "text": [
        "\r",
        "  29,196,288 Bytes [91.43%] received. Rate: [ 954 KB/s].  ETA: [3 secs]    \r"
       ]
      },
      {
       "output_type": "stream",
       "stream": "stdout",
       "text": [
        "\r",
        "  29,212,672 Bytes [91.48%] received. Rate: [ 954 KB/s].  ETA: [3 secs]    \r"
       ]
      },
      {
       "output_type": "stream",
       "stream": "stdout",
       "text": [
        "\r",
        "  29,229,056 Bytes [91.53%] received. Rate: [ 954 KB/s].  ETA: [3 secs]    \r"
       ]
      },
      {
       "output_type": "stream",
       "stream": "stdout",
       "text": [
        "\r",
        "  29,245,440 Bytes [91.58%] received. Rate: [ 954 KB/s].  ETA: [3 secs]    \r"
       ]
      },
      {
       "output_type": "stream",
       "stream": "stdout",
       "text": [
        "\r",
        "  29,261,824 Bytes [91.63%] received. Rate: [ 954 KB/s].  ETA: [3 secs]    \r"
       ]
      },
      {
       "output_type": "stream",
       "stream": "stdout",
       "text": [
        "\r",
        "  29,278,208 Bytes [91.68%] received. Rate: [ 954 KB/s].  ETA: [3 secs]    \r"
       ]
      },
      {
       "output_type": "stream",
       "stream": "stdout",
       "text": [
        "\r",
        "  29,294,592 Bytes [91.73%] received. Rate: [ 954 KB/s].  ETA: [3 secs]    \r"
       ]
      },
      {
       "output_type": "stream",
       "stream": "stdout",
       "text": [
        "\r",
        "  29,310,976 Bytes [91.79%] received. Rate: [ 954 KB/s].  ETA: [3 secs]    \r"
       ]
      },
      {
       "output_type": "stream",
       "stream": "stdout",
       "text": [
        "\r",
        "  29,327,360 Bytes [91.84%] received. Rate: [ 954 KB/s].  ETA: [3 secs]    \r"
       ]
      },
      {
       "output_type": "stream",
       "stream": "stdout",
       "text": [
        "\r",
        "  29,343,744 Bytes [91.89%] received. Rate: [ 954 KB/s].  ETA: [3 secs]    \r"
       ]
      },
      {
       "output_type": "stream",
       "stream": "stdout",
       "text": [
        "\r",
        "  29,360,128 Bytes [91.94%] received. Rate: [ 954 KB/s].  ETA: [3 secs]    \r"
       ]
      },
      {
       "output_type": "stream",
       "stream": "stdout",
       "text": [
        "\r",
        "  29,376,512 Bytes [91.99%] received. Rate: [ 954 KB/s].  ETA: [3 secs]    \r"
       ]
      },
      {
       "output_type": "stream",
       "stream": "stdout",
       "text": [
        "\r",
        "  29,392,896 Bytes [92.04%] received. Rate: [ 954 KB/s].  ETA: [3 secs]    \r"
       ]
      },
      {
       "output_type": "stream",
       "stream": "stdout",
       "text": [
        "\r",
        "  29,409,280 Bytes [92.09%] received. Rate: [ 955 KB/s].  ETA: [3 secs]    \r"
       ]
      },
      {
       "output_type": "stream",
       "stream": "stdout",
       "text": [
        "\r",
        "  29,425,664 Bytes [92.15%] received. Rate: [ 955 KB/s].  ETA: [3 secs]    \r"
       ]
      },
      {
       "output_type": "stream",
       "stream": "stdout",
       "text": [
        "\r",
        "  29,442,048 Bytes [92.20%] received. Rate: [ 955 KB/s].  ETA: [3 secs]    \r"
       ]
      },
      {
       "output_type": "stream",
       "stream": "stdout",
       "text": [
        "\r",
        "  29,458,432 Bytes [92.25%] received. Rate: [ 955 KB/s].  ETA: [3 secs]    \r"
       ]
      },
      {
       "output_type": "stream",
       "stream": "stdout",
       "text": [
        "\r",
        "  29,474,816 Bytes [92.30%] received. Rate: [ 955 KB/s].  ETA: [3 secs]    \r"
       ]
      },
      {
       "output_type": "stream",
       "stream": "stdout",
       "text": [
        "\r",
        "  29,491,200 Bytes [92.35%] received. Rate: [ 955 KB/s].  ETA: [2 secs]    \r"
       ]
      },
      {
       "output_type": "stream",
       "stream": "stdout",
       "text": [
        "\r",
        "  29,507,584 Bytes [92.40%] received. Rate: [ 955 KB/s].  ETA: [2 secs]    \r"
       ]
      },
      {
       "output_type": "stream",
       "stream": "stdout",
       "text": [
        "\r",
        "  29,523,968 Bytes [92.45%] received. Rate: [ 955 KB/s].  ETA: [2 secs]    \r"
       ]
      },
      {
       "output_type": "stream",
       "stream": "stdout",
       "text": [
        "\r",
        "  29,540,352 Bytes [92.50%] received. Rate: [ 955 KB/s].  ETA: [2 secs]    \r"
       ]
      },
      {
       "output_type": "stream",
       "stream": "stdout",
       "text": [
        "\r",
        "  29,556,736 Bytes [92.56%] received. Rate: [ 955 KB/s].  ETA: [2 secs]    \r"
       ]
      },
      {
       "output_type": "stream",
       "stream": "stdout",
       "text": [
        "\r",
        "  29,573,120 Bytes [92.61%] received. Rate: [ 955 KB/s].  ETA: [2 secs]    \r"
       ]
      },
      {
       "output_type": "stream",
       "stream": "stdout",
       "text": [
        "\r",
        "  29,589,504 Bytes [92.66%] received. Rate: [ 955 KB/s].  ETA: [2 secs]    \r"
       ]
      },
      {
       "output_type": "stream",
       "stream": "stdout",
       "text": [
        "\r",
        "  29,605,888 Bytes [92.71%] received. Rate: [ 955 KB/s].  ETA: [2 secs]    \r"
       ]
      },
      {
       "output_type": "stream",
       "stream": "stdout",
       "text": [
        "\r",
        "  29,622,272 Bytes [92.76%] received. Rate: [ 955 KB/s].  ETA: [2 secs]    \r"
       ]
      },
      {
       "output_type": "stream",
       "stream": "stdout",
       "text": [
        "\r",
        "  29,638,656 Bytes [92.81%] received. Rate: [ 955 KB/s].  ETA: [2 secs]    \r"
       ]
      },
      {
       "output_type": "stream",
       "stream": "stdout",
       "text": [
        "\r",
        "  29,655,040 Bytes [92.86%] received. Rate: [ 955 KB/s].  ETA: [2 secs]    \r"
       ]
      },
      {
       "output_type": "stream",
       "stream": "stdout",
       "text": [
        "\r",
        "  29,671,424 Bytes [92.91%] received. Rate: [ 955 KB/s].  ETA: [2 secs]    \r"
       ]
      },
      {
       "output_type": "stream",
       "stream": "stdout",
       "text": [
        "\r",
        "  29,687,808 Bytes [92.97%] received. Rate: [ 955 KB/s].  ETA: [2 secs]    \r"
       ]
      },
      {
       "output_type": "stream",
       "stream": "stdout",
       "text": [
        "\r",
        "  29,704,192 Bytes [93.02%] received. Rate: [ 955 KB/s].  ETA: [2 secs]    \r"
       ]
      },
      {
       "output_type": "stream",
       "stream": "stdout",
       "text": [
        "\r",
        "  29,720,576 Bytes [93.07%] received. Rate: [ 955 KB/s].  ETA: [2 secs]    \r"
       ]
      },
      {
       "output_type": "stream",
       "stream": "stdout",
       "text": [
        "\r",
        "  29,736,960 Bytes [93.12%] received. Rate: [ 956 KB/s].  ETA: [2 secs]    \r"
       ]
      },
      {
       "output_type": "stream",
       "stream": "stdout",
       "text": [
        "\r",
        "  29,753,344 Bytes [93.17%] received. Rate: [ 956 KB/s].  ETA: [2 secs]    \r"
       ]
      },
      {
       "output_type": "stream",
       "stream": "stdout",
       "text": [
        "\r",
        "  29,769,728 Bytes [93.22%] received. Rate: [ 956 KB/s].  ETA: [2 secs]    \r"
       ]
      },
      {
       "output_type": "stream",
       "stream": "stdout",
       "text": [
        "\r",
        "  29,786,112 Bytes [93.27%] received. Rate: [ 956 KB/s].  ETA: [2 secs]    \r"
       ]
      },
      {
       "output_type": "stream",
       "stream": "stdout",
       "text": [
        "\r",
        "  29,802,496 Bytes [93.33%] received. Rate: [ 956 KB/s].  ETA: [2 secs]    \r"
       ]
      },
      {
       "output_type": "stream",
       "stream": "stdout",
       "text": [
        "\r",
        "  29,818,880 Bytes [93.38%] received. Rate: [ 956 KB/s].  ETA: [2 secs]    \r"
       ]
      },
      {
       "output_type": "stream",
       "stream": "stdout",
       "text": [
        "\r",
        "  29,835,264 Bytes [93.43%] received. Rate: [ 956 KB/s].  ETA: [2 secs]    \r"
       ]
      },
      {
       "output_type": "stream",
       "stream": "stdout",
       "text": [
        "\r",
        "  29,851,648 Bytes [93.48%] received. Rate: [ 956 KB/s].  ETA: [2 secs]    \r"
       ]
      },
      {
       "output_type": "stream",
       "stream": "stdout",
       "text": [
        "\r",
        "  29,868,032 Bytes [93.53%] received. Rate: [ 956 KB/s].  ETA: [2 secs]    \r"
       ]
      },
      {
       "output_type": "stream",
       "stream": "stdout",
       "text": [
        "\r",
        "  29,884,416 Bytes [93.58%] received. Rate: [ 956 KB/s].  ETA: [2 secs]    \r"
       ]
      },
      {
       "output_type": "stream",
       "stream": "stdout",
       "text": [
        "\r",
        "  29,900,800 Bytes [93.63%] received. Rate: [ 956 KB/s].  ETA: [2 secs]    \r"
       ]
      },
      {
       "output_type": "stream",
       "stream": "stdout",
       "text": [
        "\r",
        "  29,917,184 Bytes [93.68%] received. Rate: [ 956 KB/s].  ETA: [2 secs]    \r"
       ]
      },
      {
       "output_type": "stream",
       "stream": "stdout",
       "text": [
        "\r",
        "  29,933,568 Bytes [93.74%] received. Rate: [ 956 KB/s].  ETA: [2 secs]    \r"
       ]
      },
      {
       "output_type": "stream",
       "stream": "stdout",
       "text": [
        "\r",
        "  29,949,952 Bytes [93.79%] received. Rate: [ 956 KB/s].  ETA: [2 secs]    \r"
       ]
      },
      {
       "output_type": "stream",
       "stream": "stdout",
       "text": [
        "\r",
        "  29,966,336 Bytes [93.84%] received. Rate: [ 956 KB/s].  ETA: [2 secs]    \r"
       ]
      },
      {
       "output_type": "stream",
       "stream": "stdout",
       "text": [
        "\r",
        "  29,982,720 Bytes [93.89%] received. Rate: [ 956 KB/s].  ETA: [2 secs]    \r"
       ]
      },
      {
       "output_type": "stream",
       "stream": "stdout",
       "text": [
        "\r",
        "  29,999,104 Bytes [93.94%] received. Rate: [ 956 KB/s].  ETA: [2 secs]    \r"
       ]
      },
      {
       "output_type": "stream",
       "stream": "stdout",
       "text": [
        "\r",
        "  30,015,488 Bytes [93.99%] received. Rate: [ 956 KB/s].  ETA: [2 secs]    \r"
       ]
      },
      {
       "output_type": "stream",
       "stream": "stdout",
       "text": [
        "\r",
        "  30,031,872 Bytes [94.04%] received. Rate: [ 956 KB/s].  ETA: [2 secs]    \r"
       ]
      },
      {
       "output_type": "stream",
       "stream": "stdout",
       "text": [
        "\r",
        "  30,048,256 Bytes [94.10%] received. Rate: [ 956 KB/s].  ETA: [2 secs]    \r"
       ]
      },
      {
       "output_type": "stream",
       "stream": "stdout",
       "text": [
        "\r",
        "  30,064,640 Bytes [94.15%] received. Rate: [ 957 KB/s].  ETA: [2 secs]    \r"
       ]
      },
      {
       "output_type": "stream",
       "stream": "stdout",
       "text": [
        "\r",
        "  30,081,024 Bytes [94.20%] received. Rate: [ 957 KB/s].  ETA: [2 secs]    \r"
       ]
      },
      {
       "output_type": "stream",
       "stream": "stdout",
       "text": [
        "\r",
        "  30,097,408 Bytes [94.25%] received. Rate: [ 957 KB/s].  ETA: [2 secs]    \r"
       ]
      },
      {
       "output_type": "stream",
       "stream": "stdout",
       "text": [
        "\r",
        "  30,113,792 Bytes [94.30%] received. Rate: [ 957 KB/s].  ETA: [2 secs]    \r"
       ]
      },
      {
       "output_type": "stream",
       "stream": "stdout",
       "text": [
        "\r",
        "  30,130,176 Bytes [94.35%] received. Rate: [ 957 KB/s].  ETA: [2 secs]    \r"
       ]
      },
      {
       "output_type": "stream",
       "stream": "stdout",
       "text": [
        "\r",
        "  30,146,560 Bytes [94.40%] received. Rate: [ 957 KB/s].  ETA: [2 secs]    \r"
       ]
      },
      {
       "output_type": "stream",
       "stream": "stdout",
       "text": [
        "\r",
        "  30,162,944 Bytes [94.45%] received. Rate: [ 957 KB/s].  ETA: [2 secs]    \r"
       ]
      },
      {
       "output_type": "stream",
       "stream": "stdout",
       "text": [
        "\r",
        "  30,179,328 Bytes [94.51%] received. Rate: [ 957 KB/s].  ETA: [2 secs]    \r"
       ]
      },
      {
       "output_type": "stream",
       "stream": "stdout",
       "text": [
        "\r",
        "  30,195,712 Bytes [94.56%] received. Rate: [ 957 KB/s].  ETA: [2 secs]    \r"
       ]
      },
      {
       "output_type": "stream",
       "stream": "stdout",
       "text": [
        "\r",
        "  30,212,096 Bytes [94.61%] received. Rate: [ 957 KB/s].  ETA: [2 secs]    \r"
       ]
      },
      {
       "output_type": "stream",
       "stream": "stdout",
       "text": [
        "\r",
        "  30,228,480 Bytes [94.66%] received. Rate: [ 957 KB/s].  ETA: [2 secs]    \r"
       ]
      },
      {
       "output_type": "stream",
       "stream": "stdout",
       "text": [
        "\r",
        "  30,244,864 Bytes [94.71%] received. Rate: [ 957 KB/s].  ETA: [2 secs]    \r"
       ]
      },
      {
       "output_type": "stream",
       "stream": "stdout",
       "text": [
        "\r",
        "  30,261,248 Bytes [94.76%] received. Rate: [ 957 KB/s].  ETA: [2 secs]    \r"
       ]
      },
      {
       "output_type": "stream",
       "stream": "stdout",
       "text": [
        "\r",
        "  30,277,632 Bytes [94.81%] received. Rate: [ 957 KB/s].  ETA: [2 secs]    \r"
       ]
      },
      {
       "output_type": "stream",
       "stream": "stdout",
       "text": [
        "\r",
        "  30,294,016 Bytes [94.86%] received. Rate: [ 957 KB/s].  ETA: [2 secs]    \r"
       ]
      },
      {
       "output_type": "stream",
       "stream": "stdout",
       "text": [
        "\r",
        "  30,310,400 Bytes [94.92%] received. Rate: [ 957 KB/s].  ETA: [2 secs]    \r"
       ]
      },
      {
       "output_type": "stream",
       "stream": "stdout",
       "text": [
        "\r",
        "  30,326,784 Bytes [94.97%] received. Rate: [ 957 KB/s].  ETA: [2 secs]    \r"
       ]
      },
      {
       "output_type": "stream",
       "stream": "stdout",
       "text": [
        "\r",
        "  30,343,168 Bytes [95.02%] received. Rate: [ 957 KB/s].  ETA: [2 secs]    \r"
       ]
      },
      {
       "output_type": "stream",
       "stream": "stdout",
       "text": [
        "\r",
        "  30,359,552 Bytes [95.07%] received. Rate: [ 957 KB/s].  ETA: [2 secs]    \r"
       ]
      },
      {
       "output_type": "stream",
       "stream": "stdout",
       "text": [
        "\r",
        "  30,375,936 Bytes [95.12%] received. Rate: [ 957 KB/s].  ETA: [2 secs]    \r"
       ]
      },
      {
       "output_type": "stream",
       "stream": "stdout",
       "text": [
        "\r",
        "  30,392,320 Bytes [95.17%] received. Rate: [ 957 KB/s].  ETA: [2 secs]    \r"
       ]
      },
      {
       "output_type": "stream",
       "stream": "stdout",
       "text": [
        "\r",
        "  30,408,704 Bytes [95.22%] received. Rate: [ 957 KB/s].  ETA: [2 secs]    \r"
       ]
      },
      {
       "output_type": "stream",
       "stream": "stdout",
       "text": [
        "\r",
        "  30,425,088 Bytes [95.28%] received. Rate: [ 957 KB/s].  ETA: [2 secs]    \r"
       ]
      },
      {
       "output_type": "stream",
       "stream": "stdout",
       "text": [
        "\r",
        "  30,441,472 Bytes [95.33%] received. Rate: [ 958 KB/s].  ETA: [2 secs]    \r"
       ]
      },
      {
       "output_type": "stream",
       "stream": "stdout",
       "text": [
        "\r",
        "  30,457,856 Bytes [95.38%] received. Rate: [ 958 KB/s].  ETA: [2 secs]    \r"
       ]
      },
      {
       "output_type": "stream",
       "stream": "stdout",
       "text": [
        "\r",
        "  30,474,240 Bytes [95.43%] received. Rate: [ 958 KB/s].  ETA: [1 secs]    \r"
       ]
      },
      {
       "output_type": "stream",
       "stream": "stdout",
       "text": [
        "\r",
        "  30,490,624 Bytes [95.48%] received. Rate: [ 958 KB/s].  ETA: [1 secs]    \r"
       ]
      },
      {
       "output_type": "stream",
       "stream": "stdout",
       "text": [
        "\r",
        "  30,507,008 Bytes [95.53%] received. Rate: [ 958 KB/s].  ETA: [1 secs]    \r"
       ]
      },
      {
       "output_type": "stream",
       "stream": "stdout",
       "text": [
        "\r",
        "  30,523,392 Bytes [95.58%] received. Rate: [ 958 KB/s].  ETA: [1 secs]    \r"
       ]
      },
      {
       "output_type": "stream",
       "stream": "stdout",
       "text": [
        "\r",
        "  30,539,776 Bytes [95.63%] received. Rate: [ 958 KB/s].  ETA: [1 secs]    \r"
       ]
      },
      {
       "output_type": "stream",
       "stream": "stdout",
       "text": [
        "\r",
        "  30,556,160 Bytes [95.69%] received. Rate: [ 958 KB/s].  ETA: [1 secs]    \r"
       ]
      },
      {
       "output_type": "stream",
       "stream": "stdout",
       "text": [
        "\r",
        "  30,572,544 Bytes [95.74%] received. Rate: [ 958 KB/s].  ETA: [1 secs]    \r"
       ]
      },
      {
       "output_type": "stream",
       "stream": "stdout",
       "text": [
        "\r",
        "  30,588,928 Bytes [95.79%] received. Rate: [ 958 KB/s].  ETA: [1 secs]    \r"
       ]
      },
      {
       "output_type": "stream",
       "stream": "stdout",
       "text": [
        "\r",
        "  30,605,312 Bytes [95.84%] received. Rate: [ 958 KB/s].  ETA: [1 secs]    \r"
       ]
      },
      {
       "output_type": "stream",
       "stream": "stdout",
       "text": [
        "\r",
        "  30,621,696 Bytes [95.89%] received. Rate: [ 956 KB/s].  ETA: [1 secs]    \r"
       ]
      },
      {
       "output_type": "stream",
       "stream": "stdout",
       "text": [
        "\r",
        "  30,638,080 Bytes [95.94%] received. Rate: [ 956 KB/s].  ETA: [1 secs]    \r"
       ]
      },
      {
       "output_type": "stream",
       "stream": "stdout",
       "text": [
        "\r",
        "  30,654,464 Bytes [95.99%] received. Rate: [ 957 KB/s].  ETA: [1 secs]    \r"
       ]
      },
      {
       "output_type": "stream",
       "stream": "stdout",
       "text": [
        "\r",
        "  30,670,848 Bytes [96.04%] received. Rate: [ 957 KB/s].  ETA: [1 secs]    \r"
       ]
      },
      {
       "output_type": "stream",
       "stream": "stdout",
       "text": [
        "\r",
        "  30,687,232 Bytes [96.10%] received. Rate: [ 958 KB/s].  ETA: [1 secs]    \r"
       ]
      },
      {
       "output_type": "stream",
       "stream": "stdout",
       "text": [
        "\r",
        "  30,703,616 Bytes [96.15%] received. Rate: [ 958 KB/s].  ETA: [1 secs]    \r"
       ]
      },
      {
       "output_type": "stream",
       "stream": "stdout",
       "text": [
        "\r",
        "  30,720,000 Bytes [96.20%] received. Rate: [ 958 KB/s].  ETA: [1 secs]    \r"
       ]
      },
      {
       "output_type": "stream",
       "stream": "stdout",
       "text": [
        "\r",
        "  30,736,384 Bytes [96.25%] received. Rate: [ 958 KB/s].  ETA: [1 secs]    \r"
       ]
      },
      {
       "output_type": "stream",
       "stream": "stdout",
       "text": [
        "\r",
        "  30,752,768 Bytes [96.30%] received. Rate: [ 958 KB/s].  ETA: [1 secs]    \r"
       ]
      },
      {
       "output_type": "stream",
       "stream": "stdout",
       "text": [
        "\r",
        "  30,769,152 Bytes [96.35%] received. Rate: [ 958 KB/s].  ETA: [1 secs]    \r"
       ]
      },
      {
       "output_type": "stream",
       "stream": "stdout",
       "text": [
        "\r",
        "  30,785,536 Bytes [96.40%] received. Rate: [ 958 KB/s].  ETA: [1 secs]    \r"
       ]
      },
      {
       "output_type": "stream",
       "stream": "stdout",
       "text": [
        "\r",
        "  30,801,920 Bytes [96.46%] received. Rate: [ 958 KB/s].  ETA: [1 secs]    \r"
       ]
      },
      {
       "output_type": "stream",
       "stream": "stdout",
       "text": [
        "\r",
        "  30,818,304 Bytes [96.51%] received. Rate: [ 958 KB/s].  ETA: [1 secs]    \r"
       ]
      },
      {
       "output_type": "stream",
       "stream": "stdout",
       "text": [
        "\r",
        "  30,834,688 Bytes [96.56%] received. Rate: [ 958 KB/s].  ETA: [1 secs]    \r"
       ]
      },
      {
       "output_type": "stream",
       "stream": "stdout",
       "text": [
        "\r",
        "  30,851,072 Bytes [96.61%] received. Rate: [ 958 KB/s].  ETA: [1 secs]    \r"
       ]
      },
      {
       "output_type": "stream",
       "stream": "stdout",
       "text": [
        "\r",
        "  30,867,456 Bytes [96.66%] received. Rate: [ 958 KB/s].  ETA: [1 secs]    \r"
       ]
      },
      {
       "output_type": "stream",
       "stream": "stdout",
       "text": [
        "\r",
        "  30,883,840 Bytes [96.71%] received. Rate: [ 958 KB/s].  ETA: [1 secs]    \r"
       ]
      },
      {
       "output_type": "stream",
       "stream": "stdout",
       "text": [
        "\r",
        "  30,900,224 Bytes [96.76%] received. Rate: [ 958 KB/s].  ETA: [1 secs]    \r"
       ]
      },
      {
       "output_type": "stream",
       "stream": "stdout",
       "text": [
        "\r",
        "  30,916,608 Bytes [96.81%] received. Rate: [ 958 KB/s].  ETA: [1 secs]    \r"
       ]
      },
      {
       "output_type": "stream",
       "stream": "stdout",
       "text": [
        "\r",
        "  30,932,992 Bytes [96.87%] received. Rate: [ 958 KB/s].  ETA: [1 secs]    \r"
       ]
      },
      {
       "output_type": "stream",
       "stream": "stdout",
       "text": [
        "\r",
        "  30,949,376 Bytes [96.92%] received. Rate: [ 958 KB/s].  ETA: [1 secs]    \r"
       ]
      },
      {
       "output_type": "stream",
       "stream": "stdout",
       "text": [
        "\r",
        "  30,965,760 Bytes [96.97%] received. Rate: [ 958 KB/s].  ETA: [1 secs]    \r"
       ]
      },
      {
       "output_type": "stream",
       "stream": "stdout",
       "text": [
        "\r",
        "  30,982,144 Bytes [97.02%] received. Rate: [ 958 KB/s].  ETA: [1 secs]    \r"
       ]
      },
      {
       "output_type": "stream",
       "stream": "stdout",
       "text": [
        "\r",
        "  30,998,528 Bytes [97.07%] received. Rate: [ 958 KB/s].  ETA: [1 secs]    \r"
       ]
      },
      {
       "output_type": "stream",
       "stream": "stdout",
       "text": [
        "\r",
        "  31,014,912 Bytes [97.12%] received. Rate: [ 958 KB/s].  ETA: [1 secs]    \r"
       ]
      },
      {
       "output_type": "stream",
       "stream": "stdout",
       "text": [
        "\r",
        "  31,031,296 Bytes [97.17%] received. Rate: [ 959 KB/s].  ETA: [1 secs]    \r"
       ]
      },
      {
       "output_type": "stream",
       "stream": "stdout",
       "text": [
        "\r",
        "  31,047,680 Bytes [97.22%] received. Rate: [ 959 KB/s].  ETA: [1 secs]    \r"
       ]
      },
      {
       "output_type": "stream",
       "stream": "stdout",
       "text": [
        "\r",
        "  31,064,064 Bytes [97.28%] received. Rate: [ 959 KB/s].  ETA: [1 secs]    \r"
       ]
      },
      {
       "output_type": "stream",
       "stream": "stdout",
       "text": [
        "\r",
        "  31,080,448 Bytes [97.33%] received. Rate: [ 959 KB/s].  ETA: [1 secs]    \r"
       ]
      },
      {
       "output_type": "stream",
       "stream": "stdout",
       "text": [
        "\r",
        "  31,096,832 Bytes [97.38%] received. Rate: [ 959 KB/s].  ETA: [1 secs]    \r"
       ]
      },
      {
       "output_type": "stream",
       "stream": "stdout",
       "text": [
        "\r",
        "  31,113,216 Bytes [97.43%] received. Rate: [ 959 KB/s].  ETA: [1 secs]    \r"
       ]
      },
      {
       "output_type": "stream",
       "stream": "stdout",
       "text": [
        "\r",
        "  31,129,600 Bytes [97.48%] received. Rate: [ 959 KB/s].  ETA: [1 secs]    \r"
       ]
      },
      {
       "output_type": "stream",
       "stream": "stdout",
       "text": [
        "\r",
        "  31,145,984 Bytes [97.53%] received. Rate: [ 959 KB/s].  ETA: [1 secs]    \r"
       ]
      },
      {
       "output_type": "stream",
       "stream": "stdout",
       "text": [
        "\r",
        "  31,162,368 Bytes [97.58%] received. Rate: [ 959 KB/s].  ETA: [1 secs]    \r"
       ]
      },
      {
       "output_type": "stream",
       "stream": "stdout",
       "text": [
        "\r",
        "  31,178,752 Bytes [97.64%] received. Rate: [ 959 KB/s].  ETA: [1 secs]    \r"
       ]
      },
      {
       "output_type": "stream",
       "stream": "stdout",
       "text": [
        "\r",
        "  31,195,136 Bytes [97.69%] received. Rate: [ 959 KB/s].  ETA: [1 secs]    \r"
       ]
      },
      {
       "output_type": "stream",
       "stream": "stdout",
       "text": [
        "\r",
        "  31,211,520 Bytes [97.74%] received. Rate: [ 959 KB/s].  ETA: [1 secs]    \r"
       ]
      },
      {
       "output_type": "stream",
       "stream": "stdout",
       "text": [
        "\r",
        "  31,227,904 Bytes [97.79%] received. Rate: [ 959 KB/s].  ETA: [1 secs]    \r"
       ]
      },
      {
       "output_type": "stream",
       "stream": "stdout",
       "text": [
        "\r",
        "  31,244,288 Bytes [97.84%] received. Rate: [ 959 KB/s].  ETA: [1 secs]    \r"
       ]
      },
      {
       "output_type": "stream",
       "stream": "stdout",
       "text": [
        "\r",
        "  31,260,672 Bytes [97.89%] received. Rate: [ 959 KB/s].  ETA: [1 secs]    \r"
       ]
      },
      {
       "output_type": "stream",
       "stream": "stdout",
       "text": [
        "\r",
        "  31,277,056 Bytes [97.94%] received. Rate: [ 959 KB/s].  ETA: [1 secs]    \r"
       ]
      },
      {
       "output_type": "stream",
       "stream": "stdout",
       "text": [
        "\r",
        "  31,293,440 Bytes [97.99%] received. Rate: [ 959 KB/s].  ETA: [1 secs]    \r"
       ]
      },
      {
       "output_type": "stream",
       "stream": "stdout",
       "text": [
        "\r",
        "  31,309,824 Bytes [98.05%] received. Rate: [ 959 KB/s].  ETA: [1 secs]    \r"
       ]
      },
      {
       "output_type": "stream",
       "stream": "stdout",
       "text": [
        "\r",
        "  31,326,208 Bytes [98.10%] received. Rate: [ 959 KB/s].  ETA: [1 secs]    \r"
       ]
      },
      {
       "output_type": "stream",
       "stream": "stdout",
       "text": [
        "\r",
        "  31,342,592 Bytes [98.15%] received. Rate: [ 959 KB/s].  ETA: [1 secs]    \r"
       ]
      },
      {
       "output_type": "stream",
       "stream": "stdout",
       "text": [
        "\r",
        "  31,358,976 Bytes [98.20%] received. Rate: [ 959 KB/s].  ETA: [1 secs]    \r"
       ]
      },
      {
       "output_type": "stream",
       "stream": "stdout",
       "text": [
        "\r",
        "  31,375,360 Bytes [98.25%] received. Rate: [ 959 KB/s].  ETA: [1 secs]    \r"
       ]
      },
      {
       "output_type": "stream",
       "stream": "stdout",
       "text": [
        "\r",
        "  31,391,744 Bytes [98.30%] received. Rate: [ 959 KB/s].  ETA: [1 secs]    \r"
       ]
      },
      {
       "output_type": "stream",
       "stream": "stdout",
       "text": [
        "\r",
        "  31,408,128 Bytes [98.35%] received. Rate: [ 959 KB/s].  ETA: [1 secs]    \r"
       ]
      },
      {
       "output_type": "stream",
       "stream": "stdout",
       "text": [
        "\r",
        "  31,424,512 Bytes [98.40%] received. Rate: [ 959 KB/s].  ETA: [1 secs]    \r"
       ]
      },
      {
       "output_type": "stream",
       "stream": "stdout",
       "text": [
        "\r",
        "  31,440,896 Bytes [98.46%] received. Rate: [ 959 KB/s].  ETA: [1 secs]    \r"
       ]
      },
      {
       "output_type": "stream",
       "stream": "stdout",
       "text": [
        "\r",
        "  31,457,280 Bytes [98.51%] received. Rate: [ 959 KB/s].  ETA: [0 secs]    \r"
       ]
      },
      {
       "output_type": "stream",
       "stream": "stdout",
       "text": [
        "\r",
        "  31,473,664 Bytes [98.56%] received. Rate: [ 959 KB/s].  ETA: [0 secs]    \r"
       ]
      },
      {
       "output_type": "stream",
       "stream": "stdout",
       "text": [
        "\r",
        "  31,490,048 Bytes [98.61%] received. Rate: [ 959 KB/s].  ETA: [0 secs]    \r"
       ]
      },
      {
       "output_type": "stream",
       "stream": "stdout",
       "text": [
        "\r",
        "  31,506,432 Bytes [98.66%] received. Rate: [ 959 KB/s].  ETA: [0 secs]    \r"
       ]
      },
      {
       "output_type": "stream",
       "stream": "stdout",
       "text": [
        "\r",
        "  31,522,816 Bytes [98.71%] received. Rate: [ 959 KB/s].  ETA: [0 secs]    \r"
       ]
      },
      {
       "output_type": "stream",
       "stream": "stdout",
       "text": [
        "\r",
        "  31,539,200 Bytes [98.76%] received. Rate: [ 959 KB/s].  ETA: [0 secs]    \r"
       ]
      },
      {
       "output_type": "stream",
       "stream": "stdout",
       "text": [
        "\r",
        "  31,555,584 Bytes [98.82%] received. Rate: [ 959 KB/s].  ETA: [0 secs]    \r"
       ]
      },
      {
       "output_type": "stream",
       "stream": "stdout",
       "text": [
        "\r",
        "  31,571,968 Bytes [98.87%] received. Rate: [ 959 KB/s].  ETA: [0 secs]    \r"
       ]
      },
      {
       "output_type": "stream",
       "stream": "stdout",
       "text": [
        "\r",
        "  31,588,352 Bytes [98.92%] received. Rate: [ 959 KB/s].  ETA: [0 secs]    \r"
       ]
      },
      {
       "output_type": "stream",
       "stream": "stdout",
       "text": [
        "\r",
        "  31,604,736 Bytes [98.97%] received. Rate: [ 959 KB/s].  ETA: [0 secs]    \r"
       ]
      },
      {
       "output_type": "stream",
       "stream": "stdout",
       "text": [
        "\r",
        "  31,621,120 Bytes [99.02%] received. Rate: [ 959 KB/s].  ETA: [0 secs]    \r"
       ]
      },
      {
       "output_type": "stream",
       "stream": "stdout",
       "text": [
        "\r",
        "  31,637,504 Bytes [99.07%] received. Rate: [ 959 KB/s].  ETA: [0 secs]    \r"
       ]
      },
      {
       "output_type": "stream",
       "stream": "stdout",
       "text": [
        "\r",
        "  31,653,888 Bytes [99.12%] received. Rate: [ 959 KB/s].  ETA: [0 secs]    \r"
       ]
      },
      {
       "output_type": "stream",
       "stream": "stdout",
       "text": [
        "\r",
        "  31,670,272 Bytes [99.17%] received. Rate: [ 959 KB/s].  ETA: [0 secs]    \r"
       ]
      },
      {
       "output_type": "stream",
       "stream": "stdout",
       "text": [
        "\r",
        "  31,686,656 Bytes [99.23%] received. Rate: [ 959 KB/s].  ETA: [0 secs]    \r"
       ]
      },
      {
       "output_type": "stream",
       "stream": "stdout",
       "text": [
        "\r",
        "  31,703,040 Bytes [99.28%] received. Rate: [ 959 KB/s].  ETA: [0 secs]    \r"
       ]
      },
      {
       "output_type": "stream",
       "stream": "stdout",
       "text": [
        "\r",
        "  31,719,424 Bytes [99.33%] received. Rate: [ 959 KB/s].  ETA: [0 secs]    \r"
       ]
      },
      {
       "output_type": "stream",
       "stream": "stdout",
       "text": [
        "\r",
        "  31,735,808 Bytes [99.38%] received. Rate: [ 959 KB/s].  ETA: [0 secs]    \r"
       ]
      },
      {
       "output_type": "stream",
       "stream": "stdout",
       "text": [
        "\r",
        "  31,752,192 Bytes [99.43%] received. Rate: [ 959 KB/s].  ETA: [0 secs]    \r"
       ]
      },
      {
       "output_type": "stream",
       "stream": "stdout",
       "text": [
        "\r",
        "  31,768,576 Bytes [99.48%] received. Rate: [ 959 KB/s].  ETA: [0 secs]    \r"
       ]
      },
      {
       "output_type": "stream",
       "stream": "stdout",
       "text": [
        "\r",
        "  31,784,960 Bytes [99.53%] received. Rate: [ 960 KB/s].  ETA: [0 secs]    \r"
       ]
      },
      {
       "output_type": "stream",
       "stream": "stdout",
       "text": [
        "\r",
        "  31,801,344 Bytes [99.58%] received. Rate: [ 960 KB/s].  ETA: [0 secs]    \r"
       ]
      },
      {
       "output_type": "stream",
       "stream": "stdout",
       "text": [
        "\r",
        "  31,817,728 Bytes [99.64%] received. Rate: [ 960 KB/s].  ETA: [0 secs]    \r"
       ]
      },
      {
       "output_type": "stream",
       "stream": "stdout",
       "text": [
        "\r",
        "  31,834,112 Bytes [99.69%] received. Rate: [ 960 KB/s].  ETA: [0 secs]    \r"
       ]
      },
      {
       "output_type": "stream",
       "stream": "stdout",
       "text": [
        "\r",
        "  31,850,496 Bytes [99.74%] received. Rate: [ 960 KB/s].  ETA: [0 secs]    \r"
       ]
      },
      {
       "output_type": "stream",
       "stream": "stdout",
       "text": [
        "\r",
        "  31,866,880 Bytes [99.79%] received. Rate: [ 960 KB/s].  ETA: [0 secs]    \r"
       ]
      },
      {
       "output_type": "stream",
       "stream": "stdout",
       "text": [
        "\r",
        "  31,883,264 Bytes [99.84%] received. Rate: [ 960 KB/s].  ETA: [0 secs]    \r"
       ]
      },
      {
       "output_type": "stream",
       "stream": "stdout",
       "text": [
        "\r",
        "  31,899,648 Bytes [99.89%] received. Rate: [ 960 KB/s].  ETA: [0 secs]    \r"
       ]
      },
      {
       "output_type": "stream",
       "stream": "stdout",
       "text": [
        "\r",
        "  31,916,032 Bytes [99.94%] received. Rate: [ 960 KB/s].  ETA: [0 secs]    \r"
       ]
      },
      {
       "output_type": "stream",
       "stream": "stdout",
       "text": [
        "\r",
        "  31,932,416 Bytes [100.00%] received. Rate: [ 960 KB/s].  ETA: [0 secs]    \r"
       ]
      },
      {
       "output_type": "stream",
       "stream": "stdout",
       "text": [
        "\r",
        "  31,933,956 Bytes [100.00%] received. Rate: [ 960 KB/s].  ETA: [0 secs]    \r"
       ]
      },
      {
       "metadata": {},
       "output_type": "pyout",
       "prompt_number": 77,
       "text": [
        "'images/test.mp4'"
       ]
      }
     ],
     "prompt_number": 77
    }
   ],
   "metadata": {}
  }
 ]
}